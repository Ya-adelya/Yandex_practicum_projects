{
 "cells": [
  {
   "cell_type": "markdown",
   "metadata": {},
   "source": [
    "# SQL"
   ]
  },
  {
   "cell_type": "markdown",
   "metadata": {},
   "source": [
    "**Задача**\n",
    "\n",
    "Компания купила крупный сервис для чтения книг по подписке. Задача — проанализировать базу данных.\n",
    "В ней — информация о книгах, издательствах, авторах, а также пользовательские обзоры книг. Эти данные помогут сформулировать ценностное предложение для нового продукта."
   ]
  },
  {
   "cell_type": "markdown",
   "metadata": {},
   "source": [
    "**Описание данных**\n",
    "\n",
    "**Таблица `books`**\n",
    "\n",
    "Содержит данные о книгах:\n",
    "\n",
    "- `book_id` — идентификатор книги;\n",
    "- `author_id` — идентификатор автора;\n",
    "- `title` — название книги;\n",
    "- `num_pages` — количество страниц;\n",
    "- `publication_date` — дата публикации книги;\n",
    "- `publisher_id` — идентификатор издателя.\n",
    "\n",
    "**Таблица `authors`**\n",
    "\n",
    "Содержит данные об авторах:\n",
    "\n",
    "- `author_id` — идентификатор автора;\n",
    "- `author` — имя автора.\n",
    "\n",
    "**Таблица `publishers`**\n",
    "\n",
    "Содержит данные об издательствах:\n",
    "\n",
    "- `publisher_id` — идентификатор издательства;\n",
    "- `publisher` — название издательства;\n",
    "\n",
    "**Таблица `ratings`**\n",
    "\n",
    "Содержит данные о пользовательских оценках книг:\n",
    "\n",
    "- `rating_id` — идентификатор оценки;\n",
    "- `book_id` — идентификатор книги;\n",
    "- `username` — имя пользователя, оставившего оценку;\n",
    "- `rating` — оценка книги.\n",
    "\n",
    "**Таблица `reviews`**\n",
    "\n",
    "Содержит данные о пользовательских обзорах на книги:\n",
    "\n",
    "- `review_id` — идентификатор обзора;\n",
    "- `book_id` — идентификатор книги;\n",
    "- `username` — имя пользователя, написавшего обзор;\n",
    "- `text` — текст обзора.\n"
   ]
  },
  {
   "cell_type": "markdown",
   "metadata": {},
   "source": [
    "## Исследование данных"
   ]
  },
  {
   "cell_type": "code",
   "execution_count": 1,
   "metadata": {},
   "outputs": [],
   "source": [
    "# Импортируем библиотеки\n",
    "import pandas as pd \n",
    "from sqlalchemy import create_engine \n",
    "# устанавливаем параметры\n",
    "db_config = {'user': 'praktikum_student', # имя пользователя\n",
    "'pwd': 'Sdf4$2;d-d30pp', # пароль\n",
    "'host': 'rc1b-wcoijxj3yxfsf3fs.mdb.yandexcloud.net', \n",
    "'port': 6432, # порт подключения\n",
    "'db': 'data-analyst-final-project-db'} # название базы данных\n",
    "connection_string = 'postgresql://{}:{}@{}:{}/{}'.format(db_config['user'], \n",
    " db_config['pwd'], \n",
    " db_config['host'], \n",
    " db_config['port'], \n",
    " db_config['db']) \n",
    "# сохраняем коннектор\n",
    "engine = create_engine(connection_string, connect_args={'sslmode':'require'})"
   ]
  },
  {
   "cell_type": "code",
   "execution_count": 2,
   "metadata": {
    "scrolled": true
   },
   "outputs": [
    {
     "name": "stdout",
     "output_type": "stream",
     "text": [
      "<class 'pandas.core.frame.DataFrame'>\n",
      "RangeIndex: 1000 entries, 0 to 999\n",
      "Data columns (total 6 columns):\n",
      " #   Column            Non-Null Count  Dtype \n",
      "---  ------            --------------  ----- \n",
      " 0   book_id           1000 non-null   int64 \n",
      " 1   author_id         1000 non-null   int64 \n",
      " 2   title             1000 non-null   object\n",
      " 3   num_pages         1000 non-null   int64 \n",
      " 4   publication_date  1000 non-null   object\n",
      " 5   publisher_id      1000 non-null   int64 \n",
      "dtypes: int64(4), object(2)\n",
      "memory usage: 47.0+ KB\n"
     ]
    }
   ],
   "source": [
    "# Первые строки таблицы books\n",
    "query = '''\n",
    "            SELECT * \n",
    "            FROM books\n",
    "        '''\n",
    "books = pd.io.sql.read_sql(query, con = engine)\n",
    "books.info()"
   ]
  },
  {
   "cell_type": "code",
   "execution_count": 3,
   "metadata": {
    "scrolled": true
   },
   "outputs": [
    {
     "data": {
      "text/html": [
       "<div>\n",
       "<style scoped>\n",
       "    .dataframe tbody tr th:only-of-type {\n",
       "        vertical-align: middle;\n",
       "    }\n",
       "\n",
       "    .dataframe tbody tr th {\n",
       "        vertical-align: top;\n",
       "    }\n",
       "\n",
       "    .dataframe thead th {\n",
       "        text-align: right;\n",
       "    }\n",
       "</style>\n",
       "<table border=\"1\" class=\"dataframe\">\n",
       "  <thead>\n",
       "    <tr style=\"text-align: right;\">\n",
       "      <th></th>\n",
       "      <th>author_id</th>\n",
       "      <th>author</th>\n",
       "    </tr>\n",
       "  </thead>\n",
       "  <tbody>\n",
       "    <tr>\n",
       "      <th>0</th>\n",
       "      <td>1</td>\n",
       "      <td>A.S. Byatt</td>\n",
       "    </tr>\n",
       "    <tr>\n",
       "      <th>1</th>\n",
       "      <td>2</td>\n",
       "      <td>Aesop/Laura Harris/Laura Gibbs</td>\n",
       "    </tr>\n",
       "    <tr>\n",
       "      <th>2</th>\n",
       "      <td>3</td>\n",
       "      <td>Agatha Christie</td>\n",
       "    </tr>\n",
       "    <tr>\n",
       "      <th>3</th>\n",
       "      <td>4</td>\n",
       "      <td>Alan Brennert</td>\n",
       "    </tr>\n",
       "    <tr>\n",
       "      <th>4</th>\n",
       "      <td>5</td>\n",
       "      <td>Alan Moore/David   Lloyd</td>\n",
       "    </tr>\n",
       "  </tbody>\n",
       "</table>\n",
       "</div>"
      ],
      "text/plain": [
       "   author_id                          author\n",
       "0          1                      A.S. Byatt\n",
       "1          2  Aesop/Laura Harris/Laura Gibbs\n",
       "2          3                 Agatha Christie\n",
       "3          4                   Alan Brennert\n",
       "4          5        Alan Moore/David   Lloyd"
      ]
     },
     "execution_count": 3,
     "metadata": {},
     "output_type": "execute_result"
    }
   ],
   "source": [
    "# Первые строки таблицы authors\n",
    "query = '''\n",
    "            SELECT * \n",
    "            FROM authors\n",
    "        '''\n",
    "authors = pd.io.sql.read_sql(query, con = engine)\n",
    "authors.head()"
   ]
  },
  {
   "cell_type": "code",
   "execution_count": 4,
   "metadata": {
    "scrolled": true
   },
   "outputs": [
    {
     "data": {
      "text/html": [
       "<div>\n",
       "<style scoped>\n",
       "    .dataframe tbody tr th:only-of-type {\n",
       "        vertical-align: middle;\n",
       "    }\n",
       "\n",
       "    .dataframe tbody tr th {\n",
       "        vertical-align: top;\n",
       "    }\n",
       "\n",
       "    .dataframe thead th {\n",
       "        text-align: right;\n",
       "    }\n",
       "</style>\n",
       "<table border=\"1\" class=\"dataframe\">\n",
       "  <thead>\n",
       "    <tr style=\"text-align: right;\">\n",
       "      <th></th>\n",
       "      <th>publisher_id</th>\n",
       "      <th>publisher</th>\n",
       "    </tr>\n",
       "  </thead>\n",
       "  <tbody>\n",
       "    <tr>\n",
       "      <th>0</th>\n",
       "      <td>1</td>\n",
       "      <td>Ace</td>\n",
       "    </tr>\n",
       "    <tr>\n",
       "      <th>1</th>\n",
       "      <td>2</td>\n",
       "      <td>Ace Book</td>\n",
       "    </tr>\n",
       "    <tr>\n",
       "      <th>2</th>\n",
       "      <td>3</td>\n",
       "      <td>Ace Books</td>\n",
       "    </tr>\n",
       "    <tr>\n",
       "      <th>3</th>\n",
       "      <td>4</td>\n",
       "      <td>Ace Hardcover</td>\n",
       "    </tr>\n",
       "    <tr>\n",
       "      <th>4</th>\n",
       "      <td>5</td>\n",
       "      <td>Addison Wesley Publishing Company</td>\n",
       "    </tr>\n",
       "  </tbody>\n",
       "</table>\n",
       "</div>"
      ],
      "text/plain": [
       "   publisher_id                          publisher\n",
       "0             1                                Ace\n",
       "1             2                           Ace Book\n",
       "2             3                          Ace Books\n",
       "3             4                      Ace Hardcover\n",
       "4             5  Addison Wesley Publishing Company"
      ]
     },
     "execution_count": 4,
     "metadata": {},
     "output_type": "execute_result"
    }
   ],
   "source": [
    "# Первые строки таблицы publishers\n",
    "query = '''\n",
    "            SELECT * \n",
    "            FROM publishers\n",
    "        '''\n",
    "publishers = pd.io.sql.read_sql(query, con = engine)\n",
    "publishers.head()"
   ]
  },
  {
   "cell_type": "code",
   "execution_count": 5,
   "metadata": {},
   "outputs": [
    {
     "data": {
      "text/html": [
       "<div>\n",
       "<style scoped>\n",
       "    .dataframe tbody tr th:only-of-type {\n",
       "        vertical-align: middle;\n",
       "    }\n",
       "\n",
       "    .dataframe tbody tr th {\n",
       "        vertical-align: top;\n",
       "    }\n",
       "\n",
       "    .dataframe thead th {\n",
       "        text-align: right;\n",
       "    }\n",
       "</style>\n",
       "<table border=\"1\" class=\"dataframe\">\n",
       "  <thead>\n",
       "    <tr style=\"text-align: right;\">\n",
       "      <th></th>\n",
       "      <th>rating_id</th>\n",
       "      <th>book_id</th>\n",
       "      <th>username</th>\n",
       "      <th>rating</th>\n",
       "    </tr>\n",
       "  </thead>\n",
       "  <tbody>\n",
       "    <tr>\n",
       "      <th>0</th>\n",
       "      <td>1</td>\n",
       "      <td>1</td>\n",
       "      <td>ryanfranco</td>\n",
       "      <td>4</td>\n",
       "    </tr>\n",
       "    <tr>\n",
       "      <th>1</th>\n",
       "      <td>2</td>\n",
       "      <td>1</td>\n",
       "      <td>grantpatricia</td>\n",
       "      <td>2</td>\n",
       "    </tr>\n",
       "    <tr>\n",
       "      <th>2</th>\n",
       "      <td>3</td>\n",
       "      <td>1</td>\n",
       "      <td>brandtandrea</td>\n",
       "      <td>5</td>\n",
       "    </tr>\n",
       "    <tr>\n",
       "      <th>3</th>\n",
       "      <td>4</td>\n",
       "      <td>2</td>\n",
       "      <td>lorichen</td>\n",
       "      <td>3</td>\n",
       "    </tr>\n",
       "    <tr>\n",
       "      <th>4</th>\n",
       "      <td>5</td>\n",
       "      <td>2</td>\n",
       "      <td>mariokeller</td>\n",
       "      <td>2</td>\n",
       "    </tr>\n",
       "  </tbody>\n",
       "</table>\n",
       "</div>"
      ],
      "text/plain": [
       "   rating_id  book_id       username  rating\n",
       "0          1        1     ryanfranco       4\n",
       "1          2        1  grantpatricia       2\n",
       "2          3        1   brandtandrea       5\n",
       "3          4        2       lorichen       3\n",
       "4          5        2    mariokeller       2"
      ]
     },
     "execution_count": 5,
     "metadata": {},
     "output_type": "execute_result"
    }
   ],
   "source": [
    "# Первые строки таблицы ratings\n",
    "query = '''\n",
    "            SELECT * \n",
    "            FROM ratings\n",
    "        '''\n",
    "ratings = pd.io.sql.read_sql(query, con = engine)\n",
    "ratings.head()"
   ]
  },
  {
   "cell_type": "code",
   "execution_count": 6,
   "metadata": {
    "scrolled": true
   },
   "outputs": [
    {
     "name": "stdout",
     "output_type": "stream",
     "text": [
      "<class 'pandas.core.frame.DataFrame'>\n",
      "RangeIndex: 2793 entries, 0 to 2792\n",
      "Data columns (total 4 columns):\n",
      " #   Column     Non-Null Count  Dtype \n",
      "---  ------     --------------  ----- \n",
      " 0   review_id  2793 non-null   int64 \n",
      " 1   book_id    2793 non-null   int64 \n",
      " 2   username   2793 non-null   object\n",
      " 3   text       2793 non-null   object\n",
      "dtypes: int64(2), object(2)\n",
      "memory usage: 87.4+ KB\n"
     ]
    }
   ],
   "source": [
    "# Первые строки таблицы reviews\n",
    "query = '''\n",
    "            SELECT * \n",
    "            FROM reviews\n",
    "        '''\n",
    "reviews = pd.io.sql.read_sql(query, con = engine)\n",
    "reviews.info()"
   ]
  },
  {
   "cell_type": "markdown",
   "metadata": {},
   "source": [
    "## Количество книг, выпущенных после 1 января 2000 года"
   ]
  },
  {
   "cell_type": "code",
   "execution_count": 7,
   "metadata": {
    "scrolled": true
   },
   "outputs": [
    {
     "data": {
      "text/html": [
       "<div>\n",
       "<style scoped>\n",
       "    .dataframe tbody tr th:only-of-type {\n",
       "        vertical-align: middle;\n",
       "    }\n",
       "\n",
       "    .dataframe tbody tr th {\n",
       "        vertical-align: top;\n",
       "    }\n",
       "\n",
       "    .dataframe thead th {\n",
       "        text-align: right;\n",
       "    }\n",
       "</style>\n",
       "<table border=\"1\" class=\"dataframe\">\n",
       "  <thead>\n",
       "    <tr style=\"text-align: right;\">\n",
       "      <th></th>\n",
       "      <th>count</th>\n",
       "    </tr>\n",
       "  </thead>\n",
       "  <tbody>\n",
       "    <tr>\n",
       "      <th>0</th>\n",
       "      <td>821</td>\n",
       "    </tr>\n",
       "  </tbody>\n",
       "</table>\n",
       "</div>"
      ],
      "text/plain": [
       "   count\n",
       "0    821"
      ]
     },
     "execution_count": 7,
     "metadata": {},
     "output_type": "execute_result"
    }
   ],
   "source": [
    "# Посчитайте, сколько книг вышло после 1 января 2000 года;\n",
    "pd.io.sql.read_sql(\"SELECT count(book_id) FROM books WHERE publication_date >= '2000-01-01 00:00:00'\", con = engine) "
   ]
  },
  {
   "cell_type": "markdown",
   "metadata": {},
   "source": [
    "После 1 января 2000 года была выпущена 821 книга. "
   ]
  },
  {
   "cell_type": "markdown",
   "metadata": {},
   "source": [
    "## Количество обзоров и средняя оценка каждой книги "
   ]
  },
  {
   "cell_type": "code",
   "execution_count": 8,
   "metadata": {
    "scrolled": true
   },
   "outputs": [
    {
     "data": {
      "text/html": [
       "<div>\n",
       "<style scoped>\n",
       "    .dataframe tbody tr th:only-of-type {\n",
       "        vertical-align: middle;\n",
       "    }\n",
       "\n",
       "    .dataframe tbody tr th {\n",
       "        vertical-align: top;\n",
       "    }\n",
       "\n",
       "    .dataframe thead th {\n",
       "        text-align: right;\n",
       "    }\n",
       "</style>\n",
       "<table border=\"1\" class=\"dataframe\">\n",
       "  <thead>\n",
       "    <tr style=\"text-align: right;\">\n",
       "      <th></th>\n",
       "      <th>title</th>\n",
       "      <th>review_count</th>\n",
       "      <th>average_rating</th>\n",
       "    </tr>\n",
       "  </thead>\n",
       "  <tbody>\n",
       "    <tr>\n",
       "      <th>0</th>\n",
       "      <td>The Body in the Library (Miss Marple  #3)</td>\n",
       "      <td>2</td>\n",
       "      <td>4.500000</td>\n",
       "    </tr>\n",
       "    <tr>\n",
       "      <th>1</th>\n",
       "      <td>Galápagos</td>\n",
       "      <td>2</td>\n",
       "      <td>4.500000</td>\n",
       "    </tr>\n",
       "    <tr>\n",
       "      <th>2</th>\n",
       "      <td>A Tree Grows in Brooklyn</td>\n",
       "      <td>5</td>\n",
       "      <td>4.250000</td>\n",
       "    </tr>\n",
       "    <tr>\n",
       "      <th>3</th>\n",
       "      <td>Undaunted Courage: The Pioneering First Missio...</td>\n",
       "      <td>2</td>\n",
       "      <td>4.000000</td>\n",
       "    </tr>\n",
       "    <tr>\n",
       "      <th>4</th>\n",
       "      <td>The Prophet</td>\n",
       "      <td>4</td>\n",
       "      <td>4.285714</td>\n",
       "    </tr>\n",
       "    <tr>\n",
       "      <th>...</th>\n",
       "      <td>...</td>\n",
       "      <td>...</td>\n",
       "      <td>...</td>\n",
       "    </tr>\n",
       "    <tr>\n",
       "      <th>995</th>\n",
       "      <td>Alice in Wonderland</td>\n",
       "      <td>4</td>\n",
       "      <td>4.230769</td>\n",
       "    </tr>\n",
       "    <tr>\n",
       "      <th>996</th>\n",
       "      <td>A Woman of Substance (Emma Harte Saga #1)</td>\n",
       "      <td>2</td>\n",
       "      <td>5.000000</td>\n",
       "    </tr>\n",
       "    <tr>\n",
       "      <th>997</th>\n",
       "      <td>Christine</td>\n",
       "      <td>3</td>\n",
       "      <td>3.428571</td>\n",
       "    </tr>\n",
       "    <tr>\n",
       "      <th>998</th>\n",
       "      <td>The Magicians' Guild (Black Magician Trilogy  #1)</td>\n",
       "      <td>2</td>\n",
       "      <td>3.500000</td>\n",
       "    </tr>\n",
       "    <tr>\n",
       "      <th>999</th>\n",
       "      <td>The Plot Against America</td>\n",
       "      <td>2</td>\n",
       "      <td>3.000000</td>\n",
       "    </tr>\n",
       "  </tbody>\n",
       "</table>\n",
       "<p>1000 rows × 3 columns</p>\n",
       "</div>"
      ],
      "text/plain": [
       "                                                 title  review_count  \\\n",
       "0            The Body in the Library (Miss Marple  #3)             2   \n",
       "1                                            Galápagos             2   \n",
       "2                             A Tree Grows in Brooklyn             5   \n",
       "3    Undaunted Courage: The Pioneering First Missio...             2   \n",
       "4                                          The Prophet             4   \n",
       "..                                                 ...           ...   \n",
       "995                                Alice in Wonderland             4   \n",
       "996          A Woman of Substance (Emma Harte Saga #1)             2   \n",
       "997                                          Christine             3   \n",
       "998  The Magicians' Guild (Black Magician Trilogy  #1)             2   \n",
       "999                           The Plot Against America             2   \n",
       "\n",
       "     average_rating  \n",
       "0          4.500000  \n",
       "1          4.500000  \n",
       "2          4.250000  \n",
       "3          4.000000  \n",
       "4          4.285714  \n",
       "..              ...  \n",
       "995        4.230769  \n",
       "996        5.000000  \n",
       "997        3.428571  \n",
       "998        3.500000  \n",
       "999        3.000000  \n",
       "\n",
       "[1000 rows x 3 columns]"
      ]
     },
     "execution_count": 8,
     "metadata": {},
     "output_type": "execute_result"
    }
   ],
   "source": [
    "# Для каждой книги посчитайте количество обзоров и среднюю оценку;\n",
    "pd.io.sql.read_sql(\"\"\"\n",
    "    WITH review_count AS (\n",
    "        SELECT b.book_id, count(rv.review_id) AS review_count FROM books b\n",
    "        LEFT JOIN reviews rv ON b.book_id = rv.book_id\n",
    "        GROUP BY b.book_id\n",
    "    ), average_rating AS (\n",
    "        SELECT b.book_id, AVG(rt.rating) AS average_rating FROM books b\n",
    "        LEFT JOIN ratings rt ON b.book_id = rt.book_id\n",
    "        GROUP BY b.book_id\n",
    "    )\n",
    "    SELECT b.title, rc.review_count, ar.average_rating\n",
    "    FROM books b\n",
    "    LEFT JOIN review_count rc ON b.book_id = rc.book_id\n",
    "    LEFT JOIN average_rating ar ON b.book_id = ar.book_id\n",
    "    \"\"\",\n",
    "    con = engine) "
   ]
  },
  {
   "cell_type": "code",
   "execution_count": 9,
   "metadata": {},
   "outputs": [
    {
     "data": {
      "text/html": [
       "<div>\n",
       "<style scoped>\n",
       "    .dataframe tbody tr th:only-of-type {\n",
       "        vertical-align: middle;\n",
       "    }\n",
       "\n",
       "    .dataframe tbody tr th {\n",
       "        vertical-align: top;\n",
       "    }\n",
       "\n",
       "    .dataframe thead th {\n",
       "        text-align: right;\n",
       "    }\n",
       "</style>\n",
       "<table border=\"1\" class=\"dataframe\">\n",
       "  <thead>\n",
       "    <tr style=\"text-align: right;\">\n",
       "      <th></th>\n",
       "      <th>review_sum</th>\n",
       "      <th>min_review_count</th>\n",
       "      <th>max_review_count</th>\n",
       "      <th>min_rating</th>\n",
       "      <th>max_rating</th>\n",
       "    </tr>\n",
       "  </thead>\n",
       "  <tbody>\n",
       "    <tr>\n",
       "      <th>0</th>\n",
       "      <td>2793.0</td>\n",
       "      <td>0</td>\n",
       "      <td>7</td>\n",
       "      <td>1.5</td>\n",
       "      <td>5.0</td>\n",
       "    </tr>\n",
       "  </tbody>\n",
       "</table>\n",
       "</div>"
      ],
      "text/plain": [
       "   review_sum  min_review_count  max_review_count  min_rating  max_rating\n",
       "0      2793.0                 0                 7         1.5         5.0"
      ]
     },
     "execution_count": 9,
     "metadata": {},
     "output_type": "execute_result"
    }
   ],
   "source": [
    "# Проверим, что сумма по столбцу review_count совпадает с длинной таблицы reviews, а также найдем минимальные и максимальные значения средней оценки и кол-ва отзывов\n",
    "\n",
    "pd.io.sql.read_sql(\"\"\"\n",
    "    WITH review_count AS (\n",
    "        SELECT b.book_id, count(rv.review_id) AS review_count FROM books b\n",
    "        LEFT JOIN reviews rv ON b.book_id = rv.book_id\n",
    "        GROUP BY b.book_id\n",
    "    ), average_rating AS (\n",
    "        SELECT b.book_id, AVG(rt.rating) AS average_rating FROM books b\n",
    "        LEFT JOIN ratings rt ON b.book_id = rt.book_id\n",
    "        GROUP BY b.book_id\n",
    "    )\n",
    "    SELECT\n",
    "        SUM(s.review_count) AS review_sum,\n",
    "        MIN(s.review_count) AS min_review_count,\n",
    "        MAX(s.review_count) AS max_review_count,\n",
    "        MIN(s.average_rating) AS min_rating,\n",
    "        MAX(s.average_rating) AS max_rating\n",
    "    FROM (\n",
    "        SELECT b.title, rc.review_count, ar.average_rating\n",
    "        FROM books b\n",
    "        LEFT JOIN review_count rc ON b.book_id = rc.book_id\n",
    "        LEFT JOIN average_rating ar ON b.book_id = ar.book_id\n",
    "    ) s\n",
    "    \n",
    "    \"\"\",\n",
    "    con = engine) "
   ]
  },
  {
   "cell_type": "markdown",
   "metadata": {},
   "source": [
    "Для каждой книги написано несколько обзоров: минимальный рейтинг - 1.5, максимальный - 5, минимальное количество отзывов на книгу -о, максимальное -7. "
   ]
  },
  {
   "cell_type": "markdown",
   "metadata": {},
   "source": [
    "## Издательство, выпустившее наибольшее число книг толще 50 страниц"
   ]
  },
  {
   "cell_type": "code",
   "execution_count": 10,
   "metadata": {
    "scrolled": true
   },
   "outputs": [
    {
     "data": {
      "text/html": [
       "<div>\n",
       "<style scoped>\n",
       "    .dataframe tbody tr th:only-of-type {\n",
       "        vertical-align: middle;\n",
       "    }\n",
       "\n",
       "    .dataframe tbody tr th {\n",
       "        vertical-align: top;\n",
       "    }\n",
       "\n",
       "    .dataframe thead th {\n",
       "        text-align: right;\n",
       "    }\n",
       "</style>\n",
       "<table border=\"1\" class=\"dataframe\">\n",
       "  <thead>\n",
       "    <tr style=\"text-align: right;\">\n",
       "      <th></th>\n",
       "      <th>publisher</th>\n",
       "      <th>book_count</th>\n",
       "    </tr>\n",
       "  </thead>\n",
       "  <tbody>\n",
       "    <tr>\n",
       "      <th>0</th>\n",
       "      <td>Penguin Books</td>\n",
       "      <td>42</td>\n",
       "    </tr>\n",
       "    <tr>\n",
       "      <th>1</th>\n",
       "      <td>Vintage</td>\n",
       "      <td>31</td>\n",
       "    </tr>\n",
       "    <tr>\n",
       "      <th>2</th>\n",
       "      <td>Grand Central Publishing</td>\n",
       "      <td>25</td>\n",
       "    </tr>\n",
       "    <tr>\n",
       "      <th>3</th>\n",
       "      <td>Penguin Classics</td>\n",
       "      <td>24</td>\n",
       "    </tr>\n",
       "    <tr>\n",
       "      <th>4</th>\n",
       "      <td>Ballantine Books</td>\n",
       "      <td>19</td>\n",
       "    </tr>\n",
       "    <tr>\n",
       "      <th>...</th>\n",
       "      <td>...</td>\n",
       "      <td>...</td>\n",
       "    </tr>\n",
       "    <tr>\n",
       "      <th>329</th>\n",
       "      <td>Turtleback</td>\n",
       "      <td>1</td>\n",
       "    </tr>\n",
       "    <tr>\n",
       "      <th>330</th>\n",
       "      <td>Atheneum Books for Young Readers: Richard Jack...</td>\n",
       "      <td>1</td>\n",
       "    </tr>\n",
       "    <tr>\n",
       "      <th>331</th>\n",
       "      <td>Penguin Signet</td>\n",
       "      <td>1</td>\n",
       "    </tr>\n",
       "    <tr>\n",
       "      <th>332</th>\n",
       "      <td>Victor Gollancz</td>\n",
       "      <td>1</td>\n",
       "    </tr>\n",
       "    <tr>\n",
       "      <th>333</th>\n",
       "      <td>Harvard Business Review Press</td>\n",
       "      <td>1</td>\n",
       "    </tr>\n",
       "  </tbody>\n",
       "</table>\n",
       "<p>334 rows × 2 columns</p>\n",
       "</div>"
      ],
      "text/plain": [
       "                                             publisher  book_count\n",
       "0                                        Penguin Books          42\n",
       "1                                              Vintage          31\n",
       "2                             Grand Central Publishing          25\n",
       "3                                     Penguin Classics          24\n",
       "4                                     Ballantine Books          19\n",
       "..                                                 ...         ...\n",
       "329                                         Turtleback           1\n",
       "330  Atheneum Books for Young Readers: Richard Jack...           1\n",
       "331                                     Penguin Signet           1\n",
       "332                                    Victor Gollancz           1\n",
       "333                      Harvard Business Review Press           1\n",
       "\n",
       "[334 rows x 2 columns]"
      ]
     },
     "execution_count": 10,
     "metadata": {},
     "output_type": "execute_result"
    }
   ],
   "source": [
    "# Определите издательство, которое выпустило наибольшее число книг толще 50 страниц — так вы исключите из анализа брошюры;\n",
    "pd.io.sql.read_sql(\"\"\"\n",
    "    SELECT p.publisher, count(b.book_id) AS book_count\n",
    "    FROM publishers p\n",
    "    LEFT JOIN books b ON p.publisher_id = b.publisher_id\n",
    "    WHERE b.num_pages > 50\n",
    "    GROUP BY p.publisher\n",
    "    ORDER BY count(b.book_id) DESC\n",
    "    \"\"\",\n",
    "    con = engine) "
   ]
  },
  {
   "cell_type": "markdown",
   "metadata": {},
   "source": [
    "Наибольшее число книг выпустило издательство Penguin Books: всего 42 книги толще 50 страниц. "
   ]
  },
  {
   "cell_type": "markdown",
   "metadata": {},
   "source": [
    "## Автор с самой высокой средней оценкой книг"
   ]
  },
  {
   "cell_type": "code",
   "execution_count": 11,
   "metadata": {
    "scrolled": true
   },
   "outputs": [
    {
     "data": {
      "text/html": [
       "<div>\n",
       "<style scoped>\n",
       "    .dataframe tbody tr th:only-of-type {\n",
       "        vertical-align: middle;\n",
       "    }\n",
       "\n",
       "    .dataframe tbody tr th {\n",
       "        vertical-align: top;\n",
       "    }\n",
       "\n",
       "    .dataframe thead th {\n",
       "        text-align: right;\n",
       "    }\n",
       "</style>\n",
       "<table border=\"1\" class=\"dataframe\">\n",
       "  <thead>\n",
       "    <tr style=\"text-align: right;\">\n",
       "      <th></th>\n",
       "      <th>author</th>\n",
       "      <th>average_rating</th>\n",
       "    </tr>\n",
       "  </thead>\n",
       "  <tbody>\n",
       "    <tr>\n",
       "      <th>0</th>\n",
       "      <td>J.K. Rowling/Mary GrandPré</td>\n",
       "      <td>4.287097</td>\n",
       "    </tr>\n",
       "    <tr>\n",
       "      <th>1</th>\n",
       "      <td>Markus Zusak/Cao Xuân Việt Khương</td>\n",
       "      <td>4.264151</td>\n",
       "    </tr>\n",
       "    <tr>\n",
       "      <th>2</th>\n",
       "      <td>J.R.R. Tolkien</td>\n",
       "      <td>4.246914</td>\n",
       "    </tr>\n",
       "    <tr>\n",
       "      <th>3</th>\n",
       "      <td>Louisa May Alcott</td>\n",
       "      <td>4.192308</td>\n",
       "    </tr>\n",
       "    <tr>\n",
       "      <th>4</th>\n",
       "      <td>Rick Riordan</td>\n",
       "      <td>4.080645</td>\n",
       "    </tr>\n",
       "    <tr>\n",
       "      <th>5</th>\n",
       "      <td>William Golding</td>\n",
       "      <td>3.901408</td>\n",
       "    </tr>\n",
       "    <tr>\n",
       "      <th>6</th>\n",
       "      <td>J.D. Salinger</td>\n",
       "      <td>3.825581</td>\n",
       "    </tr>\n",
       "    <tr>\n",
       "      <th>7</th>\n",
       "      <td>Paulo Coelho/Alan R. Clarke/Özdemir İnce</td>\n",
       "      <td>3.789474</td>\n",
       "    </tr>\n",
       "    <tr>\n",
       "      <th>8</th>\n",
       "      <td>William Shakespeare/Paul Werstine/Barbara A. M...</td>\n",
       "      <td>3.787879</td>\n",
       "    </tr>\n",
       "    <tr>\n",
       "      <th>9</th>\n",
       "      <td>Lois Lowry</td>\n",
       "      <td>3.750000</td>\n",
       "    </tr>\n",
       "    <tr>\n",
       "      <th>10</th>\n",
       "      <td>Dan Brown</td>\n",
       "      <td>3.741259</td>\n",
       "    </tr>\n",
       "    <tr>\n",
       "      <th>11</th>\n",
       "      <td>George Orwell/Boris Grabnar/Peter Škerl</td>\n",
       "      <td>3.729730</td>\n",
       "    </tr>\n",
       "    <tr>\n",
       "      <th>12</th>\n",
       "      <td>Stephenie Meyer</td>\n",
       "      <td>3.662500</td>\n",
       "    </tr>\n",
       "    <tr>\n",
       "      <th>13</th>\n",
       "      <td>John Steinbeck</td>\n",
       "      <td>3.622951</td>\n",
       "    </tr>\n",
       "  </tbody>\n",
       "</table>\n",
       "</div>"
      ],
      "text/plain": [
       "                                               author  average_rating\n",
       "0                          J.K. Rowling/Mary GrandPré        4.287097\n",
       "1                   Markus Zusak/Cao Xuân Việt Khương        4.264151\n",
       "2                                      J.R.R. Tolkien        4.246914\n",
       "3                                   Louisa May Alcott        4.192308\n",
       "4                                        Rick Riordan        4.080645\n",
       "5                                     William Golding        3.901408\n",
       "6                                       J.D. Salinger        3.825581\n",
       "7            Paulo Coelho/Alan R. Clarke/Özdemir İnce        3.789474\n",
       "8   William Shakespeare/Paul Werstine/Barbara A. M...        3.787879\n",
       "9                                          Lois Lowry        3.750000\n",
       "10                                          Dan Brown        3.741259\n",
       "11            George Orwell/Boris Grabnar/Peter Škerl        3.729730\n",
       "12                                    Stephenie Meyer        3.662500\n",
       "13                                     John Steinbeck        3.622951"
      ]
     },
     "execution_count": 11,
     "metadata": {},
     "output_type": "execute_result"
    }
   ],
   "source": [
    "# Определите автора с самой высокой средней оценкой книг — учитывайте только книги с 50 и более оценками;\n",
    "pd.io.sql.read_sql(\"\"\"\n",
    "    -- только книги с 50 и более оценками\n",
    "    WITH books_most_rated AS (\n",
    "        SELECT b.book_id, b.author_id\n",
    "        FROM books b\n",
    "        LEFT JOIN ratings r ON b.book_id = r.book_id\n",
    "        GROUP BY b.book_id\n",
    "        HAVING count(r.rating_id) >= 50\n",
    "    )\n",
    "    SELECT a.author, AVG(r.rating) as average_rating\n",
    "    FROM authors a\n",
    "    INNER JOIN books_most_rated b ON a.author_id = b.author_id\n",
    "    LEFT JOIN ratings r ON b.book_id = r.book_id\n",
    "    GROUP BY a.author_id\n",
    "    ORDER BY AVG(r.rating) DESC\n",
    "    \"\"\",\n",
    "    con = engine) "
   ]
  },
  {
   "cell_type": "markdown",
   "metadata": {},
   "source": [
    "Самый высокий средний рейтинг книги у писательницы Дианы Гэблдон. При этом наибольшее количество оценок от пользователей получили книги Джоан Роулинг, и их рейтинг только на несколько десятых уступает книгам Гэблдон. "
   ]
  },
  {
   "cell_type": "markdown",
   "metadata": {},
   "source": [
    "## Среднее количество обзоров от пользователей, которые поставили больше 50 оценок"
   ]
  },
  {
   "cell_type": "code",
   "execution_count": 12,
   "metadata": {},
   "outputs": [
    {
     "data": {
      "text/html": [
       "<div>\n",
       "<style scoped>\n",
       "    .dataframe tbody tr th:only-of-type {\n",
       "        vertical-align: middle;\n",
       "    }\n",
       "\n",
       "    .dataframe tbody tr th {\n",
       "        vertical-align: top;\n",
       "    }\n",
       "\n",
       "    .dataframe thead th {\n",
       "        text-align: right;\n",
       "    }\n",
       "</style>\n",
       "<table border=\"1\" class=\"dataframe\">\n",
       "  <thead>\n",
       "    <tr style=\"text-align: right;\">\n",
       "      <th></th>\n",
       "      <th>avg</th>\n",
       "    </tr>\n",
       "  </thead>\n",
       "  <tbody>\n",
       "    <tr>\n",
       "      <th>0</th>\n",
       "      <td>24.333333</td>\n",
       "    </tr>\n",
       "  </tbody>\n",
       "</table>\n",
       "</div>"
      ],
      "text/plain": [
       "         avg\n",
       "0  24.333333"
      ]
     },
     "execution_count": 12,
     "metadata": {},
     "output_type": "execute_result"
    }
   ],
   "source": [
    "# Посчитайте среднее количество обзоров от пользователей, которые поставили больше 50 оценок.\n",
    "pd.io.sql.read_sql(\"\"\"\n",
    "    WITH top_raters AS (\n",
    "    SELECT COUNT(rv.review_id) AS review_count FROM reviews rv WHERE rv.username IN (\n",
    "        SELECT DISTINCT rt.username FROM ratings rt GROUP BY rt.username HAVING count(rt.rating) > 50\n",
    "        ) GROUP BY rv.username\n",
    "    )\n",
    "    SELECT AVG(review_count) FROM top_raters\n",
    "    \n",
    "    \"\"\",\n",
    "    con = engine) "
   ]
  },
  {
   "cell_type": "markdown",
   "metadata": {},
   "source": [
    "Среднее количество обзоров от пользователей, которые поставили более 50 оценок, - 24."
   ]
  }
 ],
 "metadata": {
  "ExecuteTimeLog": [
   {
    "duration": 640,
    "start_time": "2022-06-03T07:13:34.630Z"
   },
   {
    "duration": 7,
    "start_time": "2022-06-03T07:13:53.000Z"
   },
   {
    "duration": 259,
    "start_time": "2022-06-03T07:13:53.009Z"
   },
   {
    "duration": 117,
    "start_time": "2022-06-03T07:14:18.293Z"
   },
   {
    "duration": 76,
    "start_time": "2022-06-03T07:14:35.682Z"
   },
   {
    "duration": 79,
    "start_time": "2022-06-03T07:14:51.925Z"
   },
   {
    "duration": 77,
    "start_time": "2022-06-03T07:15:05.455Z"
   },
   {
    "duration": 73,
    "start_time": "2022-06-03T07:17:40.109Z"
   },
   {
    "duration": 98,
    "start_time": "2022-06-03T07:43:19.712Z"
   },
   {
    "duration": 85,
    "start_time": "2022-06-03T07:44:38.083Z"
   },
   {
    "duration": 74,
    "start_time": "2022-06-03T07:44:58.545Z"
   },
   {
    "duration": 118,
    "start_time": "2022-06-03T07:45:47.578Z"
   },
   {
    "duration": 644,
    "start_time": "2022-06-03T16:51:40.151Z"
   },
   {
    "duration": 332,
    "start_time": "2022-06-03T16:51:40.798Z"
   },
   {
    "duration": 92,
    "start_time": "2022-06-03T16:51:41.132Z"
   },
   {
    "duration": 93,
    "start_time": "2022-06-03T16:51:41.227Z"
   },
   {
    "duration": 132,
    "start_time": "2022-06-03T16:51:41.322Z"
   },
   {
    "duration": 113,
    "start_time": "2022-06-03T16:51:41.457Z"
   },
   {
    "duration": 78,
    "start_time": "2022-06-03T16:51:41.572Z"
   },
   {
    "duration": 180,
    "start_time": "2022-06-03T16:51:41.652Z"
   },
   {
    "duration": 87,
    "start_time": "2022-06-03T16:51:41.834Z"
   },
   {
    "duration": 88,
    "start_time": "2022-06-03T16:51:41.924Z"
   },
   {
    "duration": 83,
    "start_time": "2022-06-03T16:51:42.014Z"
   },
   {
    "duration": 125,
    "start_time": "2022-06-03T16:52:44.380Z"
   },
   {
    "duration": 120,
    "start_time": "2022-06-03T16:52:47.701Z"
   },
   {
    "duration": 71,
    "start_time": "2022-06-03T19:44:16.304Z"
   },
   {
    "duration": 4271,
    "start_time": "2022-06-03T19:44:23.672Z"
   },
   {
    "duration": 350,
    "start_time": "2022-06-03T19:44:27.946Z"
   },
   {
    "duration": 96,
    "start_time": "2022-06-03T19:44:28.300Z"
   },
   {
    "duration": 96,
    "start_time": "2022-06-03T19:44:28.397Z"
   },
   {
    "duration": 115,
    "start_time": "2022-06-03T19:44:28.495Z"
   },
   {
    "duration": 116,
    "start_time": "2022-06-03T19:44:28.612Z"
   },
   {
    "duration": 87,
    "start_time": "2022-06-03T19:44:28.732Z"
   },
   {
    "duration": 184,
    "start_time": "2022-06-03T19:44:28.820Z"
   },
   {
    "duration": 93,
    "start_time": "2022-06-03T19:44:29.006Z"
   },
   {
    "duration": 103,
    "start_time": "2022-06-03T19:44:29.100Z"
   },
   {
    "duration": 99,
    "start_time": "2022-06-03T19:44:29.204Z"
   },
   {
    "duration": 213,
    "start_time": "2022-06-03T19:51:06.352Z"
   },
   {
    "duration": 10,
    "start_time": "2022-06-03T19:51:15.952Z"
   },
   {
    "duration": 356,
    "start_time": "2022-06-03T19:51:15.963Z"
   },
   {
    "duration": 98,
    "start_time": "2022-06-03T19:51:16.321Z"
   },
   {
    "duration": 98,
    "start_time": "2022-06-03T19:51:16.420Z"
   },
   {
    "duration": 154,
    "start_time": "2022-06-03T19:51:16.520Z"
   },
   {
    "duration": 115,
    "start_time": "2022-06-03T19:51:16.675Z"
   },
   {
    "duration": 100,
    "start_time": "2022-06-03T19:51:16.791Z"
   },
   {
    "duration": 115,
    "start_time": "2022-06-03T19:51:16.893Z"
   },
   {
    "duration": 105,
    "start_time": "2022-06-03T19:51:17.010Z"
   },
   {
    "duration": 157,
    "start_time": "2022-06-03T19:51:17.117Z"
   },
   {
    "duration": 0,
    "start_time": "2022-06-03T19:51:17.275Z"
   },
   {
    "duration": 102,
    "start_time": "2022-06-03T19:52:41.679Z"
   },
   {
    "duration": 96,
    "start_time": "2022-06-03T19:56:07.943Z"
   },
   {
    "duration": 101,
    "start_time": "2022-06-03T20:00:03.201Z"
   },
   {
    "duration": 173,
    "start_time": "2022-06-03T20:04:36.611Z"
   },
   {
    "duration": 91,
    "start_time": "2022-06-03T20:05:42.149Z"
   },
   {
    "duration": 133,
    "start_time": "2022-06-03T20:06:37.374Z"
   },
   {
    "duration": 105,
    "start_time": "2022-06-03T20:14:12.251Z"
   },
   {
    "duration": 101,
    "start_time": "2022-06-03T20:14:58.881Z"
   },
   {
    "duration": 58,
    "start_time": "2022-06-04T05:09:24.807Z"
   },
   {
    "duration": 543,
    "start_time": "2022-06-04T05:09:32.539Z"
   },
   {
    "duration": 253,
    "start_time": "2022-06-04T05:09:33.083Z"
   },
   {
    "duration": 87,
    "start_time": "2022-06-04T05:09:33.338Z"
   },
   {
    "duration": 70,
    "start_time": "2022-06-04T05:09:33.428Z"
   },
   {
    "duration": 97,
    "start_time": "2022-06-04T05:09:33.499Z"
   },
   {
    "duration": 84,
    "start_time": "2022-06-04T05:09:33.598Z"
   },
   {
    "duration": 66,
    "start_time": "2022-06-04T05:09:33.684Z"
   },
   {
    "duration": 128,
    "start_time": "2022-06-04T05:09:33.752Z"
   },
   {
    "duration": 74,
    "start_time": "2022-06-04T05:09:33.882Z"
   },
   {
    "duration": 69,
    "start_time": "2022-06-04T05:09:33.958Z"
   },
   {
    "duration": 69,
    "start_time": "2022-06-04T05:09:34.028Z"
   },
   {
    "duration": 73,
    "start_time": "2022-06-04T05:14:23.422Z"
   },
   {
    "duration": 53,
    "start_time": "2022-06-05T06:21:45.500Z"
   },
   {
    "duration": 514,
    "start_time": "2022-06-05T06:21:56.052Z"
   },
   {
    "duration": 260,
    "start_time": "2022-06-05T06:21:56.568Z"
   },
   {
    "duration": 83,
    "start_time": "2022-06-05T06:21:56.829Z"
   },
   {
    "duration": 70,
    "start_time": "2022-06-05T06:21:56.914Z"
   },
   {
    "duration": 90,
    "start_time": "2022-06-05T06:21:56.986Z"
   },
   {
    "duration": 88,
    "start_time": "2022-06-05T06:21:57.077Z"
   },
   {
    "duration": 69,
    "start_time": "2022-06-05T06:21:57.167Z"
   },
   {
    "duration": 121,
    "start_time": "2022-06-05T06:21:57.238Z"
   },
   {
    "duration": 0,
    "start_time": "2022-06-05T06:21:57.361Z"
   },
   {
    "duration": 0,
    "start_time": "2022-06-05T06:21:57.362Z"
   },
   {
    "duration": 0,
    "start_time": "2022-06-05T06:21:57.363Z"
   },
   {
    "duration": 77,
    "start_time": "2022-06-05T06:22:24.374Z"
   },
   {
    "duration": 144,
    "start_time": "2022-06-05T06:23:38.405Z"
   },
   {
    "duration": 104,
    "start_time": "2022-06-05T06:35:56.904Z"
   },
   {
    "duration": 99,
    "start_time": "2022-06-05T06:36:26.053Z"
   },
   {
    "duration": 3,
    "start_time": "2022-06-05T06:46:14.774Z"
   },
   {
    "duration": 79,
    "start_time": "2022-06-05T06:48:00.599Z"
   },
   {
    "duration": 77,
    "start_time": "2022-06-05T06:52:22.683Z"
   },
   {
    "duration": 86,
    "start_time": "2022-06-05T06:53:42.500Z"
   },
   {
    "duration": 599,
    "start_time": "2022-06-05T11:31:32.354Z"
   },
   {
    "duration": 96,
    "start_time": "2022-06-05T11:31:32.955Z"
   },
   {
    "duration": 19,
    "start_time": "2022-06-05T11:31:33.053Z"
   },
   {
    "duration": 14,
    "start_time": "2022-06-05T11:31:33.074Z"
   },
   {
    "duration": 41,
    "start_time": "2022-06-05T11:31:33.089Z"
   },
   {
    "duration": 25,
    "start_time": "2022-06-05T11:31:33.132Z"
   },
   {
    "duration": 13,
    "start_time": "2022-06-05T11:31:33.161Z"
   },
   {
    "duration": 87,
    "start_time": "2022-06-05T11:31:33.177Z"
   },
   {
    "duration": 19,
    "start_time": "2022-06-05T11:31:33.266Z"
   },
   {
    "duration": 33,
    "start_time": "2022-06-05T11:31:33.288Z"
   },
   {
    "duration": 41,
    "start_time": "2022-06-05T11:31:33.324Z"
   },
   {
    "duration": 15,
    "start_time": "2022-06-05T11:31:33.367Z"
   }
  ],
  "kernelspec": {
   "display_name": "Python 3 (ipykernel)",
   "language": "python",
   "name": "python3"
  },
  "language_info": {
   "codemirror_mode": {
    "name": "ipython",
    "version": 3
   },
   "file_extension": ".py",
   "mimetype": "text/x-python",
   "name": "python",
   "nbconvert_exporter": "python",
   "pygments_lexer": "ipython3",
   "version": "3.9.5"
  },
  "toc": {
   "base_numbering": 1,
   "nav_menu": {},
   "number_sections": false,
   "sideBar": true,
   "skip_h1_title": false,
   "title_cell": "Table of Contents",
   "title_sidebar": "Contents",
   "toc_cell": false,
   "toc_position": {
    "height": "calc(100% - 180px)",
    "left": "10px",
    "top": "150px",
    "width": "348.344px"
   },
   "toc_section_display": true,
   "toc_window_display": true
  }
 },
 "nbformat": 4,
 "nbformat_minor": 2
}
