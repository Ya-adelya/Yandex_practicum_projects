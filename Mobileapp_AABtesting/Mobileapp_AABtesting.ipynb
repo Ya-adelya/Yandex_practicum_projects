{
 "cells": [
  {
   "cell_type": "markdown",
   "metadata": {
    "toc": true
   },
   "source": [
    "<h1>Table of Contents<span class=\"tocSkip\"></span></h1>\n",
    "<div class=\"toc\"><ul class=\"toc-item\"><li><span><a href=\"#Обзор-данных\" data-toc-modified-id=\"Обзор-данных-1\"><span class=\"toc-item-num\">1&nbsp;&nbsp;</span>Обзор данных</a></span></li><li><span><a href=\"#Анализ-данных\" data-toc-modified-id=\"Анализ-данных-2\"><span class=\"toc-item-num\">2&nbsp;&nbsp;</span>Анализ данных</a></span><ul class=\"toc-item\"><li><span><a href=\"#Количество-событий-в-логе\" data-toc-modified-id=\"Количество-событий-в-логе-2.1\"><span class=\"toc-item-num\">2.1&nbsp;&nbsp;</span>Количество событий в логе</a></span></li><li><span><a href=\"#Количество-пользователей-в-логе\" data-toc-modified-id=\"Количество-пользователей-в-логе-2.2\"><span class=\"toc-item-num\">2.2&nbsp;&nbsp;</span>Количество пользователей в логе</a></span></li><li><span><a href=\"#Среднее-количество-событий-на-пользователя\" data-toc-modified-id=\"Среднее-количество-событий-на-пользователя-2.3\"><span class=\"toc-item-num\">2.3&nbsp;&nbsp;</span>Среднее количество событий на пользователя</a></span></li><li><span><a href=\"#Минимальные-и-максимальные-даты-исследуемого-периода\" data-toc-modified-id=\"Минимальные-и-максимальные-даты-исследуемого-периода-2.4\"><span class=\"toc-item-num\">2.4&nbsp;&nbsp;</span>Минимальные и максимальные даты исследуемого периода</a></span></li><li><span><a href=\"#Количество-потерянных-событий-и-пользователей-после-удаления-старых-данных\" data-toc-modified-id=\"Количество-потерянных-событий-и-пользователей-после-удаления-старых-данных-2.5\"><span class=\"toc-item-num\">2.5&nbsp;&nbsp;</span>Количество потерянных событий и пользователей после удаления старых данных</a></span></li><li><span><a href=\"#Актуальный-период\" data-toc-modified-id=\"Актуальный-период-2.6\"><span class=\"toc-item-num\">2.6&nbsp;&nbsp;</span>Актуальный период</a></span></li><li><span><a href=\"#Количество-пользователей-после-актуализации-периода\" data-toc-modified-id=\"Количество-пользователей-после-актуализации-периода-2.7\"><span class=\"toc-item-num\">2.7&nbsp;&nbsp;</span>Количество пользователей после актуализации периода</a></span></li></ul></li><li><span><a href=\"#Воронка-событий\" data-toc-modified-id=\"Воронка-событий-3\"><span class=\"toc-item-num\">3&nbsp;&nbsp;</span>Воронка событий</a></span><ul class=\"toc-item\"><li><span><a href=\"#Частота-событий-в-логах\" data-toc-modified-id=\"Частота-событий-в-логах-3.1\"><span class=\"toc-item-num\">3.1&nbsp;&nbsp;</span>Частота событий в логах</a></span></li><li><span><a href=\"#Количество-и-доля-пользователей,-совершивших-действие\" data-toc-modified-id=\"Количество-и-доля-пользователей,-совершивших-действие-3.2\"><span class=\"toc-item-num\">3.2&nbsp;&nbsp;</span>Количество и доля пользователей, совершивших действие</a></span></li><li><span><a href=\"#Воронка-событий\" data-toc-modified-id=\"Воронка-событий-3.3\"><span class=\"toc-item-num\">3.3&nbsp;&nbsp;</span>Воронка событий</a></span></li></ul></li><li><span><a href=\"#Результаты-эксперимента\" data-toc-modified-id=\"Результаты-эксперимента-4\"><span class=\"toc-item-num\">4&nbsp;&nbsp;</span>Результаты эксперимента</a></span><ul class=\"toc-item\"><li><span><a href=\"#Количество-пользователей-в-каждой-экспериментальной-группе\" data-toc-modified-id=\"Количество-пользователей-в-каждой-экспериментальной-группе-4.1\"><span class=\"toc-item-num\">4.1&nbsp;&nbsp;</span>Количество пользователей в каждой экспериментальной группе</a></span></li><li><span><a href=\"#Статистическая-разница-между-выборками-246-и-247\" data-toc-modified-id=\"Статистическая-разница-между-выборками-246-и-247-4.2\"><span class=\"toc-item-num\">4.2&nbsp;&nbsp;</span>Статистическая разница между выборками 246 и 247</a></span></li><li><span><a href=\"#Анализ-контрольных-групп\" data-toc-modified-id=\"Анализ-контрольных-групп-4.3\"><span class=\"toc-item-num\">4.3&nbsp;&nbsp;</span>Анализ контрольных групп</a></span></li><li><span><a href=\"#Анализ-экспериментальной-группы\" data-toc-modified-id=\"Анализ-экспериментальной-группы-4.4\"><span class=\"toc-item-num\">4.4&nbsp;&nbsp;</span>Анализ экспериментальной группы</a></span></li><li><span><a href=\"#Уровень-статистической-значимости\" data-toc-modified-id=\"Уровень-статистической-значимости-4.5\"><span class=\"toc-item-num\">4.5&nbsp;&nbsp;</span>Уровень статистической значимости</a></span></li></ul></li><li><span><a href=\"#Вывод\" data-toc-modified-id=\"Вывод-5\"><span class=\"toc-item-num\">5&nbsp;&nbsp;</span>Вывод</a></span></li></ul></div>"
   ]
  },
  {
   "cell_type": "markdown",
   "metadata": {},
   "source": [
    "# Анализ поедения пользователей мобильного приложения. Анализ А/А/В-теста\n"
   ]
  },
  {
   "cell_type": "markdown",
   "metadata": {},
   "source": [
    "**Описание исследования** — мы работаем в стартапе, который продаёт продукты питания. Нужно разобраться, как ведут себя пользователи мобильного приложения.\n",
    "\n",
    "**Цель исследования** — изучить воронку продаж, определить путь пользователя до совершения покупки. Провести A/A/B-эксперимент и выяснить, необходимо ли менять шрифт в приложении или нет. \n",
    "\n",
    "**Данные**: располагаем данными о названии события, id пользователя, времени события и номера эксперимента.\n",
    "\n",
    "**Ход исследования**:\n",
    " 1. Обзор данных\n",
    " 2. Анализ данных \n",
    " 3. Исследование воронки событий\n",
    " 4. Исследование результатов эксперимента\n",
    " 5. Вывод\n"
   ]
  },
  {
   "cell_type": "markdown",
   "metadata": {},
   "source": [
    "## Обзор данных"
   ]
  },
  {
   "cell_type": "code",
   "execution_count": 41,
   "metadata": {},
   "outputs": [],
   "source": [
    "# импортируем библиотеки\n",
    "import pandas as pd\n",
    "import matplotlib.pyplot as plt\n",
    "from scipy import stats as st\n",
    "import numpy as np\n",
    "import math as mth\n",
    "import warnings\n",
    "warnings.filterwarnings('ignore')\n",
    "from datetime import datetime, timedelta\n",
    "from plotly import graph_objects as go \n",
    "import plotly.express as px"
   ]
  },
  {
   "cell_type": "code",
   "execution_count": 42,
   "metadata": {},
   "outputs": [
    {
     "data": {
      "text/html": [
       "<div>\n",
       "<style scoped>\n",
       "    .dataframe tbody tr th:only-of-type {\n",
       "        vertical-align: middle;\n",
       "    }\n",
       "\n",
       "    .dataframe tbody tr th {\n",
       "        vertical-align: top;\n",
       "    }\n",
       "\n",
       "    .dataframe thead th {\n",
       "        text-align: right;\n",
       "    }\n",
       "</style>\n",
       "<table border=\"1\" class=\"dataframe\">\n",
       "  <thead>\n",
       "    <tr style=\"text-align: right;\">\n",
       "      <th></th>\n",
       "      <th>EventName</th>\n",
       "      <th>DeviceIDHash</th>\n",
       "      <th>EventTimestamp</th>\n",
       "      <th>ExpId</th>\n",
       "    </tr>\n",
       "  </thead>\n",
       "  <tbody>\n",
       "    <tr>\n",
       "      <th>0</th>\n",
       "      <td>MainScreenAppear</td>\n",
       "      <td>4575588528974610257</td>\n",
       "      <td>1564029816</td>\n",
       "      <td>246</td>\n",
       "    </tr>\n",
       "    <tr>\n",
       "      <th>1</th>\n",
       "      <td>MainScreenAppear</td>\n",
       "      <td>7416695313311560658</td>\n",
       "      <td>1564053102</td>\n",
       "      <td>246</td>\n",
       "    </tr>\n",
       "    <tr>\n",
       "      <th>2</th>\n",
       "      <td>PaymentScreenSuccessful</td>\n",
       "      <td>3518123091307005509</td>\n",
       "      <td>1564054127</td>\n",
       "      <td>248</td>\n",
       "    </tr>\n",
       "    <tr>\n",
       "      <th>3</th>\n",
       "      <td>CartScreenAppear</td>\n",
       "      <td>3518123091307005509</td>\n",
       "      <td>1564054127</td>\n",
       "      <td>248</td>\n",
       "    </tr>\n",
       "    <tr>\n",
       "      <th>4</th>\n",
       "      <td>PaymentScreenSuccessful</td>\n",
       "      <td>6217807653094995999</td>\n",
       "      <td>1564055322</td>\n",
       "      <td>248</td>\n",
       "    </tr>\n",
       "  </tbody>\n",
       "</table>\n",
       "</div>"
      ],
      "text/plain": [
       "                 EventName         DeviceIDHash  EventTimestamp  ExpId\n",
       "0         MainScreenAppear  4575588528974610257      1564029816    246\n",
       "1         MainScreenAppear  7416695313311560658      1564053102    246\n",
       "2  PaymentScreenSuccessful  3518123091307005509      1564054127    248\n",
       "3         CartScreenAppear  3518123091307005509      1564054127    248\n",
       "4  PaymentScreenSuccessful  6217807653094995999      1564055322    248"
      ]
     },
     "execution_count": 42,
     "metadata": {},
     "output_type": "execute_result"
    }
   ],
   "source": [
    "# читаем файл\n",
    "data = pd.read_csv('/datasets/logs_exp.csv', sep='\t')\n",
    "data.head()"
   ]
  },
  {
   "cell_type": "code",
   "execution_count": 43,
   "metadata": {},
   "outputs": [
    {
     "data": {
      "text/html": [
       "<div>\n",
       "<style scoped>\n",
       "    .dataframe tbody tr th:only-of-type {\n",
       "        vertical-align: middle;\n",
       "    }\n",
       "\n",
       "    .dataframe tbody tr th {\n",
       "        vertical-align: top;\n",
       "    }\n",
       "\n",
       "    .dataframe thead th {\n",
       "        text-align: right;\n",
       "    }\n",
       "</style>\n",
       "<table border=\"1\" class=\"dataframe\">\n",
       "  <thead>\n",
       "    <tr style=\"text-align: right;\">\n",
       "      <th></th>\n",
       "      <th>event</th>\n",
       "      <th>user_id</th>\n",
       "      <th>event_time</th>\n",
       "      <th>group</th>\n",
       "    </tr>\n",
       "  </thead>\n",
       "  <tbody>\n",
       "    <tr>\n",
       "      <th>0</th>\n",
       "      <td>MainScreenAppear</td>\n",
       "      <td>4575588528974610257</td>\n",
       "      <td>1564029816</td>\n",
       "      <td>246</td>\n",
       "    </tr>\n",
       "    <tr>\n",
       "      <th>1</th>\n",
       "      <td>MainScreenAppear</td>\n",
       "      <td>7416695313311560658</td>\n",
       "      <td>1564053102</td>\n",
       "      <td>246</td>\n",
       "    </tr>\n",
       "    <tr>\n",
       "      <th>2</th>\n",
       "      <td>PaymentScreenSuccessful</td>\n",
       "      <td>3518123091307005509</td>\n",
       "      <td>1564054127</td>\n",
       "      <td>248</td>\n",
       "    </tr>\n",
       "    <tr>\n",
       "      <th>3</th>\n",
       "      <td>CartScreenAppear</td>\n",
       "      <td>3518123091307005509</td>\n",
       "      <td>1564054127</td>\n",
       "      <td>248</td>\n",
       "    </tr>\n",
       "    <tr>\n",
       "      <th>4</th>\n",
       "      <td>PaymentScreenSuccessful</td>\n",
       "      <td>6217807653094995999</td>\n",
       "      <td>1564055322</td>\n",
       "      <td>248</td>\n",
       "    </tr>\n",
       "  </tbody>\n",
       "</table>\n",
       "</div>"
      ],
      "text/plain": [
       "                     event              user_id  event_time  group\n",
       "0         MainScreenAppear  4575588528974610257  1564029816    246\n",
       "1         MainScreenAppear  7416695313311560658  1564053102    246\n",
       "2  PaymentScreenSuccessful  3518123091307005509  1564054127    248\n",
       "3         CartScreenAppear  3518123091307005509  1564054127    248\n",
       "4  PaymentScreenSuccessful  6217807653094995999  1564055322    248"
      ]
     },
     "execution_count": 43,
     "metadata": {},
     "output_type": "execute_result"
    }
   ],
   "source": [
    "# переименовываем колонки \n",
    "data.columns = ['event', 'user_id', 'event_time', 'group']\n",
    "data.head()"
   ]
  },
  {
   "cell_type": "code",
   "execution_count": 44,
   "metadata": {},
   "outputs": [],
   "source": [
    "# создаем функцию для вывода характеристик датасета \n",
    "def info(data):\n",
    "    display(data.duplicated().sum())\n",
    "    display(data.info())\n",
    "    display(data.isna().sum())"
   ]
  },
  {
   "cell_type": "code",
   "execution_count": 45,
   "metadata": {
    "scrolled": false
   },
   "outputs": [
    {
     "data": {
      "text/plain": [
       "413"
      ]
     },
     "metadata": {},
     "output_type": "display_data"
    },
    {
     "name": "stdout",
     "output_type": "stream",
     "text": [
      "<class 'pandas.core.frame.DataFrame'>\n",
      "RangeIndex: 244126 entries, 0 to 244125\n",
      "Data columns (total 4 columns):\n",
      " #   Column      Non-Null Count   Dtype \n",
      "---  ------      --------------   ----- \n",
      " 0   event       244126 non-null  object\n",
      " 1   user_id     244126 non-null  int64 \n",
      " 2   event_time  244126 non-null  int64 \n",
      " 3   group       244126 non-null  int64 \n",
      "dtypes: int64(3), object(1)\n",
      "memory usage: 7.5+ MB\n"
     ]
    },
    {
     "data": {
      "text/plain": [
       "None"
      ]
     },
     "metadata": {},
     "output_type": "display_data"
    },
    {
     "data": {
      "text/plain": [
       "event         0\n",
       "user_id       0\n",
       "event_time    0\n",
       "group         0\n",
       "dtype: int64"
      ]
     },
     "metadata": {},
     "output_type": "display_data"
    }
   ],
   "source": [
    "# вызываем функцию\n",
    "info(data)"
   ]
  },
  {
   "cell_type": "code",
   "execution_count": 46,
   "metadata": {},
   "outputs": [],
   "source": [
    "# удаляем дубликаты \n",
    "data = data.drop_duplicates().reset_index(drop=True)"
   ]
  },
  {
   "cell_type": "code",
   "execution_count": 47,
   "metadata": {
    "scrolled": true
   },
   "outputs": [
    {
     "data": {
      "text/html": [
       "<div>\n",
       "<style scoped>\n",
       "    .dataframe tbody tr th:only-of-type {\n",
       "        vertical-align: middle;\n",
       "    }\n",
       "\n",
       "    .dataframe tbody tr th {\n",
       "        vertical-align: top;\n",
       "    }\n",
       "\n",
       "    .dataframe thead th {\n",
       "        text-align: right;\n",
       "    }\n",
       "</style>\n",
       "<table border=\"1\" class=\"dataframe\">\n",
       "  <thead>\n",
       "    <tr style=\"text-align: right;\">\n",
       "      <th></th>\n",
       "      <th>event</th>\n",
       "      <th>user_id</th>\n",
       "      <th>event_time</th>\n",
       "      <th>group</th>\n",
       "    </tr>\n",
       "  </thead>\n",
       "  <tbody>\n",
       "    <tr>\n",
       "      <th>0</th>\n",
       "      <td>MainScreenAppear</td>\n",
       "      <td>4575588528974610257</td>\n",
       "      <td>2019-07-25 04:43:36</td>\n",
       "      <td>246</td>\n",
       "    </tr>\n",
       "    <tr>\n",
       "      <th>1</th>\n",
       "      <td>MainScreenAppear</td>\n",
       "      <td>7416695313311560658</td>\n",
       "      <td>2019-07-25 11:11:42</td>\n",
       "      <td>246</td>\n",
       "    </tr>\n",
       "    <tr>\n",
       "      <th>2</th>\n",
       "      <td>PaymentScreenSuccessful</td>\n",
       "      <td>3518123091307005509</td>\n",
       "      <td>2019-07-25 11:28:47</td>\n",
       "      <td>248</td>\n",
       "    </tr>\n",
       "    <tr>\n",
       "      <th>3</th>\n",
       "      <td>CartScreenAppear</td>\n",
       "      <td>3518123091307005509</td>\n",
       "      <td>2019-07-25 11:28:47</td>\n",
       "      <td>248</td>\n",
       "    </tr>\n",
       "    <tr>\n",
       "      <th>4</th>\n",
       "      <td>PaymentScreenSuccessful</td>\n",
       "      <td>6217807653094995999</td>\n",
       "      <td>2019-07-25 11:48:42</td>\n",
       "      <td>248</td>\n",
       "    </tr>\n",
       "    <tr>\n",
       "      <th>...</th>\n",
       "      <td>...</td>\n",
       "      <td>...</td>\n",
       "      <td>...</td>\n",
       "      <td>...</td>\n",
       "    </tr>\n",
       "    <tr>\n",
       "      <th>243708</th>\n",
       "      <td>MainScreenAppear</td>\n",
       "      <td>4599628364049201812</td>\n",
       "      <td>2019-08-07 21:12:25</td>\n",
       "      <td>247</td>\n",
       "    </tr>\n",
       "    <tr>\n",
       "      <th>243709</th>\n",
       "      <td>MainScreenAppear</td>\n",
       "      <td>5849806612437486590</td>\n",
       "      <td>2019-08-07 21:13:59</td>\n",
       "      <td>246</td>\n",
       "    </tr>\n",
       "    <tr>\n",
       "      <th>243710</th>\n",
       "      <td>MainScreenAppear</td>\n",
       "      <td>5746969938801999050</td>\n",
       "      <td>2019-08-07 21:14:43</td>\n",
       "      <td>246</td>\n",
       "    </tr>\n",
       "    <tr>\n",
       "      <th>243711</th>\n",
       "      <td>MainScreenAppear</td>\n",
       "      <td>5746969938801999050</td>\n",
       "      <td>2019-08-07 21:14:58</td>\n",
       "      <td>246</td>\n",
       "    </tr>\n",
       "    <tr>\n",
       "      <th>243712</th>\n",
       "      <td>OffersScreenAppear</td>\n",
       "      <td>5746969938801999050</td>\n",
       "      <td>2019-08-07 21:15:17</td>\n",
       "      <td>246</td>\n",
       "    </tr>\n",
       "  </tbody>\n",
       "</table>\n",
       "<p>243713 rows × 4 columns</p>\n",
       "</div>"
      ],
      "text/plain": [
       "                          event              user_id          event_time  \\\n",
       "0              MainScreenAppear  4575588528974610257 2019-07-25 04:43:36   \n",
       "1              MainScreenAppear  7416695313311560658 2019-07-25 11:11:42   \n",
       "2       PaymentScreenSuccessful  3518123091307005509 2019-07-25 11:28:47   \n",
       "3              CartScreenAppear  3518123091307005509 2019-07-25 11:28:47   \n",
       "4       PaymentScreenSuccessful  6217807653094995999 2019-07-25 11:48:42   \n",
       "...                         ...                  ...                 ...   \n",
       "243708         MainScreenAppear  4599628364049201812 2019-08-07 21:12:25   \n",
       "243709         MainScreenAppear  5849806612437486590 2019-08-07 21:13:59   \n",
       "243710         MainScreenAppear  5746969938801999050 2019-08-07 21:14:43   \n",
       "243711         MainScreenAppear  5746969938801999050 2019-08-07 21:14:58   \n",
       "243712       OffersScreenAppear  5746969938801999050 2019-08-07 21:15:17   \n",
       "\n",
       "        group  \n",
       "0         246  \n",
       "1         246  \n",
       "2         248  \n",
       "3         248  \n",
       "4         248  \n",
       "...       ...  \n",
       "243708    247  \n",
       "243709    246  \n",
       "243710    246  \n",
       "243711    246  \n",
       "243712    246  \n",
       "\n",
       "[243713 rows x 4 columns]"
      ]
     },
     "execution_count": 47,
     "metadata": {},
     "output_type": "execute_result"
    }
   ],
   "source": [
    "# преобразуем данные о дате и времени\n",
    "data['event_time'] = pd.to_datetime(data['event_time'], unit='s') \n",
    "data"
   ]
  },
  {
   "cell_type": "code",
   "execution_count": 48,
   "metadata": {
    "scrolled": true
   },
   "outputs": [
    {
     "data": {
      "text/html": [
       "<div>\n",
       "<style scoped>\n",
       "    .dataframe tbody tr th:only-of-type {\n",
       "        vertical-align: middle;\n",
       "    }\n",
       "\n",
       "    .dataframe tbody tr th {\n",
       "        vertical-align: top;\n",
       "    }\n",
       "\n",
       "    .dataframe thead th {\n",
       "        text-align: right;\n",
       "    }\n",
       "</style>\n",
       "<table border=\"1\" class=\"dataframe\">\n",
       "  <thead>\n",
       "    <tr style=\"text-align: right;\">\n",
       "      <th></th>\n",
       "      <th>event</th>\n",
       "      <th>user_id</th>\n",
       "      <th>event_time</th>\n",
       "      <th>group</th>\n",
       "      <th>date</th>\n",
       "    </tr>\n",
       "  </thead>\n",
       "  <tbody>\n",
       "    <tr>\n",
       "      <th>0</th>\n",
       "      <td>MainScreenAppear</td>\n",
       "      <td>4575588528974610257</td>\n",
       "      <td>2019-07-25 04:43:36</td>\n",
       "      <td>246</td>\n",
       "      <td>2019-07-25</td>\n",
       "    </tr>\n",
       "    <tr>\n",
       "      <th>1</th>\n",
       "      <td>MainScreenAppear</td>\n",
       "      <td>7416695313311560658</td>\n",
       "      <td>2019-07-25 11:11:42</td>\n",
       "      <td>246</td>\n",
       "      <td>2019-07-25</td>\n",
       "    </tr>\n",
       "    <tr>\n",
       "      <th>2</th>\n",
       "      <td>PaymentScreenSuccessful</td>\n",
       "      <td>3518123091307005509</td>\n",
       "      <td>2019-07-25 11:28:47</td>\n",
       "      <td>248</td>\n",
       "      <td>2019-07-25</td>\n",
       "    </tr>\n",
       "    <tr>\n",
       "      <th>3</th>\n",
       "      <td>CartScreenAppear</td>\n",
       "      <td>3518123091307005509</td>\n",
       "      <td>2019-07-25 11:28:47</td>\n",
       "      <td>248</td>\n",
       "      <td>2019-07-25</td>\n",
       "    </tr>\n",
       "    <tr>\n",
       "      <th>4</th>\n",
       "      <td>PaymentScreenSuccessful</td>\n",
       "      <td>6217807653094995999</td>\n",
       "      <td>2019-07-25 11:48:42</td>\n",
       "      <td>248</td>\n",
       "      <td>2019-07-25</td>\n",
       "    </tr>\n",
       "    <tr>\n",
       "      <th>...</th>\n",
       "      <td>...</td>\n",
       "      <td>...</td>\n",
       "      <td>...</td>\n",
       "      <td>...</td>\n",
       "      <td>...</td>\n",
       "    </tr>\n",
       "    <tr>\n",
       "      <th>243708</th>\n",
       "      <td>MainScreenAppear</td>\n",
       "      <td>4599628364049201812</td>\n",
       "      <td>2019-08-07 21:12:25</td>\n",
       "      <td>247</td>\n",
       "      <td>2019-08-07</td>\n",
       "    </tr>\n",
       "    <tr>\n",
       "      <th>243709</th>\n",
       "      <td>MainScreenAppear</td>\n",
       "      <td>5849806612437486590</td>\n",
       "      <td>2019-08-07 21:13:59</td>\n",
       "      <td>246</td>\n",
       "      <td>2019-08-07</td>\n",
       "    </tr>\n",
       "    <tr>\n",
       "      <th>243710</th>\n",
       "      <td>MainScreenAppear</td>\n",
       "      <td>5746969938801999050</td>\n",
       "      <td>2019-08-07 21:14:43</td>\n",
       "      <td>246</td>\n",
       "      <td>2019-08-07</td>\n",
       "    </tr>\n",
       "    <tr>\n",
       "      <th>243711</th>\n",
       "      <td>MainScreenAppear</td>\n",
       "      <td>5746969938801999050</td>\n",
       "      <td>2019-08-07 21:14:58</td>\n",
       "      <td>246</td>\n",
       "      <td>2019-08-07</td>\n",
       "    </tr>\n",
       "    <tr>\n",
       "      <th>243712</th>\n",
       "      <td>OffersScreenAppear</td>\n",
       "      <td>5746969938801999050</td>\n",
       "      <td>2019-08-07 21:15:17</td>\n",
       "      <td>246</td>\n",
       "      <td>2019-08-07</td>\n",
       "    </tr>\n",
       "  </tbody>\n",
       "</table>\n",
       "<p>243713 rows × 5 columns</p>\n",
       "</div>"
      ],
      "text/plain": [
       "                          event              user_id          event_time  \\\n",
       "0              MainScreenAppear  4575588528974610257 2019-07-25 04:43:36   \n",
       "1              MainScreenAppear  7416695313311560658 2019-07-25 11:11:42   \n",
       "2       PaymentScreenSuccessful  3518123091307005509 2019-07-25 11:28:47   \n",
       "3              CartScreenAppear  3518123091307005509 2019-07-25 11:28:47   \n",
       "4       PaymentScreenSuccessful  6217807653094995999 2019-07-25 11:48:42   \n",
       "...                         ...                  ...                 ...   \n",
       "243708         MainScreenAppear  4599628364049201812 2019-08-07 21:12:25   \n",
       "243709         MainScreenAppear  5849806612437486590 2019-08-07 21:13:59   \n",
       "243710         MainScreenAppear  5746969938801999050 2019-08-07 21:14:43   \n",
       "243711         MainScreenAppear  5746969938801999050 2019-08-07 21:14:58   \n",
       "243712       OffersScreenAppear  5746969938801999050 2019-08-07 21:15:17   \n",
       "\n",
       "        group        date  \n",
       "0         246  2019-07-25  \n",
       "1         246  2019-07-25  \n",
       "2         248  2019-07-25  \n",
       "3         248  2019-07-25  \n",
       "4         248  2019-07-25  \n",
       "...       ...         ...  \n",
       "243708    247  2019-08-07  \n",
       "243709    246  2019-08-07  \n",
       "243710    246  2019-08-07  \n",
       "243711    246  2019-08-07  \n",
       "243712    246  2019-08-07  \n",
       "\n",
       "[243713 rows x 5 columns]"
      ]
     },
     "execution_count": 48,
     "metadata": {},
     "output_type": "execute_result"
    }
   ],
   "source": [
    "# добавим столбец с датой \n",
    "data['date'] = pd.to_datetime(data['event_time'], unit='s').dt.date\n",
    "data"
   ]
  },
  {
   "cell_type": "markdown",
   "metadata": {},
   "source": [
    "В датасете 5 колонок с информацией о событии, времени события, id пользователя и номером группы эксперимента. Столбец event_time мы преобразовали в формат datetime, а также добавили в датасет колонку только с датой события. В датасете 413 дубликатов, которые мы удалили. Пропусков в данных нет."
   ]
  },
  {
   "cell_type": "markdown",
   "metadata": {},
   "source": [
    "## Анализ данных"
   ]
  },
  {
   "cell_type": "markdown",
   "metadata": {},
   "source": [
    "### Количество событий в логе"
   ]
  },
  {
   "cell_type": "code",
   "execution_count": 49,
   "metadata": {},
   "outputs": [
    {
     "data": {
      "text/plain": [
       "243713"
      ]
     },
     "execution_count": 49,
     "metadata": {},
     "output_type": "execute_result"
    }
   ],
   "source": [
    "# считаем количество событий в логе\n",
    "len(data)"
   ]
  },
  {
   "cell_type": "markdown",
   "metadata": {},
   "source": [
    "### Количество пользователей в логе"
   ]
  },
  {
   "cell_type": "code",
   "execution_count": 50,
   "metadata": {},
   "outputs": [
    {
     "data": {
      "text/plain": [
       "7551"
      ]
     },
     "execution_count": 50,
     "metadata": {},
     "output_type": "execute_result"
    }
   ],
   "source": [
    "# считаем количество пользователей в логе\n",
    "data['user_id'].nunique()"
   ]
  },
  {
   "cell_type": "markdown",
   "metadata": {},
   "source": [
    "### Среднее количество событий на пользователя"
   ]
  },
  {
   "cell_type": "code",
   "execution_count": 51,
   "metadata": {},
   "outputs": [
    {
     "data": {
      "text/plain": [
       "count    7551.000000\n",
       "mean       32.275593\n",
       "std        65.154219\n",
       "min         1.000000\n",
       "25%         9.000000\n",
       "50%        20.000000\n",
       "75%        37.000000\n",
       "max      2307.000000\n",
       "Name: user_id, dtype: float64"
      ]
     },
     "execution_count": 51,
     "metadata": {},
     "output_type": "execute_result"
    }
   ],
   "source": [
    "data['user_id'].value_counts().describe()"
   ]
  },
  {
   "cell_type": "code",
   "execution_count": 52,
   "metadata": {},
   "outputs": [
    {
     "data": {
      "text/plain": [
       "32"
      ]
     },
     "execution_count": 52,
     "metadata": {},
     "output_type": "execute_result"
    }
   ],
   "source": [
    "# считаем среднее количество событий на пользователя\n",
    "round(data.shape[0] / data['user_id'].nunique())"
   ]
  },
  {
   "cell_type": "markdown",
   "metadata": {},
   "source": [
    "Количество событий в логе - 243 713. Количество уникальных пользователей в логе - 7 551. В среднем на одного пользователя приходится 32 события."
   ]
  },
  {
   "cell_type": "markdown",
   "metadata": {},
   "source": [
    "### Минимальные и максимальные даты исследуемого периода"
   ]
  },
  {
   "cell_type": "code",
   "execution_count": 53,
   "metadata": {},
   "outputs": [
    {
     "data": {
      "text/plain": [
       "datetime.date(2019, 8, 7)"
      ]
     },
     "execution_count": 53,
     "metadata": {},
     "output_type": "execute_result"
    }
   ],
   "source": [
    "# определяем максимальную и минимальную дату\n",
    "data['date'].max()"
   ]
  },
  {
   "cell_type": "code",
   "execution_count": 54,
   "metadata": {
    "scrolled": true
   },
   "outputs": [
    {
     "data": {
      "text/plain": [
       "datetime.date(2019, 7, 25)"
      ]
     },
     "execution_count": 54,
     "metadata": {},
     "output_type": "execute_result"
    }
   ],
   "source": [
    "# определяем минимальную дату\n",
    "data['date'].min()"
   ]
  },
  {
   "cell_type": "code",
   "execution_count": 55,
   "metadata": {
    "scrolled": true
   },
   "outputs": [
    {
     "data": {
      "image/png": "[encoded data removed]",
      "text/plain": [
       "<Figure size 576x432 with 1 Axes>"
      ]
     },
     "metadata": {
      "needs_background": "light"
     },
     "output_type": "display_data"
    }
   ],
   "source": [
    "# строим гистограмму по дате\n",
    "plt.figure (figsize=(8,6))\n",
    "data['event_time'].hist()\n",
    "plt.title('Распределение событий по времени')\n",
    "plt.xlabel('Дата события')\n",
    "plt.ylabel('Количество событий')\n",
    "plt.xticks(rotation=45)\n",
    "plt.show()"
   ]
  },
  {
   "cell_type": "code",
   "execution_count": 56,
   "metadata": {},
   "outputs": [
    {
     "data": {
      "image/png": "[encoded data removed]",
      "text/plain": [
       "<Figure size 5040x1296 with 1 Axes>"
      ]
     },
     "metadata": {
      "needs_background": "light"
     },
     "output_type": "display_data"
    }
   ],
   "source": [
    "# строим гистограмму по дате и часу \n",
    "plt.figure (figsize=(70,18))\n",
    "data['event_time'].dt.strftime('%Y-%m-%d %H').hist(bins=70)\n",
    "plt.title('Распределение событий по времени')\n",
    "plt.xlabel('Дата события')\n",
    "plt.ylabel('Количество событий')\n",
    "plt.xticks(rotation=90)\n",
    "plt.show()"
   ]
  },
  {
   "cell_type": "markdown",
   "metadata": {},
   "source": [
    "### Количество потерянных событий и пользователей после удаления старых данных"
   ]
  },
  {
   "cell_type": "markdown",
   "metadata": {},
   "source": [
    "### Актуальный период"
   ]
  },
  {
   "cell_type": "code",
   "execution_count": 57,
   "metadata": {},
   "outputs": [],
   "source": [
    "# определяем актуальный период с полными датами \n",
    "data_new = data[data['event_time'] >= datetime(2019, 8, 1)]"
   ]
  },
  {
   "cell_type": "code",
   "execution_count": 58,
   "metadata": {},
   "outputs": [
    {
     "name": "stdout",
     "output_type": "stream",
     "text": [
      "После удаления данных потеряли 1.2% количества событий\n"
     ]
    }
   ],
   "source": [
    "# считаем количество событий, которые мы потеряли после удаления части данных \n",
    "event_mean = 1-len(data_new['event']) / len(data['event'])\n",
    "print(f'После удаления данных потеряли {event_mean:.1%} количества событий') "
   ]
  },
  {
   "cell_type": "code",
   "execution_count": 59,
   "metadata": {
    "scrolled": true
   },
   "outputs": [
    {
     "name": "stdout",
     "output_type": "stream",
     "text": [
      "После удаления данных потеряли 0.2% количества пользователей\n"
     ]
    }
   ],
   "source": [
    "# считаем количество пользователней, которые мы потеряли после удаления части данных \n",
    "user_mean = 1-len(data_new['user_id'].unique()) / len(data['user_id'].unique())\n",
    "print(f'После удаления данных потеряли { user_mean:.1%} количества пользователей')"
   ]
  },
  {
   "cell_type": "markdown",
   "metadata": {},
   "source": [
    "Минимальная дата совершения события - 25 июля 2019, максимальная - 7 августа 2019. Но график распределения событий по времени демонстрирует, что данные за июль практически отсутствуют. Полными данными мы располагаем только с 1 августа, поэтому мы отсекли период с отсутствующими данными. Актуальный период: 1 - 7 августа. Отбросив старые данные, мы потеряли 1% от количества событий и 0.2% количества пользователей."
   ]
  },
  {
   "cell_type": "markdown",
   "metadata": {},
   "source": [
    "### Количество пользователей после актуализации периода"
   ]
  },
  {
   "cell_type": "code",
   "execution_count": 60,
   "metadata": {},
   "outputs": [
    {
     "data": {
      "text/html": [
       "<div>\n",
       "<style scoped>\n",
       "    .dataframe tbody tr th:only-of-type {\n",
       "        vertical-align: middle;\n",
       "    }\n",
       "\n",
       "    .dataframe tbody tr th {\n",
       "        vertical-align: top;\n",
       "    }\n",
       "\n",
       "    .dataframe thead th {\n",
       "        text-align: right;\n",
       "    }\n",
       "</style>\n",
       "<table border=\"1\" class=\"dataframe\">\n",
       "  <thead>\n",
       "    <tr style=\"text-align: right;\">\n",
       "      <th></th>\n",
       "      <th>user_id</th>\n",
       "    </tr>\n",
       "    <tr>\n",
       "      <th>group</th>\n",
       "      <th></th>\n",
       "    </tr>\n",
       "  </thead>\n",
       "  <tbody>\n",
       "    <tr>\n",
       "      <th>246</th>\n",
       "      <td>2484</td>\n",
       "    </tr>\n",
       "    <tr>\n",
       "      <th>247</th>\n",
       "      <td>2513</td>\n",
       "    </tr>\n",
       "    <tr>\n",
       "      <th>248</th>\n",
       "      <td>2537</td>\n",
       "    </tr>\n",
       "  </tbody>\n",
       "</table>\n",
       "</div>"
      ],
      "text/plain": [
       "       user_id\n",
       "group         \n",
       "246       2484\n",
       "247       2513\n",
       "248       2537"
      ]
     },
     "execution_count": 60,
     "metadata": {},
     "output_type": "execute_result"
    }
   ],
   "source": [
    "# считаем количество пользователей в каждой группе \n",
    "data_new.groupby('group').agg({'user_id':'nunique'})\n"
   ]
  },
  {
   "cell_type": "code",
   "execution_count": 61,
   "metadata": {},
   "outputs": [
    {
     "data": {
      "text/plain": [
       "array([], dtype=int64)"
      ]
     },
     "execution_count": 61,
     "metadata": {},
     "output_type": "execute_result"
    }
   ],
   "source": [
    "# проверяем, есть ли значения, которые встречаются в обеих контрольных группах\n",
    "inter = np.intersect1d(data_new.query('group == \"246\"')['user_id'].unique(), data_new.query('group == \"247\"')['user_id'].unique())\n",
    "inter "
   ]
  },
  {
   "cell_type": "code",
   "execution_count": 62,
   "metadata": {},
   "outputs": [
    {
     "data": {
      "text/plain": [
       "array([], dtype=int64)"
      ]
     },
     "execution_count": 62,
     "metadata": {},
     "output_type": "execute_result"
    }
   ],
   "source": [
    "# проверяем, есть ли значения, которые встречаются в первой контрольной группе и в эксперементальной\n",
    "inter = np.intersect1d(data_new.query('group == \"246\"')['user_id'].unique(), data_new.query('group == \"248\"')['user_id'].unique())\n",
    "inter"
   ]
  },
  {
   "cell_type": "code",
   "execution_count": 63,
   "metadata": {},
   "outputs": [
    {
     "data": {
      "text/plain": [
       "array([], dtype=int64)"
      ]
     },
     "execution_count": 63,
     "metadata": {},
     "output_type": "execute_result"
    }
   ],
   "source": [
    "#проверяем, есть ли значения, которые встречаются во второй контрольной группе и в эксперементальной\n",
    "inter = np.intersect1d(data_new.query('group == \"247\"')['user_id'].unique(), data_new.query('group == \"248\"')['user_id'].unique())\n",
    "inter"
   ]
  },
  {
   "cell_type": "markdown",
   "metadata": {},
   "source": [
    "Проанализировали количество пользователей в каждой группе после удаления части данных: в каждой группе приблизительно 2500 пользователей. Посетителей, которые могли одновременно попасть в обе группы исследования, не обнаружили. Данные готовы к проведнию теста."
   ]
  },
  {
   "cell_type": "markdown",
   "metadata": {},
   "source": [
    "## Воронка событий"
   ]
  },
  {
   "cell_type": "markdown",
   "metadata": {},
   "source": [
    "### Частота событий в логах\n"
   ]
  },
  {
   "cell_type": "code",
   "execution_count": 64,
   "metadata": {
    "scrolled": true
   },
   "outputs": [
    {
     "data": {
      "text/html": [
       "<div>\n",
       "<style scoped>\n",
       "    .dataframe tbody tr th:only-of-type {\n",
       "        vertical-align: middle;\n",
       "    }\n",
       "\n",
       "    .dataframe tbody tr th {\n",
       "        vertical-align: top;\n",
       "    }\n",
       "\n",
       "    .dataframe thead th {\n",
       "        text-align: right;\n",
       "    }\n",
       "</style>\n",
       "<table border=\"1\" class=\"dataframe\">\n",
       "  <thead>\n",
       "    <tr style=\"text-align: right;\">\n",
       "      <th></th>\n",
       "      <th>index</th>\n",
       "      <th>event</th>\n",
       "    </tr>\n",
       "  </thead>\n",
       "  <tbody>\n",
       "    <tr>\n",
       "      <th>0</th>\n",
       "      <td>MainScreenAppear</td>\n",
       "      <td>117328</td>\n",
       "    </tr>\n",
       "    <tr>\n",
       "      <th>1</th>\n",
       "      <td>OffersScreenAppear</td>\n",
       "      <td>46333</td>\n",
       "    </tr>\n",
       "    <tr>\n",
       "      <th>2</th>\n",
       "      <td>CartScreenAppear</td>\n",
       "      <td>42303</td>\n",
       "    </tr>\n",
       "    <tr>\n",
       "      <th>3</th>\n",
       "      <td>PaymentScreenSuccessful</td>\n",
       "      <td>33918</td>\n",
       "    </tr>\n",
       "    <tr>\n",
       "      <th>4</th>\n",
       "      <td>Tutorial</td>\n",
       "      <td>1005</td>\n",
       "    </tr>\n",
       "  </tbody>\n",
       "</table>\n",
       "</div>"
      ],
      "text/plain": [
       "                     index   event\n",
       "0         MainScreenAppear  117328\n",
       "1       OffersScreenAppear   46333\n",
       "2         CartScreenAppear   42303\n",
       "3  PaymentScreenSuccessful   33918\n",
       "4                 Tutorial    1005"
      ]
     },
     "execution_count": 64,
     "metadata": {},
     "output_type": "execute_result"
    }
   ],
   "source": [
    "# определяем, какие события есть в логах и их частоту \n",
    "event = data_new['event'].value_counts().reset_index()\n",
    "event"
   ]
  },
  {
   "cell_type": "markdown",
   "metadata": {},
   "source": [
    "### Количество и доля пользователей, совершивших действие"
   ]
  },
  {
   "cell_type": "code",
   "execution_count": 65,
   "metadata": {},
   "outputs": [
    {
     "data": {
      "text/html": [
       "<div>\n",
       "<style scoped>\n",
       "    .dataframe tbody tr th:only-of-type {\n",
       "        vertical-align: middle;\n",
       "    }\n",
       "\n",
       "    .dataframe tbody tr th {\n",
       "        vertical-align: top;\n",
       "    }\n",
       "\n",
       "    .dataframe thead th {\n",
       "        text-align: right;\n",
       "    }\n",
       "</style>\n",
       "<table border=\"1\" class=\"dataframe\">\n",
       "  <thead>\n",
       "    <tr style=\"text-align: right;\">\n",
       "      <th></th>\n",
       "      <th>event</th>\n",
       "      <th>user_count</th>\n",
       "      <th>conversion</th>\n",
       "    </tr>\n",
       "  </thead>\n",
       "  <tbody>\n",
       "    <tr>\n",
       "      <th>1</th>\n",
       "      <td>MainScreenAppear</td>\n",
       "      <td>7419</td>\n",
       "      <td>98.25</td>\n",
       "    </tr>\n",
       "    <tr>\n",
       "      <th>2</th>\n",
       "      <td>OffersScreenAppear</td>\n",
       "      <td>4593</td>\n",
       "      <td>60.83</td>\n",
       "    </tr>\n",
       "    <tr>\n",
       "      <th>0</th>\n",
       "      <td>CartScreenAppear</td>\n",
       "      <td>3734</td>\n",
       "      <td>49.45</td>\n",
       "    </tr>\n",
       "    <tr>\n",
       "      <th>3</th>\n",
       "      <td>PaymentScreenSuccessful</td>\n",
       "      <td>3539</td>\n",
       "      <td>46.87</td>\n",
       "    </tr>\n",
       "    <tr>\n",
       "      <th>4</th>\n",
       "      <td>Tutorial</td>\n",
       "      <td>840</td>\n",
       "      <td>11.12</td>\n",
       "    </tr>\n",
       "  </tbody>\n",
       "</table>\n",
       "</div>"
      ],
      "text/plain": [
       "                     event  user_count  conversion\n",
       "1         MainScreenAppear        7419       98.25\n",
       "2       OffersScreenAppear        4593       60.83\n",
       "0         CartScreenAppear        3734       49.45\n",
       "3  PaymentScreenSuccessful        3539       46.87\n",
       "4                 Tutorial         840       11.12"
      ]
     },
     "execution_count": 65,
     "metadata": {},
     "output_type": "execute_result"
    }
   ],
   "source": [
    "# считаем колчество пользователей, совершивших действие \n",
    "user_count = data_new.groupby(['event']).agg({'user_id' : ['nunique']}).reset_index()\n",
    "user_count.columns = ['event', 'user_count']\n",
    "user_count.sort_values(by='user_count', ascending = False)\n",
    "\n",
    "# считаем долю пользователей, совершивших действие \n",
    "user_count['conversion'] = (user_count['user_count']/7551) * 100\n",
    "user_count = user_count.sort_values(by='conversion', ascending= False)\n",
    "user_count.round(2)"
   ]
  },
  {
   "cell_type": "markdown",
   "metadata": {},
   "source": [
    "Посетители мобильного приложения до оплаты товара проходят такие шаги: \n",
    "1. Просмотр главной страницы (MainScreenAppear)\n",
    "2. Просмотр карточки товара (OffersScreenAppear)\n",
    "3. Переход в корзину/оформление товара (CartScreenAppear)\n",
    "4. Оплата товара (PaymentScreenSuccessful)\n",
    "5. Туториал/страница с ответами на часто задаваемые вопросы (Tutorial).\n",
    "\n",
    "При расчете воронки не будем рассматривать шаг Туториал, т.к. он не относится непосредственно к продажам и является необязательным. Кроме того, это самое малочисленное явление, и может показаться, что оно должно находиться внизу воронки, но как правило, инструкция по работе с приложением происходит первым шагом. Но часто пользователи игнорируют этот этап, прожолжая работать с приложением интуитивно. Поэтому исключим Tutorial из анализа конверсии."
   ]
  },
  {
   "cell_type": "markdown",
   "metadata": {},
   "source": [
    "### Воронка событий"
   ]
  },
  {
   "cell_type": "code",
   "execution_count": 66,
   "metadata": {
    "scrolled": true
   },
   "outputs": [],
   "source": [
    "# убираем из данных Tutorial\n",
    "user_count = user_count[:4]"
   ]
  },
  {
   "cell_type": "code",
   "execution_count": 67,
   "metadata": {},
   "outputs": [
    {
     "data": {
      "application/vnd.plotly.v1+json": {
       "config": {
        "plotlyServerURL": "https://plot.ly"
       },
       "data": [
        {
         "type": "funnel",
         "x": [
          7419,
          4593,
          3734,
          3539
         ],
         "y": [
          "MainScreenAppear",
          "OffersScreenAppear",
          "CartScreenAppear",
          "PaymentScreenSuccessful"
         ]
        }
       ],
       "layout": {
        "template": {
         "data": {
          "bar": [
           {
            "error_x": {
             "color": "#2a3f5f"
            },
            "error_y": {
             "color": "#2a3f5f"
            },
            "marker": {
             "line": {
              "color": "#E5ECF6",
              "width": 0.5
             },
             "pattern": {
              "fillmode": "overlay",
              "size": 10,
              "solidity": 0.2
             }
            },
            "type": "bar"
           }
          ],
          "barpolar": [
           {
            "marker": {
             "line": {
              "color": "#E5ECF6",
              "width": 0.5
             },
             "pattern": {
              "fillmode": "overlay",
              "size": 10,
              "solidity": 0.2
             }
            },
            "type": "barpolar"
           }
          ],
          "carpet": [
           {
            "aaxis": {
             "endlinecolor": "#2a3f5f",
             "gridcolor": "white",
             "linecolor": "white",
             "minorgridcolor": "white",
             "startlinecolor": "#2a3f5f"
            },
            "baxis": {
             "endlinecolor": "#2a3f5f",
             "gridcolor": "white",
             "linecolor": "white",
             "minorgridcolor": "white",
             "startlinecolor": "#2a3f5f"
            },
            "type": "carpet"
           }
          ],
          "choropleth": [
           {
            "colorbar": {
             "outlinewidth": 0,
             "ticks": ""
            },
            "type": "choropleth"
           }
          ],
          "contour": [
           {
            "colorbar": {
             "outlinewidth": 0,
             "ticks": ""
            },
            "colorscale": [
             [
              0,
              "#0d0887"
             ],
             [
              0.1111111111111111,
              "#46039f"
             ],
             [
              0.2222222222222222,
              "#7201a8"
             ],
             [
              0.3333333333333333,
              "#9c179e"
             ],
             [
              0.4444444444444444,
              "#bd3786"
             ],
             [
              0.5555555555555556,
              "#d8576b"
             ],
             [
              0.6666666666666666,
              "#ed7953"
             ],
             [
              0.7777777777777778,
              "#fb9f3a"
             ],
             [
              0.8888888888888888,
              "#fdca26"
             ],
             [
              1,
              "#f0f921"
             ]
            ],
            "type": "contour"
           }
          ],
          "contourcarpet": [
           {
            "colorbar": {
             "outlinewidth": 0,
             "ticks": ""
            },
            "type": "contourcarpet"
           }
          ],
          "heatmap": [
           {
            "colorbar": {
             "outlinewidth": 0,
             "ticks": ""
            },
            "colorscale": [
             [
              0,
              "#0d0887"
             ],
             [
              0.1111111111111111,
              "#46039f"
             ],
             [
              0.2222222222222222,
              "#7201a8"
             ],
             [
              0.3333333333333333,
              "#9c179e"
             ],
             [
              0.4444444444444444,
              "#bd3786"
             ],
             [
              0.5555555555555556,
              "#d8576b"
             ],
             [
              0.6666666666666666,
              "#ed7953"
             ],
             [
              0.7777777777777778,
              "#fb9f3a"
             ],
             [
              0.8888888888888888,
              "#fdca26"
             ],
             [
              1,
              "#f0f921"
             ]
            ],
            "type": "heatmap"
           }
          ],
          "heatmapgl": [
           {
            "colorbar": {
             "outlinewidth": 0,
             "ticks": ""
            },
            "colorscale": [
             [
              0,
              "#0d0887"
             ],
             [
              0.1111111111111111,
              "#46039f"
             ],
             [
              0.2222222222222222,
              "#7201a8"
             ],
             [
              0.3333333333333333,
              "#9c179e"
             ],
             [
              0.4444444444444444,
              "#bd3786"
             ],
             [
              0.5555555555555556,
              "#d8576b"
             ],
             [
              0.6666666666666666,
              "#ed7953"
             ],
             [
              0.7777777777777778,
              "#fb9f3a"
             ],
             [
              0.8888888888888888,
              "#fdca26"
             ],
             [
              1,
              "#f0f921"
             ]
            ],
            "type": "heatmapgl"
           }
          ],
          "histogram": [
           {
            "marker": {
             "pattern": {
              "fillmode": "overlay",
              "size": 10,
              "solidity": 0.2
             }
            },
            "type": "histogram"
           }
          ],
          "histogram2d": [
           {
            "colorbar": {
             "outlinewidth": 0,
             "ticks": ""
            },
            "colorscale": [
             [
              0,
              "#0d0887"
             ],
             [
              0.1111111111111111,
              "#46039f"
             ],
             [
              0.2222222222222222,
              "#7201a8"
             ],
             [
              0.3333333333333333,
              "#9c179e"
             ],
             [
              0.4444444444444444,
              "#bd3786"
             ],
             [
              0.5555555555555556,
              "#d8576b"
             ],
             [
              0.6666666666666666,
              "#ed7953"
             ],
             [
              0.7777777777777778,
              "#fb9f3a"
             ],
             [
              0.8888888888888888,
              "#fdca26"
             ],
             [
              1,
              "#f0f921"
             ]
            ],
            "type": "histogram2d"
           }
          ],
          "histogram2dcontour": [
           {
            "colorbar": {
             "outlinewidth": 0,
             "ticks": ""
            },
            "colorscale": [
             [
              0,
              "#0d0887"
             ],
             [
              0.1111111111111111,
              "#46039f"
             ],
             [
              0.2222222222222222,
              "#7201a8"
             ],
             [
              0.3333333333333333,
              "#9c179e"
             ],
             [
              0.4444444444444444,
              "#bd3786"
             ],
             [
              0.5555555555555556,
              "#d8576b"
             ],
             [
              0.6666666666666666,
              "#ed7953"
             ],
             [
              0.7777777777777778,
              "#fb9f3a"
             ],
             [
              0.8888888888888888,
              "#fdca26"
             ],
             [
              1,
              "#f0f921"
             ]
            ],
            "type": "histogram2dcontour"
           }
          ],
          "mesh3d": [
           {
            "colorbar": {
             "outlinewidth": 0,
             "ticks": ""
            },
            "type": "mesh3d"
           }
          ],
          "parcoords": [
           {
            "line": {
             "colorbar": {
              "outlinewidth": 0,
              "ticks": ""
             }
            },
            "type": "parcoords"
           }
          ],
          "pie": [
           {
            "automargin": true,
            "type": "pie"
           }
          ],
          "scatter": [
           {
            "marker": {
             "colorbar": {
              "outlinewidth": 0,
              "ticks": ""
             }
            },
            "type": "scatter"
           }
          ],
          "scatter3d": [
           {
            "line": {
             "colorbar": {
              "outlinewidth": 0,
              "ticks": ""
             }
            },
            "marker": {
             "colorbar": {
              "outlinewidth": 0,
              "ticks": ""
             }
            },
            "type": "scatter3d"
           }
          ],
          "scattercarpet": [
           {
            "marker": {
             "colorbar": {
              "outlinewidth": 0,
              "ticks": ""
             }
            },
            "type": "scattercarpet"
           }
          ],
          "scattergeo": [
           {
            "marker": {
             "colorbar": {
              "outlinewidth": 0,
              "ticks": ""
             }
            },
            "type": "scattergeo"
           }
          ],
          "scattergl": [
           {
            "marker": {
             "colorbar": {
              "outlinewidth": 0,
              "ticks": ""
             }
            },
            "type": "scattergl"
           }
          ],
          "scattermapbox": [
           {
            "marker": {
             "colorbar": {
              "outlinewidth": 0,
              "ticks": ""
             }
            },
            "type": "scattermapbox"
           }
          ],
          "scatterpolar": [
           {
            "marker": {
             "colorbar": {
              "outlinewidth": 0,
              "ticks": ""
             }
            },
            "type": "scatterpolar"
           }
          ],
          "scatterpolargl": [
           {
            "marker": {
             "colorbar": {
              "outlinewidth": 0,
              "ticks": ""
             }
            },
            "type": "scatterpolargl"
           }
          ],
          "scatterternary": [
           {
            "marker": {
             "colorbar": {
              "outlinewidth": 0,
              "ticks": ""
             }
            },
            "type": "scatterternary"
           }
          ],
          "surface": [
           {
            "colorbar": {
             "outlinewidth": 0,
             "ticks": ""
            },
            "colorscale": [
             [
              0,
              "#0d0887"
             ],
             [
              0.1111111111111111,
              "#46039f"
             ],
             [
              0.2222222222222222,
              "#7201a8"
             ],
             [
              0.3333333333333333,
              "#9c179e"
             ],
             [
              0.4444444444444444,
              "#bd3786"
             ],
             [
              0.5555555555555556,
              "#d8576b"
             ],
             [
              0.6666666666666666,
              "#ed7953"
             ],
             [
              0.7777777777777778,
              "#fb9f3a"
             ],
             [
              0.8888888888888888,
              "#fdca26"
             ],
             [
              1,
              "#f0f921"
             ]
            ],
            "type": "surface"
           }
          ],
          "table": [
           {
            "cells": {
             "fill": {
              "color": "#EBF0F8"
             },
             "line": {
              "color": "white"
             }
            },
            "header": {
             "fill": {
              "color": "#C8D4E3"
             },
             "line": {
              "color": "white"
             }
            },
            "type": "table"
           }
          ]
         },
         "layout": {
          "annotationdefaults": {
           "arrowcolor": "#2a3f5f",
           "arrowhead": 0,
           "arrowwidth": 1
          },
          "autotypenumbers": "strict",
          "coloraxis": {
           "colorbar": {
            "outlinewidth": 0,
            "ticks": ""
           }
          },
          "colorscale": {
           "diverging": [
            [
             0,
             "#8e0152"
            ],
            [
             0.1,
             "#c51b7d"
            ],
            [
             0.2,
             "#de77ae"
            ],
            [
             0.3,
             "#f1b6da"
            ],
            [
             0.4,
             "#fde0ef"
            ],
            [
             0.5,
             "#f7f7f7"
            ],
            [
             0.6,
             "#e6f5d0"
            ],
            [
             0.7,
             "#b8e186"
            ],
            [
             0.8,
             "#7fbc41"
            ],
            [
             0.9,
             "#4d9221"
            ],
            [
             1,
             "#276419"
            ]
           ],
           "sequential": [
            [
             0,
             "#0d0887"
            ],
            [
             0.1111111111111111,
             "#46039f"
            ],
            [
             0.2222222222222222,
             "#7201a8"
            ],
            [
             0.3333333333333333,
             "#9c179e"
            ],
            [
             0.4444444444444444,
             "#bd3786"
            ],
            [
             0.5555555555555556,
             "#d8576b"
            ],
            [
             0.6666666666666666,
             "#ed7953"
            ],
            [
             0.7777777777777778,
             "#fb9f3a"
            ],
            [
             0.8888888888888888,
             "#fdca26"
            ],
            [
             1,
             "#f0f921"
            ]
           ],
           "sequentialminus": [
            [
             0,
             "#0d0887"
            ],
            [
             0.1111111111111111,
             "#46039f"
            ],
            [
             0.2222222222222222,
             "#7201a8"
            ],
            [
             0.3333333333333333,
             "#9c179e"
            ],
            [
             0.4444444444444444,
             "#bd3786"
            ],
            [
             0.5555555555555556,
             "#d8576b"
            ],
            [
             0.6666666666666666,
             "#ed7953"
            ],
            [
             0.7777777777777778,
             "#fb9f3a"
            ],
            [
             0.8888888888888888,
             "#fdca26"
            ],
            [
             1,
             "#f0f921"
            ]
           ]
          },
          "colorway": [
           "#636efa",
           "#EF553B",
           "#00cc96",
           "#ab63fa",
           "#FFA15A",
           "#19d3f3",
           "#FF6692",
           "#B6E880",
           "#FF97FF",
           "#FECB52"
          ],
          "font": {
           "color": "#2a3f5f"
          },
          "geo": {
           "bgcolor": "white",
           "lakecolor": "white",
           "landcolor": "#E5ECF6",
           "showlakes": true,
           "showland": true,
           "subunitcolor": "white"
          },
          "hoverlabel": {
           "align": "left"
          },
          "hovermode": "closest",
          "mapbox": {
           "style": "light"
          },
          "paper_bgcolor": "white",
          "plot_bgcolor": "#E5ECF6",
          "polar": {
           "angularaxis": {
            "gridcolor": "white",
            "linecolor": "white",
            "ticks": ""
           },
           "bgcolor": "#E5ECF6",
           "radialaxis": {
            "gridcolor": "white",
            "linecolor": "white",
            "ticks": ""
           }
          },
          "scene": {
           "xaxis": {
            "backgroundcolor": "#E5ECF6",
            "gridcolor": "white",
            "gridwidth": 2,
            "linecolor": "white",
            "showbackground": true,
            "ticks": "",
            "zerolinecolor": "white"
           },
           "yaxis": {
            "backgroundcolor": "#E5ECF6",
            "gridcolor": "white",
            "gridwidth": 2,
            "linecolor": "white",
            "showbackground": true,
            "ticks": "",
            "zerolinecolor": "white"
           },
           "zaxis": {
            "backgroundcolor": "#E5ECF6",
            "gridcolor": "white",
            "gridwidth": 2,
            "linecolor": "white",
            "showbackground": true,
            "ticks": "",
            "zerolinecolor": "white"
           }
          },
          "shapedefaults": {
           "line": {
            "color": "#2a3f5f"
           }
          },
          "ternary": {
           "aaxis": {
            "gridcolor": "white",
            "linecolor": "white",
            "ticks": ""
           },
           "baxis": {
            "gridcolor": "white",
            "linecolor": "white",
            "ticks": ""
           },
           "bgcolor": "#E5ECF6",
           "caxis": {
            "gridcolor": "white",
            "linecolor": "white",
            "ticks": ""
           }
          },
          "title": {
           "x": 0.05
          },
          "xaxis": {
           "automargin": true,
           "gridcolor": "white",
           "linecolor": "white",
           "ticks": "",
           "title": {
            "standoff": 15
           },
           "zerolinecolor": "white",
           "zerolinewidth": 2
          },
          "yaxis": {
           "automargin": true,
           "gridcolor": "white",
           "linecolor": "white",
           "ticks": "",
           "title": {
            "standoff": 15
           },
           "zerolinecolor": "white",
           "zerolinewidth": 2
          }
         }
        },
        "title": {
         "text": "Воронка событий"
        }
       }
      },
      "text/html": [
       "<div>                            <div id=\"96342d40-1510-499d-ac8c-1e33f42ee077\" class=\"plotly-graph-div\" style=\"height:525px; width:100%;\"></div>            <script type=\"text/javascript\">                require([\"plotly\"], function(Plotly) {                    window.PLOTLYENV=window.PLOTLYENV || {};                                    if (document.getElementById(\"96342d40-1510-499d-ac8c-1e33f42ee077\")) {                    Plotly.newPlot(                        \"96342d40-1510-499d-ac8c-1e33f42ee077\",                        [{\"x\":[7419,4593,3734,3539],\"y\":[\"MainScreenAppear\",\"OffersScreenAppear\",\"CartScreenAppear\",\"PaymentScreenSuccessful\"],\"type\":\"funnel\"}],                        {\"template\":{\"data\":{\"bar\":[{\"error_x\":{\"color\":\"#2a3f5f\"},\"error_y\":{\"color\":\"#2a3f5f\"},\"marker\":{\"line\":{\"color\":\"#E5ECF6\",\"width\":0.5},\"pattern\":{\"fillmode\":\"overlay\",\"size\":10,\"solidity\":0.2}},\"type\":\"bar\"}],\"barpolar\":[{\"marker\":{\"line\":{\"color\":\"#E5ECF6\",\"width\":0.5},\"pattern\":{\"fillmode\":\"overlay\",\"size\":10,\"solidity\":0.2}},\"type\":\"barpolar\"}],\"carpet\":[{\"aaxis\":{\"endlinecolor\":\"#2a3f5f\",\"gridcolor\":\"white\",\"linecolor\":\"white\",\"minorgridcolor\":\"white\",\"startlinecolor\":\"#2a3f5f\"},\"baxis\":{\"endlinecolor\":\"#2a3f5f\",\"gridcolor\":\"white\",\"linecolor\":\"white\",\"minorgridcolor\":\"white\",\"startlinecolor\":\"#2a3f5f\"},\"type\":\"carpet\"}],\"choropleth\":[{\"colorbar\":{\"outlinewidth\":0,\"ticks\":\"\"},\"type\":\"choropleth\"}],\"contour\":[{\"colorbar\":{\"outlinewidth\":0,\"ticks\":\"\"},\"colorscale\":[[0.0,\"#0d0887\"],[0.1111111111111111,\"#46039f\"],[0.2222222222222222,\"#7201a8\"],[0.3333333333333333,\"#9c179e\"],[0.4444444444444444,\"#bd3786\"],[0.5555555555555556,\"#d8576b\"],[0.6666666666666666,\"#ed7953\"],[0.7777777777777778,\"#fb9f3a\"],[0.8888888888888888,\"#fdca26\"],[1.0,\"#f0f921\"]],\"type\":\"contour\"}],\"contourcarpet\":[{\"colorbar\":{\"outlinewidth\":0,\"ticks\":\"\"},\"type\":\"contourcarpet\"}],\"heatmap\":[{\"colorbar\":{\"outlinewidth\":0,\"ticks\":\"\"},\"colorscale\":[[0.0,\"#0d0887\"],[0.1111111111111111,\"#46039f\"],[0.2222222222222222,\"#7201a8\"],[0.3333333333333333,\"#9c179e\"],[0.4444444444444444,\"#bd3786\"],[0.5555555555555556,\"#d8576b\"],[0.6666666666666666,\"#ed7953\"],[0.7777777777777778,\"#fb9f3a\"],[0.8888888888888888,\"#fdca26\"],[1.0,\"#f0f921\"]],\"type\":\"heatmap\"}],\"heatmapgl\":[{\"colorbar\":{\"outlinewidth\":0,\"ticks\":\"\"},\"colorscale\":[[0.0,\"#0d0887\"],[0.1111111111111111,\"#46039f\"],[0.2222222222222222,\"#7201a8\"],[0.3333333333333333,\"#9c179e\"],[0.4444444444444444,\"#bd3786\"],[0.5555555555555556,\"#d8576b\"],[0.6666666666666666,\"#ed7953\"],[0.7777777777777778,\"#fb9f3a\"],[0.8888888888888888,\"#fdca26\"],[1.0,\"#f0f921\"]],\"type\":\"heatmapgl\"}],\"histogram\":[{\"marker\":{\"pattern\":{\"fillmode\":\"overlay\",\"size\":10,\"solidity\":0.2}},\"type\":\"histogram\"}],\"histogram2d\":[{\"colorbar\":{\"outlinewidth\":0,\"ticks\":\"\"},\"colorscale\":[[0.0,\"#0d0887\"],[0.1111111111111111,\"#46039f\"],[0.2222222222222222,\"#7201a8\"],[0.3333333333333333,\"#9c179e\"],[0.4444444444444444,\"#bd3786\"],[0.5555555555555556,\"#d8576b\"],[0.6666666666666666,\"#ed7953\"],[0.7777777777777778,\"#fb9f3a\"],[0.8888888888888888,\"#fdca26\"],[1.0,\"#f0f921\"]],\"type\":\"histogram2d\"}],\"histogram2dcontour\":[{\"colorbar\":{\"outlinewidth\":0,\"ticks\":\"\"},\"colorscale\":[[0.0,\"#0d0887\"],[0.1111111111111111,\"#46039f\"],[0.2222222222222222,\"#7201a8\"],[0.3333333333333333,\"#9c179e\"],[0.4444444444444444,\"#bd3786\"],[0.5555555555555556,\"#d8576b\"],[0.6666666666666666,\"#ed7953\"],[0.7777777777777778,\"#fb9f3a\"],[0.8888888888888888,\"#fdca26\"],[1.0,\"#f0f921\"]],\"type\":\"histogram2dcontour\"}],\"mesh3d\":[{\"colorbar\":{\"outlinewidth\":0,\"ticks\":\"\"},\"type\":\"mesh3d\"}],\"parcoords\":[{\"line\":{\"colorbar\":{\"outlinewidth\":0,\"ticks\":\"\"}},\"type\":\"parcoords\"}],\"pie\":[{\"automargin\":true,\"type\":\"pie\"}],\"scatter\":[{\"marker\":{\"colorbar\":{\"outlinewidth\":0,\"ticks\":\"\"}},\"type\":\"scatter\"}],\"scatter3d\":[{\"line\":{\"colorbar\":{\"outlinewidth\":0,\"ticks\":\"\"}},\"marker\":{\"colorbar\":{\"outlinewidth\":0,\"ticks\":\"\"}},\"type\":\"scatter3d\"}],\"scattercarpet\":[{\"marker\":{\"colorbar\":{\"outlinewidth\":0,\"ticks\":\"\"}},\"type\":\"scattercarpet\"}],\"scattergeo\":[{\"marker\":{\"colorbar\":{\"outlinewidth\":0,\"ticks\":\"\"}},\"type\":\"scattergeo\"}],\"scattergl\":[{\"marker\":{\"colorbar\":{\"outlinewidth\":0,\"ticks\":\"\"}},\"type\":\"scattergl\"}],\"scattermapbox\":[{\"marker\":{\"colorbar\":{\"outlinewidth\":0,\"ticks\":\"\"}},\"type\":\"scattermapbox\"}],\"scatterpolar\":[{\"marker\":{\"colorbar\":{\"outlinewidth\":0,\"ticks\":\"\"}},\"type\":\"scatterpolar\"}],\"scatterpolargl\":[{\"marker\":{\"colorbar\":{\"outlinewidth\":0,\"ticks\":\"\"}},\"type\":\"scatterpolargl\"}],\"scatterternary\":[{\"marker\":{\"colorbar\":{\"outlinewidth\":0,\"ticks\":\"\"}},\"type\":\"scatterternary\"}],\"surface\":[{\"colorbar\":{\"outlinewidth\":0,\"ticks\":\"\"},\"colorscale\":[[0.0,\"#0d0887\"],[0.1111111111111111,\"#46039f\"],[0.2222222222222222,\"#7201a8\"],[0.3333333333333333,\"#9c179e\"],[0.4444444444444444,\"#bd3786\"],[0.5555555555555556,\"#d8576b\"],[0.6666666666666666,\"#ed7953\"],[0.7777777777777778,\"#fb9f3a\"],[0.8888888888888888,\"#fdca26\"],[1.0,\"#f0f921\"]],\"type\":\"surface\"}],\"table\":[{\"cells\":{\"fill\":{\"color\":\"#EBF0F8\"},\"line\":{\"color\":\"white\"}},\"header\":{\"fill\":{\"color\":\"#C8D4E3\"},\"line\":{\"color\":\"white\"}},\"type\":\"table\"}]},\"layout\":{\"annotationdefaults\":{\"arrowcolor\":\"#2a3f5f\",\"arrowhead\":0,\"arrowwidth\":1},\"autotypenumbers\":\"strict\",\"coloraxis\":{\"colorbar\":{\"outlinewidth\":0,\"ticks\":\"\"}},\"colorscale\":{\"diverging\":[[0,\"#8e0152\"],[0.1,\"#c51b7d\"],[0.2,\"#de77ae\"],[0.3,\"#f1b6da\"],[0.4,\"#fde0ef\"],[0.5,\"#f7f7f7\"],[0.6,\"#e6f5d0\"],[0.7,\"#b8e186\"],[0.8,\"#7fbc41\"],[0.9,\"#4d9221\"],[1,\"#276419\"]],\"sequential\":[[0.0,\"#0d0887\"],[0.1111111111111111,\"#46039f\"],[0.2222222222222222,\"#7201a8\"],[0.3333333333333333,\"#9c179e\"],[0.4444444444444444,\"#bd3786\"],[0.5555555555555556,\"#d8576b\"],[0.6666666666666666,\"#ed7953\"],[0.7777777777777778,\"#fb9f3a\"],[0.8888888888888888,\"#fdca26\"],[1.0,\"#f0f921\"]],\"sequentialminus\":[[0.0,\"#0d0887\"],[0.1111111111111111,\"#46039f\"],[0.2222222222222222,\"#7201a8\"],[0.3333333333333333,\"#9c179e\"],[0.4444444444444444,\"#bd3786\"],[0.5555555555555556,\"#d8576b\"],[0.6666666666666666,\"#ed7953\"],[0.7777777777777778,\"#fb9f3a\"],[0.8888888888888888,\"#fdca26\"],[1.0,\"#f0f921\"]]},\"colorway\":[\"#636efa\",\"#EF553B\",\"#00cc96\",\"#ab63fa\",\"#FFA15A\",\"#19d3f3\",\"#FF6692\",\"#B6E880\",\"#FF97FF\",\"#FECB52\"],\"font\":{\"color\":\"#2a3f5f\"},\"geo\":{\"bgcolor\":\"white\",\"lakecolor\":\"white\",\"landcolor\":\"#E5ECF6\",\"showlakes\":true,\"showland\":true,\"subunitcolor\":\"white\"},\"hoverlabel\":{\"align\":\"left\"},\"hovermode\":\"closest\",\"mapbox\":{\"style\":\"light\"},\"paper_bgcolor\":\"white\",\"plot_bgcolor\":\"#E5ECF6\",\"polar\":{\"angularaxis\":{\"gridcolor\":\"white\",\"linecolor\":\"white\",\"ticks\":\"\"},\"bgcolor\":\"#E5ECF6\",\"radialaxis\":{\"gridcolor\":\"white\",\"linecolor\":\"white\",\"ticks\":\"\"}},\"scene\":{\"xaxis\":{\"backgroundcolor\":\"#E5ECF6\",\"gridcolor\":\"white\",\"gridwidth\":2,\"linecolor\":\"white\",\"showbackground\":true,\"ticks\":\"\",\"zerolinecolor\":\"white\"},\"yaxis\":{\"backgroundcolor\":\"#E5ECF6\",\"gridcolor\":\"white\",\"gridwidth\":2,\"linecolor\":\"white\",\"showbackground\":true,\"ticks\":\"\",\"zerolinecolor\":\"white\"},\"zaxis\":{\"backgroundcolor\":\"#E5ECF6\",\"gridcolor\":\"white\",\"gridwidth\":2,\"linecolor\":\"white\",\"showbackground\":true,\"ticks\":\"\",\"zerolinecolor\":\"white\"}},\"shapedefaults\":{\"line\":{\"color\":\"#2a3f5f\"}},\"ternary\":{\"aaxis\":{\"gridcolor\":\"white\",\"linecolor\":\"white\",\"ticks\":\"\"},\"baxis\":{\"gridcolor\":\"white\",\"linecolor\":\"white\",\"ticks\":\"\"},\"bgcolor\":\"#E5ECF6\",\"caxis\":{\"gridcolor\":\"white\",\"linecolor\":\"white\",\"ticks\":\"\"}},\"title\":{\"x\":0.05},\"xaxis\":{\"automargin\":true,\"gridcolor\":\"white\",\"linecolor\":\"white\",\"ticks\":\"\",\"title\":{\"standoff\":15},\"zerolinecolor\":\"white\",\"zerolinewidth\":2},\"yaxis\":{\"automargin\":true,\"gridcolor\":\"white\",\"linecolor\":\"white\",\"ticks\":\"\",\"title\":{\"standoff\":15},\"zerolinecolor\":\"white\",\"zerolinewidth\":2}}},\"title\":{\"text\":\"\\u0412\\u043e\\u0440\\u043e\\u043d\\u043a\\u0430 \\u0441\\u043e\\u0431\\u044b\\u0442\\u0438\\u0439\"}},                        {\"responsive\": true}                    ).then(function(){\n",
       "                            \n",
       "var gd = document.getElementById('96342d40-1510-499d-ac8c-1e33f42ee077');\n",
       "var x = new MutationObserver(function (mutations, observer) {{\n",
       "        var display = window.getComputedStyle(gd).display;\n",
       "        if (!display || display === 'none') {{\n",
       "            console.log([gd, 'removed!']);\n",
       "            Plotly.purge(gd);\n",
       "            observer.disconnect();\n",
       "        }}\n",
       "}});\n",
       "\n",
       "// Listen for the removal of the full notebook cells\n",
       "var notebookContainer = gd.closest('#notebook-container');\n",
       "if (notebookContainer) {{\n",
       "    x.observe(notebookContainer, {childList: true});\n",
       "}}\n",
       "\n",
       "// Listen for the clearing of the current output cell\n",
       "var outputEl = gd.closest('.output');\n",
       "if (outputEl) {{\n",
       "    x.observe(outputEl, {childList: true});\n",
       "}}\n",
       "\n",
       "                        })                };                });            </script>        </div>"
      ]
     },
     "metadata": {},
     "output_type": "display_data"
    }
   ],
   "source": [
    "# строим воронку\n",
    "fig = go.Figure()\n",
    "fig = go.Figure(go.Funnel(\n",
    "    y = user_count['event'],\n",
    "    x = user_count['user_count']))\n",
    "fig.update_layout(title=\"Воронка событий\")\n",
    "fig.show()"
   ]
  },
  {
   "cell_type": "markdown",
   "metadata": {},
   "source": [
    "По воронке событий мы получили следующие данные о конверсии в шаг:\n",
    "\n",
    "- на первом шаге - просмотре главной страницы - остается 98.3% пользователей. 1.7% пользователей потеряны, вероятно, стоит поискать возможную техническую проблему \n",
    "- на втором шаге - просмотре товара - остается 61.9% от предыдущего шага\n",
    "- на третьем шаге - добавлении в корзину- остается 81.3% от предыдущего шага\n",
    "- на четвертом шаге - оплате - остается 94.8% от предыдущего шага\n",
    "\n",
    "Больше всего пользователей теряется на главном экране - приложение покидает 38% посетителей. Конверсия на следующих шагах повышается. Вероятно, есть проблема с главной страницей приложения: пользователям может быть непонятна навигация и они не доходят до просмотра товаров.  \n",
    "\n",
    "От первого события до оплаты доходит 47.7% пользователей."
   ]
  },
  {
   "cell_type": "markdown",
   "metadata": {},
   "source": [
    "## Результаты эксперимента "
   ]
  },
  {
   "cell_type": "markdown",
   "metadata": {},
   "source": [
    "### Количество пользователей в каждой экспериментальной группе"
   ]
  },
  {
   "cell_type": "code",
   "execution_count": 68,
   "metadata": {
    "scrolled": true
   },
   "outputs": [
    {
     "data": {
      "text/html": [
       "<div>\n",
       "<style scoped>\n",
       "    .dataframe tbody tr th:only-of-type {\n",
       "        vertical-align: middle;\n",
       "    }\n",
       "\n",
       "    .dataframe tbody tr th {\n",
       "        vertical-align: top;\n",
       "    }\n",
       "\n",
       "    .dataframe thead th {\n",
       "        text-align: right;\n",
       "    }\n",
       "</style>\n",
       "<table border=\"1\" class=\"dataframe\">\n",
       "  <thead>\n",
       "    <tr style=\"text-align: right;\">\n",
       "      <th></th>\n",
       "      <th>group</th>\n",
       "      <th>user_count</th>\n",
       "    </tr>\n",
       "  </thead>\n",
       "  <tbody>\n",
       "    <tr>\n",
       "      <th>0</th>\n",
       "      <td>A1</td>\n",
       "      <td>2484</td>\n",
       "    </tr>\n",
       "    <tr>\n",
       "      <th>1</th>\n",
       "      <td>A2</td>\n",
       "      <td>2513</td>\n",
       "    </tr>\n",
       "    <tr>\n",
       "      <th>2</th>\n",
       "      <td>B</td>\n",
       "      <td>2537</td>\n",
       "    </tr>\n",
       "  </tbody>\n",
       "</table>\n",
       "</div>"
      ],
      "text/plain": [
       "  group  user_count\n",
       "0    A1        2484\n",
       "1    A2        2513\n",
       "2     B        2537"
      ]
     },
     "execution_count": 68,
     "metadata": {},
     "output_type": "execute_result"
    }
   ],
   "source": [
    "# считаем количество пользователей в каждой группе \n",
    "users = data_new.groupby('group').agg({'user_id':'nunique'}).reset_index()\n",
    "users['group'] = users['group'].replace(246, 'A1')\n",
    "users['group'] = users['group'].replace(247, 'A2')\n",
    "users['group'] = users['group'].replace(248, 'B')\n",
    "users.columns = ['group','user_count']\n",
    "users"
   ]
  },
  {
   "cell_type": "markdown",
   "metadata": {},
   "source": [
    "### Статистическая разница между выборками 246 и 247"
   ]
  },
  {
   "cell_type": "code",
   "execution_count": 69,
   "metadata": {},
   "outputs": [],
   "source": [
    "# получим число пользователей в каждой группе\n",
    "users_A1 = int(users[users['group'] == 'A1']['user_count'])\n",
    "users_A2 = int(users[users['group'] == 'A2']['user_count'])"
   ]
  },
  {
   "cell_type": "code",
   "execution_count": 70,
   "metadata": {},
   "outputs": [
    {
     "data": {
      "text/plain": [
       "1.15"
      ]
     },
     "execution_count": 70,
     "metadata": {},
     "output_type": "execute_result"
    }
   ],
   "source": [
    "# считаем, различается ли количество пользователей в группах\n",
    "round(100 - (users_A1 / users_A2 * 100), 2)"
   ]
  },
  {
   "cell_type": "markdown",
   "metadata": {},
   "source": [
    "Количество пользователей в группах отличается на 1.15%, это больше 1%, что является критерием успешного A/A-теста, но не критично.\n",
    "\n"
   ]
  },
  {
   "cell_type": "code",
   "execution_count": 71,
   "metadata": {
    "scrolled": false
   },
   "outputs": [
    {
     "data": {
      "text/html": [
       "<div>\n",
       "<style scoped>\n",
       "    .dataframe tbody tr th:only-of-type {\n",
       "        vertical-align: middle;\n",
       "    }\n",
       "\n",
       "    .dataframe tbody tr th {\n",
       "        vertical-align: top;\n",
       "    }\n",
       "\n",
       "    .dataframe thead th {\n",
       "        text-align: right;\n",
       "    }\n",
       "</style>\n",
       "<table border=\"1\" class=\"dataframe\">\n",
       "  <thead>\n",
       "    <tr style=\"text-align: right;\">\n",
       "      <th></th>\n",
       "      <th>A1</th>\n",
       "      <th>A2</th>\n",
       "      <th>B</th>\n",
       "      <th>A1+A2</th>\n",
       "    </tr>\n",
       "    <tr>\n",
       "      <th>event</th>\n",
       "      <th></th>\n",
       "      <th></th>\n",
       "      <th></th>\n",
       "      <th></th>\n",
       "    </tr>\n",
       "  </thead>\n",
       "  <tbody>\n",
       "    <tr>\n",
       "      <th>MainScreenAppear</th>\n",
       "      <td>2450</td>\n",
       "      <td>2476</td>\n",
       "      <td>2493</td>\n",
       "      <td>4926</td>\n",
       "    </tr>\n",
       "    <tr>\n",
       "      <th>OffersScreenAppear</th>\n",
       "      <td>1542</td>\n",
       "      <td>1520</td>\n",
       "      <td>1531</td>\n",
       "      <td>3062</td>\n",
       "    </tr>\n",
       "    <tr>\n",
       "      <th>CartScreenAppear</th>\n",
       "      <td>1266</td>\n",
       "      <td>1238</td>\n",
       "      <td>1230</td>\n",
       "      <td>2504</td>\n",
       "    </tr>\n",
       "    <tr>\n",
       "      <th>PaymentScreenSuccessful</th>\n",
       "      <td>1200</td>\n",
       "      <td>1158</td>\n",
       "      <td>1181</td>\n",
       "      <td>2358</td>\n",
       "    </tr>\n",
       "  </tbody>\n",
       "</table>\n",
       "</div>"
      ],
      "text/plain": [
       "                           A1    A2     B  A1+A2\n",
       "event                                           \n",
       "MainScreenAppear         2450  2476  2493   4926\n",
       "OffersScreenAppear       1542  1520  1531   3062\n",
       "CartScreenAppear         1266  1238  1230   2504\n",
       "PaymentScreenSuccessful  1200  1158  1181   2358"
      ]
     },
     "execution_count": 71,
     "metadata": {},
     "output_type": "execute_result"
    }
   ],
   "source": [
    "#создадим датафрейм с числом пользователей по каждому событию в разбиении на группы\n",
    "all_funnels = data_new.pivot_table(index='event', columns='group',values='user_id',aggfunc='nunique')\\\n",
    "                       .sort_values(246,ascending=False)\n",
    "all_funnels['246+247'] = all_funnels[246] + all_funnels[247]\n",
    "all_funnels.drop(['Tutorial'], inplace=True)\n",
    "all_funnels.columns = ['A1','A2', 'B', 'A1+A2']\n",
    "all_funnels"
   ]
  },
  {
   "cell_type": "code",
   "execution_count": 72,
   "metadata": {},
   "outputs": [
    {
     "data": {
      "text/html": [
       "<div>\n",
       "<style scoped>\n",
       "    .dataframe tbody tr th:only-of-type {\n",
       "        vertical-align: middle;\n",
       "    }\n",
       "\n",
       "    .dataframe tbody tr th {\n",
       "        vertical-align: top;\n",
       "    }\n",
       "\n",
       "    .dataframe thead th {\n",
       "        text-align: right;\n",
       "    }\n",
       "</style>\n",
       "<table border=\"1\" class=\"dataframe\">\n",
       "  <thead>\n",
       "    <tr style=\"text-align: right;\">\n",
       "      <th></th>\n",
       "      <th>user_count</th>\n",
       "    </tr>\n",
       "    <tr>\n",
       "      <th>group</th>\n",
       "      <th></th>\n",
       "    </tr>\n",
       "  </thead>\n",
       "  <tbody>\n",
       "    <tr>\n",
       "      <th>A1</th>\n",
       "      <td>2484</td>\n",
       "    </tr>\n",
       "    <tr>\n",
       "      <th>A2</th>\n",
       "      <td>2513</td>\n",
       "    </tr>\n",
       "    <tr>\n",
       "      <th>B</th>\n",
       "      <td>2537</td>\n",
       "    </tr>\n",
       "    <tr>\n",
       "      <th>A1+A2</th>\n",
       "      <td>4997</td>\n",
       "    </tr>\n",
       "  </tbody>\n",
       "</table>\n",
       "</div>"
      ],
      "text/plain": [
       "       user_count\n",
       "group            \n",
       "A1           2484\n",
       "A2           2513\n",
       "B            2537\n",
       "A1+A2        4997"
      ]
     },
     "execution_count": 72,
     "metadata": {},
     "output_type": "execute_result"
    }
   ],
   "source": [
    "#добавляем в таблицу с числом пользователей по группам значение общей грппы объединяющей контрольные группы А1 и А2\n",
    "users.loc[3] = ['A1+A2', 4997]\n",
    "users = users.set_index(users.columns[0])\n",
    "users"
   ]
  },
  {
   "cell_type": "markdown",
   "metadata": {},
   "source": [
    "Самое популярное событие в группах - просмотр главной страницы приложения. "
   ]
  },
  {
   "cell_type": "markdown",
   "metadata": {},
   "source": [
    "### Анализ контрольных групп"
   ]
  },
  {
   "cell_type": "markdown",
   "metadata": {},
   "source": [
    "Применим Z-тест и метод Бонферрони, так как будем проводить сравнения двух независимых выборок большого размера.\n",
    "Сформулируем гипотезы:\n",
    "\n",
    "- H0: Конверсия пользователей в обеих группах равна\n",
    "- H1: Конверсия в обеих группах не равна"
   ]
  },
  {
   "cell_type": "code",
   "execution_count": 73,
   "metadata": {},
   "outputs": [],
   "source": [
    "#напишем функцию для Z-критерия\n",
    "\n",
    "def print_z_test_with_bonferroni_validation_result(users, group1, group2, event, alpha): \n",
    "    p1_event = all_funnels.loc[event, group1]\n",
    "    p2_event = all_funnels.loc[event, group2] \n",
    "    p1_users = users.loc[group1, 'user_count'] \n",
    "    p2_users = users.loc[group2, 'user_count'] \n",
    "    p1 = p1_event / p1_users \n",
    "    p2 = p2_event / p2_users \n",
    "    difference = p1 - p2\n",
    "    p_combined = (p1_event + p2_event) / (p1_users + p2_users) \n",
    "    z_value = difference / mth.sqrt(p_combined * (1 - p_combined) * (1 / p1_users + 1 / p2_users))\n",
    "    distr = st.norm(0, 1)\n",
    "    p_value = (1 - distr.cdf(abs(z_value))) * 2\n",
    "    \n",
    "    bonferroni_alpha = alpha / 16\n",
    "    \n",
    "    print('Проверка для групп {} и {}, событие: {}, p-значение: {p_value:.2f}'.format(group1, group2, event, p_value=p_value))\n",
    "    if (p_value < bonferroni_alpha):\n",
    "        print(\"Отвергаем нулевую гипотезу о равенстве конверсии в группах\")\n",
    "    else:\n",
    "        print(\"Не получилось отвергнуть нулевую гипотезу о равенстве конверсии в группах\")"
   ]
  },
  {
   "cell_type": "code",
   "execution_count": 74,
   "metadata": {
    "scrolled": false
   },
   "outputs": [
    {
     "name": "stdout",
     "output_type": "stream",
     "text": [
      "Проверка для групп A1 и A2, событие: MainScreenAppear, p-значение: 0.76\n",
      "Не получилось отвергнуть нулевую гипотезу о равенстве конверсии в группах\n",
      "\n",
      "Проверка для групп A1 и A2, событие: OffersScreenAppear, p-значение: 0.25\n",
      "Не получилось отвергнуть нулевую гипотезу о равенстве конверсии в группах\n",
      "\n",
      "Проверка для групп A1 и A2, событие: CartScreenAppear, p-значение: 0.23\n",
      "Не получилось отвергнуть нулевую гипотезу о равенстве конверсии в группах\n",
      "\n",
      "Проверка для групп A1 и A2, событие: PaymentScreenSuccessful, p-значение: 0.11\n",
      "Не получилось отвергнуть нулевую гипотезу о равенстве конверсии в группах\n",
      "\n"
     ]
    }
   ],
   "source": [
    "for event in all_funnels.index:\n",
    "    print_z_test_with_bonferroni_validation_result(users, 'A1','A2', event, 0.05)\n",
    "    print()"
   ]
  },
  {
   "cell_type": "markdown",
   "metadata": {},
   "source": [
    "Анализ двух контрольных продемонстрировал, что конверсия в группах равна. Идентичные результаты контрольных групп позволят сделать достоверные выводы о дальнейшем A/B тестировании."
   ]
  },
  {
   "cell_type": "markdown",
   "metadata": {},
   "source": [
    "### Анализ экспериментальной группы"
   ]
  },
  {
   "cell_type": "code",
   "execution_count": 75,
   "metadata": {
    "scrolled": true
   },
   "outputs": [
    {
     "name": "stdout",
     "output_type": "stream",
     "text": [
      "Проверка для групп A1 и B, событие: MainScreenAppear, p-значение: 0.29\n",
      "Не получилось отвергнуть нулевую гипотезу о равенстве конверсии в группах\n",
      "\n",
      "Проверка для групп A1 и B, событие: OffersScreenAppear, p-значение: 0.21\n",
      "Не получилось отвергнуть нулевую гипотезу о равенстве конверсии в группах\n",
      "\n",
      "Проверка для групп A1 и B, событие: CartScreenAppear, p-значение: 0.08\n",
      "Не получилось отвергнуть нулевую гипотезу о равенстве конверсии в группах\n",
      "\n",
      "Проверка для групп A1 и B, событие: PaymentScreenSuccessful, p-значение: 0.21\n",
      "Не получилось отвергнуть нулевую гипотезу о равенстве конверсии в группах\n",
      "\n"
     ]
    }
   ],
   "source": [
    "#группы А1 и В\n",
    "\n",
    "for event in all_funnels.index:\n",
    "    print_z_test_with_bonferroni_validation_result(users, 'A1', 'B', event, 0.05)\n",
    "    print()"
   ]
  },
  {
   "cell_type": "code",
   "execution_count": 76,
   "metadata": {
    "scrolled": true
   },
   "outputs": [
    {
     "name": "stdout",
     "output_type": "stream",
     "text": [
      "Проверка для групп A2 и B, событие: MainScreenAppear, p-значение: 0.46\n",
      "Не получилось отвергнуть нулевую гипотезу о равенстве конверсии в группах\n",
      "\n",
      "Проверка для групп A2 и B, событие: OffersScreenAppear, p-значение: 0.92\n",
      "Не получилось отвергнуть нулевую гипотезу о равенстве конверсии в группах\n",
      "\n",
      "Проверка для групп A2 и B, событие: CartScreenAppear, p-значение: 0.58\n",
      "Не получилось отвергнуть нулевую гипотезу о равенстве конверсии в группах\n",
      "\n",
      "Проверка для групп A2 и B, событие: PaymentScreenSuccessful, p-значение: 0.74\n",
      "Не получилось отвергнуть нулевую гипотезу о равенстве конверсии в группах\n",
      "\n"
     ]
    }
   ],
   "source": [
    "#группы А2 и В\n",
    "\n",
    "for event in all_funnels.index:\n",
    "    print_z_test_with_bonferroni_validation_result(users, 'A2', 'B', event, 0.05)\n",
    "    print()"
   ]
  },
  {
   "cell_type": "code",
   "execution_count": 77,
   "metadata": {
    "scrolled": true
   },
   "outputs": [
    {
     "name": "stdout",
     "output_type": "stream",
     "text": [
      "Проверка для групп A1+A2 и B, событие: MainScreenAppear, p-значение: 0.29\n",
      "Не получилось отвергнуть нулевую гипотезу о равенстве конверсии в группах\n",
      "\n",
      "Проверка для групп A1+A2 и B, событие: OffersScreenAppear, p-значение: 0.43\n",
      "Не получилось отвергнуть нулевую гипотезу о равенстве конверсии в группах\n",
      "\n",
      "Проверка для групп A1+A2 и B, событие: CartScreenAppear, p-значение: 0.18\n",
      "Не получилось отвергнуть нулевую гипотезу о равенстве конверсии в группах\n",
      "\n",
      "Проверка для групп A1+A2 и B, событие: PaymentScreenSuccessful, p-значение: 0.60\n",
      "Не получилось отвергнуть нулевую гипотезу о равенстве конверсии в группах\n",
      "\n"
     ]
    }
   ],
   "source": [
    "#группы А1+А2 и В\n",
    "\n",
    "for event in all_funnels.index:\n",
    "    print_z_test_with_bonferroni_validation_result(users, 'A1+A2', 'B', event, 0.05)\n",
    "    print()"
   ]
  },
  {
   "cell_type": "markdown",
   "metadata": {},
   "source": [
    "Анализ контрольных и экспериментальной групп позволил сделать вывод, что разницы в долях групп не наблюдаются. Изменение шрифта не влияет на конверсию пользователей."
   ]
  },
  {
   "cell_type": "markdown",
   "metadata": {},
   "source": [
    " ### Уровень статистической значимости"
   ]
  },
  {
   "cell_type": "markdown",
   "metadata": {},
   "source": [
    "Мы определили уровень статистической значимости alpha = 0.05 с учетом поправки Бонферрони, так как производили множественное сравнение.\n",
    "\n",
    "Провели 4 А/А-теста и 12 А/В-тестов."
   ]
  },
  {
   "cell_type": "markdown",
   "metadata": {},
   "source": [
    "## Вывод"
   ]
  },
  {
   "cell_type": "markdown",
   "metadata": {},
   "source": [
    "Цель исследования состояла в необходимости проанализировать конверсию пользователей в приложении и результаты А/А/В-теста, в котором 2 контрольные группы видели версию приложения со старыми шрифтами, а экспериментальная - с новыми.\n",
    "\n",
    "Мы установили, что в логе 7551 пользователей, разделенных на 3 группы. Определили период исследования: перед нами были данные за 2 недели, но первая неделя располагала неполными данными, поэтому мы определили актуальный период исследования с 1 по 7 августа. После удаления части данных мы потеряли 1% от количества событий и пользователей.\n",
    "\n",
    "Мы построили воронку событий и установили, что посетители приложения проходят 5 шагов. При этом один шаг (Tutorial) является необязательным, который большинство пользователей пропускают. Большинство посетителей отпадают после первого шага - просмотра главной страницы - из приложения уходит 38%. Всего от совершения первого шага до оплаты доходят 47.7% пользователей. Вероятно, стоит изменить интерфейс стартовой страницы приложения и установить причину, почему практически половина пользователей не покупает товар. \n",
    "\n",
    "Мы провели А/А/В-тест, по результатам которого не обнаружили различий между контрольными и экспериментальной группами. Следовательно, изменение шрифтов не влияет на пользовательскую активность и проблему низкой конверсии необходимо решать другими изменениями в приложении. \n"
   ]
  }
 ],
 "metadata": {
  "ExecuteTimeLog": [
   {
    "duration": 433,
    "start_time": "2022-03-28T09:40:07.568Z"
   },
   {
    "duration": 258,
    "start_time": "2022-03-28T09:40:37.161Z"
   },
   {
    "duration": 46,
    "start_time": "2022-03-28T09:41:32.418Z"
   },
   {
    "duration": 32,
    "start_time": "2022-03-28T09:41:38.362Z"
   },
   {
    "duration": 3,
    "start_time": "2022-03-28T09:41:41.147Z"
   },
   {
    "duration": 284,
    "start_time": "2022-03-28T09:42:07.256Z"
   },
   {
    "duration": 17,
    "start_time": "2022-03-28T09:42:31.732Z"
   },
   {
    "duration": 251,
    "start_time": "2022-03-28T09:42:57.912Z"
   },
   {
    "duration": 284,
    "start_time": "2022-03-28T09:43:27.484Z"
   },
   {
    "duration": 558,
    "start_time": "2022-03-28T09:43:36.210Z"
   },
   {
    "duration": 239,
    "start_time": "2022-03-28T09:43:43.408Z"
   },
   {
    "duration": 4,
    "start_time": "2022-03-28T09:46:24.530Z"
   },
   {
    "duration": 271,
    "start_time": "2022-03-28T09:46:28.537Z"
   },
   {
    "duration": 2,
    "start_time": "2022-03-28T09:48:23.358Z"
   },
   {
    "duration": 8,
    "start_time": "2022-03-28T09:48:28.021Z"
   },
   {
    "duration": 2,
    "start_time": "2022-03-28T09:48:56.240Z"
   },
   {
    "duration": 272,
    "start_time": "2022-03-28T09:48:56.244Z"
   },
   {
    "duration": 8,
    "start_time": "2022-03-28T09:48:56.518Z"
   },
   {
    "duration": 3612,
    "start_time": "2022-03-28T09:49:28.407Z"
   },
   {
    "duration": 3,
    "start_time": "2022-03-28T09:49:52.834Z"
   },
   {
    "duration": 258,
    "start_time": "2022-03-28T09:49:52.839Z"
   },
   {
    "duration": 1018,
    "start_time": "2022-03-28T09:49:53.102Z"
   },
   {
    "duration": 3,
    "start_time": "2022-03-28T09:51:10.666Z"
   },
   {
    "duration": 279,
    "start_time": "2022-03-28T09:51:10.672Z"
   },
   {
    "duration": 827,
    "start_time": "2022-03-28T09:51:10.953Z"
   },
   {
    "duration": 208,
    "start_time": "2022-03-28T09:55:14.855Z"
   },
   {
    "duration": 804,
    "start_time": "2022-03-28T09:55:22.211Z"
   },
   {
    "duration": 912,
    "start_time": "2022-03-28T09:57:45.364Z"
   },
   {
    "duration": 975,
    "start_time": "2022-03-28T09:58:43.252Z"
   },
   {
    "duration": 1309,
    "start_time": "2022-03-28T10:13:27.779Z"
   },
   {
    "duration": 1596,
    "start_time": "2022-03-28T10:17:30.735Z"
   },
   {
    "duration": 3,
    "start_time": "2022-03-28T10:17:40.606Z"
   },
   {
    "duration": 1296,
    "start_time": "2022-03-28T10:17:40.611Z"
   },
   {
    "duration": 10,
    "start_time": "2022-03-28T10:17:41.909Z"
   },
   {
    "duration": 19,
    "start_time": "2022-03-28T10:19:57.960Z"
   },
   {
    "duration": 2,
    "start_time": "2022-03-28T10:21:49.507Z"
   },
   {
    "duration": 81,
    "start_time": "2022-03-28T10:21:55.978Z"
   },
   {
    "duration": 18,
    "start_time": "2022-03-28T10:23:37.081Z"
   },
   {
    "duration": 44,
    "start_time": "2022-03-28T10:25:44.698Z"
   },
   {
    "duration": 83,
    "start_time": "2022-03-28T10:27:04.644Z"
   },
   {
    "duration": 54,
    "start_time": "2022-03-28T10:27:16.798Z"
   },
   {
    "duration": 2,
    "start_time": "2022-03-28T10:27:27.372Z"
   },
   {
    "duration": 157,
    "start_time": "2022-03-28T10:27:27.376Z"
   },
   {
    "duration": 9,
    "start_time": "2022-03-28T10:27:27.535Z"
   },
   {
    "duration": 5,
    "start_time": "2022-03-28T10:27:27.546Z"
   },
   {
    "duration": 89,
    "start_time": "2022-03-28T10:27:27.552Z"
   },
   {
    "duration": 60,
    "start_time": "2022-03-28T10:27:27.643Z"
   },
   {
    "duration": 17,
    "start_time": "2022-03-28T10:29:19.691Z"
   },
   {
    "duration": 19,
    "start_time": "2022-03-28T10:30:59.316Z"
   },
   {
    "duration": 21,
    "start_time": "2022-03-28T10:31:11.563Z"
   },
   {
    "duration": 54,
    "start_time": "2022-03-28T10:31:19.044Z"
   },
   {
    "duration": 60,
    "start_time": "2022-03-28T10:32:23.973Z"
   },
   {
    "duration": 102,
    "start_time": "2022-03-28T10:32:37.605Z"
   },
   {
    "duration": 97,
    "start_time": "2022-03-28T10:32:51.896Z"
   },
   {
    "duration": 55,
    "start_time": "2022-03-28T10:32:57.907Z"
   },
   {
    "duration": 85,
    "start_time": "2022-03-28T10:35:13.943Z"
   },
   {
    "duration": 25,
    "start_time": "2022-03-28T10:35:45.755Z"
   },
   {
    "duration": 81,
    "start_time": "2022-03-28T10:36:38.024Z"
   },
   {
    "duration": 49,
    "start_time": "2022-03-28T10:37:07.005Z"
   },
   {
    "duration": 89,
    "start_time": "2022-03-28T10:37:18.213Z"
   },
   {
    "duration": 3,
    "start_time": "2022-03-28T10:37:33.897Z"
   },
   {
    "duration": 163,
    "start_time": "2022-03-28T10:37:33.903Z"
   },
   {
    "duration": 9,
    "start_time": "2022-03-28T10:37:34.068Z"
   },
   {
    "duration": 15,
    "start_time": "2022-03-28T10:37:34.079Z"
   },
   {
    "duration": 97,
    "start_time": "2022-03-28T10:37:34.096Z"
   },
   {
    "duration": 52,
    "start_time": "2022-03-28T10:37:34.195Z"
   },
   {
    "duration": 40,
    "start_time": "2022-03-28T10:37:34.249Z"
   },
   {
    "duration": 89,
    "start_time": "2022-03-28T10:37:34.291Z"
   },
   {
    "duration": 34,
    "start_time": "2022-03-28T10:37:34.381Z"
   },
   {
    "duration": 3870,
    "start_time": "2022-03-28T10:38:00.706Z"
   },
   {
    "duration": 3244,
    "start_time": "2022-03-28T10:38:21.956Z"
   },
   {
    "duration": 3,
    "start_time": "2022-03-28T10:38:31.092Z"
   },
   {
    "duration": 146,
    "start_time": "2022-03-28T10:38:31.098Z"
   },
   {
    "duration": 11,
    "start_time": "2022-03-28T10:38:31.246Z"
   },
   {
    "duration": 8,
    "start_time": "2022-03-28T10:38:31.260Z"
   },
   {
    "duration": 93,
    "start_time": "2022-03-28T10:38:31.269Z"
   },
   {
    "duration": 70,
    "start_time": "2022-03-28T10:38:31.364Z"
   },
   {
    "duration": 42,
    "start_time": "2022-03-28T10:38:31.435Z"
   },
   {
    "duration": 3604,
    "start_time": "2022-03-28T10:38:31.479Z"
   },
   {
    "duration": 1,
    "start_time": "2022-03-28T10:38:35.084Z"
   },
   {
    "duration": 3586,
    "start_time": "2022-03-28T10:41:16.106Z"
   },
   {
    "duration": 7710,
    "start_time": "2022-03-28T10:44:04.474Z"
   },
   {
    "duration": 3,
    "start_time": "2022-03-28T10:44:21.066Z"
   },
   {
    "duration": 151,
    "start_time": "2022-03-28T10:44:21.071Z"
   },
   {
    "duration": 10,
    "start_time": "2022-03-28T10:44:21.224Z"
   },
   {
    "duration": 5,
    "start_time": "2022-03-28T10:44:21.235Z"
   },
   {
    "duration": 97,
    "start_time": "2022-03-28T10:44:21.242Z"
   },
   {
    "duration": 70,
    "start_time": "2022-03-28T10:44:21.340Z"
   },
   {
    "duration": 42,
    "start_time": "2022-03-28T10:44:21.412Z"
   },
   {
    "duration": 3135,
    "start_time": "2022-03-28T10:44:21.456Z"
   },
   {
    "duration": 0,
    "start_time": "2022-03-28T10:44:24.593Z"
   },
   {
    "duration": 140,
    "start_time": "2022-03-28T10:44:40.124Z"
   },
   {
    "duration": 9,
    "start_time": "2022-03-28T10:44:49.407Z"
   },
   {
    "duration": 3425,
    "start_time": "2022-03-28T10:45:02.611Z"
   },
   {
    "duration": 3,
    "start_time": "2022-03-28T10:45:18.565Z"
   },
   {
    "duration": 145,
    "start_time": "2022-03-28T10:45:18.570Z"
   },
   {
    "duration": 7,
    "start_time": "2022-03-28T10:45:18.718Z"
   },
   {
    "duration": 7,
    "start_time": "2022-03-28T10:45:18.728Z"
   },
   {
    "duration": 97,
    "start_time": "2022-03-28T10:45:18.736Z"
   },
   {
    "duration": 68,
    "start_time": "2022-03-28T10:45:18.835Z"
   },
   {
    "duration": 46,
    "start_time": "2022-03-28T10:45:18.905Z"
   },
   {
    "duration": 4155,
    "start_time": "2022-03-28T10:45:18.954Z"
   },
   {
    "duration": 0,
    "start_time": "2022-03-28T10:45:23.111Z"
   },
   {
    "duration": 17,
    "start_time": "2022-03-28T10:52:59.868Z"
   },
   {
    "duration": 2,
    "start_time": "2022-03-28T10:53:07.894Z"
   },
   {
    "duration": 148,
    "start_time": "2022-03-28T10:53:07.899Z"
   },
   {
    "duration": 8,
    "start_time": "2022-03-28T10:53:08.049Z"
   },
   {
    "duration": 3,
    "start_time": "2022-03-28T10:53:08.059Z"
   },
   {
    "duration": 106,
    "start_time": "2022-03-28T10:53:08.065Z"
   },
   {
    "duration": 73,
    "start_time": "2022-03-28T10:53:08.173Z"
   },
   {
    "duration": 20,
    "start_time": "2022-03-28T10:53:08.248Z"
   },
   {
    "duration": 3324,
    "start_time": "2022-03-28T10:53:08.270Z"
   },
   {
    "duration": 0,
    "start_time": "2022-03-28T10:53:11.596Z"
   },
   {
    "duration": 6901,
    "start_time": "2022-03-28T10:53:33.636Z"
   },
   {
    "duration": 2,
    "start_time": "2022-03-28T10:53:47.058Z"
   },
   {
    "duration": 142,
    "start_time": "2022-03-28T10:53:47.062Z"
   },
   {
    "duration": 7,
    "start_time": "2022-03-28T10:53:47.205Z"
   },
   {
    "duration": 6,
    "start_time": "2022-03-28T10:53:47.213Z"
   },
   {
    "duration": 91,
    "start_time": "2022-03-28T10:53:47.221Z"
   },
   {
    "duration": 52,
    "start_time": "2022-03-28T10:53:47.314Z"
   },
   {
    "duration": 7160,
    "start_time": "2022-03-28T10:53:47.368Z"
   },
   {
    "duration": 0,
    "start_time": "2022-03-28T10:53:54.530Z"
   },
   {
    "duration": 0,
    "start_time": "2022-03-28T10:53:54.531Z"
   },
   {
    "duration": 18,
    "start_time": "2022-03-28T10:54:25.807Z"
   },
   {
    "duration": 3738,
    "start_time": "2022-03-28T10:59:16.423Z"
   },
   {
    "duration": 3666,
    "start_time": "2022-03-28T11:01:53.915Z"
   },
   {
    "duration": 25,
    "start_time": "2022-03-28T11:04:05.966Z"
   },
   {
    "duration": 23,
    "start_time": "2022-03-28T11:04:13.163Z"
   },
   {
    "duration": 3,
    "start_time": "2022-03-28T11:04:27.850Z"
   },
   {
    "duration": 149,
    "start_time": "2022-03-28T11:04:27.855Z"
   },
   {
    "duration": 8,
    "start_time": "2022-03-28T11:04:28.006Z"
   },
   {
    "duration": 6,
    "start_time": "2022-03-28T11:04:28.015Z"
   },
   {
    "duration": 90,
    "start_time": "2022-03-28T11:04:28.023Z"
   },
   {
    "duration": 50,
    "start_time": "2022-03-28T11:04:28.115Z"
   },
   {
    "duration": 35,
    "start_time": "2022-03-28T11:04:28.167Z"
   },
   {
    "duration": 44,
    "start_time": "2022-03-28T11:06:33.957Z"
   },
   {
    "duration": 71,
    "start_time": "2022-03-28T11:06:41.720Z"
   },
   {
    "duration": 92,
    "start_time": "2022-03-28T11:06:51.275Z"
   },
   {
    "duration": 57,
    "start_time": "2022-03-28T11:25:30.378Z"
   },
   {
    "duration": 1228,
    "start_time": "2022-03-28T11:26:15.722Z"
   },
   {
    "duration": 3892,
    "start_time": "2022-03-28T11:29:28.161Z"
   },
   {
    "duration": 4,
    "start_time": "2022-03-28T11:54:06.442Z"
   },
   {
    "duration": 7,
    "start_time": "2022-03-28T11:56:25.632Z"
   },
   {
    "duration": 5,
    "start_time": "2022-03-28T11:56:31.114Z"
   },
   {
    "duration": 3,
    "start_time": "2022-03-28T11:56:45.730Z"
   },
   {
    "duration": 1961,
    "start_time": "2022-03-28T11:58:04.888Z"
   },
   {
    "duration": 8,
    "start_time": "2022-03-28T11:58:16.856Z"
   },
   {
    "duration": 9,
    "start_time": "2022-03-28T11:58:26.605Z"
   },
   {
    "duration": 9,
    "start_time": "2022-03-28T11:58:37.212Z"
   },
   {
    "duration": 8,
    "start_time": "2022-03-28T12:01:24.590Z"
   },
   {
    "duration": 4,
    "start_time": "2022-03-28T12:03:07.453Z"
   },
   {
    "duration": 60,
    "start_time": "2022-03-28T12:11:17.547Z"
   },
   {
    "duration": 421,
    "start_time": "2022-03-28T12:11:24.683Z"
   },
   {
    "duration": 159,
    "start_time": "2022-03-28T12:11:25.106Z"
   },
   {
    "duration": 8,
    "start_time": "2022-03-28T12:11:25.266Z"
   },
   {
    "duration": 10,
    "start_time": "2022-03-28T12:11:25.276Z"
   },
   {
    "duration": 132,
    "start_time": "2022-03-28T12:11:25.288Z"
   },
   {
    "duration": 75,
    "start_time": "2022-03-28T12:11:25.422Z"
   },
   {
    "duration": 18,
    "start_time": "2022-03-28T12:11:25.508Z"
   },
   {
    "duration": 133,
    "start_time": "2022-03-28T12:11:25.527Z"
   },
   {
    "duration": 4,
    "start_time": "2022-03-28T12:11:25.662Z"
   },
   {
    "duration": 12,
    "start_time": "2022-03-28T12:11:25.668Z"
   },
   {
    "duration": 237,
    "start_time": "2022-03-28T12:11:25.681Z"
   },
   {
    "duration": 4,
    "start_time": "2022-03-28T12:12:00.674Z"
   },
   {
    "duration": 28,
    "start_time": "2022-03-28T12:12:09.309Z"
   },
   {
    "duration": 74,
    "start_time": "2022-03-28T12:12:14.222Z"
   },
   {
    "duration": 4,
    "start_time": "2022-03-28T12:12:18.577Z"
   },
   {
    "duration": 4,
    "start_time": "2022-03-28T12:25:46.366Z"
   },
   {
    "duration": 17,
    "start_time": "2022-03-28T12:28:43.288Z"
   },
   {
    "duration": 32,
    "start_time": "2022-03-28T12:28:53.154Z"
   },
   {
    "duration": 18,
    "start_time": "2022-03-28T12:28:58.436Z"
   },
   {
    "duration": 17,
    "start_time": "2022-03-28T12:29:01.144Z"
   },
   {
    "duration": 17,
    "start_time": "2022-03-28T12:29:26.956Z"
   },
   {
    "duration": 17,
    "start_time": "2022-03-28T12:29:29.493Z"
   },
   {
    "duration": 392,
    "start_time": "2022-03-28T12:30:03.142Z"
   },
   {
    "duration": 27,
    "start_time": "2022-03-28T12:31:25.050Z"
   },
   {
    "duration": 24,
    "start_time": "2022-03-28T12:31:35.015Z"
   },
   {
    "duration": 19,
    "start_time": "2022-03-28T12:31:43.013Z"
   },
   {
    "duration": 100,
    "start_time": "2022-03-28T12:32:24.931Z"
   },
   {
    "duration": 21,
    "start_time": "2022-03-28T12:33:24.096Z"
   },
   {
    "duration": 64,
    "start_time": "2022-03-28T12:39:39.198Z"
   },
   {
    "duration": 594,
    "start_time": "2022-03-28T12:39:51.079Z"
   },
   {
    "duration": 167,
    "start_time": "2022-03-28T12:39:51.675Z"
   },
   {
    "duration": 7,
    "start_time": "2022-03-28T12:39:51.843Z"
   },
   {
    "duration": 6,
    "start_time": "2022-03-28T12:39:51.852Z"
   },
   {
    "duration": 123,
    "start_time": "2022-03-28T12:39:51.860Z"
   },
   {
    "duration": 91,
    "start_time": "2022-03-28T12:39:51.985Z"
   },
   {
    "duration": 17,
    "start_time": "2022-03-28T12:39:52.078Z"
   },
   {
    "duration": 103,
    "start_time": "2022-03-28T12:39:52.097Z"
   },
   {
    "duration": 8,
    "start_time": "2022-03-28T12:39:52.202Z"
   },
   {
    "duration": 18,
    "start_time": "2022-03-28T12:39:52.211Z"
   },
   {
    "duration": 3,
    "start_time": "2022-03-28T12:39:52.231Z"
   },
   {
    "duration": 28,
    "start_time": "2022-03-28T12:39:52.236Z"
   },
   {
    "duration": 19,
    "start_time": "2022-03-28T12:39:52.266Z"
   },
   {
    "duration": 57,
    "start_time": "2022-03-28T12:45:40.073Z"
   },
   {
    "duration": 666,
    "start_time": "2022-03-28T12:45:48.209Z"
   },
   {
    "duration": 164,
    "start_time": "2022-03-28T12:45:48.877Z"
   },
   {
    "duration": 6,
    "start_time": "2022-03-28T12:45:49.043Z"
   },
   {
    "duration": 5,
    "start_time": "2022-03-28T12:45:49.051Z"
   },
   {
    "duration": 111,
    "start_time": "2022-03-28T12:45:49.058Z"
   },
   {
    "duration": 94,
    "start_time": "2022-03-28T12:45:49.170Z"
   },
   {
    "duration": 17,
    "start_time": "2022-03-28T12:45:49.266Z"
   },
   {
    "duration": 103,
    "start_time": "2022-03-28T12:45:49.285Z"
   },
   {
    "duration": 4,
    "start_time": "2022-03-28T12:45:49.390Z"
   },
   {
    "duration": 14,
    "start_time": "2022-03-28T12:45:49.413Z"
   },
   {
    "duration": 3,
    "start_time": "2022-03-28T12:45:49.429Z"
   },
   {
    "duration": 24,
    "start_time": "2022-03-28T12:45:49.434Z"
   },
   {
    "duration": 21,
    "start_time": "2022-03-28T12:45:49.460Z"
   },
   {
    "duration": 50,
    "start_time": "2022-03-28T12:52:29.162Z"
   },
   {
    "duration": 617,
    "start_time": "2022-03-28T12:52:34.040Z"
   },
   {
    "duration": 157,
    "start_time": "2022-03-28T12:52:34.658Z"
   },
   {
    "duration": 10,
    "start_time": "2022-03-28T12:52:34.817Z"
   },
   {
    "duration": 4,
    "start_time": "2022-03-28T12:52:34.830Z"
   },
   {
    "duration": 121,
    "start_time": "2022-03-28T12:52:34.835Z"
   },
   {
    "duration": 100,
    "start_time": "2022-03-28T12:52:34.959Z"
   },
   {
    "duration": 17,
    "start_time": "2022-03-28T12:52:35.061Z"
   },
   {
    "duration": 107,
    "start_time": "2022-03-28T12:52:35.080Z"
   },
   {
    "duration": 47,
    "start_time": "2022-03-28T12:52:35.189Z"
   },
   {
    "duration": 3,
    "start_time": "2022-03-28T12:52:35.239Z"
   },
   {
    "duration": 12,
    "start_time": "2022-03-28T12:52:35.245Z"
   },
   {
    "duration": 4,
    "start_time": "2022-03-28T12:52:35.258Z"
   },
   {
    "duration": 58,
    "start_time": "2022-03-28T12:52:35.264Z"
   },
   {
    "duration": 16,
    "start_time": "2022-03-28T12:52:35.324Z"
   },
   {
    "duration": 57,
    "start_time": "2022-03-28T13:11:48.842Z"
   },
   {
    "duration": 7,
    "start_time": "2022-03-28T13:11:55.091Z"
   },
   {
    "duration": 689,
    "start_time": "2022-03-28T13:11:57.661Z"
   },
   {
    "duration": 198,
    "start_time": "2022-03-28T13:11:59.695Z"
   },
   {
    "duration": 11,
    "start_time": "2022-03-28T13:12:02.049Z"
   },
   {
    "duration": 4,
    "start_time": "2022-03-28T13:12:03.986Z"
   },
   {
    "duration": 4,
    "start_time": "2022-03-28T13:12:06.506Z"
   },
   {
    "duration": 170,
    "start_time": "2022-03-28T13:12:08.068Z"
   },
   {
    "duration": 117,
    "start_time": "2022-03-28T13:12:11.130Z"
   },
   {
    "duration": 23,
    "start_time": "2022-03-28T13:12:12.744Z"
   },
   {
    "duration": 126,
    "start_time": "2022-03-28T13:12:14.800Z"
   },
   {
    "duration": 38,
    "start_time": "2022-03-28T13:12:17.646Z"
   },
   {
    "duration": 4,
    "start_time": "2022-03-28T13:12:19.602Z"
   },
   {
    "duration": 17,
    "start_time": "2022-03-28T13:12:21.830Z"
   },
   {
    "duration": 4,
    "start_time": "2022-03-28T13:12:23.168Z"
   },
   {
    "duration": 28,
    "start_time": "2022-03-28T13:12:25.135Z"
   },
   {
    "duration": 30,
    "start_time": "2022-03-28T13:12:26.801Z"
   },
   {
    "duration": 0,
    "start_time": "2022-03-28T13:15:42.647Z"
   },
   {
    "duration": 0,
    "start_time": "2022-03-28T13:15:42.648Z"
   },
   {
    "duration": 0,
    "start_time": "2022-03-28T13:15:42.650Z"
   },
   {
    "duration": 0,
    "start_time": "2022-03-28T13:15:42.651Z"
   },
   {
    "duration": 0,
    "start_time": "2022-03-28T13:15:42.653Z"
   },
   {
    "duration": 0,
    "start_time": "2022-03-28T13:15:42.654Z"
   },
   {
    "duration": 0,
    "start_time": "2022-03-28T13:15:42.655Z"
   },
   {
    "duration": 0,
    "start_time": "2022-03-28T13:15:42.656Z"
   },
   {
    "duration": 0,
    "start_time": "2022-03-28T13:15:42.658Z"
   },
   {
    "duration": 0,
    "start_time": "2022-03-28T13:15:42.659Z"
   },
   {
    "duration": 0,
    "start_time": "2022-03-28T13:15:42.660Z"
   },
   {
    "duration": 0,
    "start_time": "2022-03-28T13:15:42.661Z"
   },
   {
    "duration": 0,
    "start_time": "2022-03-28T13:15:42.662Z"
   },
   {
    "duration": 0,
    "start_time": "2022-03-28T13:15:42.664Z"
   },
   {
    "duration": 0,
    "start_time": "2022-03-28T13:15:42.665Z"
   },
   {
    "duration": 3,
    "start_time": "2022-03-28T13:15:47.792Z"
   },
   {
    "duration": 185,
    "start_time": "2022-03-28T13:15:47.797Z"
   },
   {
    "duration": 9,
    "start_time": "2022-03-28T13:15:47.985Z"
   },
   {
    "duration": 16,
    "start_time": "2022-03-28T13:15:47.996Z"
   },
   {
    "duration": 114,
    "start_time": "2022-03-28T13:15:48.015Z"
   },
   {
    "duration": 68,
    "start_time": "2022-03-28T13:15:48.131Z"
   },
   {
    "duration": 29,
    "start_time": "2022-03-28T13:15:48.201Z"
   },
   {
    "duration": 129,
    "start_time": "2022-03-28T13:15:48.232Z"
   },
   {
    "duration": 52,
    "start_time": "2022-03-28T13:15:48.364Z"
   },
   {
    "duration": 6,
    "start_time": "2022-03-28T13:15:48.418Z"
   },
   {
    "duration": 18,
    "start_time": "2022-03-28T13:15:48.425Z"
   },
   {
    "duration": 5,
    "start_time": "2022-03-28T13:15:48.445Z"
   },
   {
    "duration": 21,
    "start_time": "2022-03-28T13:15:48.452Z"
   },
   {
    "duration": 35,
    "start_time": "2022-03-28T13:15:48.475Z"
   },
   {
    "duration": 731,
    "start_time": "2022-03-28T13:16:20.119Z"
   },
   {
    "duration": 182,
    "start_time": "2022-03-28T13:16:20.852Z"
   },
   {
    "duration": 8,
    "start_time": "2022-03-28T13:16:21.035Z"
   },
   {
    "duration": 9,
    "start_time": "2022-03-28T13:16:21.045Z"
   },
   {
    "duration": 124,
    "start_time": "2022-03-28T13:16:21.057Z"
   },
   {
    "duration": 97,
    "start_time": "2022-03-28T13:16:21.182Z"
   },
   {
    "duration": 19,
    "start_time": "2022-03-28T13:16:21.280Z"
   },
   {
    "duration": 102,
    "start_time": "2022-03-28T13:16:21.317Z"
   },
   {
    "duration": 29,
    "start_time": "2022-03-28T13:16:21.421Z"
   },
   {
    "duration": 4,
    "start_time": "2022-03-28T13:16:21.451Z"
   },
   {
    "duration": 12,
    "start_time": "2022-03-28T13:16:21.457Z"
   },
   {
    "duration": 4,
    "start_time": "2022-03-28T13:16:21.470Z"
   },
   {
    "duration": 58,
    "start_time": "2022-03-28T13:16:21.475Z"
   },
   {
    "duration": 18,
    "start_time": "2022-03-28T13:16:21.536Z"
   },
   {
    "duration": 56,
    "start_time": "2022-03-28T13:20:41.670Z"
   },
   {
    "duration": 681,
    "start_time": "2022-03-28T13:20:53.701Z"
   },
   {
    "duration": 171,
    "start_time": "2022-03-28T13:20:54.384Z"
   },
   {
    "duration": 8,
    "start_time": "2022-03-28T13:20:54.557Z"
   },
   {
    "duration": 5,
    "start_time": "2022-03-28T13:20:54.566Z"
   },
   {
    "duration": 120,
    "start_time": "2022-03-28T13:20:54.573Z"
   },
   {
    "duration": 84,
    "start_time": "2022-03-28T13:20:54.695Z"
   },
   {
    "duration": 37,
    "start_time": "2022-03-28T13:20:54.781Z"
   },
   {
    "duration": 104,
    "start_time": "2022-03-28T13:20:54.820Z"
   },
   {
    "duration": 41,
    "start_time": "2022-03-28T13:20:54.928Z"
   },
   {
    "duration": 4,
    "start_time": "2022-03-28T13:20:54.970Z"
   },
   {
    "duration": 12,
    "start_time": "2022-03-28T13:20:54.976Z"
   },
   {
    "duration": 6,
    "start_time": "2022-03-28T13:20:55.011Z"
   },
   {
    "duration": 18,
    "start_time": "2022-03-28T13:20:55.027Z"
   },
   {
    "duration": 19,
    "start_time": "2022-03-28T13:20:55.047Z"
   },
   {
    "duration": 54,
    "start_time": "2022-03-28T13:29:09.142Z"
   },
   {
    "duration": 685,
    "start_time": "2022-03-28T13:29:15.762Z"
   },
   {
    "duration": 186,
    "start_time": "2022-03-28T13:29:16.449Z"
   },
   {
    "duration": 9,
    "start_time": "2022-03-28T13:29:16.638Z"
   },
   {
    "duration": 3,
    "start_time": "2022-03-28T13:29:16.649Z"
   },
   {
    "duration": 130,
    "start_time": "2022-03-28T13:29:16.654Z"
   },
   {
    "duration": 105,
    "start_time": "2022-03-28T13:29:16.786Z"
   },
   {
    "duration": 42,
    "start_time": "2022-03-28T13:29:16.893Z"
   },
   {
    "duration": 115,
    "start_time": "2022-03-28T13:29:16.937Z"
   },
   {
    "duration": 31,
    "start_time": "2022-03-28T13:29:17.054Z"
   },
   {
    "duration": 4,
    "start_time": "2022-03-28T13:29:17.088Z"
   },
   {
    "duration": 21,
    "start_time": "2022-03-28T13:29:17.117Z"
   },
   {
    "duration": 5,
    "start_time": "2022-03-28T13:29:17.142Z"
   },
   {
    "duration": 33,
    "start_time": "2022-03-28T13:29:17.149Z"
   },
   {
    "duration": 48,
    "start_time": "2022-03-28T13:29:17.184Z"
   },
   {
    "duration": 29,
    "start_time": "2022-03-28T13:29:17.234Z"
   },
   {
    "duration": 69,
    "start_time": "2022-03-28T13:29:17.264Z"
   },
   {
    "duration": 39,
    "start_time": "2022-03-28T13:34:15.019Z"
   },
   {
    "duration": 33,
    "start_time": "2022-03-28T13:34:29.865Z"
   },
   {
    "duration": 26,
    "start_time": "2022-03-28T13:34:37.652Z"
   },
   {
    "duration": 28,
    "start_time": "2022-03-28T13:35:12.227Z"
   },
   {
    "duration": 24,
    "start_time": "2022-03-28T13:37:02.059Z"
   },
   {
    "duration": 28,
    "start_time": "2022-03-28T13:37:06.972Z"
   },
   {
    "duration": 28,
    "start_time": "2022-03-28T13:37:34.746Z"
   },
   {
    "duration": 28,
    "start_time": "2022-03-28T13:37:54.372Z"
   },
   {
    "duration": 83,
    "start_time": "2022-03-28T13:44:31.301Z"
   },
   {
    "duration": 1596,
    "start_time": "2022-03-28T13:49:29.676Z"
   },
   {
    "duration": 85,
    "start_time": "2022-03-28T13:49:49.687Z"
   },
   {
    "duration": 2097,
    "start_time": "2022-03-28T13:50:08.945Z"
   },
   {
    "duration": 5,
    "start_time": "2022-03-28T13:51:06.317Z"
   },
   {
    "duration": 167,
    "start_time": "2022-03-28T13:51:06.325Z"
   },
   {
    "duration": 7,
    "start_time": "2022-03-28T13:51:06.494Z"
   },
   {
    "duration": 6,
    "start_time": "2022-03-28T13:51:06.512Z"
   },
   {
    "duration": 126,
    "start_time": "2022-03-28T13:51:06.522Z"
   },
   {
    "duration": 72,
    "start_time": "2022-03-28T13:51:06.650Z"
   },
   {
    "duration": 20,
    "start_time": "2022-03-28T13:51:06.723Z"
   },
   {
    "duration": 119,
    "start_time": "2022-03-28T13:51:06.744Z"
   },
   {
    "duration": 29,
    "start_time": "2022-03-28T13:51:06.864Z"
   },
   {
    "duration": 4,
    "start_time": "2022-03-28T13:51:06.895Z"
   },
   {
    "duration": 16,
    "start_time": "2022-03-28T13:51:06.908Z"
   },
   {
    "duration": 7,
    "start_time": "2022-03-28T13:51:06.926Z"
   },
   {
    "duration": 21,
    "start_time": "2022-03-28T13:51:06.935Z"
   },
   {
    "duration": 17,
    "start_time": "2022-03-28T13:51:06.958Z"
   },
   {
    "duration": 66,
    "start_time": "2022-03-28T13:51:06.977Z"
   },
   {
    "duration": 1863,
    "start_time": "2022-03-28T13:51:07.044Z"
   },
   {
    "duration": 71,
    "start_time": "2022-03-28T13:51:16.577Z"
   },
   {
    "duration": 64,
    "start_time": "2022-03-28T13:51:40.080Z"
   },
   {
    "duration": 65,
    "start_time": "2022-03-28T13:51:46.455Z"
   },
   {
    "duration": 73,
    "start_time": "2022-03-28T13:52:23.456Z"
   },
   {
    "duration": 64,
    "start_time": "2022-03-28T13:55:31.725Z"
   },
   {
    "duration": 59,
    "start_time": "2022-03-28T13:56:03.741Z"
   },
   {
    "duration": 106,
    "start_time": "2022-03-28T13:56:39.941Z"
   },
   {
    "duration": 60,
    "start_time": "2022-03-28T13:57:01.758Z"
   },
   {
    "duration": 99,
    "start_time": "2022-03-28T13:57:49.703Z"
   },
   {
    "duration": 60,
    "start_time": "2022-03-28T13:57:59.330Z"
   },
   {
    "duration": 74,
    "start_time": "2022-03-28T13:58:25.776Z"
   },
   {
    "duration": 54,
    "start_time": "2022-03-28T13:58:33.948Z"
   },
   {
    "duration": 66,
    "start_time": "2022-03-28T13:59:05.283Z"
   },
   {
    "duration": 72,
    "start_time": "2022-03-28T13:59:14.581Z"
   },
   {
    "duration": 114,
    "start_time": "2022-03-28T14:21:25.770Z"
   },
   {
    "duration": 45,
    "start_time": "2022-03-28T14:55:37.933Z"
   },
   {
    "duration": 746,
    "start_time": "2022-03-28T14:55:49.210Z"
   },
   {
    "duration": 152,
    "start_time": "2022-03-28T14:55:49.958Z"
   },
   {
    "duration": 7,
    "start_time": "2022-03-28T14:55:50.112Z"
   },
   {
    "duration": 11,
    "start_time": "2022-03-28T14:55:50.121Z"
   },
   {
    "duration": 99,
    "start_time": "2022-03-28T14:55:50.134Z"
   },
   {
    "duration": 85,
    "start_time": "2022-03-28T14:55:50.234Z"
   },
   {
    "duration": 17,
    "start_time": "2022-03-28T14:55:50.321Z"
   },
   {
    "duration": 97,
    "start_time": "2022-03-28T14:55:50.340Z"
   },
   {
    "duration": 6,
    "start_time": "2022-03-28T14:55:50.439Z"
   },
   {
    "duration": 23,
    "start_time": "2022-03-28T14:55:50.447Z"
   },
   {
    "duration": 4,
    "start_time": "2022-03-28T14:55:50.471Z"
   },
   {
    "duration": 18,
    "start_time": "2022-03-28T14:55:50.476Z"
   },
   {
    "duration": 32,
    "start_time": "2022-03-28T14:55:50.495Z"
   },
   {
    "duration": 22623,
    "start_time": "2022-03-28T14:55:50.529Z"
   },
   {
    "duration": 0,
    "start_time": "2022-03-28T14:56:13.154Z"
   },
   {
    "duration": 0,
    "start_time": "2022-03-28T14:56:13.155Z"
   },
   {
    "duration": 0,
    "start_time": "2022-03-28T14:56:13.162Z"
   },
   {
    "duration": 0,
    "start_time": "2022-03-28T14:56:13.164Z"
   },
   {
    "duration": 3,
    "start_time": "2022-03-28T14:56:20.524Z"
   },
   {
    "duration": 158,
    "start_time": "2022-03-28T14:56:20.528Z"
   },
   {
    "duration": 7,
    "start_time": "2022-03-28T14:56:20.688Z"
   },
   {
    "duration": 9,
    "start_time": "2022-03-28T14:56:20.697Z"
   },
   {
    "duration": 100,
    "start_time": "2022-03-28T14:56:20.708Z"
   },
   {
    "duration": 76,
    "start_time": "2022-03-28T14:56:20.809Z"
   },
   {
    "duration": 15,
    "start_time": "2022-03-28T14:56:20.887Z"
   },
   {
    "duration": 809,
    "start_time": "2022-03-28T14:56:20.904Z"
   },
   {
    "duration": 3,
    "start_time": "2022-03-28T14:56:21.715Z"
   },
   {
    "duration": 13,
    "start_time": "2022-03-28T14:56:21.719Z"
   },
   {
    "duration": 3,
    "start_time": "2022-03-28T14:56:21.734Z"
   },
   {
    "duration": 39,
    "start_time": "2022-03-28T14:56:21.738Z"
   },
   {
    "duration": 23,
    "start_time": "2022-03-28T14:56:21.778Z"
   },
   {
    "duration": 23,
    "start_time": "2022-03-28T14:56:21.802Z"
   },
   {
    "duration": 104,
    "start_time": "2022-03-28T14:56:21.826Z"
   },
   {
    "duration": 149,
    "start_time": "2022-03-28T14:56:21.931Z"
   },
   {
    "duration": 0,
    "start_time": "2022-03-28T14:56:22.082Z"
   },
   {
    "duration": 23,
    "start_time": "2022-03-28T14:56:31.583Z"
   },
   {
    "duration": 16,
    "start_time": "2022-03-28T15:09:14.299Z"
   },
   {
    "duration": 15,
    "start_time": "2022-03-28T15:09:58.893Z"
   },
   {
    "duration": 1264,
    "start_time": "2022-03-29T07:56:53.012Z"
   },
   {
    "duration": 7,
    "start_time": "2022-03-29T07:59:31.407Z"
   },
   {
    "duration": 90,
    "start_time": "2022-03-29T08:02:03.876Z"
   },
   {
    "duration": 3,
    "start_time": "2022-03-29T08:02:14.515Z"
   },
   {
    "duration": 4,
    "start_time": "2022-03-29T08:02:18.435Z"
   },
   {
    "duration": 71,
    "start_time": "2022-03-29T08:10:50.943Z"
   },
   {
    "duration": 9,
    "start_time": "2022-03-29T08:11:08.594Z"
   },
   {
    "duration": 8,
    "start_time": "2022-03-29T08:11:13.823Z"
   },
   {
    "duration": 1711,
    "start_time": "2022-03-29T08:11:20.936Z"
   },
   {
    "duration": 215,
    "start_time": "2022-03-29T08:11:22.650Z"
   },
   {
    "duration": 10,
    "start_time": "2022-03-29T08:11:22.868Z"
   },
   {
    "duration": 4,
    "start_time": "2022-03-29T08:11:22.881Z"
   },
   {
    "duration": 157,
    "start_time": "2022-03-29T08:11:22.887Z"
   },
   {
    "duration": 115,
    "start_time": "2022-03-29T08:11:23.046Z"
   },
   {
    "duration": 23,
    "start_time": "2022-03-29T08:11:23.163Z"
   },
   {
    "duration": 155,
    "start_time": "2022-03-29T08:11:23.188Z"
   },
   {
    "duration": 5,
    "start_time": "2022-03-29T08:11:23.345Z"
   },
   {
    "duration": 14,
    "start_time": "2022-03-29T08:11:23.353Z"
   },
   {
    "duration": 5,
    "start_time": "2022-03-29T08:11:23.368Z"
   },
   {
    "duration": 21,
    "start_time": "2022-03-29T08:11:23.375Z"
   },
   {
    "duration": 61,
    "start_time": "2022-03-29T08:11:23.398Z"
   },
   {
    "duration": 29,
    "start_time": "2022-03-29T08:11:23.461Z"
   },
   {
    "duration": 158,
    "start_time": "2022-03-29T08:11:23.492Z"
   },
   {
    "duration": 3,
    "start_time": "2022-03-29T08:11:23.652Z"
   },
   {
    "duration": 18,
    "start_time": "2022-03-29T08:11:23.657Z"
   },
   {
    "duration": 27,
    "start_time": "2022-03-29T08:11:23.677Z"
   },
   {
    "duration": 52,
    "start_time": "2022-03-29T08:11:23.706Z"
   },
   {
    "duration": 7,
    "start_time": "2022-03-29T08:11:23.760Z"
   },
   {
    "duration": 4,
    "start_time": "2022-03-29T08:15:49.458Z"
   },
   {
    "duration": 86,
    "start_time": "2022-03-29T08:15:56.956Z"
   },
   {
    "duration": 6,
    "start_time": "2022-03-29T08:16:08.428Z"
   },
   {
    "duration": 11,
    "start_time": "2022-03-29T08:16:12.240Z"
   },
   {
    "duration": 11,
    "start_time": "2022-03-29T08:16:51.098Z"
   },
   {
    "duration": 5,
    "start_time": "2022-03-29T08:17:00.792Z"
   },
   {
    "duration": 226,
    "start_time": "2022-03-29T08:17:00.800Z"
   },
   {
    "duration": 15,
    "start_time": "2022-03-29T08:17:01.029Z"
   },
   {
    "duration": 33,
    "start_time": "2022-03-29T08:17:01.047Z"
   },
   {
    "duration": 153,
    "start_time": "2022-03-29T08:17:01.083Z"
   },
   {
    "duration": 114,
    "start_time": "2022-03-29T08:17:01.242Z"
   },
   {
    "duration": 23,
    "start_time": "2022-03-29T08:17:01.358Z"
   },
   {
    "duration": 161,
    "start_time": "2022-03-29T08:17:01.383Z"
   },
   {
    "duration": 5,
    "start_time": "2022-03-29T08:17:01.548Z"
   },
   {
    "duration": 34,
    "start_time": "2022-03-29T08:17:01.555Z"
   },
   {
    "duration": 11,
    "start_time": "2022-03-29T08:17:01.592Z"
   },
   {
    "duration": 0,
    "start_time": "2022-03-29T08:17:01.606Z"
   },
   {
    "duration": 0,
    "start_time": "2022-03-29T08:17:01.607Z"
   },
   {
    "duration": 0,
    "start_time": "2022-03-29T08:17:01.609Z"
   },
   {
    "duration": 0,
    "start_time": "2022-03-29T08:17:01.611Z"
   },
   {
    "duration": 0,
    "start_time": "2022-03-29T08:17:01.612Z"
   },
   {
    "duration": 0,
    "start_time": "2022-03-29T08:17:01.614Z"
   },
   {
    "duration": 0,
    "start_time": "2022-03-29T08:17:01.643Z"
   },
   {
    "duration": 0,
    "start_time": "2022-03-29T08:17:01.645Z"
   },
   {
    "duration": 0,
    "start_time": "2022-03-29T08:17:01.647Z"
   },
   {
    "duration": 6,
    "start_time": "2022-03-29T08:17:32.103Z"
   },
   {
    "duration": 398,
    "start_time": "2022-03-29T08:21:21.666Z"
   },
   {
    "duration": 304,
    "start_time": "2022-03-29T08:24:12.016Z"
   },
   {
    "duration": 273,
    "start_time": "2022-03-29T08:24:23.205Z"
   },
   {
    "duration": 286,
    "start_time": "2022-03-29T08:25:38.125Z"
   },
   {
    "duration": 22,
    "start_time": "2022-03-29T08:28:05.061Z"
   },
   {
    "duration": 21,
    "start_time": "2022-03-29T08:28:14.871Z"
   },
   {
    "duration": 26,
    "start_time": "2022-03-29T08:30:19.471Z"
   },
   {
    "duration": 4,
    "start_time": "2022-03-29T08:30:52.140Z"
   },
   {
    "duration": 23,
    "start_time": "2022-03-29T08:31:00.085Z"
   },
   {
    "duration": 16,
    "start_time": "2022-03-29T08:31:41.662Z"
   },
   {
    "duration": 22,
    "start_time": "2022-03-29T08:31:49.583Z"
   },
   {
    "duration": 18,
    "start_time": "2022-03-29T08:31:59.337Z"
   },
   {
    "duration": 23,
    "start_time": "2022-03-29T08:32:07.361Z"
   },
   {
    "duration": 12,
    "start_time": "2022-03-29T08:34:13.540Z"
   },
   {
    "duration": 5,
    "start_time": "2022-03-29T08:34:45.391Z"
   },
   {
    "duration": 16,
    "start_time": "2022-03-29T08:34:50.373Z"
   },
   {
    "duration": 34,
    "start_time": "2022-03-29T08:35:11.519Z"
   },
   {
    "duration": 18,
    "start_time": "2022-03-29T08:35:18.105Z"
   },
   {
    "duration": 17,
    "start_time": "2022-03-29T08:35:33.646Z"
   },
   {
    "duration": 16,
    "start_time": "2022-03-29T08:35:37.352Z"
   },
   {
    "duration": 4,
    "start_time": "2022-03-29T08:35:43.109Z"
   },
   {
    "duration": 215,
    "start_time": "2022-03-29T08:35:43.116Z"
   },
   {
    "duration": 16,
    "start_time": "2022-03-29T08:35:43.333Z"
   },
   {
    "duration": 5,
    "start_time": "2022-03-29T08:35:43.352Z"
   },
   {
    "duration": 136,
    "start_time": "2022-03-29T08:35:43.360Z"
   },
   {
    "duration": 113,
    "start_time": "2022-03-29T08:35:43.498Z"
   },
   {
    "duration": 31,
    "start_time": "2022-03-29T08:35:43.613Z"
   },
   {
    "duration": 231,
    "start_time": "2022-03-29T08:35:43.646Z"
   },
   {
    "duration": 5,
    "start_time": "2022-03-29T08:35:43.879Z"
   },
   {
    "duration": 11,
    "start_time": "2022-03-29T08:35:43.886Z"
   },
   {
    "duration": 4,
    "start_time": "2022-03-29T08:35:43.900Z"
   },
   {
    "duration": 54,
    "start_time": "2022-03-29T08:35:43.907Z"
   },
   {
    "duration": 23,
    "start_time": "2022-03-29T08:35:43.967Z"
   },
   {
    "duration": 301,
    "start_time": "2022-03-29T08:35:43.992Z"
   },
   {
    "duration": 79,
    "start_time": "2022-03-29T08:35:44.296Z"
   },
   {
    "duration": 31,
    "start_time": "2022-03-29T08:35:44.378Z"
   },
   {
    "duration": 131,
    "start_time": "2022-03-29T08:35:44.412Z"
   },
   {
    "duration": 4,
    "start_time": "2022-03-29T08:35:44.545Z"
   },
   {
    "duration": 26,
    "start_time": "2022-03-29T08:35:44.551Z"
   },
   {
    "duration": 20,
    "start_time": "2022-03-29T08:35:44.579Z"
   },
   {
    "duration": 47,
    "start_time": "2022-03-29T08:35:44.602Z"
   },
   {
    "duration": 7,
    "start_time": "2022-03-29T08:35:44.651Z"
   },
   {
    "duration": 22,
    "start_time": "2022-03-29T08:36:21.186Z"
   },
   {
    "duration": 12,
    "start_time": "2022-03-29T08:38:10.899Z"
   },
   {
    "duration": 32,
    "start_time": "2022-03-29T08:38:26.837Z"
   },
   {
    "duration": 32,
    "start_time": "2022-03-29T08:38:36.490Z"
   },
   {
    "duration": 310,
    "start_time": "2022-03-29T08:39:30.427Z"
   },
   {
    "duration": 20,
    "start_time": "2022-03-29T08:39:47.096Z"
   },
   {
    "duration": 5,
    "start_time": "2022-03-29T08:39:55.040Z"
   },
   {
    "duration": 213,
    "start_time": "2022-03-29T08:39:55.048Z"
   },
   {
    "duration": 10,
    "start_time": "2022-03-29T08:39:55.264Z"
   },
   {
    "duration": 5,
    "start_time": "2022-03-29T08:39:55.278Z"
   },
   {
    "duration": 127,
    "start_time": "2022-03-29T08:39:55.286Z"
   },
   {
    "duration": 96,
    "start_time": "2022-03-29T08:39:55.415Z"
   },
   {
    "duration": 34,
    "start_time": "2022-03-29T08:39:55.513Z"
   },
   {
    "duration": 133,
    "start_time": "2022-03-29T08:39:55.549Z"
   },
   {
    "duration": 5,
    "start_time": "2022-03-29T08:39:55.684Z"
   },
   {
    "duration": 11,
    "start_time": "2022-03-29T08:39:55.692Z"
   },
   {
    "duration": 4,
    "start_time": "2022-03-29T08:39:55.705Z"
   },
   {
    "duration": 22,
    "start_time": "2022-03-29T08:39:55.743Z"
   },
   {
    "duration": 24,
    "start_time": "2022-03-29T08:39:55.767Z"
   },
   {
    "duration": 350,
    "start_time": "2022-03-29T08:39:55.793Z"
   },
   {
    "duration": 28,
    "start_time": "2022-03-29T08:39:56.145Z"
   },
   {
    "duration": 4,
    "start_time": "2022-03-29T08:39:56.176Z"
   },
   {
    "duration": 68,
    "start_time": "2022-03-29T08:39:56.183Z"
   },
   {
    "duration": 111,
    "start_time": "2022-03-29T08:39:56.253Z"
   },
   {
    "duration": 3,
    "start_time": "2022-03-29T08:39:56.367Z"
   },
   {
    "duration": 18,
    "start_time": "2022-03-29T08:39:56.372Z"
   },
   {
    "duration": 7,
    "start_time": "2022-03-29T08:39:56.392Z"
   },
   {
    "duration": 9,
    "start_time": "2022-03-29T08:48:25.682Z"
   },
   {
    "duration": 7,
    "start_time": "2022-03-29T08:48:53.613Z"
   },
   {
    "duration": 6,
    "start_time": "2022-03-29T08:49:28.766Z"
   },
   {
    "duration": 4,
    "start_time": "2022-03-29T08:49:44.152Z"
   },
   {
    "duration": 229,
    "start_time": "2022-03-29T08:49:44.159Z"
   },
   {
    "duration": 11,
    "start_time": "2022-03-29T08:49:44.390Z"
   },
   {
    "duration": 14,
    "start_time": "2022-03-29T08:49:44.403Z"
   },
   {
    "duration": 132,
    "start_time": "2022-03-29T08:49:44.420Z"
   },
   {
    "duration": 102,
    "start_time": "2022-03-29T08:49:44.554Z"
   },
   {
    "duration": 24,
    "start_time": "2022-03-29T08:49:44.658Z"
   },
   {
    "duration": 146,
    "start_time": "2022-03-29T08:49:44.684Z"
   },
   {
    "duration": 13,
    "start_time": "2022-03-29T08:49:44.832Z"
   },
   {
    "duration": 19,
    "start_time": "2022-03-29T08:49:44.847Z"
   },
   {
    "duration": 16,
    "start_time": "2022-03-29T08:49:44.868Z"
   },
   {
    "duration": 33,
    "start_time": "2022-03-29T08:49:44.886Z"
   },
   {
    "duration": 25,
    "start_time": "2022-03-29T08:49:44.923Z"
   },
   {
    "duration": 305,
    "start_time": "2022-03-29T08:49:44.951Z"
   },
   {
    "duration": 19,
    "start_time": "2022-03-29T08:49:45.259Z"
   },
   {
    "duration": 8,
    "start_time": "2022-03-29T08:49:45.280Z"
   },
   {
    "duration": 52,
    "start_time": "2022-03-29T08:49:45.291Z"
   },
   {
    "duration": 5,
    "start_time": "2022-03-29T08:49:45.345Z"
   },
   {
    "duration": 38,
    "start_time": "2022-03-29T08:49:45.352Z"
   },
   {
    "duration": 121,
    "start_time": "2022-03-29T08:49:45.392Z"
   },
   {
    "duration": 3,
    "start_time": "2022-03-29T08:49:45.515Z"
   },
   {
    "duration": 33,
    "start_time": "2022-03-29T08:49:45.520Z"
   },
   {
    "duration": 9,
    "start_time": "2022-03-29T08:49:45.555Z"
   },
   {
    "duration": 4,
    "start_time": "2022-03-29T08:50:06.533Z"
   },
   {
    "duration": 21,
    "start_time": "2022-03-29T08:50:19.303Z"
   },
   {
    "duration": 9,
    "start_time": "2022-03-29T08:50:21.878Z"
   },
   {
    "duration": 6,
    "start_time": "2022-03-29T08:50:24.366Z"
   },
   {
    "duration": 5,
    "start_time": "2022-03-29T08:50:30.248Z"
   },
   {
    "duration": 224,
    "start_time": "2022-03-29T08:50:30.256Z"
   },
   {
    "duration": 10,
    "start_time": "2022-03-29T08:50:30.483Z"
   },
   {
    "duration": 20,
    "start_time": "2022-03-29T08:50:30.497Z"
   },
   {
    "duration": 151,
    "start_time": "2022-03-29T08:50:30.520Z"
   },
   {
    "duration": 157,
    "start_time": "2022-03-29T08:50:30.675Z"
   },
   {
    "duration": 39,
    "start_time": "2022-03-29T08:50:30.835Z"
   },
   {
    "duration": 242,
    "start_time": "2022-03-29T08:50:30.877Z"
   },
   {
    "duration": 21,
    "start_time": "2022-03-29T08:50:31.122Z"
   },
   {
    "duration": 30,
    "start_time": "2022-03-29T08:50:31.145Z"
   },
   {
    "duration": 16,
    "start_time": "2022-03-29T08:50:31.177Z"
   },
   {
    "duration": 29,
    "start_time": "2022-03-29T08:50:31.195Z"
   },
   {
    "duration": 50,
    "start_time": "2022-03-29T08:50:31.229Z"
   },
   {
    "duration": 394,
    "start_time": "2022-03-29T08:50:31.282Z"
   },
   {
    "duration": 35,
    "start_time": "2022-03-29T08:50:31.679Z"
   },
   {
    "duration": 31,
    "start_time": "2022-03-29T08:50:31.717Z"
   },
   {
    "duration": 10,
    "start_time": "2022-03-29T08:50:31.751Z"
   },
   {
    "duration": 6,
    "start_time": "2022-03-29T08:50:31.763Z"
   },
   {
    "duration": 76,
    "start_time": "2022-03-29T08:50:31.772Z"
   },
   {
    "duration": 119,
    "start_time": "2022-03-29T08:50:31.850Z"
   },
   {
    "duration": 4,
    "start_time": "2022-03-29T08:50:31.971Z"
   },
   {
    "duration": 22,
    "start_time": "2022-03-29T08:50:31.977Z"
   },
   {
    "duration": 21,
    "start_time": "2022-03-29T08:50:32.002Z"
   },
   {
    "duration": 7,
    "start_time": "2022-03-29T08:50:48.993Z"
   },
   {
    "duration": 5,
    "start_time": "2022-03-29T08:50:53.248Z"
   },
   {
    "duration": 222,
    "start_time": "2022-03-29T08:50:53.257Z"
   },
   {
    "duration": 11,
    "start_time": "2022-03-29T08:50:53.481Z"
   },
   {
    "duration": 4,
    "start_time": "2022-03-29T08:50:53.495Z"
   },
   {
    "duration": 148,
    "start_time": "2022-03-29T08:50:53.503Z"
   },
   {
    "duration": 107,
    "start_time": "2022-03-29T08:50:53.654Z"
   },
   {
    "duration": 24,
    "start_time": "2022-03-29T08:50:53.763Z"
   },
   {
    "duration": 154,
    "start_time": "2022-03-29T08:50:53.789Z"
   },
   {
    "duration": 7,
    "start_time": "2022-03-29T08:50:53.945Z"
   },
   {
    "duration": 18,
    "start_time": "2022-03-29T08:50:53.954Z"
   },
   {
    "duration": 5,
    "start_time": "2022-03-29T08:50:53.974Z"
   },
   {
    "duration": 72,
    "start_time": "2022-03-29T08:50:53.982Z"
   },
   {
    "duration": 23,
    "start_time": "2022-03-29T08:50:54.059Z"
   },
   {
    "duration": 327,
    "start_time": "2022-03-29T08:50:54.084Z"
   },
   {
    "duration": 31,
    "start_time": "2022-03-29T08:50:54.414Z"
   },
   {
    "duration": 7,
    "start_time": "2022-03-29T08:50:54.448Z"
   },
   {
    "duration": 20,
    "start_time": "2022-03-29T08:50:54.458Z"
   },
   {
    "duration": 4,
    "start_time": "2022-03-29T08:50:54.481Z"
   },
   {
    "duration": 63,
    "start_time": "2022-03-29T08:50:54.487Z"
   },
   {
    "duration": 115,
    "start_time": "2022-03-29T08:50:54.553Z"
   },
   {
    "duration": 3,
    "start_time": "2022-03-29T08:50:54.671Z"
   },
   {
    "duration": 21,
    "start_time": "2022-03-29T08:50:54.676Z"
   },
   {
    "duration": 7,
    "start_time": "2022-03-29T08:50:54.699Z"
   },
   {
    "duration": 16,
    "start_time": "2022-03-29T08:59:53.013Z"
   },
   {
    "duration": 6,
    "start_time": "2022-03-29T09:09:44.203Z"
   },
   {
    "duration": 200,
    "start_time": "2022-03-29T09:09:44.213Z"
   },
   {
    "duration": 27,
    "start_time": "2022-03-29T09:09:44.416Z"
   },
   {
    "duration": 5,
    "start_time": "2022-03-29T09:09:44.445Z"
   },
   {
    "duration": 128,
    "start_time": "2022-03-29T09:09:44.453Z"
   },
   {
    "duration": 105,
    "start_time": "2022-03-29T09:09:44.583Z"
   },
   {
    "duration": 23,
    "start_time": "2022-03-29T09:09:44.691Z"
   },
   {
    "duration": 225,
    "start_time": "2022-03-29T09:09:44.717Z"
   },
   {
    "duration": 5,
    "start_time": "2022-03-29T09:09:44.945Z"
   },
   {
    "duration": 12,
    "start_time": "2022-03-29T09:09:44.953Z"
   },
   {
    "duration": 6,
    "start_time": "2022-03-29T09:09:44.968Z"
   },
   {
    "duration": 22,
    "start_time": "2022-03-29T09:09:44.976Z"
   },
   {
    "duration": 23,
    "start_time": "2022-03-29T09:09:45.042Z"
   },
   {
    "duration": 307,
    "start_time": "2022-03-29T09:09:45.069Z"
   },
   {
    "duration": 18,
    "start_time": "2022-03-29T09:09:45.378Z"
   },
   {
    "duration": 6,
    "start_time": "2022-03-29T09:09:45.398Z"
   },
   {
    "duration": 46,
    "start_time": "2022-03-29T09:09:45.406Z"
   },
   {
    "duration": 3,
    "start_time": "2022-03-29T09:09:45.455Z"
   },
   {
    "duration": 31,
    "start_time": "2022-03-29T09:09:45.461Z"
   },
   {
    "duration": 129,
    "start_time": "2022-03-29T09:09:45.495Z"
   },
   {
    "duration": 4,
    "start_time": "2022-03-29T09:09:45.626Z"
   },
   {
    "duration": 15,
    "start_time": "2022-03-29T09:09:45.642Z"
   },
   {
    "duration": 8,
    "start_time": "2022-03-29T09:09:45.659Z"
   },
   {
    "duration": 7,
    "start_time": "2022-03-29T09:10:46.053Z"
   },
   {
    "duration": 11,
    "start_time": "2022-03-29T09:22:20.818Z"
   },
   {
    "duration": 6,
    "start_time": "2022-03-29T09:24:23.366Z"
   },
   {
    "duration": 313,
    "start_time": "2022-03-29T09:38:38.438Z"
   },
   {
    "duration": 219,
    "start_time": "2022-03-29T09:38:49.578Z"
   },
   {
    "duration": 47,
    "start_time": "2022-03-29T09:39:03.075Z"
   },
   {
    "duration": 97,
    "start_time": "2022-03-29T09:41:35.095Z"
   },
   {
    "duration": 5,
    "start_time": "2022-03-29T09:44:13.624Z"
   },
   {
    "duration": 7,
    "start_time": "2022-03-29T09:44:16.445Z"
   },
   {
    "duration": 8,
    "start_time": "2022-03-29T09:44:26.036Z"
   },
   {
    "duration": 5,
    "start_time": "2022-03-29T09:46:16.323Z"
   },
   {
    "duration": 213,
    "start_time": "2022-03-29T09:46:16.331Z"
   },
   {
    "duration": 14,
    "start_time": "2022-03-29T09:46:16.546Z"
   },
   {
    "duration": 6,
    "start_time": "2022-03-29T09:46:16.563Z"
   },
   {
    "duration": 149,
    "start_time": "2022-03-29T09:46:16.571Z"
   },
   {
    "duration": 97,
    "start_time": "2022-03-29T09:46:16.723Z"
   },
   {
    "duration": 34,
    "start_time": "2022-03-29T09:46:16.822Z"
   },
   {
    "duration": 147,
    "start_time": "2022-03-29T09:46:16.858Z"
   },
   {
    "duration": 5,
    "start_time": "2022-03-29T09:46:17.008Z"
   },
   {
    "duration": 33,
    "start_time": "2022-03-29T09:46:17.017Z"
   },
   {
    "duration": 9,
    "start_time": "2022-03-29T09:46:17.053Z"
   },
   {
    "duration": 25,
    "start_time": "2022-03-29T09:46:17.064Z"
   },
   {
    "duration": 55,
    "start_time": "2022-03-29T09:46:17.091Z"
   },
   {
    "duration": 298,
    "start_time": "2022-03-29T09:46:17.148Z"
   },
   {
    "duration": 17,
    "start_time": "2022-03-29T09:46:17.448Z"
   },
   {
    "duration": 7,
    "start_time": "2022-03-29T09:46:17.467Z"
   },
   {
    "duration": 16,
    "start_time": "2022-03-29T09:46:17.477Z"
   },
   {
    "duration": 86,
    "start_time": "2022-03-29T09:46:17.495Z"
   },
   {
    "duration": 30,
    "start_time": "2022-03-29T09:46:17.584Z"
   },
   {
    "duration": 149,
    "start_time": "2022-03-29T09:46:17.617Z"
   },
   {
    "duration": 3,
    "start_time": "2022-03-29T09:46:17.768Z"
   },
   {
    "duration": 19,
    "start_time": "2022-03-29T09:46:17.774Z"
   },
   {
    "duration": 7,
    "start_time": "2022-03-29T09:46:17.795Z"
   },
   {
    "duration": 8,
    "start_time": "2022-03-29T09:46:41.432Z"
   },
   {
    "duration": 9,
    "start_time": "2022-03-29T09:46:50.450Z"
   },
   {
    "duration": 45,
    "start_time": "2022-03-29T09:47:45.496Z"
   },
   {
    "duration": 40,
    "start_time": "2022-03-29T09:48:33.845Z"
   },
   {
    "duration": 32,
    "start_time": "2022-03-29T09:48:51.357Z"
   },
   {
    "duration": 31,
    "start_time": "2022-03-29T09:48:55.933Z"
   },
   {
    "duration": 33,
    "start_time": "2022-03-29T09:49:05.620Z"
   },
   {
    "duration": 30,
    "start_time": "2022-03-29T09:49:49.431Z"
   },
   {
    "duration": 33,
    "start_time": "2022-03-29T09:49:55.972Z"
   },
   {
    "duration": 33,
    "start_time": "2022-03-29T09:50:20.652Z"
   },
   {
    "duration": 14,
    "start_time": "2022-03-29T09:54:02.092Z"
   },
   {
    "duration": 14,
    "start_time": "2022-03-29T09:54:31.539Z"
   },
   {
    "duration": 11,
    "start_time": "2022-03-29T09:54:55.831Z"
   },
   {
    "duration": 1304,
    "start_time": "2022-03-29T10:14:35.536Z"
   },
   {
    "duration": 87,
    "start_time": "2022-03-29T10:14:41.170Z"
   },
   {
    "duration": 4,
    "start_time": "2022-03-29T10:14:47.458Z"
   },
   {
    "duration": 152,
    "start_time": "2022-03-29T10:14:47.463Z"
   },
   {
    "duration": 7,
    "start_time": "2022-03-29T10:14:47.617Z"
   },
   {
    "duration": 6,
    "start_time": "2022-03-29T10:14:47.625Z"
   },
   {
    "duration": 98,
    "start_time": "2022-03-29T10:14:47.633Z"
   },
   {
    "duration": 75,
    "start_time": "2022-03-29T10:14:47.733Z"
   },
   {
    "duration": 15,
    "start_time": "2022-03-29T10:14:47.809Z"
   },
   {
    "duration": 89,
    "start_time": "2022-03-29T10:14:47.826Z"
   },
   {
    "duration": 3,
    "start_time": "2022-03-29T10:14:47.916Z"
   },
   {
    "duration": 12,
    "start_time": "2022-03-29T10:14:47.920Z"
   },
   {
    "duration": 6,
    "start_time": "2022-03-29T10:14:47.934Z"
   },
   {
    "duration": 15,
    "start_time": "2022-03-29T10:14:47.941Z"
   },
   {
    "duration": 37,
    "start_time": "2022-03-29T10:14:47.957Z"
   },
   {
    "duration": 237,
    "start_time": "2022-03-29T10:14:47.995Z"
   },
   {
    "duration": 10,
    "start_time": "2022-03-29T10:14:48.234Z"
   },
   {
    "duration": 4,
    "start_time": "2022-03-29T10:14:48.246Z"
   },
   {
    "duration": 31,
    "start_time": "2022-03-29T10:14:48.251Z"
   },
   {
    "duration": 23,
    "start_time": "2022-03-29T10:14:48.284Z"
   },
   {
    "duration": 20,
    "start_time": "2022-03-29T10:14:48.308Z"
   },
   {
    "duration": 19,
    "start_time": "2022-03-29T10:14:48.329Z"
   },
   {
    "duration": 43,
    "start_time": "2022-03-29T10:14:48.349Z"
   },
   {
    "duration": 3203,
    "start_time": "2022-03-29T10:14:48.393Z"
   },
   {
    "duration": 0,
    "start_time": "2022-03-29T10:14:51.598Z"
   },
   {
    "duration": 0,
    "start_time": "2022-03-29T10:14:51.599Z"
   },
   {
    "duration": 0,
    "start_time": "2022-03-29T10:14:51.600Z"
   },
   {
    "duration": 0,
    "start_time": "2022-03-29T10:14:51.601Z"
   },
   {
    "duration": 21,
    "start_time": "2022-03-29T10:16:11.150Z"
   },
   {
    "duration": 21,
    "start_time": "2022-03-29T10:16:15.861Z"
   },
   {
    "duration": 24,
    "start_time": "2022-03-29T10:16:54.632Z"
   },
   {
    "duration": 174,
    "start_time": "2022-03-29T10:17:33.211Z"
   },
   {
    "duration": 105,
    "start_time": "2022-03-29T10:18:54.137Z"
   },
   {
    "duration": 21,
    "start_time": "2022-03-29T10:21:55.738Z"
   },
   {
    "duration": 14,
    "start_time": "2022-03-29T10:22:18.312Z"
   },
   {
    "duration": 10,
    "start_time": "2022-03-29T10:23:17.841Z"
   },
   {
    "duration": 198,
    "start_time": "2022-03-29T10:23:39.641Z"
   },
   {
    "duration": 192,
    "start_time": "2022-03-29T10:23:47.915Z"
   },
   {
    "duration": 16,
    "start_time": "2022-03-29T10:23:55.637Z"
   },
   {
    "duration": 264,
    "start_time": "2022-03-29T10:24:05.828Z"
   },
   {
    "duration": 235,
    "start_time": "2022-03-29T10:24:10.823Z"
   },
   {
    "duration": 197,
    "start_time": "2022-03-29T10:24:38.043Z"
   },
   {
    "duration": 4,
    "start_time": "2022-03-29T10:24:43.426Z"
   },
   {
    "duration": 151,
    "start_time": "2022-03-29T10:24:43.431Z"
   },
   {
    "duration": 6,
    "start_time": "2022-03-29T10:24:43.584Z"
   },
   {
    "duration": 5,
    "start_time": "2022-03-29T10:24:43.592Z"
   },
   {
    "duration": 85,
    "start_time": "2022-03-29T10:24:43.599Z"
   },
   {
    "duration": 48,
    "start_time": "2022-03-29T10:24:43.685Z"
   },
   {
    "duration": 14,
    "start_time": "2022-03-29T10:24:43.735Z"
   },
   {
    "duration": 97,
    "start_time": "2022-03-29T10:24:43.750Z"
   },
   {
    "duration": 4,
    "start_time": "2022-03-29T10:24:43.849Z"
   },
   {
    "duration": 10,
    "start_time": "2022-03-29T10:24:43.854Z"
   },
   {
    "duration": 21,
    "start_time": "2022-03-29T10:24:43.865Z"
   },
   {
    "duration": 16,
    "start_time": "2022-03-29T10:24:43.887Z"
   },
   {
    "duration": 17,
    "start_time": "2022-03-29T10:24:43.904Z"
   },
   {
    "duration": 181,
    "start_time": "2022-03-29T10:24:43.922Z"
   },
   {
    "duration": 10,
    "start_time": "2022-03-29T10:24:44.105Z"
   },
   {
    "duration": 4,
    "start_time": "2022-03-29T10:24:44.117Z"
   },
   {
    "duration": 11,
    "start_time": "2022-03-29T10:24:44.122Z"
   },
   {
    "duration": 22,
    "start_time": "2022-03-29T10:24:44.134Z"
   },
   {
    "duration": 43,
    "start_time": "2022-03-29T10:24:44.157Z"
   },
   {
    "duration": 18,
    "start_time": "2022-03-29T10:24:44.202Z"
   },
   {
    "duration": 25,
    "start_time": "2022-03-29T10:24:44.221Z"
   },
   {
    "duration": 190,
    "start_time": "2022-03-29T10:24:44.247Z"
   },
   {
    "duration": 0,
    "start_time": "2022-03-29T10:24:44.438Z"
   },
   {
    "duration": 0,
    "start_time": "2022-03-29T10:24:44.440Z"
   },
   {
    "duration": 0,
    "start_time": "2022-03-29T10:24:44.440Z"
   },
   {
    "duration": 0,
    "start_time": "2022-03-29T10:24:44.441Z"
   },
   {
    "duration": 183,
    "start_time": "2022-03-29T10:24:50.736Z"
   },
   {
    "duration": 186,
    "start_time": "2022-03-29T10:24:59.487Z"
   },
   {
    "duration": 70,
    "start_time": "2022-03-29T10:25:16.114Z"
   },
   {
    "duration": 187,
    "start_time": "2022-03-29T10:25:35.587Z"
   },
   {
    "duration": 186,
    "start_time": "2022-03-29T10:25:46.271Z"
   },
   {
    "duration": 10,
    "start_time": "2022-03-29T10:25:56.029Z"
   },
   {
    "duration": 10,
    "start_time": "2022-03-29T10:27:23.807Z"
   },
   {
    "duration": 10,
    "start_time": "2022-03-29T10:27:43.852Z"
   },
   {
    "duration": 9,
    "start_time": "2022-03-29T10:27:53.606Z"
   },
   {
    "duration": 10,
    "start_time": "2022-03-29T10:28:04.533Z"
   },
   {
    "duration": 9,
    "start_time": "2022-03-29T10:28:16.463Z"
   },
   {
    "duration": 4,
    "start_time": "2022-03-29T10:29:22.332Z"
   },
   {
    "duration": 164,
    "start_time": "2022-03-29T10:29:22.337Z"
   },
   {
    "duration": 6,
    "start_time": "2022-03-29T10:29:22.503Z"
   },
   {
    "duration": 16,
    "start_time": "2022-03-29T10:29:22.512Z"
   },
   {
    "duration": 86,
    "start_time": "2022-03-29T10:29:22.529Z"
   },
   {
    "duration": 51,
    "start_time": "2022-03-29T10:29:22.617Z"
   },
   {
    "duration": 17,
    "start_time": "2022-03-29T10:29:22.681Z"
   },
   {
    "duration": 157,
    "start_time": "2022-03-29T10:29:22.700Z"
   },
   {
    "duration": 4,
    "start_time": "2022-03-29T10:29:22.858Z"
   },
   {
    "duration": 19,
    "start_time": "2022-03-29T10:29:22.864Z"
   },
   {
    "duration": 8,
    "start_time": "2022-03-29T10:29:22.885Z"
   },
   {
    "duration": 19,
    "start_time": "2022-03-29T10:29:22.894Z"
   },
   {
    "duration": 29,
    "start_time": "2022-03-29T10:29:22.914Z"
   },
   {
    "duration": 163,
    "start_time": "2022-03-29T10:29:22.945Z"
   },
   {
    "duration": 11,
    "start_time": "2022-03-29T10:29:23.109Z"
   },
   {
    "duration": 19,
    "start_time": "2022-03-29T10:29:23.122Z"
   },
   {
    "duration": 27,
    "start_time": "2022-03-29T10:29:23.143Z"
   },
   {
    "duration": 19,
    "start_time": "2022-03-29T10:29:23.171Z"
   },
   {
    "duration": 21,
    "start_time": "2022-03-29T10:29:23.192Z"
   },
   {
    "duration": 20,
    "start_time": "2022-03-29T10:29:23.214Z"
   },
   {
    "duration": 48,
    "start_time": "2022-03-29T10:29:23.236Z"
   },
   {
    "duration": 16,
    "start_time": "2022-03-29T10:29:23.285Z"
   },
   {
    "duration": 72,
    "start_time": "2022-03-29T10:29:23.303Z"
   },
   {
    "duration": 11,
    "start_time": "2022-03-29T10:29:23.377Z"
   },
   {
    "duration": 0,
    "start_time": "2022-03-29T10:29:23.389Z"
   },
   {
    "duration": 0,
    "start_time": "2022-03-29T10:29:23.391Z"
   },
   {
    "duration": 10,
    "start_time": "2022-03-29T10:29:59.593Z"
   },
   {
    "duration": 8,
    "start_time": "2022-03-29T10:33:49.728Z"
   },
   {
    "duration": 9,
    "start_time": "2022-03-29T10:34:02.094Z"
   },
   {
    "duration": 10,
    "start_time": "2022-03-29T10:34:32.571Z"
   },
   {
    "duration": 8,
    "start_time": "2022-03-29T10:39:57.190Z"
   },
   {
    "duration": 50,
    "start_time": "2022-03-29T12:02:20.850Z"
   },
   {
    "duration": 1460,
    "start_time": "2022-03-29T12:02:27.399Z"
   },
   {
    "duration": 175,
    "start_time": "2022-03-29T12:02:28.862Z"
   },
   {
    "duration": 8,
    "start_time": "2022-03-29T12:02:29.040Z"
   },
   {
    "duration": 6,
    "start_time": "2022-03-29T12:02:29.050Z"
   },
   {
    "duration": 147,
    "start_time": "2022-03-29T12:02:29.058Z"
   },
   {
    "duration": 97,
    "start_time": "2022-03-29T12:02:29.207Z"
   },
   {
    "duration": 19,
    "start_time": "2022-03-29T12:02:29.306Z"
   },
   {
    "duration": 125,
    "start_time": "2022-03-29T12:02:29.327Z"
   },
   {
    "duration": 4,
    "start_time": "2022-03-29T12:02:29.454Z"
   },
   {
    "duration": 20,
    "start_time": "2022-03-29T12:02:29.461Z"
   },
   {
    "duration": 25,
    "start_time": "2022-03-29T12:02:29.484Z"
   },
   {
    "duration": 19,
    "start_time": "2022-03-29T12:02:29.512Z"
   },
   {
    "duration": 25,
    "start_time": "2022-03-29T12:02:29.533Z"
   },
   {
    "duration": 319,
    "start_time": "2022-03-29T12:02:29.560Z"
   },
   {
    "duration": 27,
    "start_time": "2022-03-29T12:02:29.881Z"
   },
   {
    "duration": 5,
    "start_time": "2022-03-29T12:02:29.910Z"
   },
   {
    "duration": 22,
    "start_time": "2022-03-29T12:02:29.917Z"
   },
   {
    "duration": 29,
    "start_time": "2022-03-29T12:02:29.941Z"
   },
   {
    "duration": 50,
    "start_time": "2022-03-29T12:02:29.972Z"
   },
   {
    "duration": 25,
    "start_time": "2022-03-29T12:02:30.025Z"
   },
   {
    "duration": 30,
    "start_time": "2022-03-29T12:02:30.052Z"
   },
   {
    "duration": 130,
    "start_time": "2022-03-29T12:02:30.101Z"
   },
   {
    "duration": 77,
    "start_time": "2022-03-29T12:02:30.233Z"
   },
   {
    "duration": 0,
    "start_time": "2022-03-29T12:02:30.312Z"
   },
   {
    "duration": 0,
    "start_time": "2022-03-29T12:02:30.313Z"
   },
   {
    "duration": 0,
    "start_time": "2022-03-29T12:02:30.315Z"
   },
   {
    "duration": 27,
    "start_time": "2022-03-29T12:04:03.566Z"
   },
   {
    "duration": 64,
    "start_time": "2022-03-29T12:05:22.468Z"
   },
   {
    "duration": 137,
    "start_time": "2022-03-29T12:05:48.159Z"
   },
   {
    "duration": 191,
    "start_time": "2022-03-29T12:06:00.712Z"
   },
   {
    "duration": 10,
    "start_time": "2022-03-29T12:06:50.919Z"
   },
   {
    "duration": 2703,
    "start_time": "2022-03-29T12:12:28.920Z"
   },
   {
    "duration": 5,
    "start_time": "2022-03-29T12:12:49.288Z"
   },
   {
    "duration": 4,
    "start_time": "2022-03-29T12:13:14.126Z"
   },
   {
    "duration": 12,
    "start_time": "2022-03-29T12:14:43.219Z"
   },
   {
    "duration": 193,
    "start_time": "2022-03-29T12:15:06.748Z"
   },
   {
    "duration": 17,
    "start_time": "2022-03-29T12:15:41.927Z"
   },
   {
    "duration": 6,
    "start_time": "2022-03-29T12:15:44.282Z"
   },
   {
    "duration": 5,
    "start_time": "2022-03-29T12:15:47.622Z"
   },
   {
    "duration": 7,
    "start_time": "2022-03-29T12:16:07.921Z"
   },
   {
    "duration": 5,
    "start_time": "2022-03-29T12:16:13.707Z"
   },
   {
    "duration": 14,
    "start_time": "2022-03-29T12:16:16.656Z"
   },
   {
    "duration": 4,
    "start_time": "2022-03-29T12:16:27.028Z"
   },
   {
    "duration": 164,
    "start_time": "2022-03-29T12:16:27.034Z"
   },
   {
    "duration": 11,
    "start_time": "2022-03-29T12:16:27.203Z"
   },
   {
    "duration": 10,
    "start_time": "2022-03-29T12:16:27.215Z"
   },
   {
    "duration": 106,
    "start_time": "2022-03-29T12:16:27.227Z"
   },
   {
    "duration": 78,
    "start_time": "2022-03-29T12:16:27.335Z"
   },
   {
    "duration": 18,
    "start_time": "2022-03-29T12:16:27.415Z"
   },
   {
    "duration": 114,
    "start_time": "2022-03-29T12:16:27.435Z"
   },
   {
    "duration": 4,
    "start_time": "2022-03-29T12:16:27.552Z"
   },
   {
    "duration": 14,
    "start_time": "2022-03-29T12:16:27.558Z"
   },
   {
    "duration": 32,
    "start_time": "2022-03-29T12:16:27.574Z"
   },
   {
    "duration": 22,
    "start_time": "2022-03-29T12:16:27.608Z"
   },
   {
    "duration": 21,
    "start_time": "2022-03-29T12:16:27.632Z"
   },
   {
    "duration": 215,
    "start_time": "2022-03-29T12:16:27.654Z"
   },
   {
    "duration": 30,
    "start_time": "2022-03-29T12:16:27.871Z"
   },
   {
    "duration": 6,
    "start_time": "2022-03-29T12:16:27.905Z"
   },
   {
    "duration": 21,
    "start_time": "2022-03-29T12:16:27.913Z"
   },
   {
    "duration": 27,
    "start_time": "2022-03-29T12:16:27.936Z"
   },
   {
    "duration": 50,
    "start_time": "2022-03-29T12:16:27.965Z"
   },
   {
    "duration": 25,
    "start_time": "2022-03-29T12:16:28.017Z"
   },
   {
    "duration": 30,
    "start_time": "2022-03-29T12:16:28.044Z"
   },
   {
    "duration": 99,
    "start_time": "2022-03-29T12:16:28.075Z"
   },
   {
    "duration": 10,
    "start_time": "2022-03-29T12:16:28.176Z"
   },
   {
    "duration": 39,
    "start_time": "2022-03-29T12:16:28.206Z"
   },
   {
    "duration": 6,
    "start_time": "2022-03-29T12:16:28.247Z"
   },
   {
    "duration": 40,
    "start_time": "2022-03-29T12:20:32.571Z"
   },
   {
    "duration": 148,
    "start_time": "2022-03-29T12:28:13.026Z"
   },
   {
    "duration": 162,
    "start_time": "2022-03-29T12:28:25.780Z"
   },
   {
    "duration": 10,
    "start_time": "2022-03-29T12:28:57.609Z"
   },
   {
    "duration": 19,
    "start_time": "2022-03-29T12:44:28.136Z"
   },
   {
    "duration": 16,
    "start_time": "2022-03-29T12:46:11.414Z"
   },
   {
    "duration": 16,
    "start_time": "2022-03-29T12:51:14.563Z"
   },
   {
    "duration": 18,
    "start_time": "2022-03-29T12:51:20.882Z"
   },
   {
    "duration": 4,
    "start_time": "2022-03-29T12:52:04.375Z"
   },
   {
    "duration": 35,
    "start_time": "2022-03-29T12:52:10.031Z"
   },
   {
    "duration": 15,
    "start_time": "2022-03-29T12:53:39.562Z"
   },
   {
    "duration": 13,
    "start_time": "2022-03-29T12:53:56.165Z"
   },
   {
    "duration": 41,
    "start_time": "2022-03-29T12:57:51.338Z"
   },
   {
    "duration": 50,
    "start_time": "2022-03-29T12:58:42.578Z"
   },
   {
    "duration": 44,
    "start_time": "2022-03-29T12:58:48.276Z"
   },
   {
    "duration": 7,
    "start_time": "2022-03-29T12:59:18.394Z"
   },
   {
    "duration": 4,
    "start_time": "2022-03-29T12:59:26.315Z"
   },
   {
    "duration": 4,
    "start_time": "2022-03-29T13:00:34.329Z"
   },
   {
    "duration": 5,
    "start_time": "2022-03-29T13:00:40.492Z"
   },
   {
    "duration": 97,
    "start_time": "2022-03-29T13:06:24.391Z"
   },
   {
    "duration": 15,
    "start_time": "2022-03-29T13:19:55.081Z"
   },
   {
    "duration": 8,
    "start_time": "2022-03-29T13:20:09.480Z"
   },
   {
    "duration": 9,
    "start_time": "2022-03-29T13:20:19.415Z"
   },
   {
    "duration": 8,
    "start_time": "2022-03-29T13:26:36.558Z"
   },
   {
    "duration": 6,
    "start_time": "2022-03-29T13:29:00.263Z"
   },
   {
    "duration": 11,
    "start_time": "2022-03-29T13:30:23.322Z"
   },
   {
    "duration": 5,
    "start_time": "2022-03-29T13:30:55.495Z"
   },
   {
    "duration": 4,
    "start_time": "2022-03-29T13:31:12.676Z"
   },
   {
    "duration": 11,
    "start_time": "2022-03-29T13:31:16.379Z"
   },
   {
    "duration": 11,
    "start_time": "2022-03-29T13:48:46.560Z"
   },
   {
    "duration": 6,
    "start_time": "2022-03-29T13:48:49.385Z"
   },
   {
    "duration": 2483,
    "start_time": "2022-03-29T13:49:52.445Z"
   },
   {
    "duration": 14,
    "start_time": "2022-03-29T13:51:34.046Z"
   },
   {
    "duration": 13,
    "start_time": "2022-03-29T13:52:24.024Z"
   },
   {
    "duration": 2337,
    "start_time": "2022-03-29T13:53:49.909Z"
   },
   {
    "duration": 46,
    "start_time": "2022-03-30T07:41:39.705Z"
   },
   {
    "duration": 1390,
    "start_time": "2022-03-30T07:41:46.109Z"
   },
   {
    "duration": 145,
    "start_time": "2022-03-30T07:41:47.501Z"
   },
   {
    "duration": 7,
    "start_time": "2022-03-30T07:41:47.648Z"
   },
   {
    "duration": 8,
    "start_time": "2022-03-30T07:41:47.657Z"
   },
   {
    "duration": 115,
    "start_time": "2022-03-30T07:41:47.667Z"
   },
   {
    "duration": 110,
    "start_time": "2022-03-30T07:41:47.784Z"
   },
   {
    "duration": 22,
    "start_time": "2022-03-30T07:41:47.896Z"
   },
   {
    "duration": 150,
    "start_time": "2022-03-30T07:41:47.920Z"
   },
   {
    "duration": 5,
    "start_time": "2022-03-30T07:41:48.072Z"
   },
   {
    "duration": 14,
    "start_time": "2022-03-30T07:41:48.080Z"
   },
   {
    "duration": 9,
    "start_time": "2022-03-30T07:41:48.096Z"
   },
   {
    "duration": 29,
    "start_time": "2022-03-30T07:41:48.106Z"
   },
   {
    "duration": 30,
    "start_time": "2022-03-30T07:41:48.164Z"
   },
   {
    "duration": 408,
    "start_time": "2022-03-30T07:41:48.196Z"
   },
   {
    "duration": 25,
    "start_time": "2022-03-30T07:41:48.606Z"
   },
   {
    "duration": 7,
    "start_time": "2022-03-30T07:41:48.633Z"
   },
   {
    "duration": 26,
    "start_time": "2022-03-30T07:41:48.642Z"
   },
   {
    "duration": 58,
    "start_time": "2022-03-30T07:41:48.670Z"
   },
   {
    "duration": 42,
    "start_time": "2022-03-30T07:41:48.730Z"
   },
   {
    "duration": 30,
    "start_time": "2022-03-30T07:41:48.773Z"
   },
   {
    "duration": 30,
    "start_time": "2022-03-30T07:41:48.805Z"
   },
   {
    "duration": 62,
    "start_time": "2022-03-30T07:41:48.837Z"
   },
   {
    "duration": 147,
    "start_time": "2022-03-30T07:41:48.901Z"
   },
   {
    "duration": 215,
    "start_time": "2022-03-30T07:41:49.050Z"
   },
   {
    "duration": 99,
    "start_time": "2022-03-30T07:41:49.268Z"
   },
   {
    "duration": 5,
    "start_time": "2022-03-30T07:41:49.369Z"
   },
   {
    "duration": 7,
    "start_time": "2022-03-30T07:41:49.376Z"
   },
   {
    "duration": 156,
    "start_time": "2022-03-30T07:41:49.387Z"
   },
   {
    "duration": 119,
    "start_time": "2022-03-30T07:41:49.545Z"
   },
   {
    "duration": 0,
    "start_time": "2022-03-30T07:41:49.666Z"
   },
   {
    "duration": 0,
    "start_time": "2022-03-30T07:41:49.668Z"
   },
   {
    "duration": 19,
    "start_time": "2022-03-30T07:41:55.169Z"
   },
   {
    "duration": 6,
    "start_time": "2022-03-30T07:44:16.668Z"
   },
   {
    "duration": 13,
    "start_time": "2022-03-30T07:44:54.141Z"
   },
   {
    "duration": 48,
    "start_time": "2022-03-30T07:47:03.476Z"
   },
   {
    "duration": 28,
    "start_time": "2022-03-30T07:47:21.793Z"
   },
   {
    "duration": 19,
    "start_time": "2022-03-30T07:47:33.582Z"
   },
   {
    "duration": 21,
    "start_time": "2022-03-30T07:47:39.718Z"
   },
   {
    "duration": 27,
    "start_time": "2022-03-30T07:50:37.267Z"
   },
   {
    "duration": 63,
    "start_time": "2022-03-30T07:50:48.880Z"
   },
   {
    "duration": 10,
    "start_time": "2022-03-30T07:51:00.919Z"
   },
   {
    "duration": 33,
    "start_time": "2022-03-30T07:52:05.195Z"
   },
   {
    "duration": 5,
    "start_time": "2022-03-30T07:52:33.740Z"
   },
   {
    "duration": 5,
    "start_time": "2022-03-30T07:52:35.719Z"
   },
   {
    "duration": 81,
    "start_time": "2022-03-30T07:54:13.248Z"
   },
   {
    "duration": 8,
    "start_time": "2022-03-30T08:13:36.439Z"
   },
   {
    "duration": 2377,
    "start_time": "2022-03-30T08:13:38.756Z"
   },
   {
    "duration": 4,
    "start_time": "2022-03-30T08:14:06.556Z"
   },
   {
    "duration": 165,
    "start_time": "2022-03-30T08:14:06.562Z"
   },
   {
    "duration": 8,
    "start_time": "2022-03-30T08:14:06.728Z"
   },
   {
    "duration": 8,
    "start_time": "2022-03-30T08:14:06.738Z"
   },
   {
    "duration": 116,
    "start_time": "2022-03-30T08:14:06.748Z"
   },
   {
    "duration": 69,
    "start_time": "2022-03-30T08:14:06.866Z"
   },
   {
    "duration": 30,
    "start_time": "2022-03-30T08:14:06.937Z"
   },
   {
    "duration": 101,
    "start_time": "2022-03-30T08:14:06.969Z"
   },
   {
    "duration": 6,
    "start_time": "2022-03-30T08:14:07.074Z"
   },
   {
    "duration": 17,
    "start_time": "2022-03-30T08:14:07.081Z"
   },
   {
    "duration": 9,
    "start_time": "2022-03-30T08:14:07.099Z"
   },
   {
    "duration": 19,
    "start_time": "2022-03-30T08:14:07.110Z"
   },
   {
    "duration": 33,
    "start_time": "2022-03-30T08:14:07.131Z"
   },
   {
    "duration": 199,
    "start_time": "2022-03-30T08:14:07.167Z"
   },
   {
    "duration": 18,
    "start_time": "2022-03-30T08:14:07.368Z"
   },
   {
    "duration": 5,
    "start_time": "2022-03-30T08:14:07.388Z"
   },
   {
    "duration": 11,
    "start_time": "2022-03-30T08:14:07.394Z"
   },
   {
    "duration": 76,
    "start_time": "2022-03-30T08:14:07.408Z"
   },
   {
    "duration": 30,
    "start_time": "2022-03-30T08:14:07.487Z"
   },
   {
    "duration": 44,
    "start_time": "2022-03-30T08:14:07.519Z"
   },
   {
    "duration": 34,
    "start_time": "2022-03-30T08:14:07.565Z"
   },
   {
    "duration": 34,
    "start_time": "2022-03-30T08:14:07.601Z"
   },
   {
    "duration": 224,
    "start_time": "2022-03-30T08:14:07.638Z"
   },
   {
    "duration": 10,
    "start_time": "2022-03-30T08:14:07.866Z"
   },
   {
    "duration": 51,
    "start_time": "2022-03-30T08:14:07.879Z"
   },
   {
    "duration": 6,
    "start_time": "2022-03-30T08:14:07.931Z"
   },
   {
    "duration": 27,
    "start_time": "2022-03-30T08:14:07.939Z"
   },
   {
    "duration": 120,
    "start_time": "2022-03-30T08:14:07.968Z"
   },
   {
    "duration": 8,
    "start_time": "2022-03-30T08:14:08.090Z"
   },
   {
    "duration": 2361,
    "start_time": "2022-03-30T08:14:08.099Z"
   },
   {
    "duration": 5,
    "start_time": "2022-03-30T08:14:44.192Z"
   },
   {
    "duration": 21,
    "start_time": "2022-03-30T08:15:08.623Z"
   },
   {
    "duration": 5,
    "start_time": "2022-03-30T08:21:37.005Z"
   },
   {
    "duration": 141,
    "start_time": "2022-03-30T08:21:37.013Z"
   },
   {
    "duration": 11,
    "start_time": "2022-03-30T08:21:37.156Z"
   },
   {
    "duration": 7,
    "start_time": "2022-03-30T08:21:37.169Z"
   },
   {
    "duration": 101,
    "start_time": "2022-03-30T08:21:37.178Z"
   },
   {
    "duration": 54,
    "start_time": "2022-03-30T08:21:37.281Z"
   },
   {
    "duration": 45,
    "start_time": "2022-03-30T08:21:37.338Z"
   },
   {
    "duration": 135,
    "start_time": "2022-03-30T08:21:37.385Z"
   },
   {
    "duration": 4,
    "start_time": "2022-03-30T08:21:37.522Z"
   },
   {
    "duration": 17,
    "start_time": "2022-03-30T08:21:37.528Z"
   },
   {
    "duration": 27,
    "start_time": "2022-03-30T08:21:37.547Z"
   },
   {
    "duration": 32,
    "start_time": "2022-03-30T08:21:37.576Z"
   },
   {
    "duration": 32,
    "start_time": "2022-03-30T08:21:37.610Z"
   },
   {
    "duration": 284,
    "start_time": "2022-03-30T08:21:37.665Z"
   },
   {
    "duration": 26,
    "start_time": "2022-03-30T08:21:37.951Z"
   },
   {
    "duration": 5,
    "start_time": "2022-03-30T08:21:37.979Z"
   },
   {
    "duration": 10,
    "start_time": "2022-03-30T08:21:37.987Z"
   },
   {
    "duration": 39,
    "start_time": "2022-03-30T08:21:37.998Z"
   },
   {
    "duration": 22,
    "start_time": "2022-03-30T08:21:38.064Z"
   },
   {
    "duration": 29,
    "start_time": "2022-03-30T08:21:38.089Z"
   },
   {
    "duration": 57,
    "start_time": "2022-03-30T08:21:38.121Z"
   },
   {
    "duration": 39,
    "start_time": "2022-03-30T08:21:38.180Z"
   },
   {
    "duration": 115,
    "start_time": "2022-03-30T08:21:38.221Z"
   },
   {
    "duration": 11,
    "start_time": "2022-03-30T08:21:38.338Z"
   },
   {
    "duration": 49,
    "start_time": "2022-03-30T08:21:38.363Z"
   },
   {
    "duration": 6,
    "start_time": "2022-03-30T08:21:38.415Z"
   },
   {
    "duration": 12,
    "start_time": "2022-03-30T08:21:38.423Z"
   },
   {
    "duration": 96,
    "start_time": "2022-03-30T08:21:38.437Z"
   },
   {
    "duration": 6,
    "start_time": "2022-03-30T08:21:38.535Z"
   },
   {
    "duration": 31,
    "start_time": "2022-03-30T08:21:38.543Z"
   },
   {
    "duration": 71,
    "start_time": "2022-03-30T08:27:52.193Z"
   },
   {
    "duration": 75,
    "start_time": "2022-03-30T08:28:30.987Z"
   },
   {
    "duration": 74,
    "start_time": "2022-03-30T08:28:44.345Z"
   },
   {
    "duration": 67,
    "start_time": "2022-03-30T08:28:58.537Z"
   },
   {
    "duration": 660,
    "start_time": "2022-03-30T08:29:16.062Z"
   },
   {
    "duration": 48,
    "start_time": "2022-03-30T08:45:23.795Z"
   },
   {
    "duration": 1407,
    "start_time": "2022-03-30T08:45:31.426Z"
   },
   {
    "duration": 151,
    "start_time": "2022-03-30T08:45:32.835Z"
   },
   {
    "duration": 8,
    "start_time": "2022-03-30T08:45:32.987Z"
   },
   {
    "duration": 5,
    "start_time": "2022-03-30T08:45:32.997Z"
   },
   {
    "duration": 132,
    "start_time": "2022-03-30T08:45:33.003Z"
   },
   {
    "duration": 76,
    "start_time": "2022-03-30T08:45:33.136Z"
   },
   {
    "duration": 30,
    "start_time": "2022-03-30T08:45:33.214Z"
   },
   {
    "duration": 103,
    "start_time": "2022-03-30T08:45:33.246Z"
   },
   {
    "duration": 4,
    "start_time": "2022-03-30T08:45:33.351Z"
   },
   {
    "duration": 17,
    "start_time": "2022-03-30T08:45:33.359Z"
   },
   {
    "duration": 9,
    "start_time": "2022-03-30T08:45:33.378Z"
   },
   {
    "duration": 57,
    "start_time": "2022-03-30T08:45:33.389Z"
   },
   {
    "duration": 19,
    "start_time": "2022-03-30T08:45:33.449Z"
   },
   {
    "duration": 294,
    "start_time": "2022-03-30T08:45:33.470Z"
   },
   {
    "duration": 20,
    "start_time": "2022-03-30T08:45:33.766Z"
   },
   {
    "duration": 5,
    "start_time": "2022-03-30T08:45:33.788Z"
   },
   {
    "duration": 10,
    "start_time": "2022-03-30T08:45:33.795Z"
   },
   {
    "duration": 75,
    "start_time": "2022-03-30T08:45:33.807Z"
   },
   {
    "duration": 19,
    "start_time": "2022-03-30T08:45:33.885Z"
   },
   {
    "duration": 43,
    "start_time": "2022-03-30T08:45:33.906Z"
   },
   {
    "duration": 20,
    "start_time": "2022-03-30T08:45:33.951Z"
   },
   {
    "duration": 26,
    "start_time": "2022-03-30T08:45:33.973Z"
   },
   {
    "duration": 140,
    "start_time": "2022-03-30T08:45:34.001Z"
   },
   {
    "duration": 145,
    "start_time": "2022-03-30T08:45:34.143Z"
   },
   {
    "duration": 60,
    "start_time": "2022-03-30T08:45:34.290Z"
   },
   {
    "duration": 6,
    "start_time": "2022-03-30T08:45:34.352Z"
   },
   {
    "duration": 13,
    "start_time": "2022-03-30T08:45:34.360Z"
   },
   {
    "duration": 686,
    "start_time": "2022-03-30T08:45:34.376Z"
   },
   {
    "duration": 0,
    "start_time": "2022-03-30T08:45:35.064Z"
   },
   {
    "duration": 0,
    "start_time": "2022-03-30T08:45:35.066Z"
   },
   {
    "duration": 0,
    "start_time": "2022-03-30T08:45:35.067Z"
   },
   {
    "duration": 85,
    "start_time": "2022-03-30T10:10:03.674Z"
   },
   {
    "duration": 84,
    "start_time": "2022-03-30T10:10:45.744Z"
   },
   {
    "duration": 568,
    "start_time": "2022-03-30T10:10:53.158Z"
   },
   {
    "duration": 84,
    "start_time": "2022-03-30T10:11:05.037Z"
   },
   {
    "duration": 85,
    "start_time": "2022-03-30T10:11:09.013Z"
   },
   {
    "duration": 82,
    "start_time": "2022-03-30T10:11:27.326Z"
   },
   {
    "duration": 4,
    "start_time": "2022-03-30T10:11:55.061Z"
   },
   {
    "duration": 167,
    "start_time": "2022-03-30T10:11:55.067Z"
   },
   {
    "duration": 7,
    "start_time": "2022-03-30T10:11:55.236Z"
   },
   {
    "duration": 10,
    "start_time": "2022-03-30T10:11:55.245Z"
   },
   {
    "duration": 101,
    "start_time": "2022-03-30T10:11:55.257Z"
   },
   {
    "duration": 80,
    "start_time": "2022-03-30T10:11:55.359Z"
   },
   {
    "duration": 17,
    "start_time": "2022-03-30T10:11:55.441Z"
   },
   {
    "duration": 100,
    "start_time": "2022-03-30T10:11:55.460Z"
   },
   {
    "duration": 4,
    "start_time": "2022-03-30T10:11:55.563Z"
   },
   {
    "duration": 12,
    "start_time": "2022-03-30T10:11:55.569Z"
   },
   {
    "duration": 8,
    "start_time": "2022-03-30T10:11:55.585Z"
   },
   {
    "duration": 45,
    "start_time": "2022-03-30T10:11:55.595Z"
   },
   {
    "duration": 22,
    "start_time": "2022-03-30T10:11:55.641Z"
   },
   {
    "duration": 193,
    "start_time": "2022-03-30T10:11:55.664Z"
   },
   {
    "duration": 25,
    "start_time": "2022-03-30T10:11:55.859Z"
   },
   {
    "duration": 5,
    "start_time": "2022-03-30T10:11:55.886Z"
   },
   {
    "duration": 16,
    "start_time": "2022-03-30T10:11:55.893Z"
   },
   {
    "duration": 77,
    "start_time": "2022-03-30T10:11:55.911Z"
   },
   {
    "duration": 18,
    "start_time": "2022-03-30T10:11:55.990Z"
   },
   {
    "duration": 31,
    "start_time": "2022-03-30T10:11:56.010Z"
   },
   {
    "duration": 21,
    "start_time": "2022-03-30T10:11:56.043Z"
   },
   {
    "duration": 27,
    "start_time": "2022-03-30T10:11:56.066Z"
   },
   {
    "duration": 89,
    "start_time": "2022-03-30T10:11:56.095Z"
   },
   {
    "duration": 8,
    "start_time": "2022-03-30T10:11:56.186Z"
   },
   {
    "duration": 51,
    "start_time": "2022-03-30T10:11:56.196Z"
   },
   {
    "duration": 5,
    "start_time": "2022-03-30T10:11:56.249Z"
   },
   {
    "duration": 10,
    "start_time": "2022-03-30T10:11:56.256Z"
   },
   {
    "duration": 87,
    "start_time": "2022-03-30T10:11:56.268Z"
   },
   {
    "duration": 14,
    "start_time": "2022-03-30T10:11:56.358Z"
   },
   {
    "duration": 0,
    "start_time": "2022-03-30T10:11:56.373Z"
   },
   {
    "duration": 0,
    "start_time": "2022-03-30T10:11:56.375Z"
   },
   {
    "duration": 72,
    "start_time": "2022-03-30T10:12:42.836Z"
   },
   {
    "duration": 71,
    "start_time": "2022-03-30T10:12:57.941Z"
   },
   {
    "duration": 306,
    "start_time": "2022-03-30T10:13:11.035Z"
   },
   {
    "duration": 73,
    "start_time": "2022-03-30T10:13:18.739Z"
   },
   {
    "duration": 32,
    "start_time": "2022-03-30T10:20:23.055Z"
   },
   {
    "duration": 37,
    "start_time": "2022-03-30T10:20:48.379Z"
   },
   {
    "duration": 518,
    "start_time": "2022-03-30T10:21:24.592Z"
   },
   {
    "duration": 39,
    "start_time": "2022-03-30T10:21:41.356Z"
   },
   {
    "duration": 5,
    "start_time": "2022-03-30T10:22:07.135Z"
   },
   {
    "duration": 3,
    "start_time": "2022-03-30T10:22:13.964Z"
   },
   {
    "duration": 14,
    "start_time": "2022-03-30T10:22:56.726Z"
   },
   {
    "duration": 12,
    "start_time": "2022-03-30T10:23:10.285Z"
   },
   {
    "duration": 11,
    "start_time": "2022-03-30T10:24:09.446Z"
   },
   {
    "duration": 75,
    "start_time": "2022-03-30T10:24:37.470Z"
   },
   {
    "duration": 74,
    "start_time": "2022-03-30T10:25:01.178Z"
   },
   {
    "duration": 74,
    "start_time": "2022-03-30T10:25:26.397Z"
   },
   {
    "duration": 5,
    "start_time": "2022-03-30T10:27:03.772Z"
   },
   {
    "duration": 2319,
    "start_time": "2022-03-30T10:27:05.686Z"
   },
   {
    "duration": 19,
    "start_time": "2022-03-30T10:27:15.295Z"
   },
   {
    "duration": 19,
    "start_time": "2022-03-30T10:29:02.166Z"
   },
   {
    "duration": 4,
    "start_time": "2022-03-30T10:29:10.880Z"
   },
   {
    "duration": 152,
    "start_time": "2022-03-30T10:29:10.886Z"
   },
   {
    "duration": 7,
    "start_time": "2022-03-30T10:29:11.040Z"
   },
   {
    "duration": 9,
    "start_time": "2022-03-30T10:29:11.049Z"
   },
   {
    "duration": 98,
    "start_time": "2022-03-30T10:29:11.059Z"
   },
   {
    "duration": 80,
    "start_time": "2022-03-30T10:29:11.158Z"
   },
   {
    "duration": 16,
    "start_time": "2022-03-30T10:29:11.240Z"
   },
   {
    "duration": 176,
    "start_time": "2022-03-30T10:29:11.257Z"
   },
   {
    "duration": 3,
    "start_time": "2022-03-30T10:29:11.436Z"
   },
   {
    "duration": 13,
    "start_time": "2022-03-30T10:29:11.441Z"
   },
   {
    "duration": 11,
    "start_time": "2022-03-30T10:29:11.455Z"
   },
   {
    "duration": 17,
    "start_time": "2022-03-30T10:29:11.468Z"
   },
   {
    "duration": 19,
    "start_time": "2022-03-30T10:29:11.486Z"
   },
   {
    "duration": 223,
    "start_time": "2022-03-30T10:29:11.507Z"
   },
   {
    "duration": 18,
    "start_time": "2022-03-30T10:29:11.733Z"
   },
   {
    "duration": 4,
    "start_time": "2022-03-30T10:29:11.753Z"
   },
   {
    "duration": 8,
    "start_time": "2022-03-30T10:29:11.759Z"
   },
   {
    "duration": 33,
    "start_time": "2022-03-30T10:29:11.768Z"
   },
   {
    "duration": 46,
    "start_time": "2022-03-30T10:29:11.803Z"
   },
   {
    "duration": 20,
    "start_time": "2022-03-30T10:29:11.851Z"
   },
   {
    "duration": 18,
    "start_time": "2022-03-30T10:29:11.873Z"
   },
   {
    "duration": 49,
    "start_time": "2022-03-30T10:29:11.893Z"
   },
   {
    "duration": 65,
    "start_time": "2022-03-30T10:29:11.944Z"
   },
   {
    "duration": 24,
    "start_time": "2022-03-30T10:29:12.012Z"
   },
   {
    "duration": 38,
    "start_time": "2022-03-30T10:29:12.037Z"
   },
   {
    "duration": 5,
    "start_time": "2022-03-30T10:29:12.077Z"
   },
   {
    "duration": 10,
    "start_time": "2022-03-30T10:29:12.083Z"
   },
   {
    "duration": 96,
    "start_time": "2022-03-30T10:29:12.094Z"
   },
   {
    "duration": 5,
    "start_time": "2022-03-30T10:29:12.192Z"
   },
   {
    "duration": 34,
    "start_time": "2022-03-30T10:29:12.199Z"
   },
   {
    "duration": 6,
    "start_time": "2022-03-30T10:34:44.613Z"
   },
   {
    "duration": 9,
    "start_time": "2022-03-30T10:34:53.259Z"
   },
   {
    "duration": 5,
    "start_time": "2022-03-30T10:34:59.861Z"
   },
   {
    "duration": 1956,
    "start_time": "2022-03-30T10:35:03.590Z"
   },
   {
    "duration": 6,
    "start_time": "2022-03-30T10:35:35.942Z"
   },
   {
    "duration": 8,
    "start_time": "2022-03-30T10:35:38.107Z"
   },
   {
    "duration": 9,
    "start_time": "2022-03-30T10:36:06.856Z"
   },
   {
    "duration": 5,
    "start_time": "2022-03-30T10:36:18.365Z"
   },
   {
    "duration": 8,
    "start_time": "2022-03-30T10:36:20.039Z"
   },
   {
    "duration": 10,
    "start_time": "2022-03-30T10:41:53.009Z"
   },
   {
    "duration": 9,
    "start_time": "2022-03-30T10:42:19.010Z"
   },
   {
    "duration": 8,
    "start_time": "2022-03-30T10:42:35.400Z"
   },
   {
    "duration": 3,
    "start_time": "2022-03-30T10:49:20.891Z"
   },
   {
    "duration": 149,
    "start_time": "2022-03-30T10:49:20.896Z"
   },
   {
    "duration": 8,
    "start_time": "2022-03-30T10:49:21.047Z"
   },
   {
    "duration": 6,
    "start_time": "2022-03-30T10:49:21.057Z"
   },
   {
    "duration": 106,
    "start_time": "2022-03-30T10:49:21.065Z"
   },
   {
    "duration": 79,
    "start_time": "2022-03-30T10:49:21.173Z"
   },
   {
    "duration": 16,
    "start_time": "2022-03-30T10:49:21.253Z"
   },
   {
    "duration": 100,
    "start_time": "2022-03-30T10:49:21.271Z"
   },
   {
    "duration": 3,
    "start_time": "2022-03-30T10:49:21.373Z"
   },
   {
    "duration": 13,
    "start_time": "2022-03-30T10:49:21.377Z"
   },
   {
    "duration": 8,
    "start_time": "2022-03-30T10:49:21.392Z"
   },
   {
    "duration": 34,
    "start_time": "2022-03-30T10:49:21.401Z"
   },
   {
    "duration": 17,
    "start_time": "2022-03-30T10:49:21.436Z"
   },
   {
    "duration": 205,
    "start_time": "2022-03-30T10:49:21.454Z"
   },
   {
    "duration": 18,
    "start_time": "2022-03-30T10:49:21.661Z"
   },
   {
    "duration": 4,
    "start_time": "2022-03-30T10:49:21.681Z"
   },
   {
    "duration": 15,
    "start_time": "2022-03-30T10:49:21.687Z"
   },
   {
    "duration": 57,
    "start_time": "2022-03-30T10:49:21.704Z"
   },
   {
    "duration": 17,
    "start_time": "2022-03-30T10:49:21.763Z"
   },
   {
    "duration": 19,
    "start_time": "2022-03-30T10:49:21.782Z"
   },
   {
    "duration": 40,
    "start_time": "2022-03-30T10:49:21.803Z"
   },
   {
    "duration": 27,
    "start_time": "2022-03-30T10:49:21.845Z"
   },
   {
    "duration": 76,
    "start_time": "2022-03-30T10:49:21.874Z"
   },
   {
    "duration": 9,
    "start_time": "2022-03-30T10:49:21.951Z"
   },
   {
    "duration": 38,
    "start_time": "2022-03-30T10:49:21.962Z"
   },
   {
    "duration": 4,
    "start_time": "2022-03-30T10:49:22.002Z"
   },
   {
    "duration": 4,
    "start_time": "2022-03-30T10:49:22.033Z"
   },
   {
    "duration": 77,
    "start_time": "2022-03-30T10:49:22.038Z"
   },
   {
    "duration": 20,
    "start_time": "2022-03-30T10:49:22.119Z"
   },
   {
    "duration": 7,
    "start_time": "2022-03-30T10:49:22.141Z"
   },
   {
    "duration": 11,
    "start_time": "2022-03-30T10:49:22.149Z"
   },
   {
    "duration": 11,
    "start_time": "2022-03-30T10:49:22.161Z"
   },
   {
    "duration": 11,
    "start_time": "2022-03-30T10:49:22.174Z"
   },
   {
    "duration": 11,
    "start_time": "2022-03-30T10:49:22.187Z"
   },
   {
    "duration": 1697,
    "start_time": "2022-03-31T04:16:08.518Z"
   },
   {
    "duration": 198,
    "start_time": "2022-03-31T04:16:10.218Z"
   },
   {
    "duration": 10,
    "start_time": "2022-03-31T04:16:10.419Z"
   },
   {
    "duration": 7,
    "start_time": "2022-03-31T04:16:10.432Z"
   },
   {
    "duration": 150,
    "start_time": "2022-03-31T04:16:10.441Z"
   },
   {
    "duration": 121,
    "start_time": "2022-03-31T04:16:10.593Z"
   },
   {
    "duration": 23,
    "start_time": "2022-03-31T04:16:10.717Z"
   },
   {
    "duration": 145,
    "start_time": "2022-03-31T04:16:10.742Z"
   },
   {
    "duration": 5,
    "start_time": "2022-03-31T04:16:10.889Z"
   },
   {
    "duration": 16,
    "start_time": "2022-03-31T04:16:10.898Z"
   },
   {
    "duration": 9,
    "start_time": "2022-03-31T04:16:10.916Z"
   },
   {
    "duration": 57,
    "start_time": "2022-03-31T04:16:10.927Z"
   },
   {
    "duration": 22,
    "start_time": "2022-03-31T04:16:10.986Z"
   },
   {
    "duration": 446,
    "start_time": "2022-03-31T04:16:11.010Z"
   },
   {
    "duration": 38,
    "start_time": "2022-03-31T04:16:11.458Z"
   },
   {
    "duration": 5,
    "start_time": "2022-03-31T04:16:11.499Z"
   },
   {
    "duration": 15,
    "start_time": "2022-03-31T04:16:11.506Z"
   },
   {
    "duration": 78,
    "start_time": "2022-03-31T04:16:11.523Z"
   },
   {
    "duration": 33,
    "start_time": "2022-03-31T04:16:11.603Z"
   },
   {
    "duration": 52,
    "start_time": "2022-03-31T04:16:11.639Z"
   },
   {
    "duration": 32,
    "start_time": "2022-03-31T04:16:11.694Z"
   },
   {
    "duration": 53,
    "start_time": "2022-03-31T04:16:11.728Z"
   },
   {
    "duration": 174,
    "start_time": "2022-03-31T04:16:11.783Z"
   },
   {
    "duration": 184,
    "start_time": "2022-03-31T04:16:11.959Z"
   },
   {
    "duration": 57,
    "start_time": "2022-03-31T04:16:12.146Z"
   },
   {
    "duration": 63,
    "start_time": "2022-03-31T04:16:12.206Z"
   },
   {
    "duration": 6,
    "start_time": "2022-03-31T04:16:12.271Z"
   },
   {
    "duration": 156,
    "start_time": "2022-03-31T04:16:12.282Z"
   },
   {
    "duration": 28,
    "start_time": "2022-03-31T04:16:12.440Z"
   },
   {
    "duration": 8,
    "start_time": "2022-03-31T04:16:12.470Z"
   },
   {
    "duration": 13,
    "start_time": "2022-03-31T04:16:12.480Z"
   },
   {
    "duration": 15,
    "start_time": "2022-03-31T04:16:12.495Z"
   },
   {
    "duration": 12,
    "start_time": "2022-03-31T04:16:12.512Z"
   },
   {
    "duration": 51,
    "start_time": "2022-03-31T04:16:12.526Z"
   },
   {
    "duration": 11,
    "start_time": "2022-03-31T04:18:54.693Z"
   },
   {
    "duration": 11,
    "start_time": "2022-03-31T04:19:01.559Z"
   },
   {
    "duration": 95,
    "start_time": "2022-03-31T04:19:08.600Z"
   },
   {
    "duration": 8,
    "start_time": "2022-03-31T04:19:11.382Z"
   },
   {
    "duration": 11,
    "start_time": "2022-03-31T04:19:19.739Z"
   },
   {
    "duration": 11,
    "start_time": "2022-03-31T04:19:28.570Z"
   },
   {
    "duration": 46,
    "start_time": "2022-03-31T07:33:39.935Z"
   },
   {
    "duration": 1468,
    "start_time": "2022-03-31T07:33:49.803Z"
   },
   {
    "duration": 151,
    "start_time": "2022-03-31T07:33:51.273Z"
   },
   {
    "duration": 13,
    "start_time": "2022-03-31T07:33:51.426Z"
   },
   {
    "duration": 5,
    "start_time": "2022-03-31T07:33:51.441Z"
   },
   {
    "duration": 110,
    "start_time": "2022-03-31T07:33:51.447Z"
   },
   {
    "duration": 92,
    "start_time": "2022-03-31T07:33:51.559Z"
   },
   {
    "duration": 16,
    "start_time": "2022-03-31T07:33:51.653Z"
   },
   {
    "duration": 99,
    "start_time": "2022-03-31T07:33:51.671Z"
   },
   {
    "duration": 4,
    "start_time": "2022-03-31T07:33:51.771Z"
   },
   {
    "duration": 18,
    "start_time": "2022-03-31T07:33:51.777Z"
   },
   {
    "duration": 11,
    "start_time": "2022-03-31T07:33:51.797Z"
   },
   {
    "duration": 27,
    "start_time": "2022-03-31T07:33:51.810Z"
   },
   {
    "duration": 17,
    "start_time": "2022-03-31T07:33:51.839Z"
   },
   {
    "duration": 17,
    "start_time": "2022-03-31T07:33:51.858Z"
   },
   {
    "duration": 299,
    "start_time": "2022-03-31T07:33:51.877Z"
   },
   {
    "duration": 22,
    "start_time": "2022-03-31T07:33:52.177Z"
   },
   {
    "duration": 5,
    "start_time": "2022-03-31T07:33:52.200Z"
   },
   {
    "duration": 14,
    "start_time": "2022-03-31T07:33:52.206Z"
   },
   {
    "duration": 37,
    "start_time": "2022-03-31T07:33:52.238Z"
   },
   {
    "duration": 23,
    "start_time": "2022-03-31T07:33:52.277Z"
   },
   {
    "duration": 46,
    "start_time": "2022-03-31T07:33:52.301Z"
   },
   {
    "duration": 20,
    "start_time": "2022-03-31T07:33:52.349Z"
   },
   {
    "duration": 26,
    "start_time": "2022-03-31T07:33:52.370Z"
   },
   {
    "duration": 132,
    "start_time": "2022-03-31T07:33:52.397Z"
   },
   {
    "duration": 146,
    "start_time": "2022-03-31T07:33:52.531Z"
   },
   {
    "duration": 71,
    "start_time": "2022-03-31T07:33:52.679Z"
   },
   {
    "duration": 5,
    "start_time": "2022-03-31T07:33:52.751Z"
   },
   {
    "duration": 6,
    "start_time": "2022-03-31T07:33:52.759Z"
   },
   {
    "duration": 130,
    "start_time": "2022-03-31T07:33:52.766Z"
   },
   {
    "duration": 11,
    "start_time": "2022-03-31T07:33:52.897Z"
   },
   {
    "duration": 6,
    "start_time": "2022-03-31T07:33:52.938Z"
   },
   {
    "duration": 21,
    "start_time": "2022-03-31T07:33:52.946Z"
   },
   {
    "duration": 16,
    "start_time": "2022-03-31T07:33:52.968Z"
   },
   {
    "duration": 18,
    "start_time": "2022-03-31T07:33:52.986Z"
   },
   {
    "duration": 12,
    "start_time": "2022-03-31T07:33:53.007Z"
   },
   {
    "duration": 30,
    "start_time": "2022-03-31T07:34:34.275Z"
   },
   {
    "duration": 32,
    "start_time": "2022-03-31T07:34:52.850Z"
   },
   {
    "duration": 69,
    "start_time": "2022-03-31T07:36:09.027Z"
   },
   {
    "duration": 28,
    "start_time": "2022-03-31T07:36:56.982Z"
   },
   {
    "duration": 33,
    "start_time": "2022-03-31T07:37:10.470Z"
   },
   {
    "duration": 1788,
    "start_time": "2022-03-31T07:40:55.316Z"
   },
   {
    "duration": 27,
    "start_time": "2022-03-31T07:41:03.008Z"
   },
   {
    "duration": 15,
    "start_time": "2022-03-31T07:43:28.643Z"
   },
   {
    "duration": 8,
    "start_time": "2022-03-31T07:43:43.318Z"
   },
   {
    "duration": 9,
    "start_time": "2022-03-31T07:43:47.265Z"
   },
   {
    "duration": 11,
    "start_time": "2022-03-31T07:45:52.129Z"
   },
   {
    "duration": 14,
    "start_time": "2022-03-31T07:46:09.373Z"
   },
   {
    "duration": 2653,
    "start_time": "2022-03-31T07:47:57.105Z"
   },
   {
    "duration": 1847,
    "start_time": "2022-03-31T07:48:13.808Z"
   },
   {
    "duration": 17,
    "start_time": "2022-03-31T07:48:23.659Z"
   },
   {
    "duration": 11,
    "start_time": "2022-03-31T07:48:49.303Z"
   },
   {
    "duration": 11,
    "start_time": "2022-03-31T07:49:48.637Z"
   },
   {
    "duration": 13,
    "start_time": "2022-03-31T07:49:53.742Z"
   },
   {
    "duration": 42,
    "start_time": "2022-03-31T07:50:02.235Z"
   },
   {
    "duration": 12,
    "start_time": "2022-03-31T07:50:04.725Z"
   },
   {
    "duration": 10,
    "start_time": "2022-03-31T07:51:44.618Z"
   },
   {
    "duration": 4,
    "start_time": "2022-03-31T07:52:06.960Z"
   },
   {
    "duration": 154,
    "start_time": "2022-03-31T07:52:06.966Z"
   },
   {
    "duration": 8,
    "start_time": "2022-03-31T07:52:07.121Z"
   },
   {
    "duration": 3,
    "start_time": "2022-03-31T07:52:07.137Z"
   },
   {
    "duration": 106,
    "start_time": "2022-03-31T07:52:07.142Z"
   },
   {
    "duration": 63,
    "start_time": "2022-03-31T07:52:07.250Z"
   },
   {
    "duration": 28,
    "start_time": "2022-03-31T07:52:07.315Z"
   },
   {
    "duration": 95,
    "start_time": "2022-03-31T07:52:07.344Z"
   },
   {
    "duration": 4,
    "start_time": "2022-03-31T07:52:07.440Z"
   },
   {
    "duration": 11,
    "start_time": "2022-03-31T07:52:07.445Z"
   },
   {
    "duration": 34,
    "start_time": "2022-03-31T07:52:07.458Z"
   },
   {
    "duration": 8,
    "start_time": "2022-03-31T07:52:07.494Z"
   },
   {
    "duration": 45,
    "start_time": "2022-03-31T07:52:07.504Z"
   },
   {
    "duration": 18,
    "start_time": "2022-03-31T07:52:07.552Z"
   },
   {
    "duration": 220,
    "start_time": "2022-03-31T07:52:07.571Z"
   },
   {
    "duration": 23,
    "start_time": "2022-03-31T07:52:07.793Z"
   },
   {
    "duration": 21,
    "start_time": "2022-03-31T07:52:07.818Z"
   },
   {
    "duration": 11,
    "start_time": "2022-03-31T07:52:07.841Z"
   },
   {
    "duration": 33,
    "start_time": "2022-03-31T07:52:07.853Z"
   },
   {
    "duration": 22,
    "start_time": "2022-03-31T07:52:07.888Z"
   },
   {
    "duration": 20,
    "start_time": "2022-03-31T07:52:07.938Z"
   },
   {
    "duration": 18,
    "start_time": "2022-03-31T07:52:07.960Z"
   },
   {
    "duration": 25,
    "start_time": "2022-03-31T07:52:07.980Z"
   },
   {
    "duration": 186,
    "start_time": "2022-03-31T07:52:08.007Z"
   },
   {
    "duration": 9,
    "start_time": "2022-03-31T07:52:08.195Z"
   },
   {
    "duration": 0,
    "start_time": "2022-03-31T07:52:08.206Z"
   },
   {
    "duration": 0,
    "start_time": "2022-03-31T07:52:08.207Z"
   },
   {
    "duration": 0,
    "start_time": "2022-03-31T07:52:08.208Z"
   },
   {
    "duration": 0,
    "start_time": "2022-03-31T07:52:08.210Z"
   },
   {
    "duration": 1,
    "start_time": "2022-03-31T07:52:08.210Z"
   },
   {
    "duration": 0,
    "start_time": "2022-03-31T07:52:08.212Z"
   },
   {
    "duration": 0,
    "start_time": "2022-03-31T07:52:08.238Z"
   },
   {
    "duration": 0,
    "start_time": "2022-03-31T07:52:08.239Z"
   },
   {
    "duration": 0,
    "start_time": "2022-03-31T07:52:08.240Z"
   },
   {
    "duration": 0,
    "start_time": "2022-03-31T07:52:08.242Z"
   },
   {
    "duration": 11,
    "start_time": "2022-03-31T07:52:15.048Z"
   },
   {
    "duration": 9,
    "start_time": "2022-03-31T07:52:36.736Z"
   },
   {
    "duration": 59,
    "start_time": "2022-03-31T07:52:43.989Z"
   },
   {
    "duration": 11,
    "start_time": "2022-03-31T07:54:39.879Z"
   },
   {
    "duration": 9,
    "start_time": "2022-03-31T07:56:44.160Z"
   },
   {
    "duration": 9,
    "start_time": "2022-03-31T07:58:17.889Z"
   },
   {
    "duration": 8,
    "start_time": "2022-03-31T07:58:28.100Z"
   },
   {
    "duration": 109,
    "start_time": "2022-03-31T08:00:48.403Z"
   },
   {
    "duration": 11,
    "start_time": "2022-03-31T08:02:07.971Z"
   },
   {
    "duration": 4,
    "start_time": "2022-03-31T08:02:43.928Z"
   },
   {
    "duration": 153,
    "start_time": "2022-03-31T08:02:43.934Z"
   },
   {
    "duration": 8,
    "start_time": "2022-03-31T08:02:44.089Z"
   },
   {
    "duration": 11,
    "start_time": "2022-03-31T08:02:44.099Z"
   },
   {
    "duration": 90,
    "start_time": "2022-03-31T08:02:44.112Z"
   },
   {
    "duration": 76,
    "start_time": "2022-03-31T08:02:44.204Z"
   },
   {
    "duration": 14,
    "start_time": "2022-03-31T08:02:44.282Z"
   },
   {
    "duration": 92,
    "start_time": "2022-03-31T08:02:44.298Z"
   },
   {
    "duration": 4,
    "start_time": "2022-03-31T08:02:44.391Z"
   },
   {
    "duration": 13,
    "start_time": "2022-03-31T08:02:44.396Z"
   },
   {
    "duration": 44,
    "start_time": "2022-03-31T08:02:44.412Z"
   },
   {
    "duration": 9,
    "start_time": "2022-03-31T08:02:44.458Z"
   },
   {
    "duration": 17,
    "start_time": "2022-03-31T08:02:44.468Z"
   },
   {
    "duration": 19,
    "start_time": "2022-03-31T08:02:44.486Z"
   },
   {
    "duration": 202,
    "start_time": "2022-03-31T08:02:44.506Z"
   },
   {
    "duration": 29,
    "start_time": "2022-03-31T08:02:44.709Z"
   },
   {
    "duration": 5,
    "start_time": "2022-03-31T08:02:44.739Z"
   },
   {
    "duration": 16,
    "start_time": "2022-03-31T08:02:44.746Z"
   },
   {
    "duration": 31,
    "start_time": "2022-03-31T08:02:44.763Z"
   },
   {
    "duration": 20,
    "start_time": "2022-03-31T08:02:44.796Z"
   },
   {
    "duration": 37,
    "start_time": "2022-03-31T08:02:44.817Z"
   },
   {
    "duration": 18,
    "start_time": "2022-03-31T08:02:44.855Z"
   },
   {
    "duration": 25,
    "start_time": "2022-03-31T08:02:44.875Z"
   },
   {
    "duration": 89,
    "start_time": "2022-03-31T08:02:44.901Z"
   },
   {
    "duration": 54,
    "start_time": "2022-03-31T08:02:44.992Z"
   },
   {
    "duration": 4,
    "start_time": "2022-03-31T08:02:45.048Z"
   },
   {
    "duration": 11,
    "start_time": "2022-03-31T08:02:45.054Z"
   },
   {
    "duration": 83,
    "start_time": "2022-03-31T08:02:45.067Z"
   },
   {
    "duration": 9,
    "start_time": "2022-03-31T08:02:45.153Z"
   },
   {
    "duration": 8,
    "start_time": "2022-03-31T08:02:45.163Z"
   },
   {
    "duration": 12,
    "start_time": "2022-03-31T08:02:45.173Z"
   },
   {
    "duration": 7,
    "start_time": "2022-03-31T08:02:45.187Z"
   },
   {
    "duration": 8,
    "start_time": "2022-03-31T08:02:45.196Z"
   },
   {
    "duration": 38,
    "start_time": "2022-03-31T08:02:45.205Z"
   },
   {
    "duration": 8,
    "start_time": "2022-03-31T08:03:35.131Z"
   },
   {
    "duration": 11,
    "start_time": "2022-03-31T08:04:23.136Z"
   },
   {
    "duration": 5,
    "start_time": "2022-03-31T08:06:06.788Z"
   },
   {
    "duration": 143,
    "start_time": "2022-03-31T08:06:06.795Z"
   },
   {
    "duration": 7,
    "start_time": "2022-03-31T08:06:06.940Z"
   },
   {
    "duration": 4,
    "start_time": "2022-03-31T08:06:06.949Z"
   },
   {
    "duration": 104,
    "start_time": "2022-03-31T08:06:06.955Z"
   },
   {
    "duration": 82,
    "start_time": "2022-03-31T08:06:07.061Z"
   },
   {
    "duration": 17,
    "start_time": "2022-03-31T08:06:07.145Z"
   },
   {
    "duration": 100,
    "start_time": "2022-03-31T08:06:07.164Z"
   },
   {
    "duration": 4,
    "start_time": "2022-03-31T08:06:07.266Z"
   },
   {
    "duration": 11,
    "start_time": "2022-03-31T08:06:07.274Z"
   },
   {
    "duration": 63,
    "start_time": "2022-03-31T08:06:07.286Z"
   },
   {
    "duration": 8,
    "start_time": "2022-03-31T08:06:07.351Z"
   },
   {
    "duration": 19,
    "start_time": "2022-03-31T08:06:07.361Z"
   },
   {
    "duration": 26,
    "start_time": "2022-03-31T08:06:07.382Z"
   },
   {
    "duration": 215,
    "start_time": "2022-03-31T08:06:07.410Z"
   },
   {
    "duration": 28,
    "start_time": "2022-03-31T08:06:07.627Z"
   },
   {
    "duration": 4,
    "start_time": "2022-03-31T08:06:07.657Z"
   },
   {
    "duration": 11,
    "start_time": "2022-03-31T08:06:07.663Z"
   },
   {
    "duration": 34,
    "start_time": "2022-03-31T08:06:07.675Z"
   },
   {
    "duration": 43,
    "start_time": "2022-03-31T08:06:07.711Z"
   },
   {
    "duration": 19,
    "start_time": "2022-03-31T08:06:07.756Z"
   },
   {
    "duration": 19,
    "start_time": "2022-03-31T08:06:07.776Z"
   },
   {
    "duration": 50,
    "start_time": "2022-03-31T08:06:07.797Z"
   },
   {
    "duration": 64,
    "start_time": "2022-03-31T08:06:07.849Z"
   },
   {
    "duration": 25,
    "start_time": "2022-03-31T08:06:07.915Z"
   },
   {
    "duration": 0,
    "start_time": "2022-03-31T08:06:07.942Z"
   },
   {
    "duration": 0,
    "start_time": "2022-03-31T08:06:07.944Z"
   },
   {
    "duration": 0,
    "start_time": "2022-03-31T08:06:07.945Z"
   },
   {
    "duration": 0,
    "start_time": "2022-03-31T08:06:07.946Z"
   },
   {
    "duration": 0,
    "start_time": "2022-03-31T08:06:07.948Z"
   },
   {
    "duration": 0,
    "start_time": "2022-03-31T08:06:07.949Z"
   },
   {
    "duration": 0,
    "start_time": "2022-03-31T08:06:07.950Z"
   },
   {
    "duration": 0,
    "start_time": "2022-03-31T08:06:07.951Z"
   },
   {
    "duration": 0,
    "start_time": "2022-03-31T08:06:07.953Z"
   },
   {
    "duration": 0,
    "start_time": "2022-03-31T08:06:07.954Z"
   },
   {
    "duration": 0,
    "start_time": "2022-03-31T08:06:07.955Z"
   },
   {
    "duration": 58,
    "start_time": "2022-03-31T08:08:32.669Z"
   },
   {
    "duration": 61,
    "start_time": "2022-03-31T08:08:51.444Z"
   },
   {
    "duration": 55,
    "start_time": "2022-03-31T08:08:55.761Z"
   },
   {
    "duration": 6,
    "start_time": "2022-03-31T08:09:31.152Z"
   },
   {
    "duration": 60,
    "start_time": "2022-03-31T08:10:03.483Z"
   },
   {
    "duration": 56,
    "start_time": "2022-03-31T08:10:16.563Z"
   },
   {
    "duration": 7,
    "start_time": "2022-03-31T08:10:19.967Z"
   },
   {
    "duration": 59,
    "start_time": "2022-03-31T08:17:57.361Z"
   },
   {
    "duration": 8,
    "start_time": "2022-03-31T08:18:15.063Z"
   },
   {
    "duration": 5,
    "start_time": "2022-03-31T08:24:40.323Z"
   },
   {
    "duration": 4,
    "start_time": "2022-03-31T08:24:53.659Z"
   },
   {
    "duration": 4,
    "start_time": "2022-03-31T08:25:08.977Z"
   },
   {
    "duration": 5,
    "start_time": "2022-03-31T08:25:31.912Z"
   },
   {
    "duration": 4,
    "start_time": "2022-03-31T08:25:48.359Z"
   },
   {
    "duration": 4,
    "start_time": "2022-03-31T08:25:56.868Z"
   },
   {
    "duration": 8,
    "start_time": "2022-03-31T08:29:11.699Z"
   },
   {
    "duration": 60,
    "start_time": "2022-03-31T08:29:15.641Z"
   },
   {
    "duration": 10,
    "start_time": "2022-03-31T08:29:18.881Z"
   },
   {
    "duration": 56,
    "start_time": "2022-03-31T08:29:40.303Z"
   },
   {
    "duration": 9,
    "start_time": "2022-03-31T08:29:43.299Z"
   },
   {
    "duration": 42,
    "start_time": "2022-03-31T08:34:57.693Z"
   },
   {
    "duration": 41,
    "start_time": "2022-03-31T08:35:08.161Z"
   },
   {
    "duration": 82,
    "start_time": "2022-03-31T08:35:45.813Z"
   },
   {
    "duration": 178,
    "start_time": "2022-03-31T08:40:06.856Z"
   },
   {
    "duration": 118,
    "start_time": "2022-03-31T08:41:02.996Z"
   },
   {
    "duration": 115,
    "start_time": "2022-03-31T08:41:27.336Z"
   },
   {
    "duration": 113,
    "start_time": "2022-03-31T08:41:33.361Z"
   },
   {
    "duration": 4,
    "start_time": "2022-03-31T08:42:10.193Z"
   },
   {
    "duration": 3,
    "start_time": "2022-03-31T08:42:26.593Z"
   },
   {
    "duration": 5,
    "start_time": "2022-03-31T08:42:34.735Z"
   },
   {
    "duration": 4,
    "start_time": "2022-03-31T08:42:55.750Z"
   },
   {
    "duration": 4,
    "start_time": "2022-03-31T08:43:51.803Z"
   },
   {
    "duration": 5,
    "start_time": "2022-03-31T08:44:06.586Z"
   },
   {
    "duration": 4,
    "start_time": "2022-03-31T08:44:30.287Z"
   },
   {
    "duration": 8,
    "start_time": "2022-03-31T08:45:36.748Z"
   },
   {
    "duration": 10,
    "start_time": "2022-03-31T08:45:40.777Z"
   },
   {
    "duration": 9,
    "start_time": "2022-03-31T08:46:03.864Z"
   },
   {
    "duration": 7,
    "start_time": "2022-03-31T08:46:10.762Z"
   },
   {
    "duration": 8,
    "start_time": "2022-03-31T08:46:21.306Z"
   },
   {
    "duration": 8,
    "start_time": "2022-03-31T08:47:26.953Z"
   },
   {
    "duration": 3,
    "start_time": "2022-03-31T08:55:38.562Z"
   },
   {
    "duration": 4,
    "start_time": "2022-03-31T08:55:44.862Z"
   },
   {
    "duration": 9,
    "start_time": "2022-03-31T08:56:17.199Z"
   },
   {
    "duration": 10,
    "start_time": "2022-03-31T08:56:32.268Z"
   },
   {
    "duration": 5,
    "start_time": "2022-03-31T08:57:24.135Z"
   },
   {
    "duration": 5,
    "start_time": "2022-03-31T08:57:28.111Z"
   },
   {
    "duration": 7,
    "start_time": "2022-03-31T08:57:44.573Z"
   },
   {
    "duration": 4,
    "start_time": "2022-03-31T08:57:52.671Z"
   },
   {
    "duration": 153,
    "start_time": "2022-03-31T08:57:52.677Z"
   },
   {
    "duration": 8,
    "start_time": "2022-03-31T08:57:52.831Z"
   },
   {
    "duration": 9,
    "start_time": "2022-03-31T08:57:52.841Z"
   },
   {
    "duration": 101,
    "start_time": "2022-03-31T08:57:52.852Z"
   },
   {
    "duration": 67,
    "start_time": "2022-03-31T08:57:52.954Z"
   },
   {
    "duration": 17,
    "start_time": "2022-03-31T08:57:53.038Z"
   },
   {
    "duration": 99,
    "start_time": "2022-03-31T08:57:53.057Z"
   },
   {
    "duration": 4,
    "start_time": "2022-03-31T08:57:53.159Z"
   },
   {
    "duration": 13,
    "start_time": "2022-03-31T08:57:53.164Z"
   },
   {
    "duration": 33,
    "start_time": "2022-03-31T08:57:53.179Z"
   },
   {
    "duration": 29,
    "start_time": "2022-03-31T08:57:53.214Z"
   },
   {
    "duration": 18,
    "start_time": "2022-03-31T08:57:53.244Z"
   },
   {
    "duration": 23,
    "start_time": "2022-03-31T08:57:53.263Z"
   },
   {
    "duration": 196,
    "start_time": "2022-03-31T08:57:53.287Z"
   },
   {
    "duration": 31,
    "start_time": "2022-03-31T08:57:53.486Z"
   },
   {
    "duration": 6,
    "start_time": "2022-03-31T08:57:53.519Z"
   },
   {
    "duration": 21,
    "start_time": "2022-03-31T08:57:53.526Z"
   },
   {
    "duration": 54,
    "start_time": "2022-03-31T08:57:53.549Z"
   },
   {
    "duration": 21,
    "start_time": "2022-03-31T08:57:53.605Z"
   },
   {
    "duration": 27,
    "start_time": "2022-03-31T08:57:53.628Z"
   },
   {
    "duration": 19,
    "start_time": "2022-03-31T08:57:53.656Z"
   },
   {
    "duration": 26,
    "start_time": "2022-03-31T08:57:53.676Z"
   },
   {
    "duration": 88,
    "start_time": "2022-03-31T08:57:53.705Z"
   },
   {
    "duration": 9,
    "start_time": "2022-03-31T08:57:53.795Z"
   },
   {
    "duration": 0,
    "start_time": "2022-03-31T08:57:53.806Z"
   },
   {
    "duration": 0,
    "start_time": "2022-03-31T08:57:53.807Z"
   },
   {
    "duration": 0,
    "start_time": "2022-03-31T08:57:53.808Z"
   },
   {
    "duration": 0,
    "start_time": "2022-03-31T08:57:53.809Z"
   },
   {
    "duration": 0,
    "start_time": "2022-03-31T08:57:53.810Z"
   },
   {
    "duration": 0,
    "start_time": "2022-03-31T08:57:53.838Z"
   },
   {
    "duration": 0,
    "start_time": "2022-03-31T08:57:53.839Z"
   },
   {
    "duration": 0,
    "start_time": "2022-03-31T08:57:53.840Z"
   },
   {
    "duration": 0,
    "start_time": "2022-03-31T08:57:53.841Z"
   },
   {
    "duration": 0,
    "start_time": "2022-03-31T08:57:53.842Z"
   },
   {
    "duration": 0,
    "start_time": "2022-03-31T08:57:53.843Z"
   },
   {
    "duration": 3,
    "start_time": "2022-03-31T08:58:08.075Z"
   },
   {
    "duration": 9,
    "start_time": "2022-03-31T08:58:13.323Z"
   },
   {
    "duration": 7,
    "start_time": "2022-03-31T08:58:16.235Z"
   },
   {
    "duration": 11,
    "start_time": "2022-03-31T09:17:15.318Z"
   },
   {
    "duration": 13,
    "start_time": "2022-03-31T09:17:57.283Z"
   },
   {
    "duration": 9,
    "start_time": "2022-03-31T09:19:14.972Z"
   },
   {
    "duration": 6,
    "start_time": "2022-03-31T09:23:12.155Z"
   },
   {
    "duration": 10,
    "start_time": "2022-03-31T09:23:13.874Z"
   },
   {
    "duration": 3,
    "start_time": "2022-03-31T09:28:08.930Z"
   },
   {
    "duration": 155,
    "start_time": "2022-03-31T09:28:08.936Z"
   },
   {
    "duration": 8,
    "start_time": "2022-03-31T09:28:09.093Z"
   },
   {
    "duration": 7,
    "start_time": "2022-03-31T09:28:09.103Z"
   },
   {
    "duration": 104,
    "start_time": "2022-03-31T09:28:09.112Z"
   },
   {
    "duration": 76,
    "start_time": "2022-03-31T09:28:09.219Z"
   },
   {
    "duration": 17,
    "start_time": "2022-03-31T09:28:09.297Z"
   },
   {
    "duration": 180,
    "start_time": "2022-03-31T09:28:09.316Z"
   },
   {
    "duration": 3,
    "start_time": "2022-03-31T09:28:09.498Z"
   },
   {
    "duration": 11,
    "start_time": "2022-03-31T09:28:09.503Z"
   },
   {
    "duration": 33,
    "start_time": "2022-03-31T09:28:09.538Z"
   },
   {
    "duration": 8,
    "start_time": "2022-03-31T09:28:09.572Z"
   },
   {
    "duration": 19,
    "start_time": "2022-03-31T09:28:09.581Z"
   },
   {
    "duration": 40,
    "start_time": "2022-03-31T09:28:09.602Z"
   },
   {
    "duration": 212,
    "start_time": "2022-03-31T09:28:09.644Z"
   },
   {
    "duration": 23,
    "start_time": "2022-03-31T09:28:09.857Z"
   },
   {
    "duration": 4,
    "start_time": "2022-03-31T09:28:09.882Z"
   },
   {
    "duration": 10,
    "start_time": "2022-03-31T09:28:09.888Z"
   },
   {
    "duration": 60,
    "start_time": "2022-03-31T09:28:09.900Z"
   },
   {
    "duration": 23,
    "start_time": "2022-03-31T09:28:09.962Z"
   },
   {
    "duration": 22,
    "start_time": "2022-03-31T09:28:09.987Z"
   },
   {
    "duration": 46,
    "start_time": "2022-03-31T09:28:10.011Z"
   },
   {
    "duration": 27,
    "start_time": "2022-03-31T09:28:10.060Z"
   },
   {
    "duration": 92,
    "start_time": "2022-03-31T09:28:10.089Z"
   },
   {
    "duration": 10,
    "start_time": "2022-03-31T09:28:10.183Z"
   },
   {
    "duration": 0,
    "start_time": "2022-03-31T09:28:10.195Z"
   },
   {
    "duration": 0,
    "start_time": "2022-03-31T09:28:10.197Z"
   },
   {
    "duration": 0,
    "start_time": "2022-03-31T09:28:10.198Z"
   },
   {
    "duration": 0,
    "start_time": "2022-03-31T09:28:10.200Z"
   },
   {
    "duration": 0,
    "start_time": "2022-03-31T09:28:10.201Z"
   },
   {
    "duration": 0,
    "start_time": "2022-03-31T09:28:10.202Z"
   },
   {
    "duration": 0,
    "start_time": "2022-03-31T09:28:10.204Z"
   },
   {
    "duration": 0,
    "start_time": "2022-03-31T09:28:10.205Z"
   },
   {
    "duration": 0,
    "start_time": "2022-03-31T09:28:10.206Z"
   },
   {
    "duration": 0,
    "start_time": "2022-03-31T09:28:10.208Z"
   },
   {
    "duration": 0,
    "start_time": "2022-03-31T09:28:10.209Z"
   },
   {
    "duration": 57,
    "start_time": "2022-03-31T09:34:15.309Z"
   },
   {
    "duration": 58,
    "start_time": "2022-03-31T09:34:34.065Z"
   },
   {
    "duration": 61,
    "start_time": "2022-03-31T09:34:43.228Z"
   },
   {
    "duration": 3,
    "start_time": "2022-03-31T09:35:00.923Z"
   },
   {
    "duration": 10,
    "start_time": "2022-03-31T09:35:06.106Z"
   },
   {
    "duration": 8,
    "start_time": "2022-03-31T09:35:36.585Z"
   },
   {
    "duration": 3,
    "start_time": "2022-03-31T09:35:41.851Z"
   },
   {
    "duration": 12,
    "start_time": "2022-03-31T09:36:52.605Z"
   },
   {
    "duration": 4,
    "start_time": "2022-03-31T09:37:47.202Z"
   },
   {
    "duration": 155,
    "start_time": "2022-03-31T09:37:47.208Z"
   },
   {
    "duration": 8,
    "start_time": "2022-03-31T09:37:47.364Z"
   },
   {
    "duration": 5,
    "start_time": "2022-03-31T09:37:47.374Z"
   },
   {
    "duration": 107,
    "start_time": "2022-03-31T09:37:47.381Z"
   },
   {
    "duration": 82,
    "start_time": "2022-03-31T09:37:47.490Z"
   },
   {
    "duration": 17,
    "start_time": "2022-03-31T09:37:47.573Z"
   },
   {
    "duration": 98,
    "start_time": "2022-03-31T09:37:47.592Z"
   },
   {
    "duration": 4,
    "start_time": "2022-03-31T09:37:47.692Z"
   },
   {
    "duration": 11,
    "start_time": "2022-03-31T09:37:47.698Z"
   },
   {
    "duration": 44,
    "start_time": "2022-03-31T09:37:47.710Z"
   },
   {
    "duration": 7,
    "start_time": "2022-03-31T09:37:47.756Z"
   },
   {
    "duration": 17,
    "start_time": "2022-03-31T09:37:47.764Z"
   },
   {
    "duration": 20,
    "start_time": "2022-03-31T09:37:47.783Z"
   },
   {
    "duration": 233,
    "start_time": "2022-03-31T09:37:47.804Z"
   },
   {
    "duration": 21,
    "start_time": "2022-03-31T09:37:48.040Z"
   },
   {
    "duration": 5,
    "start_time": "2022-03-31T09:37:48.063Z"
   },
   {
    "duration": 13,
    "start_time": "2022-03-31T09:37:48.069Z"
   },
   {
    "duration": 70,
    "start_time": "2022-03-31T09:37:48.084Z"
   },
   {
    "duration": 23,
    "start_time": "2022-03-31T09:37:48.155Z"
   },
   {
    "duration": 20,
    "start_time": "2022-03-31T09:37:48.180Z"
   },
   {
    "duration": 48,
    "start_time": "2022-03-31T09:37:48.202Z"
   },
   {
    "duration": 27,
    "start_time": "2022-03-31T09:37:48.252Z"
   },
   {
    "duration": 87,
    "start_time": "2022-03-31T09:37:48.283Z"
   },
   {
    "duration": 2,
    "start_time": "2022-03-31T09:37:48.372Z"
   },
   {
    "duration": 17,
    "start_time": "2022-03-31T09:37:48.376Z"
   },
   {
    "duration": 69,
    "start_time": "2022-03-31T09:37:48.395Z"
   },
   {
    "duration": 8,
    "start_time": "2022-03-31T09:37:48.466Z"
   },
   {
    "duration": 18,
    "start_time": "2022-03-31T09:37:48.476Z"
   },
   {
    "duration": 83,
    "start_time": "2022-03-31T09:37:48.496Z"
   },
   {
    "duration": 11,
    "start_time": "2022-03-31T09:37:48.581Z"
   },
   {
    "duration": 6,
    "start_time": "2022-03-31T09:37:48.594Z"
   },
   {
    "duration": 12,
    "start_time": "2022-03-31T09:37:48.602Z"
   },
   {
    "duration": 32,
    "start_time": "2022-03-31T09:37:48.616Z"
   },
   {
    "duration": 17,
    "start_time": "2022-03-31T09:37:48.650Z"
   },
   {
    "duration": 15,
    "start_time": "2022-03-31T09:37:48.670Z"
   },
   {
    "duration": 1168,
    "start_time": "2022-03-31T22:57:38.914Z"
   },
   {
    "duration": 220,
    "start_time": "2022-03-31T22:57:40.084Z"
   },
   {
    "duration": 9,
    "start_time": "2022-03-31T22:57:40.305Z"
   },
   {
    "duration": 9,
    "start_time": "2022-03-31T22:57:40.316Z"
   },
   {
    "duration": 149,
    "start_time": "2022-03-31T22:57:40.327Z"
   },
   {
    "duration": 105,
    "start_time": "2022-03-31T22:57:40.478Z"
   },
   {
    "duration": 17,
    "start_time": "2022-03-31T22:57:40.585Z"
   },
   {
    "duration": 96,
    "start_time": "2022-03-31T22:57:40.604Z"
   },
   {
    "duration": 4,
    "start_time": "2022-03-31T22:57:40.701Z"
   },
   {
    "duration": 17,
    "start_time": "2022-03-31T22:57:40.707Z"
   },
   {
    "duration": 45,
    "start_time": "2022-03-31T22:57:40.726Z"
   },
   {
    "duration": 7,
    "start_time": "2022-03-31T22:57:40.773Z"
   },
   {
    "duration": 16,
    "start_time": "2022-03-31T22:57:40.782Z"
   },
   {
    "duration": 17,
    "start_time": "2022-03-31T22:57:40.800Z"
   },
   {
    "duration": 284,
    "start_time": "2022-03-31T22:57:40.819Z"
   },
   {
    "duration": 21,
    "start_time": "2022-03-31T22:57:41.105Z"
   },
   {
    "duration": 4,
    "start_time": "2022-03-31T22:57:41.128Z"
   },
   {
    "duration": 11,
    "start_time": "2022-03-31T22:57:41.133Z"
   },
   {
    "duration": 36,
    "start_time": "2022-03-31T22:57:41.163Z"
   },
   {
    "duration": 21,
    "start_time": "2022-03-31T22:57:41.200Z"
   },
   {
    "duration": 41,
    "start_time": "2022-03-31T22:57:41.223Z"
   },
   {
    "duration": 21,
    "start_time": "2022-03-31T22:57:41.265Z"
   },
   {
    "duration": 25,
    "start_time": "2022-03-31T22:57:41.288Z"
   },
   {
    "duration": 89,
    "start_time": "2022-03-31T22:57:41.314Z"
   },
   {
    "duration": 2,
    "start_time": "2022-03-31T22:57:41.405Z"
   },
   {
    "duration": 6024,
    "start_time": "2022-03-31T22:57:41.409Z"
   },
   {
    "duration": 59,
    "start_time": "2022-03-31T22:57:47.435Z"
   },
   {
    "duration": 5,
    "start_time": "2022-03-31T22:57:47.498Z"
   },
   {
    "duration": 59,
    "start_time": "2022-03-31T22:57:47.505Z"
   },
   {
    "duration": 124,
    "start_time": "2022-03-31T22:57:47.566Z"
   },
   {
    "duration": 8,
    "start_time": "2022-03-31T22:57:47.692Z"
   },
   {
    "duration": 12,
    "start_time": "2022-03-31T22:57:47.702Z"
   },
   {
    "duration": 18,
    "start_time": "2022-03-31T22:57:47.715Z"
   },
   {
    "duration": 12,
    "start_time": "2022-03-31T22:57:47.735Z"
   },
   {
    "duration": 24,
    "start_time": "2022-03-31T22:57:47.749Z"
   },
   {
    "duration": 14,
    "start_time": "2022-03-31T22:57:47.774Z"
   },
   {
    "duration": 782,
    "start_time": "2022-03-31T22:58:06.346Z"
   },
   {
    "duration": 167,
    "start_time": "2022-03-31T22:58:16.806Z"
   },
   {
    "duration": 4377,
    "start_time": "2022-03-31T22:59:05.305Z"
   },
   {
    "duration": 165,
    "start_time": "2022-03-31T22:59:19.503Z"
   },
   {
    "duration": 135,
    "start_time": "2022-03-31T23:02:10.748Z"
   },
   {
    "duration": 4507,
    "start_time": "2022-03-31T23:02:19.231Z"
   },
   {
    "duration": 1321,
    "start_time": "2022-03-31T23:02:30.954Z"
   },
   {
    "duration": 265,
    "start_time": "2022-03-31T23:02:42.690Z"
   },
   {
    "duration": 167,
    "start_time": "2022-03-31T23:02:54.873Z"
   },
   {
    "duration": 5027,
    "start_time": "2022-03-31T23:04:24.060Z"
   },
   {
    "duration": 4739,
    "start_time": "2022-03-31T23:04:45.259Z"
   },
   {
    "duration": 4830,
    "start_time": "2022-03-31T23:04:58.008Z"
   },
   {
    "duration": 5011,
    "start_time": "2022-03-31T23:05:18.934Z"
   },
   {
    "duration": 6600,
    "start_time": "2022-03-31T23:05:40.365Z"
   },
   {
    "duration": 4681,
    "start_time": "2022-03-31T23:06:13.229Z"
   },
   {
    "duration": 5166,
    "start_time": "2022-03-31T23:06:29.643Z"
   },
   {
    "duration": 6274,
    "start_time": "2022-03-31T23:07:53.179Z"
   },
   {
    "duration": 5364,
    "start_time": "2022-03-31T23:08:08.207Z"
   },
   {
    "duration": 5448,
    "start_time": "2022-03-31T23:08:29.435Z"
   },
   {
    "duration": 4596,
    "start_time": "2022-03-31T23:08:55.471Z"
   },
   {
    "duration": 6599,
    "start_time": "2022-03-31T23:09:12.024Z"
   },
   {
    "duration": 6750,
    "start_time": "2022-03-31T23:09:25.149Z"
   },
   {
    "duration": 6780,
    "start_time": "2022-03-31T23:09:41.640Z"
   },
   {
    "duration": 6810,
    "start_time": "2022-03-31T23:09:55.650Z"
   },
   {
    "duration": 14,
    "start_time": "2022-03-31T23:16:26.813Z"
   },
   {
    "duration": 13,
    "start_time": "2022-03-31T23:16:35.205Z"
   },
   {
    "duration": 71,
    "start_time": "2022-04-01T07:16:16.441Z"
   },
   {
    "duration": 1967,
    "start_time": "2022-04-01T07:16:26.406Z"
   },
   {
    "duration": 211,
    "start_time": "2022-04-01T07:16:28.376Z"
   },
   {
    "duration": 11,
    "start_time": "2022-04-01T07:16:28.589Z"
   },
   {
    "duration": 28,
    "start_time": "2022-04-01T07:16:28.603Z"
   },
   {
    "duration": 168,
    "start_time": "2022-04-01T07:16:28.633Z"
   },
   {
    "duration": 133,
    "start_time": "2022-04-01T07:16:28.803Z"
   },
   {
    "duration": 22,
    "start_time": "2022-04-01T07:16:28.939Z"
   },
   {
    "duration": 146,
    "start_time": "2022-04-01T07:16:28.963Z"
   },
   {
    "duration": 5,
    "start_time": "2022-04-01T07:16:29.111Z"
   },
   {
    "duration": 27,
    "start_time": "2022-04-01T07:16:29.119Z"
   },
   {
    "duration": 38,
    "start_time": "2022-04-01T07:16:29.148Z"
   },
   {
    "duration": 19,
    "start_time": "2022-04-01T07:16:29.188Z"
   },
   {
    "duration": 37,
    "start_time": "2022-04-01T07:16:29.210Z"
   },
   {
    "duration": 22,
    "start_time": "2022-04-01T07:16:29.249Z"
   },
   {
    "duration": 29,
    "start_time": "2022-04-01T07:16:29.273Z"
   },
   {
    "duration": 444,
    "start_time": "2022-04-01T07:16:29.304Z"
   },
   {
    "duration": 9350,
    "start_time": "2022-04-01T07:16:29.750Z"
   },
   {
    "duration": 31,
    "start_time": "2022-04-01T07:16:39.102Z"
   },
   {
    "duration": 5,
    "start_time": "2022-04-01T07:16:39.135Z"
   },
   {
    "duration": 42,
    "start_time": "2022-04-01T07:16:39.142Z"
   },
   {
    "duration": 49,
    "start_time": "2022-04-01T07:16:39.186Z"
   },
   {
    "duration": 156,
    "start_time": "2022-04-01T07:16:39.237Z"
   },
   {
    "duration": 31,
    "start_time": "2022-04-01T07:16:39.395Z"
   },
   {
    "duration": 57,
    "start_time": "2022-04-01T07:16:39.428Z"
   },
   {
    "duration": 35,
    "start_time": "2022-04-01T07:16:39.487Z"
   },
   {
    "duration": 134,
    "start_time": "2022-04-01T07:16:39.524Z"
   },
   {
    "duration": 4,
    "start_time": "2022-04-01T07:16:39.660Z"
   },
   {
    "duration": 345,
    "start_time": "2022-04-01T07:16:39.669Z"
   },
   {
    "duration": 82,
    "start_time": "2022-04-01T07:16:40.017Z"
   },
   {
    "duration": 7,
    "start_time": "2022-04-01T07:16:40.102Z"
   },
   {
    "duration": 20,
    "start_time": "2022-04-01T07:16:40.111Z"
   },
   {
    "duration": 187,
    "start_time": "2022-04-01T07:16:40.133Z"
   },
   {
    "duration": 16,
    "start_time": "2022-04-01T07:16:40.322Z"
   },
   {
    "duration": 8,
    "start_time": "2022-04-01T07:16:40.340Z"
   },
   {
    "duration": 42,
    "start_time": "2022-04-01T07:16:40.350Z"
   },
   {
    "duration": 14,
    "start_time": "2022-04-01T07:16:40.394Z"
   },
   {
    "duration": 14,
    "start_time": "2022-04-01T07:16:40.411Z"
   },
   {
    "duration": 15,
    "start_time": "2022-04-01T07:16:40.428Z"
   },
   {
    "duration": 8488,
    "start_time": "2022-04-01T07:18:05.272Z"
   },
   {
    "duration": 5,
    "start_time": "2022-04-01T07:19:59.033Z"
   },
   {
    "duration": 217,
    "start_time": "2022-04-01T07:19:59.040Z"
   },
   {
    "duration": 24,
    "start_time": "2022-04-01T07:19:59.260Z"
   },
   {
    "duration": 4,
    "start_time": "2022-04-01T07:19:59.287Z"
   },
   {
    "duration": 148,
    "start_time": "2022-04-01T07:19:59.294Z"
   },
   {
    "duration": 105,
    "start_time": "2022-04-01T07:19:59.444Z"
   },
   {
    "duration": 34,
    "start_time": "2022-04-01T07:19:59.551Z"
   },
   {
    "duration": 132,
    "start_time": "2022-04-01T07:19:59.587Z"
   },
   {
    "duration": 5,
    "start_time": "2022-04-01T07:19:59.723Z"
   },
   {
    "duration": 17,
    "start_time": "2022-04-01T07:19:59.730Z"
   },
   {
    "duration": 41,
    "start_time": "2022-04-01T07:19:59.749Z"
   },
   {
    "duration": 10,
    "start_time": "2022-04-01T07:19:59.793Z"
   },
   {
    "duration": 23,
    "start_time": "2022-04-01T07:19:59.805Z"
   },
   {
    "duration": 53,
    "start_time": "2022-04-01T07:19:59.831Z"
   },
   {
    "duration": 316,
    "start_time": "2022-04-01T07:19:59.886Z"
   },
   {
    "duration": 8497,
    "start_time": "2022-04-01T07:20:00.204Z"
   },
   {
    "duration": 29,
    "start_time": "2022-04-01T07:20:08.703Z"
   },
   {
    "duration": 5,
    "start_time": "2022-04-01T07:20:08.735Z"
   },
   {
    "duration": 43,
    "start_time": "2022-04-01T07:20:08.742Z"
   },
   {
    "duration": 44,
    "start_time": "2022-04-01T07:20:08.788Z"
   },
   {
    "duration": 57,
    "start_time": "2022-04-01T07:20:08.834Z"
   },
   {
    "duration": 32,
    "start_time": "2022-04-01T07:20:08.893Z"
   },
   {
    "duration": 57,
    "start_time": "2022-04-01T07:20:08.928Z"
   },
   {
    "duration": 35,
    "start_time": "2022-04-01T07:20:08.990Z"
   },
   {
    "duration": 128,
    "start_time": "2022-04-01T07:20:09.028Z"
   },
   {
    "duration": 4,
    "start_time": "2022-04-01T07:20:09.158Z"
   },
   {
    "duration": 27,
    "start_time": "2022-04-01T07:20:09.164Z"
   },
   {
    "duration": 52,
    "start_time": "2022-04-01T07:20:09.194Z"
   },
   {
    "duration": 6,
    "start_time": "2022-04-01T07:20:09.249Z"
   },
   {
    "duration": 27,
    "start_time": "2022-04-01T07:20:09.258Z"
   },
   {
    "duration": 124,
    "start_time": "2022-04-01T07:20:09.287Z"
   },
   {
    "duration": 14,
    "start_time": "2022-04-01T07:20:09.414Z"
   },
   {
    "duration": 8,
    "start_time": "2022-04-01T07:20:09.431Z"
   },
   {
    "duration": 43,
    "start_time": "2022-04-01T07:20:09.441Z"
   },
   {
    "duration": 12,
    "start_time": "2022-04-01T07:20:09.486Z"
   },
   {
    "duration": 14,
    "start_time": "2022-04-01T07:20:09.500Z"
   },
   {
    "duration": 17,
    "start_time": "2022-04-01T07:20:09.517Z"
   }
  ],
  "kernelspec": {
   "display_name": "Python 3 (ipykernel)",
   "language": "python",
   "name": "python3"
  },
  "language_info": {
   "codemirror_mode": {
    "name": "ipython",
    "version": 3
   },
   "file_extension": ".py",
   "mimetype": "text/x-python",
   "name": "python",
   "nbconvert_exporter": "python",
   "pygments_lexer": "ipython3",
   "version": "3.9.5"
  },
  "toc": {
   "base_numbering": 1,
   "nav_menu": {
    "height": "102px",
    "width": "226px"
   },
   "number_sections": true,
   "sideBar": true,
   "skip_h1_title": true,
   "title_cell": "Table of Contents",
   "title_sidebar": "Contents",
   "toc_cell": true,
   "toc_position": {},
   "toc_section_display": true,
   "toc_window_display": true
  }
 },
 "nbformat": 4,
 "nbformat_minor": 2
}
