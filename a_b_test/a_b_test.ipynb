{
 "cells": [
  {
   "cell_type": "markdown",
   "metadata": {
    "toc": true
   },
   "source": [
    "<h1>Table of Contents<span class=\"tocSkip\"></span></h1>\n",
    "<div class=\"toc\"><ul class=\"toc-item\"><li><span><a href=\"#Обзор-данных\" data-toc-modified-id=\"Обзор-данных-1\"><span class=\"toc-item-num\">1&nbsp;&nbsp;</span><a id=\"all-data\">Обзор данных</a></a></span></li><li><span><a href=\"#Приоритизация-гипотез\" data-toc-modified-id=\"Приоритизация-гипотез-2\"><span class=\"toc-item-num\">2&nbsp;&nbsp;</span><a id=\"#hypothesis\">Приоритизация гипотез</a></a></span></li><li><span><a href=\"#Анализ-A/B-теста\" data-toc-modified-id=\"Анализ-A/B-теста-3\"><span class=\"toc-item-num\">3&nbsp;&nbsp;</span><a id=\"ab\">Анализ A/B-теста</a></a></span><ul class=\"toc-item\"><li><span><a href=\"#График-кумулятивной-выручки-по-группам\" data-toc-modified-id=\"График-кумулятивной-выручки-по-группам-3.1\"><span class=\"toc-item-num\">3.1&nbsp;&nbsp;</span>График кумулятивной выручки по группам</a></span></li><li><span><a href=\"#График-кумулятивного-среднего-чека-по-группам\" data-toc-modified-id=\"График-кумулятивного-среднего-чека-по-группам-3.2\"><span class=\"toc-item-num\">3.2&nbsp;&nbsp;</span>График кумулятивного среднего чека по группам</a></span></li><li><span><a href=\"#График-относительного-изменения-кумулятивного-среднего-чека-группы-B-к-группе-A\" data-toc-modified-id=\"График-относительного-изменения-кумулятивного-среднего-чека-группы-B-к-группе-A-3.3\"><span class=\"toc-item-num\">3.3&nbsp;&nbsp;</span>График относительного изменения кумулятивного среднего чека группы B к группе A</a></span></li><li><span><a href=\"#График-кумулятивной-конверсии-по-группам\" data-toc-modified-id=\"График-кумулятивной-конверсии-по-группам-3.4\"><span class=\"toc-item-num\">3.4&nbsp;&nbsp;</span>График кумулятивной конверсии по группам</a></span></li><li><span><a href=\"#График-относительного-изменения-кумулятивной-конверсии-группы-B-к-группе-A\" data-toc-modified-id=\"График-относительного-изменения-кумулятивной-конверсии-группы-B-к-группе-A-3.5\"><span class=\"toc-item-num\">3.5&nbsp;&nbsp;</span>График относительного изменения кумулятивной конверсии группы B к группе A</a></span></li><li><span><a href=\"#График-количества-заказов-по-пользователям\" data-toc-modified-id=\"График-количества-заказов-по-пользователям-3.6\"><span class=\"toc-item-num\">3.6&nbsp;&nbsp;</span>График количества заказов по пользователям</a></span></li><li><span><a href=\"#95-й-и-99-й-перцентили-количества-заказов-на-пользователя\" data-toc-modified-id=\"95-й-и-99-й-перцентили-количества-заказов-на-пользователя-3.7\"><span class=\"toc-item-num\">3.7&nbsp;&nbsp;</span>95-й и 99-й перцентили количества заказов на пользователя</a></span></li><li><span><a href=\"#Точечный-график-стоимостей-заказов\" data-toc-modified-id=\"Точечный-график-стоимостей-заказов-3.8\"><span class=\"toc-item-num\">3.8&nbsp;&nbsp;</span>Точечный график стоимостей заказов</a></span></li><li><span><a href=\"#95-й-и-99-й-перцентили-стоимости-заказов\" data-toc-modified-id=\"95-й-и-99-й-перцентили-стоимости-заказов-3.9\"><span class=\"toc-item-num\">3.9&nbsp;&nbsp;</span>95-й и 99-й перцентили стоимости заказов</a></span></li><li><span><a href=\"#Статистическая-значимость-различий-в-конверсии-между-группами-по-«сырым»-данным\" data-toc-modified-id=\"Статистическая-значимость-различий-в-конверсии-между-группами-по-«сырым»-данным-3.10\"><span class=\"toc-item-num\">3.10&nbsp;&nbsp;</span>Статистическая значимость различий в конверсии между группами по «сырым» данным</a></span></li><li><span><a href=\"#Статистическая-значимость-различий-в-среднем-чеке-заказа-между-группами-по-«сырым»-данным\" data-toc-modified-id=\"Статистическая-значимость-различий-в-среднем-чеке-заказа-между-группами-по-«сырым»-данным-3.11\"><span class=\"toc-item-num\">3.11&nbsp;&nbsp;</span>Статистическая значимость различий в среднем чеке заказа между группами по «сырым» данным</a></span></li><li><span><a href=\"#Статистическая-значимость-различий-в-конверсии-между-группами-по-«очищенным»-данным\" data-toc-modified-id=\"Статистическая-значимость-различий-в-конверсии-между-группами-по-«очищенным»-данным-3.12\"><span class=\"toc-item-num\">3.12&nbsp;&nbsp;</span>Статистическая значимость различий в конверсии между группами по «очищенным» данным</a></span></li><li><span><a href=\"#Статистическая-значимость-различий-в-среднем-чеке-заказа-между-группами-по-«очищенным»-данным\" data-toc-modified-id=\"Статистическая-значимость-различий-в-среднем-чеке-заказа-между-группами-по-«очищенным»-данным-3.13\"><span class=\"toc-item-num\">3.13&nbsp;&nbsp;</span>Статистическая значимость различий в среднем чеке заказа между группами по «очищенным» данным</a></span></li></ul></li><li><span><a href=\"#Вывод\" data-toc-modified-id=\"Вывод-4\"><span class=\"toc-item-num\">4&nbsp;&nbsp;</span><a id=\"end\">Вывод</a></a></span></li></ul></div>"
   ]
  },
  {
   "cell_type": "markdown",
   "metadata": {},
   "source": [
    "# Анализ результатов A/B-теста\n"
   ]
  },
  {
   "cell_type": "markdown",
   "metadata": {},
   "source": [
    "**Описание исследования** — вместе с отделом маркетинга был подготовлен список гипотез для увеличения выручки интернет-магазина. \n",
    "\n",
    "**Цель исследования** — проверить гипотезы, определить, какие из них могут повлиять на размер выручки магазина. \n",
    "\n",
    "**Ход исследования:**\n",
    " 1. Обзор данных\n",
    " 2. Приоритизация гипотез\n",
    " 3. Проведение A/B-теста\n",
    " 4. Выводы"
   ]
  },
  {
   "cell_type": "markdown",
   "metadata": {},
   "source": [
    "## <a id=\"all-data\">Обзор данных</a>"
   ]
  },
  {
   "cell_type": "code",
   "execution_count": 10,
   "metadata": {},
   "outputs": [],
   "source": [
    "# импортируем библиотеки\n",
    "import pandas as pd \n",
    "import datetime as dt\n",
    "import numpy as np\n",
    "import matplotlib.pyplot as plt\n",
    "from pandas.plotting import register_matplotlib_converters\n",
    "import warnings\n",
    "register_matplotlib_converters()\n",
    "import scipy.stats as stats\n",
    "warnings.filterwarnings('ignore')"
   ]
  },
  {
   "cell_type": "code",
   "execution_count": 11,
   "metadata": {
    "scrolled": false
   },
   "outputs": [
    {
     "name": "stdout",
     "output_type": "stream",
     "text": [
      "<class 'pandas.core.frame.DataFrame'>\n",
      "RangeIndex: 9 entries, 0 to 8\n",
      "Data columns (total 5 columns):\n",
      "hypothesis    9 non-null object\n",
      "reach         9 non-null int64\n",
      "impact        9 non-null int64\n",
      "confidence    9 non-null int64\n",
      "efforts       9 non-null int64\n",
      "dtypes: int64(4), object(1)\n",
      "memory usage: 488.0+ bytes\n"
     ]
    }
   ],
   "source": [
    "# приводим названия столбцов к нижнему регистру\n",
    "data.columns = data.columns.str.lower()\n",
    "data.info()\n",
    "data.head()\n",
    "data.duplicated().sum()\n",
    "pd.set_option('display.max_columns', None)\n",
    "pd.options.display.max_colwidth = 150 "
   ]
  },
  {
   "cell_type": "code",
   "execution_count": 12,
   "metadata": {
    "scrolled": false
   },
   "outputs": [
    {
     "name": "stdout",
     "output_type": "stream",
     "text": [
      "<class 'pandas.core.frame.DataFrame'>\n",
      "RangeIndex: 1197 entries, 0 to 1196\n",
      "Data columns (total 5 columns):\n",
      "transactionId    1197 non-null int64\n",
      "visitorId        1197 non-null int64\n",
      "date             1197 non-null object\n",
      "revenue          1197 non-null int64\n",
      "group            1197 non-null object\n",
      "dtypes: int64(3), object(2)\n",
      "memory usage: 46.9+ KB\n"
     ]
    },
    {
     "data": {
      "text/plain": [
       "0"
      ]
     },
     "execution_count": 12,
     "metadata": {},
     "output_type": "execute_result"
    }
   ],
   "source": [
    "# читаем файлы \n",
    "orders = pd.read_csv('/datasets/orders.csv', sep=',')\n",
    "orders.info()\n",
    "orders.head()\n",
    "orders.duplicated().sum()"
   ]
  },
  {
   "cell_type": "code",
   "execution_count": 13,
   "metadata": {
    "scrolled": false
   },
   "outputs": [
    {
     "data": {
      "text/html": [
       "<div>\n",
       "<style scoped>\n",
       "    .dataframe tbody tr th:only-of-type {\n",
       "        vertical-align: middle;\n",
       "    }\n",
       "\n",
       "    .dataframe tbody tr th {\n",
       "        vertical-align: top;\n",
       "    }\n",
       "\n",
       "    .dataframe thead th {\n",
       "        text-align: right;\n",
       "    }\n",
       "</style>\n",
       "<table border=\"1\" class=\"dataframe\">\n",
       "  <thead>\n",
       "    <tr style=\"text-align: right;\">\n",
       "      <th></th>\n",
       "      <th>transactionId</th>\n",
       "      <th>visitorId</th>\n",
       "      <th>date</th>\n",
       "      <th>revenue</th>\n",
       "      <th>group</th>\n",
       "    </tr>\n",
       "  </thead>\n",
       "  <tbody>\n",
       "    <tr>\n",
       "      <td>0</td>\n",
       "      <td>3667963787</td>\n",
       "      <td>3312258926</td>\n",
       "      <td>2019-08-15</td>\n",
       "      <td>1650</td>\n",
       "      <td>B</td>\n",
       "    </tr>\n",
       "    <tr>\n",
       "      <td>1</td>\n",
       "      <td>2804400009</td>\n",
       "      <td>3642806036</td>\n",
       "      <td>2019-08-15</td>\n",
       "      <td>730</td>\n",
       "      <td>B</td>\n",
       "    </tr>\n",
       "    <tr>\n",
       "      <td>3</td>\n",
       "      <td>3797467345</td>\n",
       "      <td>1196621759</td>\n",
       "      <td>2019-08-15</td>\n",
       "      <td>9759</td>\n",
       "      <td>B</td>\n",
       "    </tr>\n",
       "    <tr>\n",
       "      <td>4</td>\n",
       "      <td>2282983706</td>\n",
       "      <td>2322279887</td>\n",
       "      <td>2019-08-15</td>\n",
       "      <td>2308</td>\n",
       "      <td>B</td>\n",
       "    </tr>\n",
       "    <tr>\n",
       "      <td>5</td>\n",
       "      <td>182168103</td>\n",
       "      <td>935554773</td>\n",
       "      <td>2019-08-15</td>\n",
       "      <td>2210</td>\n",
       "      <td>B</td>\n",
       "    </tr>\n",
       "    <tr>\n",
       "      <td>...</td>\n",
       "      <td>...</td>\n",
       "      <td>...</td>\n",
       "      <td>...</td>\n",
       "      <td>...</td>\n",
       "      <td>...</td>\n",
       "    </tr>\n",
       "    <tr>\n",
       "      <td>1191</td>\n",
       "      <td>3592955527</td>\n",
       "      <td>608641596</td>\n",
       "      <td>2019-08-14</td>\n",
       "      <td>16490</td>\n",
       "      <td>B</td>\n",
       "    </tr>\n",
       "    <tr>\n",
       "      <td>1192</td>\n",
       "      <td>2662137336</td>\n",
       "      <td>3733762160</td>\n",
       "      <td>2019-08-14</td>\n",
       "      <td>6490</td>\n",
       "      <td>B</td>\n",
       "    </tr>\n",
       "    <tr>\n",
       "      <td>1193</td>\n",
       "      <td>2203539145</td>\n",
       "      <td>370388673</td>\n",
       "      <td>2019-08-14</td>\n",
       "      <td>3190</td>\n",
       "      <td>A</td>\n",
       "    </tr>\n",
       "    <tr>\n",
       "      <td>1194</td>\n",
       "      <td>1807773912</td>\n",
       "      <td>573423106</td>\n",
       "      <td>2019-08-14</td>\n",
       "      <td>10550</td>\n",
       "      <td>A</td>\n",
       "    </tr>\n",
       "    <tr>\n",
       "      <td>1196</td>\n",
       "      <td>3936777065</td>\n",
       "      <td>2108080724</td>\n",
       "      <td>2019-08-15</td>\n",
       "      <td>202740</td>\n",
       "      <td>B</td>\n",
       "    </tr>\n",
       "  </tbody>\n",
       "</table>\n",
       "<p>1016 rows × 5 columns</p>\n",
       "</div>"
      ],
      "text/plain": [
       "      transactionId   visitorId        date  revenue group\n",
       "0        3667963787  3312258926  2019-08-15     1650     B\n",
       "1        2804400009  3642806036  2019-08-15      730     B\n",
       "3        3797467345  1196621759  2019-08-15     9759     B\n",
       "4        2282983706  2322279887  2019-08-15     2308     B\n",
       "5         182168103   935554773  2019-08-15     2210     B\n",
       "...             ...         ...         ...      ...   ...\n",
       "1191     3592955527   608641596  2019-08-14    16490     B\n",
       "1192     2662137336  3733762160  2019-08-14     6490     B\n",
       "1193     2203539145   370388673  2019-08-14     3190     A\n",
       "1194     1807773912   573423106  2019-08-14    10550     A\n",
       "1196     3936777065  2108080724  2019-08-15   202740     B\n",
       "\n",
       "[1016 rows x 5 columns]"
      ]
     },
     "execution_count": 13,
     "metadata": {},
     "output_type": "execute_result"
    }
   ],
   "source": [
    "# проверяем пользователей, попавших в обе группы исследования \n",
    "inter = np.intersect1d(orders.query('group == \"A\"')['visitorId'].unique(), orders.query('group == \"B\"')['visitorId'].unique())\n",
    "# удаляем пользователей, попавших в обе группы исследования \n",
    "orders = orders[~orders['visitorId'].isin(inter)]\n",
    "orders"
   ]
  },
  {
   "cell_type": "code",
   "execution_count": 14,
   "metadata": {
    "scrolled": false
   },
   "outputs": [
    {
     "name": "stdout",
     "output_type": "stream",
     "text": [
      "<class 'pandas.core.frame.DataFrame'>\n",
      "RangeIndex: 62 entries, 0 to 61\n",
      "Data columns (total 3 columns):\n",
      "date        62 non-null object\n",
      "group       62 non-null object\n",
      "visitors    62 non-null int64\n",
      "dtypes: int64(1), object(2)\n",
      "memory usage: 1.6+ KB\n"
     ]
    },
    {
     "data": {
      "text/plain": [
       "0"
      ]
     },
     "execution_count": 14,
     "metadata": {},
     "output_type": "execute_result"
    }
   ],
   "source": [
    "# читаем файлы \n",
    "visitors = pd.read_csv('/datasets/visitors.csv', sep=',')\n",
    "visitors.info()\n",
    "visitors.head()\n",
    "visitors.duplicated().sum()"
   ]
  },
  {
   "cell_type": "markdown",
   "metadata": {},
   "source": [
    "Перед нами 3 датасета с информацией о гипотезах, заказах и посетителях интернет-магазина. Дубликатов и пропусков в данных нет. В датасете с заказами есть пользователи, которые оказались в группе А и В одновременно, для чистоты эксперимента удалили этих пользователей из данных. "
   ]
  },
  {
   "cell_type": "markdown",
   "metadata": {},
   "source": [
    "## <a id='#hypothesis'>Приоритизация гипотез</a>"
   ]
  },
  {
   "cell_type": "code",
   "execution_count": 15,
   "metadata": {},
   "outputs": [
    {
     "data": {
      "text/html": [
       "<div>\n",
       "<style scoped>\n",
       "    .dataframe tbody tr th:only-of-type {\n",
       "        vertical-align: middle;\n",
       "    }\n",
       "\n",
       "    .dataframe tbody tr th {\n",
       "        vertical-align: top;\n",
       "    }\n",
       "\n",
       "    .dataframe thead th {\n",
       "        text-align: right;\n",
       "    }\n",
       "</style>\n",
       "<table border=\"1\" class=\"dataframe\">\n",
       "  <thead>\n",
       "    <tr style=\"text-align: right;\">\n",
       "      <th></th>\n",
       "      <th>hypothesis</th>\n",
       "      <th>reach</th>\n",
       "      <th>impact</th>\n",
       "      <th>confidence</th>\n",
       "      <th>efforts</th>\n",
       "      <th>ICE</th>\n",
       "    </tr>\n",
       "  </thead>\n",
       "  <tbody>\n",
       "    <tr>\n",
       "      <td>8</td>\n",
       "      <td>Запустить акцию, дающую скидку на товар в день рождения</td>\n",
       "      <td>1</td>\n",
       "      <td>9</td>\n",
       "      <td>9</td>\n",
       "      <td>5</td>\n",
       "      <td>16.0</td>\n",
       "    </tr>\n",
       "    <tr>\n",
       "      <td>0</td>\n",
       "      <td>Добавить два новых канала привлечения трафика, что позволит привлекать на 30% больше пользователей</td>\n",
       "      <td>3</td>\n",
       "      <td>10</td>\n",
       "      <td>8</td>\n",
       "      <td>6</td>\n",
       "      <td>13.0</td>\n",
       "    </tr>\n",
       "    <tr>\n",
       "      <td>7</td>\n",
       "      <td>Добавить форму подписки на все основные страницы, чтобы собрать базу клиентов для email-рассылок</td>\n",
       "      <td>10</td>\n",
       "      <td>7</td>\n",
       "      <td>8</td>\n",
       "      <td>5</td>\n",
       "      <td>11.0</td>\n",
       "    </tr>\n",
       "    <tr>\n",
       "      <td>6</td>\n",
       "      <td>Показать на главной странице баннеры с актуальными акциями и распродажами, чтобы увеличить конверсию</td>\n",
       "      <td>5</td>\n",
       "      <td>3</td>\n",
       "      <td>8</td>\n",
       "      <td>3</td>\n",
       "      <td>8.0</td>\n",
       "    </tr>\n",
       "    <tr>\n",
       "      <td>2</td>\n",
       "      <td>Добавить блоки рекомендаций товаров на сайт интернет магазина, чтобы повысить конверсию и средний чек заказа</td>\n",
       "      <td>8</td>\n",
       "      <td>3</td>\n",
       "      <td>7</td>\n",
       "      <td>3</td>\n",
       "      <td>7.0</td>\n",
       "    </tr>\n",
       "    <tr>\n",
       "      <td>1</td>\n",
       "      <td>Запустить собственную службу доставки, что сократит срок доставки заказов</td>\n",
       "      <td>2</td>\n",
       "      <td>5</td>\n",
       "      <td>4</td>\n",
       "      <td>10</td>\n",
       "      <td>2.0</td>\n",
       "    </tr>\n",
       "    <tr>\n",
       "      <td>5</td>\n",
       "      <td>Добавить страницу отзывов клиентов о магазине, что позволит увеличить количество заказов</td>\n",
       "      <td>3</td>\n",
       "      <td>2</td>\n",
       "      <td>2</td>\n",
       "      <td>3</td>\n",
       "      <td>1.0</td>\n",
       "    </tr>\n",
       "    <tr>\n",
       "      <td>3</td>\n",
       "      <td>Изменить структура категорий, что увеличит конверсию, т.к. пользователи быстрее найдут нужный товар</td>\n",
       "      <td>8</td>\n",
       "      <td>3</td>\n",
       "      <td>3</td>\n",
       "      <td>8</td>\n",
       "      <td>1.0</td>\n",
       "    </tr>\n",
       "    <tr>\n",
       "      <td>4</td>\n",
       "      <td>Изменить цвет фона главной страницы, чтобы увеличить вовлеченность пользователей</td>\n",
       "      <td>3</td>\n",
       "      <td>1</td>\n",
       "      <td>1</td>\n",
       "      <td>1</td>\n",
       "      <td>1.0</td>\n",
       "    </tr>\n",
       "  </tbody>\n",
       "</table>\n",
       "</div>"
      ],
      "text/plain": [
       "                                                                                                     hypothesis  \\\n",
       "8                                                       Запустить акцию, дающую скидку на товар в день рождения   \n",
       "0            Добавить два новых канала привлечения трафика, что позволит привлекать на 30% больше пользователей   \n",
       "7              Добавить форму подписки на все основные страницы, чтобы собрать базу клиентов для email-рассылок   \n",
       "6          Показать на главной странице баннеры с актуальными акциями и распродажами, чтобы увеличить конверсию   \n",
       "2  Добавить блоки рекомендаций товаров на сайт интернет магазина, чтобы повысить конверсию и средний чек заказа   \n",
       "1                                     Запустить собственную службу доставки, что сократит срок доставки заказов   \n",
       "5                      Добавить страницу отзывов клиентов о магазине, что позволит увеличить количество заказов   \n",
       "3           Изменить структура категорий, что увеличит конверсию, т.к. пользователи быстрее найдут нужный товар   \n",
       "4                              Изменить цвет фона главной страницы, чтобы увеличить вовлеченность пользователей   \n",
       "\n",
       "   reach  impact  confidence  efforts   ICE  \n",
       "8      1       9           9        5  16.0  \n",
       "0      3      10           8        6  13.0  \n",
       "7     10       7           8        5  11.0  \n",
       "6      5       3           8        3   8.0  \n",
       "2      8       3           7        3   7.0  \n",
       "1      2       5           4       10   2.0  \n",
       "5      3       2           2        3   1.0  \n",
       "3      8       3           3        8   1.0  \n",
       "4      3       1           1        1   1.0  "
      ]
     },
     "execution_count": 15,
     "metadata": {},
     "output_type": "execute_result"
    }
   ],
   "source": [
    "# считаем ICE для гипотез\n",
    "data['ICE'] = (data['impact'] * data['confidence'])/ data['efforts']\n",
    "# сортируем гипотезы по убыванию приоритета\n",
    "data.sort_values(by='ICE', ascending = False).round()"
   ]
  },
  {
   "cell_type": "code",
   "execution_count": 16,
   "metadata": {},
   "outputs": [
    {
     "data": {
      "text/html": [
       "<div>\n",
       "<style scoped>\n",
       "    .dataframe tbody tr th:only-of-type {\n",
       "        vertical-align: middle;\n",
       "    }\n",
       "\n",
       "    .dataframe tbody tr th {\n",
       "        vertical-align: top;\n",
       "    }\n",
       "\n",
       "    .dataframe thead th {\n",
       "        text-align: right;\n",
       "    }\n",
       "</style>\n",
       "<table border=\"1\" class=\"dataframe\">\n",
       "  <thead>\n",
       "    <tr style=\"text-align: right;\">\n",
       "      <th></th>\n",
       "      <th>hypothesis</th>\n",
       "      <th>reach</th>\n",
       "      <th>impact</th>\n",
       "      <th>confidence</th>\n",
       "      <th>efforts</th>\n",
       "      <th>ICE</th>\n",
       "      <th>RICE</th>\n",
       "    </tr>\n",
       "  </thead>\n",
       "  <tbody>\n",
       "    <tr>\n",
       "      <td>7</td>\n",
       "      <td>Добавить форму подписки на все основные страницы, чтобы собрать базу клиентов для email-рассылок</td>\n",
       "      <td>10</td>\n",
       "      <td>7</td>\n",
       "      <td>8</td>\n",
       "      <td>5</td>\n",
       "      <td>11.0</td>\n",
       "      <td>112.0</td>\n",
       "    </tr>\n",
       "    <tr>\n",
       "      <td>2</td>\n",
       "      <td>Добавить блоки рекомендаций товаров на сайт интернет магазина, чтобы повысить конверсию и средний чек заказа</td>\n",
       "      <td>8</td>\n",
       "      <td>3</td>\n",
       "      <td>7</td>\n",
       "      <td>3</td>\n",
       "      <td>7.0</td>\n",
       "      <td>56.0</td>\n",
       "    </tr>\n",
       "    <tr>\n",
       "      <td>0</td>\n",
       "      <td>Добавить два новых канала привлечения трафика, что позволит привлекать на 30% больше пользователей</td>\n",
       "      <td>3</td>\n",
       "      <td>10</td>\n",
       "      <td>8</td>\n",
       "      <td>6</td>\n",
       "      <td>13.0</td>\n",
       "      <td>40.0</td>\n",
       "    </tr>\n",
       "    <tr>\n",
       "      <td>6</td>\n",
       "      <td>Показать на главной странице баннеры с актуальными акциями и распродажами, чтобы увеличить конверсию</td>\n",
       "      <td>5</td>\n",
       "      <td>3</td>\n",
       "      <td>8</td>\n",
       "      <td>3</td>\n",
       "      <td>8.0</td>\n",
       "      <td>40.0</td>\n",
       "    </tr>\n",
       "    <tr>\n",
       "      <td>8</td>\n",
       "      <td>Запустить акцию, дающую скидку на товар в день рождения</td>\n",
       "      <td>1</td>\n",
       "      <td>9</td>\n",
       "      <td>9</td>\n",
       "      <td>5</td>\n",
       "      <td>16.0</td>\n",
       "      <td>16.0</td>\n",
       "    </tr>\n",
       "    <tr>\n",
       "      <td>3</td>\n",
       "      <td>Изменить структура категорий, что увеличит конверсию, т.к. пользователи быстрее найдут нужный товар</td>\n",
       "      <td>8</td>\n",
       "      <td>3</td>\n",
       "      <td>3</td>\n",
       "      <td>8</td>\n",
       "      <td>1.0</td>\n",
       "      <td>9.0</td>\n",
       "    </tr>\n",
       "    <tr>\n",
       "      <td>1</td>\n",
       "      <td>Запустить собственную службу доставки, что сократит срок доставки заказов</td>\n",
       "      <td>2</td>\n",
       "      <td>5</td>\n",
       "      <td>4</td>\n",
       "      <td>10</td>\n",
       "      <td>2.0</td>\n",
       "      <td>4.0</td>\n",
       "    </tr>\n",
       "    <tr>\n",
       "      <td>5</td>\n",
       "      <td>Добавить страницу отзывов клиентов о магазине, что позволит увеличить количество заказов</td>\n",
       "      <td>3</td>\n",
       "      <td>2</td>\n",
       "      <td>2</td>\n",
       "      <td>3</td>\n",
       "      <td>1.0</td>\n",
       "      <td>4.0</td>\n",
       "    </tr>\n",
       "    <tr>\n",
       "      <td>4</td>\n",
       "      <td>Изменить цвет фона главной страницы, чтобы увеличить вовлеченность пользователей</td>\n",
       "      <td>3</td>\n",
       "      <td>1</td>\n",
       "      <td>1</td>\n",
       "      <td>1</td>\n",
       "      <td>1.0</td>\n",
       "      <td>3.0</td>\n",
       "    </tr>\n",
       "  </tbody>\n",
       "</table>\n",
       "</div>"
      ],
      "text/plain": [
       "                                                                                                     hypothesis  \\\n",
       "7              Добавить форму подписки на все основные страницы, чтобы собрать базу клиентов для email-рассылок   \n",
       "2  Добавить блоки рекомендаций товаров на сайт интернет магазина, чтобы повысить конверсию и средний чек заказа   \n",
       "0            Добавить два новых канала привлечения трафика, что позволит привлекать на 30% больше пользователей   \n",
       "6          Показать на главной странице баннеры с актуальными акциями и распродажами, чтобы увеличить конверсию   \n",
       "8                                                       Запустить акцию, дающую скидку на товар в день рождения   \n",
       "3           Изменить структура категорий, что увеличит конверсию, т.к. пользователи быстрее найдут нужный товар   \n",
       "1                                     Запустить собственную службу доставки, что сократит срок доставки заказов   \n",
       "5                      Добавить страницу отзывов клиентов о магазине, что позволит увеличить количество заказов   \n",
       "4                              Изменить цвет фона главной страницы, чтобы увеличить вовлеченность пользователей   \n",
       "\n",
       "   reach  impact  confidence  efforts   ICE   RICE  \n",
       "7     10       7           8        5  11.0  112.0  \n",
       "2      8       3           7        3   7.0   56.0  \n",
       "0      3      10           8        6  13.0   40.0  \n",
       "6      5       3           8        3   8.0   40.0  \n",
       "8      1       9           9        5  16.0   16.0  \n",
       "3      8       3           3        8   1.0    9.0  \n",
       "1      2       5           4       10   2.0    4.0  \n",
       "5      3       2           2        3   1.0    4.0  \n",
       "4      3       1           1        1   1.0    3.0  "
      ]
     },
     "execution_count": 16,
     "metadata": {},
     "output_type": "execute_result"
    }
   ],
   "source": [
    "# считаем RICE для гипотез\n",
    "data['RICE'] = data['reach'] * data['impact'] * data['confidence'] / data['efforts']\n",
    "# сортируем гипотезы по убыванию приоритета\n",
    "data.sort_values(by='RICE', ascending = False).round()"
   ]
  },
  {
   "cell_type": "markdown",
   "metadata": {},
   "source": [
    "Наиболее перспективными гипотезами по ICE являются: №8 \"Запустить акцию, дающую скидку на товар в день рождения\", №0 \"Добавить два новых канала привлечения трафика, что позволит привлекать на 30% больше пользователей\", №7 \"Добавить форму подписки на все основные страницы, чтобы собрать базу клиентов для email-рассылок\", №6 \"Показать на главной странице баннеры с актуальными акциями и распродажами, чтобы увеличить конверсию\", №2 \"Добавить блоки рекомендаций товаров на сайт интернет магазина, чтобы повысить конверсию и средний чек заказа\". \n",
    "\n",
    "Наиболее перспективные гипотезы по RICE те же,  но порядок их расположения изменился: на первом месте - гипотеза №7 \"Добавить форму подписки на все основные страницы, чтобы собрать базу клиентов для email-рассылок\". Далее следуют гипотезы №2 \"Добавить блоки рекомендаций товаров на сайт интернет магазина, чтобы повысить конверсию и средний чек заказа\" и №0 \"Добавить два новых канала привлечения трафика, что позволит привлекать на 30% больше пользователей\". Это обусловлено тем, что у гипотез 7 и 2 наивысший показатель reach - эти гипотезы затронут наибольшое количество пользователей, а у гипотезы под номером 0 наибольший показатель impact - она сильнее других повлияет на пользователей."
   ]
  },
  {
   "cell_type": "markdown",
   "metadata": {},
   "source": [
    "## <a id='ab'>Анализ A/B-теста</a>"
   ]
  },
  {
   "cell_type": "markdown",
   "metadata": {},
   "source": [
    "### График кумулятивной выручки по группам"
   ]
  },
  {
   "cell_type": "code",
   "execution_count": 17,
   "metadata": {},
   "outputs": [],
   "source": [
    "# преобразуем данные о дате и времени\n",
    "orders['date'] = orders['date'].map(\n",
    "    lambda x: dt.datetime.strptime(x, '%Y-%m-%d')\n",
    ")\n",
    "\n",
    "visitors['date'] = visitors['date'].map(\n",
    "    lambda x: dt.datetime.strptime(x, '%Y-%m-%d')\n",
    ")    "
   ]
  },
  {
   "cell_type": "code",
   "execution_count": 18,
   "metadata": {},
   "outputs": [
    {
     "data": {
      "image/png": "[encoded data removed]",
      "text/plain": [
       "<Figure size 432x288 with 1 Axes>"
      ]
     },
     "metadata": {
      "needs_background": "light"
     },
     "output_type": "display_data"
    }
   ],
   "source": [
    "# создаем массив уникальных пар значений дат и групп теста\n",
    "datesGroups = orders[['date', 'group']].drop_duplicates()\n",
    "\n",
    "# собираем агрегированные кумулятивные по дням данные о заказах\n",
    "ordersAggregated = datesGroups.apply(\n",
    "    lambda x: orders[\n",
    "        np.logical_and(\n",
    "            orders['date'] <= x['date'], orders['group'] == x['group']\n",
    "        )\n",
    "    ].agg(\n",
    "        {\n",
    "            'date': 'max',\n",
    "            'group': 'max',\n",
    "            'transactionId': 'nunique',\n",
    "            'visitorId': 'nunique',\n",
    "            'revenue': 'sum',\n",
    "        }\n",
    "    ),\n",
    "    axis=1,\n",
    ").sort_values(by=['date', 'group'])\n",
    "\n",
    "# собираем агрегированные кумулятивные по дням данные о посетителях \n",
    "visitorsAggregated = datesGroups.apply(\n",
    "    lambda x: visitors[\n",
    "        np.logical_and(\n",
    "            visitors['date'] <= x['date'], visitors['group'] == x['group']\n",
    "        )\n",
    "    ].agg({'date': 'max', 'group': 'max', 'visitors': 'sum'}),\n",
    "    axis=1,\n",
    ").sort_values(by=['date', 'group'])\n",
    "\n",
    "# объединяем кумулятивные данные в одной таблице и присваиваем ее столбцам понятные названия\n",
    "cumulativeData = ordersAggregated.merge(\n",
    "    visitorsAggregated, left_on=['date', 'group'], right_on=['date', 'group']\n",
    ")\n",
    "cumulativeData.columns = [\n",
    "    'date',\n",
    "    'group',\n",
    "    'orders',\n",
    "    'buyers',\n",
    "    'revenue',\n",
    "    'visitors',\n",
    "]\n",
    "\n",
    "# датафрейм с кумулятивным количеством заказов и кумулятивной выручкой по дням в группе А\n",
    "cumulativeRevenueA = cumulativeData[cumulativeData['group']=='A'][['date','revenue', 'orders']]\n",
    "\n",
    "# датафрейм с кумулятивным количеством заказов и кумулятивной выручкой по дням в группе B\n",
    "cumulativeRevenueB = cumulativeData[cumulativeData['group']=='B'][['date','revenue', 'orders']]\n",
    "\n",
    "# Строим график выручки группы А\n",
    "plt.plot(cumulativeRevenueA['date'], cumulativeRevenueA['revenue'], label='A')\n",
    "\n",
    "# Строим график выручки группы B\n",
    "plt.plot(cumulativeRevenueB['date'], cumulativeRevenueB['revenue'], label='B')\n",
    "\n",
    "plt.legend()\n",
    "plt.title('График кумулятивной выручки по группам')\n",
    "plt.xlabel('Период анализа')\n",
    "plt.ylabel('Выручка, руб.')\n",
    "plt.xticks(rotation=90)\n",
    "\n",
    "plt.annotate('скачок', xy=('2019-08-17', 2800000), xytext=('2019-08-10', 3500000),\n",
    "            arrowprops=dict(facecolor='g'))\n",
    "plt.annotate('отрыв', xy=('2019-08-05', 800000), xytext=('2019-08-05', 2000000),\n",
    "            arrowprops=dict(facecolor='g')) \n",
    "plt.grid(True)\n",
    "plt.show()"
   ]
  },
  {
   "cell_type": "markdown",
   "metadata": {},
   "source": [
    "Выручка увеличивается у обеих групп. Показатели групы В выше группы А, кроме того, в группе В наблюдаются несколько точек резкого роста: в середине теста сегмент В вырвался вперед и продолжал лидировать. Если бы рост заказов был обусловлен сезонностью, выручка увеличилась бы и у группы А. Вероятно, в сегменте В есть аномально крупные заказы, которые влияют на распределение. \n"
   ]
  },
  {
   "cell_type": "markdown",
   "metadata": {},
   "source": [
    "### График кумулятивного среднего чека по группам"
   ]
  },
  {
   "cell_type": "code",
   "execution_count": 36,
   "metadata": {},
   "outputs": [
    {
     "data": {
      "image/png": "[encoded data removed]",
      "text/plain": [
       "<Figure size 432x288 with 1 Axes>"
      ]
     },
     "metadata": {
      "needs_background": "light"
     },
     "output_type": "display_data"
    }
   ],
   "source": [
    "#  строим график кумулятивного среднего чека по группам\n",
    "plt.plot(cumulativeRevenueA['date'], cumulativeRevenueA['revenue']/cumulativeRevenueA['orders'], label='A')\n",
    "plt.plot(cumulativeRevenueB['date'], cumulativeRevenueB['revenue']/cumulativeRevenueB['orders'], label='B')\n",
    "plt.legend() \n",
    "plt.title('График кумулятивного среднего чека по группам')\n",
    "plt.xlabel('Период анализа')\n",
    "plt.ylabel('Размер чека, руб.')\n",
    "plt.xticks(rotation=90)\n",
    "plt.grid(True)\n",
    "plt.show()"
   ]
  },
  {
   "cell_type": "markdown",
   "metadata": {},
   "source": [
    "Распредление среднего чека по группам также неравномерно: показатель группы А установился только с середины теста, показатели группы В в этот же период резко увеличиваются - что вновь приводит к выводу, что во второй половине теста в этот сегмент попали аномально крупные заказы."
   ]
  },
  {
   "cell_type": "markdown",
   "metadata": {},
   "source": [
    "### График относительного изменения кумулятивного среднего чека группы B к группе A"
   ]
  },
  {
   "cell_type": "code",
   "execution_count": 37,
   "metadata": {},
   "outputs": [
    {
     "data": {
      "image/png": "[encoded data removed]",
      "text/plain": [
       "<Figure size 432x288 with 1 Axes>"
      ]
     },
     "metadata": {
      "needs_background": "light"
     },
     "output_type": "display_data"
    }
   ],
   "source": [
    "mergedCumulativeRevenue = cumulativeRevenueA.merge(cumulativeRevenueB, left_on='date', right_on='date', how='left', suffixes=['A', 'B']) \n",
    "plt.plot(mergedCumulativeRevenue['date'], (mergedCumulativeRevenue['revenueB']/mergedCumulativeRevenue['ordersB'])/(mergedCumulativeRevenue['revenueA']/mergedCumulativeRevenue['ordersA'])-1)\n",
    "\n",
    "# добавляем ось X\n",
    "plt.axhline(y=0, color='black', linestyle='--') \n",
    "plt.title('График относительного изменения кумулятивного среднего чека')\n",
    "plt.xlabel('Период анализа')\n",
    "plt.ylabel('Размер чека')\n",
    "plt.xticks(rotation=90)\n",
    "plt.grid(True)\n",
    "plt.show()"
   ]
  },
  {
   "cell_type": "markdown",
   "metadata": {},
   "source": [
    "Результаты теста значительно менялись со 2 по 10 августа и с 18 августа - вероятно, в эти дни были сделаны крупные заказы."
   ]
  },
  {
   "cell_type": "markdown",
   "metadata": {},
   "source": [
    "### График кумулятивной конверсии по группам"
   ]
  },
  {
   "cell_type": "code",
   "execution_count": 38,
   "metadata": {},
   "outputs": [
    {
     "data": {
      "image/png": "[encoded data removed]",
      "text/plain": [
       "<Figure size 432x288 with 1 Axes>"
      ]
     },
     "metadata": {
      "needs_background": "light"
     },
     "output_type": "display_data"
    }
   ],
   "source": [
    "# считаем кумулятивную конверсию\n",
    "cumulativeData['conversion'] = cumulativeData['orders']/cumulativeData['visitors']\n",
    "\n",
    "# отделяем данные по группе A\n",
    "cumulativeDataA = cumulativeData[cumulativeData['group']=='A']\n",
    "\n",
    "# отделяем данные по группе B\n",
    "cumulativeDataB = cumulativeData[cumulativeData['group']=='B']\n",
    "\n",
    "# строим графики\n",
    "plt.plot(cumulativeDataA['date'], cumulativeDataA['conversion'], label='A')\n",
    "plt.plot(cumulativeDataB['date'], cumulativeDataB['conversion'], label='B')\n",
    "plt.legend()\n",
    "\n",
    "plt.xticks(rotation=90)\n",
    "plt.axis([\"2019-08-01\", '2019-09-01', 0.02, 0.04])\n",
    "plt.title('График кумулятивной конверсии по группам')\n",
    "plt.xlabel('Период анализа')\n",
    "plt.ylabel('Размер конверсии')\n",
    "plt.xticks(rotation=90)\n",
    "plt.grid(True)\n",
    "plt.show()"
   ]
  },
  {
   "cell_type": "markdown",
   "metadata": {},
   "source": [
    "В начале теста сегмент А имел большую конверсию, но потом конверсия сегмента В увеличилась и в конце теста зафиксировалась примерно на одном уровне. Конверсия группы А после роста в начале теста стала снижаться. "
   ]
  },
  {
   "cell_type": "markdown",
   "metadata": {},
   "source": [
    "### График относительного изменения кумулятивной конверсии группы B к группе A"
   ]
  },
  {
   "cell_type": "code",
   "execution_count": 22,
   "metadata": {},
   "outputs": [
    {
     "data": {
      "image/png": "[encoded data removed]",
      "text/plain": [
       "<Figure size 432x288 with 1 Axes>"
      ]
     },
     "metadata": {
      "needs_background": "light"
     },
     "output_type": "display_data"
    }
   ],
   "source": [
    "cumulativeData['conversion'] = (\n",
    "    cumulativeData['orders'] / cumulativeData['visitors']\n",
    ")\n",
    "\n",
    "cumulativeDataA = cumulativeData[cumulativeData['group'] == 'A']\n",
    "cumulativeDataB = cumulativeData[cumulativeData['group'] == 'B']\n",
    "mergedCumulativeConversions = cumulativeDataA[['date','conversion']].merge(cumulativeDataB[['date','conversion']], left_on='date', right_on='date', how='left', suffixes=['A', 'B'])\n",
    "\n",
    "plt.plot(mergedCumulativeConversions['date'], mergedCumulativeConversions['conversionB']/mergedCumulativeConversions['conversionA']-1)\n",
    "\n",
    "\n",
    "plt.axhline(y=0, color='black', linestyle='--')\n",
    "plt.axhline(y=0.2, color='grey', linestyle='--')\n",
    "plt.axis([\"2019-08-01\", '2019-09-01', -0.6, 0.6]) \n",
    "plt.title('График относительного изменения конверсии')\n",
    "plt.xlabel('Период анализа')\n",
    "plt.ylabel('Размер конверсии')\n",
    "plt.xticks(rotation=90)\n",
    "plt.grid(True)\n",
    "plt.show()\n"
   ]
  },
  {
   "cell_type": "markdown",
   "metadata": {},
   "source": [
    "Относительная конверсия группы В в начале теста была ниже показателей сегмента А, но потом стала выше и установилась приблизительно на одном уровне.  "
   ]
  },
  {
   "cell_type": "markdown",
   "metadata": {},
   "source": [
    "### График количества заказов по пользователям"
   ]
  },
  {
   "cell_type": "code",
   "execution_count": 23,
   "metadata": {
    "scrolled": true
   },
   "outputs": [
    {
     "data": {
      "text/html": [
       "<div>\n",
       "<style scoped>\n",
       "    .dataframe tbody tr th:only-of-type {\n",
       "        vertical-align: middle;\n",
       "    }\n",
       "\n",
       "    .dataframe tbody tr th {\n",
       "        vertical-align: top;\n",
       "    }\n",
       "\n",
       "    .dataframe thead th {\n",
       "        text-align: right;\n",
       "    }\n",
       "</style>\n",
       "<table border=\"1\" class=\"dataframe\">\n",
       "  <thead>\n",
       "    <tr style=\"text-align: right;\">\n",
       "      <th></th>\n",
       "      <th>visitorId</th>\n",
       "      <th>orders</th>\n",
       "    </tr>\n",
       "  </thead>\n",
       "  <tbody>\n",
       "    <tr>\n",
       "      <td>908</td>\n",
       "      <td>3967698036</td>\n",
       "      <td>3</td>\n",
       "    </tr>\n",
       "    <tr>\n",
       "      <td>55</td>\n",
       "      <td>249864742</td>\n",
       "      <td>3</td>\n",
       "    </tr>\n",
       "    <tr>\n",
       "      <td>478</td>\n",
       "      <td>2108163459</td>\n",
       "      <td>3</td>\n",
       "    </tr>\n",
       "    <tr>\n",
       "      <td>687</td>\n",
       "      <td>2988190573</td>\n",
       "      <td>3</td>\n",
       "    </tr>\n",
       "    <tr>\n",
       "      <td>890</td>\n",
       "      <td>3908431265</td>\n",
       "      <td>3</td>\n",
       "    </tr>\n",
       "    <tr>\n",
       "      <td>138</td>\n",
       "      <td>611059232</td>\n",
       "      <td>3</td>\n",
       "    </tr>\n",
       "    <tr>\n",
       "      <td>632</td>\n",
       "      <td>2742574263</td>\n",
       "      <td>3</td>\n",
       "    </tr>\n",
       "    <tr>\n",
       "      <td>157</td>\n",
       "      <td>678354126</td>\n",
       "      <td>2</td>\n",
       "    </tr>\n",
       "    <tr>\n",
       "      <td>323</td>\n",
       "      <td>1404560065</td>\n",
       "      <td>2</td>\n",
       "    </tr>\n",
       "    <tr>\n",
       "      <td>452</td>\n",
       "      <td>1985475298</td>\n",
       "      <td>2</td>\n",
       "    </tr>\n",
       "  </tbody>\n",
       "</table>\n",
       "</div>"
      ],
      "text/plain": [
       "      visitorId  orders\n",
       "908  3967698036       3\n",
       "55    249864742       3\n",
       "478  2108163459       3\n",
       "687  2988190573       3\n",
       "890  3908431265       3\n",
       "138   611059232       3\n",
       "632  2742574263       3\n",
       "157   678354126       2\n",
       "323  1404560065       2\n",
       "452  1985475298       2"
      ]
     },
     "execution_count": 23,
     "metadata": {},
     "output_type": "execute_result"
    }
   ],
   "source": [
    "# считаем количество пользователей, совершивших заказы\n",
    "ordersByUsers = (\n",
    "    orders.groupby('visitorId', as_index=False)\n",
    "    .agg({'transactionId': pd.Series.nunique})\n",
    ")\n",
    "\n",
    "ordersByUsers.columns = ['visitorId', 'orders']\n",
    "\n",
    "ordersByUsers.sort_values(by='orders', ascending=False).head(10)"
   ]
  },
  {
   "cell_type": "markdown",
   "metadata": {},
   "source": [
    "Большинство пользователей выполнили 2 и 3 заказа."
   ]
  },
  {
   "cell_type": "code",
   "execution_count": 33,
   "metadata": {},
   "outputs": [
    {
     "data": {
      "text/plain": [
       "Text(0, 0.5, 'Количество пользователей')"
      ]
     },
     "execution_count": 33,
     "metadata": {},
     "output_type": "execute_result"
    },
    {
     "data": {
      "image/png": "[encoded data removed]",
      "text/plain": [
       "<Figure size 432x288 with 1 Axes>"
      ]
     },
     "metadata": {
      "needs_background": "light"
     },
     "output_type": "display_data"
    }
   ],
   "source": [
    "# строим гистрограмму распределения количества заказов на одного пользователя\n",
    "plt.hist(ordersByUsers['orders']) \n",
    "plt.title('График количества заказов по пользователям')\n",
    "plt.xlabel('Количество заказов')\n",
    "plt.ylabel('Количество пользователей')"
   ]
  },
  {
   "cell_type": "markdown",
   "metadata": {},
   "source": [
    "Большинство покупателей заказывали только один раз. Однако пользователи с 2 заказами также есть."
   ]
  },
  {
   "cell_type": "code",
   "execution_count": 34,
   "metadata": {},
   "outputs": [
    {
     "data": {
      "text/plain": [
       "Text(0, 0.5, 'Количество заказов')"
      ]
     },
     "execution_count": 34,
     "metadata": {},
     "output_type": "execute_result"
    },
    {
     "data": {
      "image/png": "[encoded data removed]",
      "text/plain": [
       "<Figure size 432x288 with 1 Axes>"
      ]
     },
     "metadata": {
      "needs_background": "light"
     },
     "output_type": "display_data"
    }
   ],
   "source": [
    "# строим точечную диаграмму числа заказов на одного пользователя\n",
    "x_values = pd.Series(range(0,len(ordersByUsers)))\n",
    "plt.scatter(x_values, ordersByUsers['orders']) \n",
    "plt.title('График количества заказов по пользователям')\n",
    "plt.xlabel('Количество пользователей')\n",
    "plt.ylabel('Количество заказов')"
   ]
  },
  {
   "cell_type": "markdown",
   "metadata": {},
   "source": [
    "Большинство пользователей с 1-2 заказами. Пользователей, заказавших больше 2 раз, мало - они могут быть аномальными. "
   ]
  },
  {
   "cell_type": "markdown",
   "metadata": {},
   "source": [
    "### 95-й и 99-й перцентили количества заказов на пользователя"
   ]
  },
  {
   "cell_type": "code",
   "execution_count": 26,
   "metadata": {},
   "outputs": [
    {
     "data": {
      "text/plain": [
       "array([1., 2.])"
      ]
     },
     "execution_count": 26,
     "metadata": {},
     "output_type": "execute_result"
    }
   ],
   "source": [
    "# считаем перцентили количества заказов на одного пользователя\n",
    "np.percentile(ordersByUsers['orders'], [95, 99])"
   ]
  },
  {
   "cell_type": "markdown",
   "metadata": {},
   "source": [
    "Не более 5% пользователей совершили больше одного заказов, не более 1% пользователей заказывали больше двух раз. Примим за аномальных пользователей тех, кто совершил 3 заказа и более."
   ]
  },
  {
   "cell_type": "markdown",
   "metadata": {},
   "source": [
    "### Точечный график стоимостей заказов"
   ]
  },
  {
   "cell_type": "code",
   "execution_count": 35,
   "metadata": {
    "scrolled": true
   },
   "outputs": [
    {
     "data": {
      "text/plain": [
       "Text(0, 0.5, 'Стоимость заказа')"
      ]
     },
     "execution_count": 35,
     "metadata": {},
     "output_type": "execute_result"
    },
    {
     "data": {
      "image/png": "[encoded data removed]",
      "text/plain": [
       "<Figure size 432x288 with 1 Axes>"
      ]
     },
     "metadata": {
      "needs_background": "light"
     },
     "output_type": "display_data"
    }
   ],
   "source": [
    "# строим диаграмму распределения выручек\n",
    "x_values = pd.Series(range(0, len(orders['revenue'])))\n",
    "plt.scatter(x_values, orders['revenue']) \n",
    "plt.title('График стоимостей заказов')\n",
    "plt.xlabel('Количество пользователей')\n",
    "plt.ylabel('Стоимость заказа')"
   ]
  },
  {
   "cell_type": "markdown",
   "metadata": {},
   "source": [
    "Стоимость заказов не превышает 200 000 рублей, есть выброс выше 1200 000 рублей. "
   ]
  },
  {
   "cell_type": "markdown",
   "metadata": {},
   "source": [
    "### 95-й и 99-й перцентили стоимости заказов"
   ]
  },
  {
   "cell_type": "code",
   "execution_count": 28,
   "metadata": {},
   "outputs": [
    {
     "data": {
      "text/plain": [
       "array([26785., 53904.])"
      ]
     },
     "execution_count": 28,
     "metadata": {},
     "output_type": "execute_result"
    }
   ],
   "source": [
    "# считаем перцентили стоимости заказов \n",
    "np.percentile(orders['revenue'], [95, 99])"
   ]
  },
  {
   "cell_type": "markdown",
   "metadata": {},
   "source": [
    "Не более 5% заказов - покупки дорое 27000 рублей. Не более 1% заказов - покупки дорое 54000 рублей. За аномалию будем принимать пользователей, совершивших заказ на сумму выше 30 000 рублей. "
   ]
  },
  {
   "cell_type": "markdown",
   "metadata": {},
   "source": [
    "### Статистическая значимость различий в конверсии между группами по «сырым» данным"
   ]
  },
  {
   "cell_type": "markdown",
   "metadata": {},
   "source": [
    "Нулевая гипотеза: конверсия группы А по \"сырым\" данным превышает конверсию группы В на 50%. \n",
    "Альтернативная гипотеза: конверсия группы А по \"сырым\" данным не превышает конверсию группы В на 50%.\n"
   ]
  },
  {
   "cell_type": "code",
   "execution_count": 29,
   "metadata": {},
   "outputs": [
    {
     "name": "stdout",
     "output_type": "stream",
     "text": [
      "0.00551\n",
      "0.160\n"
     ]
    }
   ],
   "source": [
    "visitorsADaily = visitors[visitors['group'] == 'A'][['date', 'visitors']]\n",
    "visitorsADaily.columns = ['date', 'visitorsPerDateA']\n",
    "\n",
    "visitorsACummulative = visitorsADaily.apply(\n",
    "    lambda x: visitorsADaily[visitorsADaily['date'] <= x['date']].agg(\n",
    "        {'date': 'max', 'visitorsPerDateA': 'sum'}\n",
    "    ),\n",
    "    axis=1,\n",
    ")\n",
    "visitorsACummulative.columns = ['date', 'visitorsCummulativeA']\n",
    "\n",
    "visitorsBDaily = visitors[visitors['group'] == 'B'][['date', 'visitors']]\n",
    "visitorsBDaily.columns = ['date', 'visitorsPerDateB']\n",
    "\n",
    "visitorsBCummulative = visitorsBDaily.apply(\n",
    "    lambda x: visitorsBDaily[visitorsBDaily['date'] <= x['date']].agg(\n",
    "        {'date': 'max', 'visitorsPerDateB': 'sum'}\n",
    "    ),\n",
    "    axis=1,\n",
    ")\n",
    "visitorsBCummulative.columns = ['date', 'visitorsCummulativeB']\n",
    "\n",
    "ordersADaily = (\n",
    "    orders[orders['group'] == 'A'][['date', 'transactionId', 'visitorId', 'revenue']]\n",
    "    .groupby('date', as_index=False)\n",
    "    .agg({'transactionId': pd.Series.nunique, 'revenue': 'sum'})\n",
    ")\n",
    "ordersADaily.columns = ['date', 'ordersPerDateA', 'revenuePerDateA']\n",
    "\n",
    "ordersACummulative = ordersADaily.apply(\n",
    "    lambda x: ordersADaily[ordersADaily['date'] <= x['date']].agg(\n",
    "        {'date': 'max', 'ordersPerDateA': 'sum', 'revenuePerDateA': 'sum'}\n",
    "    ),\n",
    "    axis=1,\n",
    ").sort_values(by=['date'])\n",
    "ordersACummulative.columns = [\n",
    "    'date',\n",
    "    'ordersCummulativeA',\n",
    "    'revenueCummulativeA',\n",
    "]\n",
    "\n",
    "ordersBDaily = (\n",
    "    orders[orders['group'] == 'B'][['date', 'transactionId', 'visitorId', 'revenue']]\n",
    "    .groupby('date', as_index=False)\n",
    "    .agg({'transactionId': pd.Series.nunique, 'revenue': 'sum'})\n",
    ")\n",
    "ordersBDaily.columns = ['date', 'ordersPerDateB', 'revenuePerDateB']\n",
    "\n",
    "ordersBCummulative = ordersBDaily.apply(\n",
    "    lambda x: ordersBDaily[ordersBDaily['date'] <= x['date']].agg(\n",
    "        {'date': 'max', 'ordersPerDateB': 'sum', 'revenuePerDateB': 'sum'}\n",
    "    ),\n",
    "    axis=1,\n",
    ").sort_values(by=['date'])\n",
    "ordersBCummulative.columns = [\n",
    "    'date',\n",
    "    'ordersCummulativeB',\n",
    "    'revenueCummulativeB',\n",
    "]\n",
    "\n",
    "data = (\n",
    "    ordersADaily.merge(\n",
    "        ordersBDaily, left_on='date', right_on='date', how='left'\n",
    "    )\n",
    "    .merge(ordersACummulative, left_on='date', right_on='date', how='left')\n",
    "    .merge(ordersBCummulative, left_on='date', right_on='date', how='left')\n",
    "    .merge(visitorsADaily, left_on='date', right_on='date', how='left')\n",
    "    .merge(visitorsBDaily, left_on='date', right_on='date', how='left')\n",
    "    .merge(visitorsACummulative, left_on='date', right_on='date', how='left')\n",
    "    .merge(visitorsBCummulative, left_on='date', right_on='date', how='left')\n",
    ")\n",
    "\n",
    "ordersByUsersA = (\n",
    "    orders[orders['group'] == 'A']\n",
    "    .groupby('visitorId', as_index=False)\n",
    "    .agg({'transactionId': pd.Series.nunique})\n",
    ")\n",
    "ordersByUsersA.columns = ['visitorId', 'orders']\n",
    "\n",
    "ordersByUsersB = (\n",
    "    orders[orders['group'] == 'B']\n",
    "    .groupby('visitorId', as_index=False)\n",
    "    .agg({'transactionId': pd.Series.nunique})\n",
    ")\n",
    "ordersByUsersB.columns = ['visitorId', 'orders']\n",
    "sampleA = pd.concat([ordersByUsersA['orders'],pd.Series(0, index=np.arange(data['visitorsPerDateA'].sum() - len(ordersByUsersA['orders'])), name='orders')],axis=0)\n",
    "\n",
    "sampleB = pd.concat([ordersByUsersB['orders'],pd.Series(0, index=np.arange(data['visitorsPerDateB'].sum() - len(ordersByUsersB['orders'])), name='orders')],axis=0)\n",
    "alternative = 'two-sided'\n",
    "# выводим p-value конверсии\n",
    "print(\"{0:.5f}\".format(stats.mannwhitneyu(sampleA, sampleB)[1]))\n",
    "# выводим относительный прирост конверсии\n",
    "print(\"{:.3f}\".format((data['ordersPerDateB'].sum()/data['visitorsPerDateB'].sum())/(data['ordersPerDateA'].sum()/data['visitorsPerDateA'].sum())-1)) \n"
   ]
  },
  {
   "cell_type": "markdown",
   "metadata": {},
   "source": [
    "P-value значительно меньше 0.05, поэтому нулевую гипотезу отвергаем. Анализ сырых данных позволил установить, что в конверсии между группами есть статистически значимые различия. Относительный прирост конверсии группы В к конверсии группы А равен 16%."
   ]
  },
  {
   "cell_type": "markdown",
   "metadata": {},
   "source": [
    "### Статистическая значимость различий в среднем чеке заказа между группами по «сырым» данным"
   ]
  },
  {
   "cell_type": "markdown",
   "metadata": {},
   "source": [
    "Нулевая гипотеза: средний чек заказа по \"сырым\" данным группы А превышает средний чек заказа по \"сырым\" данным группы В на 50%. \n",
    "\n",
    "Альтернативная гипотеза: средний чек заказа по \"сырым\" данным группы А не превышает средний чек заказа по \"сырым\" данным группы В на 50%.\n"
   ]
  },
  {
   "cell_type": "code",
   "execution_count": 30,
   "metadata": {},
   "outputs": [
    {
     "name": "stdout",
     "output_type": "stream",
     "text": [
      "0.415\n",
      "0.287\n"
     ]
    }
   ],
   "source": [
    "# выводим p-value для сравнения средних чеков по срырым данным\n",
    "print('{0:.3f}'.format(stats.mannwhitneyu(orders[orders['group']=='A']['revenue'], orders[orders['group']=='B']['revenue'])[1]))\n",
    "# выводим относительный прирост среднего чека группы B по срырым данным\n",
    "alternative = 'two-sided'\n",
    "print('{0:.3f}'.format(orders[orders['group']=='B']['revenue'].mean()/orders[orders['group']=='A']['revenue'].mean()-1))"
   ]
  },
  {
   "cell_type": "markdown",
   "metadata": {},
   "source": [
    "P-value больше 0.05 - статистически значимых отличий в среднем чеке между группами нет. При этом относительное различие среднего чека между группами 28%. "
   ]
  },
  {
   "cell_type": "markdown",
   "metadata": {},
   "source": [
    "### Статистическая значимость различий в конверсии между группами по «очищенным» данным"
   ]
  },
  {
   "cell_type": "markdown",
   "metadata": {},
   "source": [
    "Нулевая гипотеза: конверсия группы А по \"очищенным\" данным превышает конверсию группы В на 50%. \n",
    "Альтернативная гипотеза: конверсия группы А по \"очищенным\" данным не превышает конверсию группы В на 50%."
   ]
  },
  {
   "cell_type": "code",
   "execution_count": 31,
   "metadata": {},
   "outputs": [
    {
     "name": "stdout",
     "output_type": "stream",
     "text": [
      "0.00665\n",
      "0.161\n"
     ]
    }
   ],
   "source": [
    "# удаляем пользователей, совершивших 3 и более заказа  \n",
    "usersWithManyOrders = pd.concat(\n",
    "    [\n",
    "        ordersByUsersA[ordersByUsersA['orders'] > 3]['visitorId'],\n",
    "        ordersByUsersB[ordersByUsersB['orders'] > 3]['visitorId'],\n",
    "    ],\n",
    "    axis=0,\n",
    ")\n",
    "\n",
    "# удаляем пользователей, совершивших заказа более, чем на 30000\n",
    "usersWithExpensiveOrders = orders[orders['revenue'] > 30000]['visitorId']\n",
    "abnormalUsers = (\n",
    "    pd.concat([usersWithManyOrders, usersWithExpensiveOrders], axis=0)\n",
    "    .drop_duplicates()\n",
    "    .sort_values()\n",
    ")\n",
    "\n",
    "# считаем статистическую значимость различия конверсии после удаления аномальных пользователей\n",
    "sampleAFiltered = pd.concat(\n",
    "    [\n",
    "        ordersByUsersA[\n",
    "            np.logical_not(ordersByUsersA['visitorId'].isin(abnormalUsers))\n",
    "        ]['orders'],\n",
    "        pd.Series(\n",
    "            0,\n",
    "            index=np.arange(\n",
    "                data['visitorsPerDateA'].sum() - len(ordersByUsersA['orders'])\n",
    "            ),\n",
    "            name='orders',\n",
    "        ),\n",
    "    ],\n",
    "    axis=0,\n",
    ")\n",
    "\n",
    "sampleBFiltered = pd.concat(\n",
    "    [\n",
    "        ordersByUsersB[\n",
    "            np.logical_not(ordersByUsersB['visitorId'].isin(abnormalUsers))\n",
    "        ]['orders'],\n",
    "        pd.Series(\n",
    "            0,\n",
    "            index=np.arange(\n",
    "                data['visitorsPerDateB'].sum() - len(ordersByUsersB['orders'])\n",
    "            ),\n",
    "            name='orders',\n",
    "        ),\n",
    "    ],\n",
    "    axis=0,\n",
    ")\n",
    "alternative = 'two-sided'\n",
    "# выводим p-value для сравнения конверсии между очищенными группами\n",
    "print('{0:.5f}'.format(stats.mannwhitneyu(sampleAFiltered, sampleBFiltered)[1]))\n",
    "# выводим относительный прирост конверсии очищенной группы B\n",
    "print('{0:.3f}'.format(sampleBFiltered.mean()/sampleAFiltered.mean()-1))"
   ]
  },
  {
   "cell_type": "markdown",
   "metadata": {},
   "source": [
    "P-value меньше 0.05 - отвергаем нулевую гипотезу. Статистически значимые различия между группами существуют. Относительный прирост конверсии очищенной группы В - 16%. Сегмент В лучше сегмента А. "
   ]
  },
  {
   "cell_type": "markdown",
   "metadata": {},
   "source": [
    "### Статистическая значимость различий в среднем чеке заказа между группами по «очищенным» данным"
   ]
  },
  {
   "cell_type": "markdown",
   "metadata": {},
   "source": [
    "Нулевая гипотеза: средний чек заказа по \"очищенным\" данным группы А превышает средний чек заказа по \"очищенным\" данным группы В на 50%. \n",
    "\n",
    "Альтернативная гипотеза: средний чек заказа по \"очищенным\" данным группы А не превышает средний чек заказа по \"очищенным\" данным группы В на 50%.\n"
   ]
  },
  {
   "cell_type": "code",
   "execution_count": 32,
   "metadata": {},
   "outputs": [
    {
     "name": "stdout",
     "output_type": "stream",
     "text": [
      "0.421\n",
      "-0.031\n"
     ]
    }
   ],
   "source": [
    "# выводим p-value для сравнения средних чеков между очищенными группами\n",
    "alternative = 'two-sided'\n",
    "print(\n",
    "    '{0:.3f}'.format(\n",
    "        stats.mannwhitneyu(\n",
    "            orders[\n",
    "                np.logical_and(\n",
    "                    orders['group'] == 'A',\n",
    "                    np.logical_not(orders['visitorId'].isin(abnormalUsers)),\n",
    "                )\n",
    "            ]['revenue'],\n",
    "            orders[\n",
    "                np.logical_and(\n",
    "                    orders['group'] == 'B',\n",
    "                    np.logical_not(orders['visitorId'].isin(abnormalUsers)),\n",
    "                )\n",
    "            ]['revenue'],\n",
    "        )[1]\n",
    "    )\n",
    ")\n",
    "\n",
    "# выводим относительный прирост среднего чека очищенной группы B\n",
    "print(\n",
    "    \"{0:.3f}\".format(\n",
    "        orders[\n",
    "            np.logical_and(\n",
    "                orders['group'] == 'B',\n",
    "                np.logical_not(orders['visitorId'].isin(abnormalUsers)),\n",
    "            )\n",
    "        ]['revenue'].mean()\n",
    "        / orders[\n",
    "            np.logical_and(\n",
    "                orders['group'] == 'A',\n",
    "                np.logical_not(orders['visitorId'].isin(abnormalUsers)),\n",
    "            )\n",
    "        ]['revenue'].mean()\n",
    "        - 1\n",
    "    )\n",
    ")"
   ]
  },
  {
   "cell_type": "markdown",
   "metadata": {},
   "source": [
    "P-value значительно выше 0.05, как и результаты «сырых» данных, статистически значимых различий в среднем чеке заказа между группами по «очищенным» данным нет. Относительный прирост группы В в среднем чеке после удаления аномальных значений снизился по сравнению с сегментом А. "
   ]
  },
  {
   "cell_type": "markdown",
   "metadata": {},
   "source": [
    "Статистически значимое различие по конверсии между группами есть: это доказал анализ и сырых, и очищенных данных. Показатели группы В стабильно выше сегмента А. Графики выручки, среднего чека и конверсии по группам также демонстрируют, что результаты группы B лучше группы A и имеют тенденцию к росту. Поэтому исходя из фактов выше, приходим к выводу, что группа В лучше, тестирование следует остановить. \n"
   ]
  },
  {
   "cell_type": "markdown",
   "metadata": {},
   "source": [
    "## <a id='end'>Вывод</a>"
   ]
  },
  {
   "cell_type": "markdown",
   "metadata": {},
   "source": [
    "Задача исследования состояла в необходимости проверить гипотезы и выяснить, какие из них могут повлиять на увеличение выручки компании.\n",
    "\n",
    "В работе были использованы данные 3 датасетов с информацией о гипотезах, заказах и посетителях. В преддоработке данных было обнаружено, что в исследование попали пользователи, отнесенные одновременно к двум группам тестирования. Для чистоты эксперименты удалили таких пользователей из анализа. \n",
    "\n",
    "Мы приоритизировали гипотезы и определили, что наиболее перспективными являются гипотезы под номерами 7, 2 и 0. А именно: добавить форму подписки на все основные страницы, чтобы собрать базу клиентов для email-рассылок, добавить блоки рекомендаций товаров на сайт интернет магазина, чтобы повысить конверсию и средний чек заказа, а также добавить два новых канала привлечения трафика, что позволит привлекать на 30% больше пользователей.\n",
    "\n",
    "Чтобы определить, какая группа демонстрирует лучшие результаты, мы построили график кумулятивной выручки. Согласно нему, выручка увеличивается у обеих групп, но показатели группы В выше, кроме того, в группе В наблюдаются несколько точек резкого роста. Также построили график распределения среднего чека по группам, на котором группа В вновь показала резкий скачок и увеличение показателей. Согласно графику конверсии по группам, результаты группы В, после небольшого проседания в начале анализа, снова оказались выше. \n",
    "\n",
    "Мы установили, что большинство пользователей интернет-магазина совершали не более 2-х покупок на сумму не больше 30 тыс.рублей. Полученные данные позволили нам отсечь аномальные показатели, которые могли повлиять на результаты исследования, и провести статистический анализ. Его результаты привели нас к выводу: статистически значимое различие по конверсии между группами есть. Группа В на протяжении всего теста показывала лучшие результаты.  \n",
    "\n"
   ]
  }
 ],
 "metadata": {
  "ExecuteTimeLog": [
   {
    "duration": 328,
    "start_time": "2022-03-03T13:11:40.387Z"
   },
   {
    "duration": 697,
    "start_time": "2022-03-03T13:11:43.634Z"
   },
   {
    "duration": 34,
    "start_time": "2022-03-03T13:11:47.866Z"
   },
   {
    "duration": 336,
    "start_time": "2022-03-03T13:13:06.860Z"
   },
   {
    "duration": 242,
    "start_time": "2022-03-03T13:14:07.436Z"
   },
   {
    "duration": 428,
    "start_time": "2022-03-03T13:14:33.726Z"
   },
   {
    "duration": 14,
    "start_time": "2022-03-03T13:15:18.700Z"
   },
   {
    "duration": 23,
    "start_time": "2022-03-03T13:15:24.301Z"
   },
   {
    "duration": 30,
    "start_time": "2022-03-03T13:16:07.457Z"
   },
   {
    "duration": 25,
    "start_time": "2022-03-03T13:16:26.248Z"
   },
   {
    "duration": 16,
    "start_time": "2022-03-03T13:18:49.323Z"
   },
   {
    "duration": 28,
    "start_time": "2022-03-03T13:22:21.428Z"
   },
   {
    "duration": 24,
    "start_time": "2022-03-03T13:22:33.661Z"
   },
   {
    "duration": 113,
    "start_time": "2022-03-03T13:31:33.083Z"
   },
   {
    "duration": 4,
    "start_time": "2022-03-03T13:32:02.277Z"
   },
   {
    "duration": 34,
    "start_time": "2022-03-03T13:38:41.642Z"
   },
   {
    "duration": 241,
    "start_time": "2022-03-03T13:38:47.955Z"
   },
   {
    "duration": 33,
    "start_time": "2022-03-03T13:38:53.304Z"
   },
   {
    "duration": 42,
    "start_time": "2022-03-03T13:39:00.556Z"
   },
   {
    "duration": 23,
    "start_time": "2022-03-03T13:39:07.598Z"
   },
   {
    "duration": 38,
    "start_time": "2022-03-03T13:39:11.027Z"
   },
   {
    "duration": 6336,
    "start_time": "2022-03-03T13:42:39.128Z"
   },
   {
    "duration": 3016,
    "start_time": "2022-03-03T13:43:32.802Z"
   },
   {
    "duration": 1173,
    "start_time": "2022-03-03T13:49:40.195Z"
   },
   {
    "duration": 40,
    "start_time": "2022-03-03T13:49:51.546Z"
   },
   {
    "duration": 40,
    "start_time": "2022-03-03T13:49:56.897Z"
   },
   {
    "duration": 24,
    "start_time": "2022-03-03T13:50:08.072Z"
   },
   {
    "duration": 13,
    "start_time": "2022-03-03T13:50:11.122Z"
   },
   {
    "duration": 6477,
    "start_time": "2022-03-03T13:54:04.539Z"
   },
   {
    "duration": 460,
    "start_time": "2022-03-03T17:06:50.868Z"
   },
   {
    "duration": 421,
    "start_time": "2022-03-03T17:08:07.983Z"
   },
   {
    "duration": 7523,
    "start_time": "2022-03-03T17:08:47.036Z"
   },
   {
    "duration": 303,
    "start_time": "2022-03-03T17:18:28.513Z"
   },
   {
    "duration": 6186,
    "start_time": "2022-03-03T17:18:36.065Z"
   },
   {
    "duration": 248,
    "start_time": "2022-03-03T17:30:56.206Z"
   },
   {
    "duration": 269,
    "start_time": "2022-03-03T17:31:16.991Z"
   },
   {
    "duration": 6366,
    "start_time": "2022-03-03T17:39:35.484Z"
   },
   {
    "duration": 1442,
    "start_time": "2022-03-03T17:44:37.609Z"
   },
   {
    "duration": 6646,
    "start_time": "2022-03-03T17:45:11.531Z"
   },
   {
    "duration": 6017,
    "start_time": "2022-03-03T17:45:37.248Z"
   },
   {
    "duration": 336,
    "start_time": "2022-03-04T10:37:54.556Z"
   },
   {
    "duration": 770,
    "start_time": "2022-03-04T10:38:01.390Z"
   },
   {
    "duration": 35,
    "start_time": "2022-03-04T10:38:03.757Z"
   },
   {
    "duration": 13,
    "start_time": "2022-03-04T10:38:06.191Z"
   },
   {
    "duration": 1655,
    "start_time": "2022-03-04T10:38:08.837Z"
   },
   {
    "duration": 38,
    "start_time": "2022-03-04T10:38:46.090Z"
   },
   {
    "duration": -97,
    "start_time": "2022-03-04T10:47:57.395Z"
   },
   {
    "duration": 8276,
    "start_time": "2022-03-04T10:48:06.698Z"
   },
   {
    "duration": 460,
    "start_time": "2022-03-04T10:53:28.001Z"
   },
   {
    "duration": 1463,
    "start_time": "2022-03-04T10:54:36.259Z"
   },
   {
    "duration": 1318,
    "start_time": "2022-03-04T10:55:11.920Z"
   },
   {
    "duration": 57,
    "start_time": "2022-03-04T10:55:37.958Z"
   },
   {
    "duration": 39,
    "start_time": "2022-03-04T10:56:25.455Z"
   },
   {
    "duration": 7212,
    "start_time": "2022-03-04T10:56:58.134Z"
   },
   {
    "duration": 564,
    "start_time": "2022-03-04T10:57:42.814Z"
   },
   {
    "duration": 853,
    "start_time": "2022-03-04T11:09:31.445Z"
   },
   {
    "duration": 794,
    "start_time": "2022-03-04T11:09:59.091Z"
   },
   {
    "duration": 638,
    "start_time": "2022-03-04T11:10:20.185Z"
   },
   {
    "duration": 843,
    "start_time": "2022-03-04T11:10:50.305Z"
   },
   {
    "duration": 780,
    "start_time": "2022-03-04T11:11:13.687Z"
   },
   {
    "duration": 797,
    "start_time": "2022-03-04T11:11:42.984Z"
   },
   {
    "duration": 901,
    "start_time": "2022-03-04T11:13:59.470Z"
   },
   {
    "duration": 882,
    "start_time": "2022-03-04T11:14:14.691Z"
   },
   {
    "duration": 605,
    "start_time": "2022-03-04T11:15:35.889Z"
   },
   {
    "duration": 585,
    "start_time": "2022-03-04T11:15:52.928Z"
   },
   {
    "duration": 618,
    "start_time": "2022-03-04T11:16:00.388Z"
   },
   {
    "duration": 598,
    "start_time": "2022-03-04T11:16:13.279Z"
   },
   {
    "duration": 618,
    "start_time": "2022-03-04T11:17:05.773Z"
   },
   {
    "duration": 1001,
    "start_time": "2022-03-04T11:17:23.499Z"
   },
   {
    "duration": 611,
    "start_time": "2022-03-04T11:17:31.254Z"
   },
   {
    "duration": 2168,
    "start_time": "2022-03-04T11:20:06.548Z"
   },
   {
    "duration": 877,
    "start_time": "2022-03-04T11:20:43.249Z"
   },
   {
    "duration": 904,
    "start_time": "2022-03-04T11:21:00.735Z"
   },
   {
    "duration": 883,
    "start_time": "2022-03-04T11:21:50.899Z"
   },
   {
    "duration": 850,
    "start_time": "2022-03-04T11:22:58.330Z"
   },
   {
    "duration": 830,
    "start_time": "2022-03-04T11:24:32.080Z"
   },
   {
    "duration": 551,
    "start_time": "2022-03-04T11:24:40.128Z"
   },
   {
    "duration": 17,
    "start_time": "2022-03-04T11:26:20.925Z"
   },
   {
    "duration": 23,
    "start_time": "2022-03-04T11:26:34.131Z"
   },
   {
    "duration": 20,
    "start_time": "2022-03-04T11:26:48.802Z"
   },
   {
    "duration": 56,
    "start_time": "2022-03-04T11:28:28.295Z"
   },
   {
    "duration": 54,
    "start_time": "2022-03-04T11:28:44.140Z"
   },
   {
    "duration": 20,
    "start_time": "2022-03-04T11:29:21.513Z"
   },
   {
    "duration": 219,
    "start_time": "2022-03-04T11:41:35.102Z"
   },
   {
    "duration": 702,
    "start_time": "2022-03-04T11:42:38.098Z"
   },
   {
    "duration": 720,
    "start_time": "2022-03-04T11:44:00.931Z"
   },
   {
    "duration": 763,
    "start_time": "2022-03-04T11:44:12.464Z"
   },
   {
    "duration": 714,
    "start_time": "2022-03-04T11:44:19.355Z"
   },
   {
    "duration": 723,
    "start_time": "2022-03-04T11:44:29.825Z"
   },
   {
    "duration": 328,
    "start_time": "2022-03-04T11:44:58.234Z"
   },
   {
    "duration": 3,
    "start_time": "2022-03-04T12:02:55.690Z"
   },
   {
    "duration": 26,
    "start_time": "2022-03-04T12:02:55.695Z"
   },
   {
    "duration": 48,
    "start_time": "2022-03-04T12:02:55.724Z"
   },
   {
    "duration": 21,
    "start_time": "2022-03-04T12:02:55.774Z"
   },
   {
    "duration": 24,
    "start_time": "2022-03-04T12:02:55.797Z"
   },
   {
    "duration": 21,
    "start_time": "2022-03-04T12:02:55.822Z"
   },
   {
    "duration": 93,
    "start_time": "2022-03-04T12:02:55.845Z"
   },
   {
    "duration": 45,
    "start_time": "2022-03-04T12:02:55.894Z"
   },
   {
    "duration": 45,
    "start_time": "2022-03-04T12:02:55.895Z"
   },
   {
    "duration": 104,
    "start_time": "2022-03-04T12:04:16.843Z"
   },
   {
    "duration": 83,
    "start_time": "2022-03-04T12:04:27.082Z"
   },
   {
    "duration": 82,
    "start_time": "2022-03-04T12:04:31.547Z"
   },
   {
    "duration": 15,
    "start_time": "2022-03-04T12:04:46.540Z"
   },
   {
    "duration": 600,
    "start_time": "2022-03-04T12:04:57.837Z"
   },
   {
    "duration": 221,
    "start_time": "2022-03-04T12:05:48.641Z"
   },
   {
    "duration": 322,
    "start_time": "2022-03-04T12:07:33.931Z"
   },
   {
    "duration": 322,
    "start_time": "2022-03-04T12:10:03.334Z"
   },
   {
    "duration": 248,
    "start_time": "2022-03-04T12:18:02.193Z"
   },
   {
    "duration": 264,
    "start_time": "2022-03-04T12:18:15.618Z"
   },
   {
    "duration": 222,
    "start_time": "2022-03-04T12:18:40.425Z"
   },
   {
    "duration": 585,
    "start_time": "2022-03-04T12:19:59.594Z"
   },
   {
    "duration": 235,
    "start_time": "2022-03-04T12:20:07.108Z"
   },
   {
    "duration": 254,
    "start_time": "2022-03-04T12:20:19.376Z"
   },
   {
    "duration": 3,
    "start_time": "2022-03-04T12:24:19.975Z"
   },
   {
    "duration": 240,
    "start_time": "2022-03-04T12:43:39.473Z"
   },
   {
    "duration": 273,
    "start_time": "2022-03-04T12:43:55.865Z"
   },
   {
    "duration": 241,
    "start_time": "2022-03-04T12:44:30.094Z"
   },
   {
    "duration": 255,
    "start_time": "2022-03-04T12:44:45.965Z"
   },
   {
    "duration": 240,
    "start_time": "2022-03-04T12:44:51.316Z"
   },
   {
    "duration": 258,
    "start_time": "2022-03-04T12:45:11.827Z"
   },
   {
    "duration": 246,
    "start_time": "2022-03-04T12:45:16.595Z"
   },
   {
    "duration": 288,
    "start_time": "2022-03-04T12:50:45.594Z"
   },
   {
    "duration": 262,
    "start_time": "2022-03-04T12:51:04.993Z"
   },
   {
    "duration": 316,
    "start_time": "2022-03-04T12:53:48.542Z"
   },
   {
    "duration": 233,
    "start_time": "2022-03-04T12:53:54.015Z"
   },
   {
    "duration": 251,
    "start_time": "2022-03-04T12:54:07.956Z"
   },
   {
    "duration": 267,
    "start_time": "2022-03-04T12:54:15.790Z"
   },
   {
    "duration": 237,
    "start_time": "2022-03-04T12:54:26.400Z"
   },
   {
    "duration": 320,
    "start_time": "2022-03-04T12:55:50.189Z"
   },
   {
    "duration": 372,
    "start_time": "2022-03-04T12:57:00.053Z"
   },
   {
    "duration": 350,
    "start_time": "2022-03-04T12:57:24.976Z"
   },
   {
    "duration": 360,
    "start_time": "2022-03-04T12:59:19.634Z"
   },
   {
    "duration": 278,
    "start_time": "2022-03-04T13:11:52.763Z"
   },
   {
    "duration": 279,
    "start_time": "2022-03-04T13:12:53.757Z"
   },
   {
    "duration": 3,
    "start_time": "2022-03-04T13:14:10.542Z"
   },
   {
    "duration": 6,
    "start_time": "2022-03-04T13:14:10.547Z"
   },
   {
    "duration": 21,
    "start_time": "2022-03-04T13:14:10.555Z"
   },
   {
    "duration": 47,
    "start_time": "2022-03-04T13:14:10.578Z"
   },
   {
    "duration": 18,
    "start_time": "2022-03-04T13:14:10.627Z"
   },
   {
    "duration": 14,
    "start_time": "2022-03-04T13:14:10.647Z"
   },
   {
    "duration": 14,
    "start_time": "2022-03-04T13:14:10.663Z"
   },
   {
    "duration": 20,
    "start_time": "2022-03-04T13:14:10.679Z"
   },
   {
    "duration": 600,
    "start_time": "2022-03-04T13:14:10.702Z"
   },
   {
    "duration": 253,
    "start_time": "2022-03-04T13:14:11.304Z"
   },
   {
    "duration": 358,
    "start_time": "2022-03-04T13:14:11.558Z"
   },
   {
    "duration": 237,
    "start_time": "2022-03-04T13:14:11.918Z"
   },
   {
    "duration": 364,
    "start_time": "2022-03-04T13:14:12.157Z"
   },
   {
    "duration": 255,
    "start_time": "2022-03-04T13:14:12.523Z"
   },
   {
    "duration": 87,
    "start_time": "2022-03-04T13:19:42.264Z"
   },
   {
    "duration": 1216,
    "start_time": "2022-03-04T13:20:08.613Z"
   },
   {
    "duration": 316,
    "start_time": "2022-03-04T13:20:25.739Z"
   },
   {
    "duration": 118,
    "start_time": "2022-03-04T13:22:06.735Z"
   },
   {
    "duration": 118,
    "start_time": "2022-03-04T13:23:18.499Z"
   },
   {
    "duration": 397,
    "start_time": "2022-03-04T13:23:42.754Z"
   },
   {
    "duration": 130,
    "start_time": "2022-03-04T13:23:48.676Z"
   },
   {
    "duration": 192,
    "start_time": "2022-03-04T13:23:51.970Z"
   },
   {
    "duration": 194,
    "start_time": "2022-03-04T13:24:35.874Z"
   },
   {
    "duration": 270,
    "start_time": "2022-03-04T13:27:18.441Z"
   },
   {
    "duration": 6,
    "start_time": "2022-03-04T13:33:40.246Z"
   },
   {
    "duration": 6708,
    "start_time": "2022-03-04T13:46:11.680Z"
   },
   {
    "duration": 261,
    "start_time": "2022-03-04T13:48:06.769Z"
   },
   {
    "duration": 258,
    "start_time": "2022-03-04T13:48:12.470Z"
   },
   {
    "duration": 277,
    "start_time": "2022-03-04T13:49:08.599Z"
   },
   {
    "duration": 256,
    "start_time": "2022-03-04T13:49:27.446Z"
   },
   {
    "duration": 4,
    "start_time": "2022-03-04T13:49:33.632Z"
   },
   {
    "duration": 11,
    "start_time": "2022-03-04T13:49:33.637Z"
   },
   {
    "duration": 32,
    "start_time": "2022-03-04T13:49:33.650Z"
   },
   {
    "duration": 43,
    "start_time": "2022-03-04T13:49:33.684Z"
   },
   {
    "duration": 19,
    "start_time": "2022-03-04T13:49:33.729Z"
   },
   {
    "duration": 15,
    "start_time": "2022-03-04T13:49:33.749Z"
   },
   {
    "duration": 14,
    "start_time": "2022-03-04T13:49:33.766Z"
   },
   {
    "duration": 23,
    "start_time": "2022-03-04T13:49:33.782Z"
   },
   {
    "duration": 583,
    "start_time": "2022-03-04T13:49:33.807Z"
   },
   {
    "duration": 231,
    "start_time": "2022-03-04T13:49:34.392Z"
   },
   {
    "duration": 306,
    "start_time": "2022-03-04T13:49:34.625Z"
   },
   {
    "duration": 247,
    "start_time": "2022-03-04T13:49:34.933Z"
   },
   {
    "duration": 350,
    "start_time": "2022-03-04T13:49:35.182Z"
   },
   {
    "duration": 151,
    "start_time": "2022-03-04T13:49:35.534Z"
   },
   {
    "duration": 198,
    "start_time": "2022-03-04T13:49:35.687Z"
   },
   {
    "duration": 309,
    "start_time": "2022-03-04T13:49:35.887Z"
   },
   {
    "duration": 4,
    "start_time": "2022-03-04T13:49:36.198Z"
   },
   {
    "duration": 294,
    "start_time": "2022-03-04T13:49:36.203Z"
   },
   {
    "duration": 250,
    "start_time": "2022-03-04T13:49:39.570Z"
   },
   {
    "duration": 39,
    "start_time": "2022-03-04T13:49:47.394Z"
   },
   {
    "duration": 302,
    "start_time": "2022-03-04T13:50:02.233Z"
   },
   {
    "duration": 6557,
    "start_time": "2022-03-04T13:50:39.659Z"
   },
   {
    "duration": 290,
    "start_time": "2022-03-04T13:52:01.033Z"
   },
   {
    "duration": 325,
    "start_time": "2022-03-04T13:52:42.251Z"
   },
   {
    "duration": 5,
    "start_time": "2022-03-04T13:58:44.656Z"
   },
   {
    "duration": 232,
    "start_time": "2022-03-06T14:39:44.404Z"
   },
   {
    "duration": 65,
    "start_time": "2022-03-06T14:39:48.843Z"
   },
   {
    "duration": 893,
    "start_time": "2022-03-06T14:39:48.017Z"
   },
   {
    "duration": 893,
    "start_time": "2022-03-06T14:39:48.019Z"
   },
   {
    "duration": 892,
    "start_time": "2022-03-06T14:39:48.021Z"
   },
   {
    "duration": 891,
    "start_time": "2022-03-06T14:39:48.023Z"
   },
   {
    "duration": 866,
    "start_time": "2022-03-06T14:39:48.049Z"
   },
   {
    "duration": 864,
    "start_time": "2022-03-06T14:39:48.052Z"
   },
   {
    "duration": 863,
    "start_time": "2022-03-06T14:39:48.054Z"
   },
   {
    "duration": 862,
    "start_time": "2022-03-06T14:39:48.056Z"
   },
   {
    "duration": 861,
    "start_time": "2022-03-06T14:39:48.058Z"
   },
   {
    "duration": 860,
    "start_time": "2022-03-06T14:39:48.060Z"
   },
   {
    "duration": 859,
    "start_time": "2022-03-06T14:39:48.062Z"
   },
   {
    "duration": 857,
    "start_time": "2022-03-06T14:39:48.065Z"
   },
   {
    "duration": 857,
    "start_time": "2022-03-06T14:39:48.066Z"
   },
   {
    "duration": 855,
    "start_time": "2022-03-06T14:39:48.068Z"
   },
   {
    "duration": 856,
    "start_time": "2022-03-06T14:39:48.069Z"
   },
   {
    "duration": 854,
    "start_time": "2022-03-06T14:39:48.071Z"
   },
   {
    "duration": 853,
    "start_time": "2022-03-06T14:39:48.073Z"
   },
   {
    "duration": 767,
    "start_time": "2022-03-06T14:41:12.109Z"
   },
   {
    "duration": 78,
    "start_time": "2022-03-06T14:42:52.242Z"
   },
   {
    "duration": 29,
    "start_time": "2022-03-06T14:42:56.642Z"
   },
   {
    "duration": 33,
    "start_time": "2022-03-06T14:44:24.060Z"
   },
   {
    "duration": 870,
    "start_time": "2022-03-06T14:49:02.493Z"
   },
   {
    "duration": 4950,
    "start_time": "2022-03-06T14:49:23.662Z"
   },
   {
    "duration": 4600,
    "start_time": "2022-03-06T14:49:50.376Z"
   },
   {
    "duration": 9,
    "start_time": "2022-03-06T14:50:18.057Z"
   },
   {
    "duration": 4463,
    "start_time": "2022-03-06T14:51:39.605Z"
   },
   {
    "duration": 17,
    "start_time": "2022-03-06T14:53:22.815Z"
   },
   {
    "duration": 77,
    "start_time": "2022-03-06T14:55:10.638Z"
   },
   {
    "duration": 18,
    "start_time": "2022-03-06T14:55:20.969Z"
   },
   {
    "duration": 67,
    "start_time": "2022-03-06T14:55:29.375Z"
   },
   {
    "duration": 22,
    "start_time": "2022-03-06T14:55:54.767Z"
   },
   {
    "duration": 621,
    "start_time": "2022-03-06T14:58:25.640Z"
   },
   {
    "duration": 5,
    "start_time": "2022-03-06T15:02:32.752Z"
   },
   {
    "duration": 284,
    "start_time": "2022-03-06T15:02:43.125Z"
   },
   {
    "duration": 340,
    "start_time": "2022-03-06T15:06:14.432Z"
   },
   {
    "duration": 4715,
    "start_time": "2022-03-06T15:09:39.942Z"
   },
   {
    "duration": 591,
    "start_time": "2022-03-06T15:11:16.202Z"
   },
   {
    "duration": 395,
    "start_time": "2022-03-06T15:11:36.306Z"
   },
   {
    "duration": 373,
    "start_time": "2022-03-06T15:11:42.010Z"
   },
   {
    "duration": 391,
    "start_time": "2022-03-06T15:12:24.854Z"
   },
   {
    "duration": 384,
    "start_time": "2022-03-06T15:13:28.174Z"
   },
   {
    "duration": 380,
    "start_time": "2022-03-06T15:13:38.613Z"
   },
   {
    "duration": 355,
    "start_time": "2022-03-06T15:13:49.491Z"
   },
   {
    "duration": 9,
    "start_time": "2022-03-06T15:17:28.066Z"
   },
   {
    "duration": 17,
    "start_time": "2022-03-06T15:17:45.419Z"
   },
   {
    "duration": 369,
    "start_time": "2022-03-06T15:22:28.209Z"
   },
   {
    "duration": 340,
    "start_time": "2022-03-06T15:23:02.891Z"
   },
   {
    "duration": 344,
    "start_time": "2022-03-06T15:23:10.354Z"
   },
   {
    "duration": 353,
    "start_time": "2022-03-06T15:38:02.269Z"
   },
   {
    "duration": 393,
    "start_time": "2022-03-06T15:38:11.488Z"
   },
   {
    "duration": 9,
    "start_time": "2022-03-06T15:38:31.066Z"
   },
   {
    "duration": 239,
    "start_time": "2022-03-06T15:48:43.761Z"
   },
   {
    "duration": 203,
    "start_time": "2022-03-06T15:48:52.157Z"
   },
   {
    "duration": 108,
    "start_time": "2022-03-06T15:50:07.999Z"
   },
   {
    "duration": 195,
    "start_time": "2022-03-06T15:50:10.769Z"
   },
   {
    "duration": 314,
    "start_time": "2022-03-06T15:50:14.643Z"
   },
   {
    "duration": 4,
    "start_time": "2022-03-06T15:51:00.925Z"
   },
   {
    "duration": 5,
    "start_time": "2022-03-06T15:51:52.145Z"
   },
   {
    "duration": 3,
    "start_time": "2022-03-06T15:52:14.772Z"
   },
   {
    "duration": 21,
    "start_time": "2022-03-06T15:52:14.777Z"
   },
   {
    "duration": 29,
    "start_time": "2022-03-06T15:52:14.800Z"
   },
   {
    "duration": 16,
    "start_time": "2022-03-06T15:52:14.830Z"
   },
   {
    "duration": 17,
    "start_time": "2022-03-06T15:52:14.848Z"
   },
   {
    "duration": 62,
    "start_time": "2022-03-06T15:52:14.866Z"
   },
   {
    "duration": 30,
    "start_time": "2022-03-06T15:52:14.930Z"
   },
   {
    "duration": 14,
    "start_time": "2022-03-06T15:52:14.962Z"
   },
   {
    "duration": 582,
    "start_time": "2022-03-06T15:52:14.978Z"
   },
   {
    "duration": 227,
    "start_time": "2022-03-06T15:52:15.562Z"
   },
   {
    "duration": 294,
    "start_time": "2022-03-06T15:52:15.791Z"
   },
   {
    "duration": 218,
    "start_time": "2022-03-06T15:52:16.087Z"
   },
   {
    "duration": 325,
    "start_time": "2022-03-06T15:52:16.307Z"
   },
   {
    "duration": 105,
    "start_time": "2022-03-06T15:52:16.633Z"
   },
   {
    "duration": 202,
    "start_time": "2022-03-06T15:52:16.740Z"
   },
   {
    "duration": 324,
    "start_time": "2022-03-06T15:52:16.943Z"
   },
   {
    "duration": 5,
    "start_time": "2022-03-06T15:52:17.269Z"
   },
   {
    "duration": 323,
    "start_time": "2022-03-06T15:52:17.276Z"
   },
   {
    "duration": 5,
    "start_time": "2022-03-06T15:52:17.602Z"
   },
   {
    "duration": 384,
    "start_time": "2022-03-06T15:52:17.608Z"
   },
   {
    "duration": 9,
    "start_time": "2022-03-06T15:52:17.993Z"
   },
   {
    "duration": 3,
    "start_time": "2022-03-06T15:52:25.341Z"
   },
   {
    "duration": 20,
    "start_time": "2022-03-06T15:52:31.284Z"
   },
   {
    "duration": 28,
    "start_time": "2022-03-06T15:52:33.947Z"
   },
   {
    "duration": 21,
    "start_time": "2022-03-06T15:52:36.559Z"
   },
   {
    "duration": 11,
    "start_time": "2022-03-06T15:52:39.940Z"
   },
   {
    "duration": 13,
    "start_time": "2022-03-06T15:52:46.536Z"
   },
   {
    "duration": 14,
    "start_time": "2022-03-06T15:53:08.198Z"
   },
   {
    "duration": 555,
    "start_time": "2022-03-06T15:53:13.556Z"
   },
   {
    "duration": 205,
    "start_time": "2022-03-06T15:53:29.059Z"
   },
   {
    "duration": 348,
    "start_time": "2022-03-06T15:53:47.242Z"
   },
   {
    "duration": 219,
    "start_time": "2022-03-06T15:54:00.040Z"
   },
   {
    "duration": 302,
    "start_time": "2022-03-06T15:54:19.113Z"
   },
   {
    "duration": 105,
    "start_time": "2022-03-06T15:54:27.011Z"
   },
   {
    "duration": 169,
    "start_time": "2022-03-06T15:54:48.717Z"
   },
   {
    "duration": 298,
    "start_time": "2022-03-06T15:54:57.651Z"
   },
   {
    "duration": 6,
    "start_time": "2022-03-06T15:55:08.731Z"
   },
   {
    "duration": 297,
    "start_time": "2022-03-06T15:55:16.780Z"
   },
   {
    "duration": 6,
    "start_time": "2022-03-06T15:55:27.299Z"
   },
   {
    "duration": 400,
    "start_time": "2022-03-06T15:55:35.777Z"
   },
   {
    "duration": 381,
    "start_time": "2022-03-06T15:55:44.605Z"
   },
   {
    "duration": 10,
    "start_time": "2022-03-06T15:56:10.999Z"
   },
   {
    "duration": 11,
    "start_time": "2022-03-06T15:58:35.833Z"
   },
   {
    "duration": 10,
    "start_time": "2022-03-06T15:59:12.578Z"
   },
   {
    "duration": 18,
    "start_time": "2022-03-06T16:01:52.430Z"
   },
   {
    "duration": 19,
    "start_time": "2022-03-06T16:03:07.191Z"
   },
   {
    "duration": 14,
    "start_time": "2022-03-06T16:09:24.749Z"
   },
   {
    "duration": 13,
    "start_time": "2022-03-06T16:10:11.394Z"
   },
   {
    "duration": 4,
    "start_time": "2022-03-06T16:48:32.564Z"
   },
   {
    "duration": 21,
    "start_time": "2022-03-06T16:48:32.570Z"
   },
   {
    "duration": 27,
    "start_time": "2022-03-06T16:48:32.594Z"
   },
   {
    "duration": 16,
    "start_time": "2022-03-06T16:48:32.623Z"
   },
   {
    "duration": 33,
    "start_time": "2022-03-06T16:48:32.641Z"
   },
   {
    "duration": 11,
    "start_time": "2022-03-06T16:48:32.676Z"
   },
   {
    "duration": 12,
    "start_time": "2022-03-06T16:48:32.689Z"
   },
   {
    "duration": 14,
    "start_time": "2022-03-06T16:48:32.703Z"
   },
   {
    "duration": 564,
    "start_time": "2022-03-06T16:48:32.719Z"
   },
   {
    "duration": 215,
    "start_time": "2022-03-06T16:48:33.285Z"
   },
   {
    "duration": 281,
    "start_time": "2022-03-06T16:48:33.502Z"
   },
   {
    "duration": 216,
    "start_time": "2022-03-06T16:48:33.784Z"
   },
   {
    "duration": 299,
    "start_time": "2022-03-06T16:48:34.002Z"
   },
   {
    "duration": 116,
    "start_time": "2022-03-06T16:48:34.303Z"
   },
   {
    "duration": 210,
    "start_time": "2022-03-06T16:48:34.421Z"
   },
   {
    "duration": 322,
    "start_time": "2022-03-06T16:48:34.632Z"
   },
   {
    "duration": 5,
    "start_time": "2022-03-06T16:48:34.956Z"
   },
   {
    "duration": 404,
    "start_time": "2022-03-06T16:48:34.963Z"
   },
   {
    "duration": 6,
    "start_time": "2022-03-06T16:48:35.369Z"
   },
   {
    "duration": 379,
    "start_time": "2022-03-06T16:48:35.377Z"
   },
   {
    "duration": 10,
    "start_time": "2022-03-06T16:48:35.759Z"
   },
   {
    "duration": 18,
    "start_time": "2022-03-06T16:48:35.770Z"
   },
   {
    "duration": 16,
    "start_time": "2022-03-06T16:48:35.790Z"
   },
   {
    "duration": 3,
    "start_time": "2022-03-06T16:48:41.932Z"
   },
   {
    "duration": 213,
    "start_time": "2022-03-06T16:49:57.308Z"
   },
   {
    "duration": 228,
    "start_time": "2022-03-06T16:50:10.976Z"
   },
   {
    "duration": 543,
    "start_time": "2022-03-06T16:51:04.655Z"
   },
   {
    "duration": 223,
    "start_time": "2022-03-06T16:51:21.820Z"
   },
   {
    "duration": 282,
    "start_time": "2022-03-06T16:51:26.193Z"
   },
   {
    "duration": 218,
    "start_time": "2022-03-06T16:51:33.792Z"
   },
   {
    "duration": 337,
    "start_time": "2022-03-06T16:52:06.567Z"
   },
   {
    "duration": 104,
    "start_time": "2022-03-06T16:55:45.791Z"
   },
   {
    "duration": 183,
    "start_time": "2022-03-06T16:55:49.122Z"
   },
   {
    "duration": 187,
    "start_time": "2022-03-06T16:56:40.527Z"
   },
   {
    "duration": 291,
    "start_time": "2022-03-06T16:56:44.075Z"
   },
   {
    "duration": 5,
    "start_time": "2022-03-06T16:56:55.714Z"
   },
   {
    "duration": 5,
    "start_time": "2022-03-06T16:56:58.405Z"
   },
   {
    "duration": 3,
    "start_time": "2022-03-06T17:58:44.554Z"
   },
   {
    "duration": 21,
    "start_time": "2022-03-06T17:58:44.559Z"
   },
   {
    "duration": 38,
    "start_time": "2022-03-06T17:58:44.582Z"
   },
   {
    "duration": 18,
    "start_time": "2022-03-06T17:58:44.622Z"
   },
   {
    "duration": 22,
    "start_time": "2022-03-06T17:58:44.642Z"
   },
   {
    "duration": 10,
    "start_time": "2022-03-06T17:58:44.666Z"
   },
   {
    "duration": 13,
    "start_time": "2022-03-06T17:58:44.679Z"
   },
   {
    "duration": 13,
    "start_time": "2022-03-06T17:58:44.695Z"
   },
   {
    "duration": 590,
    "start_time": "2022-03-06T17:58:44.710Z"
   },
   {
    "duration": 253,
    "start_time": "2022-03-06T17:58:45.302Z"
   },
   {
    "duration": 324,
    "start_time": "2022-03-06T17:58:45.559Z"
   },
   {
    "duration": 245,
    "start_time": "2022-03-06T17:58:45.885Z"
   },
   {
    "duration": 465,
    "start_time": "2022-03-06T17:58:46.131Z"
   },
   {
    "duration": 118,
    "start_time": "2022-03-06T17:58:46.598Z"
   },
   {
    "duration": 209,
    "start_time": "2022-03-06T17:58:46.718Z"
   },
   {
    "duration": 332,
    "start_time": "2022-03-06T17:58:46.929Z"
   },
   {
    "duration": 5,
    "start_time": "2022-03-06T17:58:47.262Z"
   },
   {
    "duration": 305,
    "start_time": "2022-03-06T17:58:47.269Z"
   },
   {
    "duration": 5,
    "start_time": "2022-03-06T17:58:47.576Z"
   },
   {
    "duration": 411,
    "start_time": "2022-03-06T17:58:47.583Z"
   },
   {
    "duration": 10,
    "start_time": "2022-03-06T17:58:47.996Z"
   },
   {
    "duration": 18,
    "start_time": "2022-03-06T17:58:48.008Z"
   },
   {
    "duration": 40,
    "start_time": "2022-03-06T17:58:48.029Z"
   },
   {
    "duration": 4700,
    "start_time": "2022-03-06T17:59:14.120Z"
   },
   {
    "duration": 5,
    "start_time": "2022-03-06T17:59:24.590Z"
   },
   {
    "duration": 20,
    "start_time": "2022-03-06T17:59:31.775Z"
   },
   {
    "duration": 34,
    "start_time": "2022-03-06T17:59:35.763Z"
   },
   {
    "duration": 17,
    "start_time": "2022-03-06T17:59:37.960Z"
   },
   {
    "duration": 19,
    "start_time": "2022-03-06T17:59:40.389Z"
   },
   {
    "duration": 12,
    "start_time": "2022-03-06T17:59:42.348Z"
   },
   {
    "duration": 4,
    "start_time": "2022-03-06T17:59:55.543Z"
   },
   {
    "duration": 22,
    "start_time": "2022-03-06T17:59:55.550Z"
   },
   {
    "duration": 31,
    "start_time": "2022-03-06T17:59:55.574Z"
   },
   {
    "duration": 19,
    "start_time": "2022-03-06T17:59:55.607Z"
   },
   {
    "duration": 43,
    "start_time": "2022-03-06T17:59:55.628Z"
   },
   {
    "duration": 13,
    "start_time": "2022-03-06T17:59:55.673Z"
   },
   {
    "duration": 13,
    "start_time": "2022-03-06T17:59:55.688Z"
   },
   {
    "duration": 13,
    "start_time": "2022-03-06T17:59:55.703Z"
   },
   {
    "duration": 671,
    "start_time": "2022-03-06T17:59:55.720Z"
   },
   {
    "duration": 271,
    "start_time": "2022-03-06T17:59:56.394Z"
   },
   {
    "duration": 327,
    "start_time": "2022-03-06T17:59:56.667Z"
   },
   {
    "duration": 247,
    "start_time": "2022-03-06T17:59:56.996Z"
   },
   {
    "duration": 358,
    "start_time": "2022-03-06T17:59:57.244Z"
   },
   {
    "duration": 115,
    "start_time": "2022-03-06T17:59:57.604Z"
   },
   {
    "duration": 226,
    "start_time": "2022-03-06T17:59:57.721Z"
   },
   {
    "duration": 347,
    "start_time": "2022-03-06T17:59:57.948Z"
   },
   {
    "duration": 4,
    "start_time": "2022-03-06T17:59:58.297Z"
   },
   {
    "duration": 320,
    "start_time": "2022-03-06T17:59:58.303Z"
   },
   {
    "duration": 5,
    "start_time": "2022-03-06T17:59:58.625Z"
   },
   {
    "duration": 413,
    "start_time": "2022-03-06T17:59:58.632Z"
   },
   {
    "duration": 20,
    "start_time": "2022-03-06T17:59:59.047Z"
   },
   {
    "duration": 31,
    "start_time": "2022-03-06T17:59:59.069Z"
   },
   {
    "duration": 41,
    "start_time": "2022-03-06T17:59:59.102Z"
   },
   {
    "duration": 4,
    "start_time": "2022-03-06T18:00:13.003Z"
   },
   {
    "duration": 20,
    "start_time": "2022-03-06T18:00:14.988Z"
   },
   {
    "duration": 29,
    "start_time": "2022-03-06T18:00:18.180Z"
   },
   {
    "duration": 20,
    "start_time": "2022-03-06T18:00:20.307Z"
   },
   {
    "duration": 20,
    "start_time": "2022-03-06T18:00:22.086Z"
   },
   {
    "duration": 11,
    "start_time": "2022-03-06T18:00:24.223Z"
   },
   {
    "duration": 14,
    "start_time": "2022-03-06T18:00:25.954Z"
   },
   {
    "duration": 13,
    "start_time": "2022-03-06T18:00:28.735Z"
   },
   {
    "duration": 561,
    "start_time": "2022-03-06T18:00:31.536Z"
   },
   {
    "duration": 229,
    "start_time": "2022-03-06T18:00:59.646Z"
   },
   {
    "duration": 335,
    "start_time": "2022-03-06T18:01:12.338Z"
   },
   {
    "duration": 242,
    "start_time": "2022-03-06T18:01:24.261Z"
   },
   {
    "duration": 327,
    "start_time": "2022-03-06T18:01:49.518Z"
   },
   {
    "duration": 107,
    "start_time": "2022-03-06T18:02:03.198Z"
   },
   {
    "duration": 334,
    "start_time": "2022-03-06T18:03:45.346Z"
   },
   {
    "duration": 287,
    "start_time": "2022-03-06T18:03:58.990Z"
   },
   {
    "duration": 6,
    "start_time": "2022-03-06T18:04:09.511Z"
   },
   {
    "duration": 313,
    "start_time": "2022-03-06T18:05:02.479Z"
   },
   {
    "duration": 5,
    "start_time": "2022-03-06T18:05:15.175Z"
   },
   {
    "duration": 395,
    "start_time": "2022-03-06T18:05:50.701Z"
   },
   {
    "duration": 10,
    "start_time": "2022-03-06T18:06:29.946Z"
   },
   {
    "duration": 10,
    "start_time": "2022-03-06T18:08:27.303Z"
   },
   {
    "duration": 19,
    "start_time": "2022-03-06T18:08:36.161Z"
   },
   {
    "duration": 14,
    "start_time": "2022-03-06T18:10:17.585Z"
   },
   {
    "duration": 14,
    "start_time": "2022-03-06T18:10:41.122Z"
   },
   {
    "duration": 923,
    "start_time": "2022-03-06T19:14:06.587Z"
   },
   {
    "duration": 21,
    "start_time": "2022-03-06T19:14:07.512Z"
   },
   {
    "duration": 29,
    "start_time": "2022-03-06T19:14:07.535Z"
   },
   {
    "duration": 16,
    "start_time": "2022-03-06T19:14:07.566Z"
   },
   {
    "duration": 15,
    "start_time": "2022-03-06T19:14:07.584Z"
   },
   {
    "duration": 11,
    "start_time": "2022-03-06T19:14:07.600Z"
   },
   {
    "duration": 23,
    "start_time": "2022-03-06T19:14:07.612Z"
   },
   {
    "duration": 13,
    "start_time": "2022-03-06T19:14:07.637Z"
   },
   {
    "duration": 512,
    "start_time": "2022-03-06T19:14:07.651Z"
   },
   {
    "duration": 198,
    "start_time": "2022-03-06T19:14:08.164Z"
   },
   {
    "duration": 270,
    "start_time": "2022-03-06T19:14:08.364Z"
   },
   {
    "duration": 202,
    "start_time": "2022-03-06T19:14:08.636Z"
   },
   {
    "duration": 328,
    "start_time": "2022-03-06T19:14:08.839Z"
   },
   {
    "duration": 131,
    "start_time": "2022-03-06T19:14:09.169Z"
   },
   {
    "duration": 185,
    "start_time": "2022-03-06T19:14:09.302Z"
   },
   {
    "duration": 248,
    "start_time": "2022-03-06T19:14:09.488Z"
   },
   {
    "duration": 5,
    "start_time": "2022-03-06T19:14:09.738Z"
   },
   {
    "duration": 277,
    "start_time": "2022-03-06T19:14:09.746Z"
   },
   {
    "duration": 5,
    "start_time": "2022-03-06T19:14:10.033Z"
   },
   {
    "duration": 362,
    "start_time": "2022-03-06T19:14:10.040Z"
   },
   {
    "duration": 9,
    "start_time": "2022-03-06T19:14:10.403Z"
   },
   {
    "duration": 29,
    "start_time": "2022-03-06T19:14:10.413Z"
   },
   {
    "duration": 13,
    "start_time": "2022-03-06T19:14:10.445Z"
   },
   {
    "duration": 373,
    "start_time": "2022-03-07T11:00:01.038Z"
   },
   {
    "duration": 1142,
    "start_time": "2022-03-07T11:00:07.013Z"
   },
   {
    "duration": 25,
    "start_time": "2022-03-07T11:00:09.232Z"
   },
   {
    "duration": 4,
    "start_time": "2022-03-07T11:00:21.905Z"
   },
   {
    "duration": 19,
    "start_time": "2022-03-07T11:00:21.910Z"
   },
   {
    "duration": 33,
    "start_time": "2022-03-07T11:00:21.932Z"
   },
   {
    "duration": 23,
    "start_time": "2022-03-07T11:00:21.967Z"
   },
   {
    "duration": 19,
    "start_time": "2022-03-07T11:00:22.002Z"
   },
   {
    "duration": 14,
    "start_time": "2022-03-07T11:00:22.023Z"
   },
   {
    "duration": 13,
    "start_time": "2022-03-07T11:00:22.038Z"
   },
   {
    "duration": 15,
    "start_time": "2022-03-07T11:00:22.054Z"
   },
   {
    "duration": 603,
    "start_time": "2022-03-07T11:00:22.071Z"
   },
   {
    "duration": 232,
    "start_time": "2022-03-07T11:00:22.676Z"
   },
   {
    "duration": 305,
    "start_time": "2022-03-07T11:00:22.910Z"
   },
   {
    "duration": 234,
    "start_time": "2022-03-07T11:00:23.217Z"
   },
   {
    "duration": 330,
    "start_time": "2022-03-07T11:00:23.453Z"
   },
   {
    "duration": 117,
    "start_time": "2022-03-07T11:00:23.785Z"
   },
   {
    "duration": 203,
    "start_time": "2022-03-07T11:00:23.904Z"
   },
   {
    "duration": 327,
    "start_time": "2022-03-07T11:00:24.109Z"
   },
   {
    "duration": 5,
    "start_time": "2022-03-07T11:00:24.438Z"
   },
   {
    "duration": 281,
    "start_time": "2022-03-07T11:00:24.445Z"
   },
   {
    "duration": 5,
    "start_time": "2022-03-07T11:00:24.728Z"
   },
   {
    "duration": 403,
    "start_time": "2022-03-07T11:00:24.735Z"
   },
   {
    "duration": 11,
    "start_time": "2022-03-07T11:00:25.140Z"
   },
   {
    "duration": 28,
    "start_time": "2022-03-07T11:00:25.153Z"
   },
   {
    "duration": 46,
    "start_time": "2022-03-07T11:00:25.184Z"
   },
   {
    "duration": 3,
    "start_time": "2022-03-07T11:00:52.512Z"
   },
   {
    "duration": 18,
    "start_time": "2022-03-07T11:00:54.282Z"
   },
   {
    "duration": 21,
    "start_time": "2022-03-07T11:01:05.998Z"
   },
   {
    "duration": 17,
    "start_time": "2022-03-07T11:01:12.972Z"
   },
   {
    "duration": 21,
    "start_time": "2022-03-07T11:01:27.392Z"
   },
   {
    "duration": 20,
    "start_time": "2022-03-07T11:06:03.618Z"
   },
   {
    "duration": 29,
    "start_time": "2022-03-07T11:06:15.468Z"
   },
   {
    "duration": 19,
    "start_time": "2022-03-07T11:06:30.529Z"
   },
   {
    "duration": 15,
    "start_time": "2022-03-07T11:10:37.282Z"
   },
   {
    "duration": 12,
    "start_time": "2022-03-07T11:10:50.587Z"
   },
   {
    "duration": 13,
    "start_time": "2022-03-07T11:10:58.651Z"
   },
   {
    "duration": 12,
    "start_time": "2022-03-07T11:11:07.214Z"
   },
   {
    "duration": 15,
    "start_time": "2022-03-07T11:12:43.812Z"
   },
   {
    "duration": 16,
    "start_time": "2022-03-07T11:12:58.773Z"
   },
   {
    "duration": 713,
    "start_time": "2022-03-07T11:24:38.045Z"
   },
   {
    "duration": 662,
    "start_time": "2022-03-07T11:26:53.577Z"
   },
   {
    "duration": 693,
    "start_time": "2022-03-07T11:27:58.608Z"
   },
   {
    "duration": 678,
    "start_time": "2022-03-07T11:30:08.745Z"
   },
   {
    "duration": 279,
    "start_time": "2022-03-07T11:34:54.133Z"
   },
   {
    "duration": 301,
    "start_time": "2022-03-07T11:35:04.607Z"
   },
   {
    "duration": 383,
    "start_time": "2022-03-07T11:39:25.347Z"
   },
   {
    "duration": 328,
    "start_time": "2022-03-07T11:49:16.320Z"
   },
   {
    "duration": 310,
    "start_time": "2022-03-07T11:49:28.902Z"
   },
   {
    "duration": 319,
    "start_time": "2022-03-07T11:52:24.927Z"
   },
   {
    "duration": 483,
    "start_time": "2022-03-07T11:53:30.132Z"
   },
   {
    "duration": 441,
    "start_time": "2022-03-07T11:54:37.274Z"
   },
   {
    "duration": 469,
    "start_time": "2022-03-07T11:55:07.549Z"
   },
   {
    "duration": 4,
    "start_time": "2022-03-07T11:55:26.792Z"
   },
   {
    "duration": 435,
    "start_time": "2022-03-07T11:55:33.084Z"
   },
   {
    "duration": 419,
    "start_time": "2022-03-07T11:55:43.240Z"
   },
   {
    "duration": 557,
    "start_time": "2022-03-07T11:56:39.355Z"
   },
   {
    "duration": 411,
    "start_time": "2022-03-07T11:56:50.145Z"
   },
   {
    "duration": 331,
    "start_time": "2022-03-07T11:57:05.052Z"
   },
   {
    "duration": 425,
    "start_time": "2022-03-07T11:57:11.039Z"
   },
   {
    "duration": 318,
    "start_time": "2022-03-07T11:57:16.665Z"
   },
   {
    "duration": 814,
    "start_time": "2022-03-07T11:57:24.032Z"
   },
   {
    "duration": 422,
    "start_time": "2022-03-07T12:12:01.004Z"
   },
   {
    "duration": 14,
    "start_time": "2022-03-07T12:13:05.047Z"
   },
   {
    "duration": 11,
    "start_time": "2022-03-07T12:13:12.542Z"
   },
   {
    "duration": 11,
    "start_time": "2022-03-07T12:13:20.328Z"
   },
   {
    "duration": 10,
    "start_time": "2022-03-07T12:13:26.360Z"
   },
   {
    "duration": 11,
    "start_time": "2022-03-07T12:13:36.030Z"
   },
   {
    "duration": 20,
    "start_time": "2022-03-07T12:13:53.069Z"
   },
   {
    "duration": 21,
    "start_time": "2022-03-07T12:13:58.337Z"
   },
   {
    "duration": 19,
    "start_time": "2022-03-07T12:14:04.711Z"
   },
   {
    "duration": 28,
    "start_time": "2022-03-07T12:14:12.075Z"
   },
   {
    "duration": 20,
    "start_time": "2022-03-07T12:14:20.242Z"
   },
   {
    "duration": 15,
    "start_time": "2022-03-07T12:15:29.739Z"
   },
   {
    "duration": 4,
    "start_time": "2022-03-07T12:19:29.324Z"
   },
   {
    "duration": 26,
    "start_time": "2022-03-07T12:19:29.330Z"
   },
   {
    "duration": 31,
    "start_time": "2022-03-07T12:19:29.358Z"
   },
   {
    "duration": 18,
    "start_time": "2022-03-07T12:19:29.391Z"
   },
   {
    "duration": 17,
    "start_time": "2022-03-07T12:19:29.411Z"
   },
   {
    "duration": 15,
    "start_time": "2022-03-07T12:19:29.430Z"
   },
   {
    "duration": 16,
    "start_time": "2022-03-07T12:19:29.448Z"
   },
   {
    "duration": 35,
    "start_time": "2022-03-07T12:19:29.466Z"
   },
   {
    "duration": 654,
    "start_time": "2022-03-07T12:19:29.503Z"
   },
   {
    "duration": 236,
    "start_time": "2022-03-07T12:19:30.158Z"
   },
   {
    "duration": 325,
    "start_time": "2022-03-07T12:19:30.400Z"
   },
   {
    "duration": 251,
    "start_time": "2022-03-07T12:19:30.727Z"
   },
   {
    "duration": 379,
    "start_time": "2022-03-07T12:19:30.980Z"
   },
   {
    "duration": 109,
    "start_time": "2022-03-07T12:19:31.361Z"
   },
   {
    "duration": 201,
    "start_time": "2022-03-07T12:19:31.471Z"
   },
   {
    "duration": 348,
    "start_time": "2022-03-07T12:19:31.673Z"
   },
   {
    "duration": 5,
    "start_time": "2022-03-07T12:19:32.023Z"
   },
   {
    "duration": 306,
    "start_time": "2022-03-07T12:19:32.030Z"
   },
   {
    "duration": 5,
    "start_time": "2022-03-07T12:19:32.339Z"
   },
   {
    "duration": 397,
    "start_time": "2022-03-07T12:19:32.346Z"
   },
   {
    "duration": 11,
    "start_time": "2022-03-07T12:19:32.745Z"
   },
   {
    "duration": 22,
    "start_time": "2022-03-07T12:19:32.757Z"
   },
   {
    "duration": 15,
    "start_time": "2022-03-07T12:19:32.801Z"
   },
   {
    "duration": 4,
    "start_time": "2022-03-07T12:20:32.510Z"
   },
   {
    "duration": 26,
    "start_time": "2022-03-07T12:20:34.279Z"
   },
   {
    "duration": 28,
    "start_time": "2022-03-07T12:20:43.818Z"
   },
   {
    "duration": 20,
    "start_time": "2022-03-07T12:20:45.643Z"
   },
   {
    "duration": 18,
    "start_time": "2022-03-07T12:20:47.941Z"
   },
   {
    "duration": 20,
    "start_time": "2022-03-07T12:21:04.010Z"
   },
   {
    "duration": 18,
    "start_time": "2022-03-07T12:21:21.107Z"
   },
   {
    "duration": 17,
    "start_time": "2022-03-07T12:21:28.682Z"
   },
   {
    "duration": 15,
    "start_time": "2022-03-07T12:21:34.757Z"
   },
   {
    "duration": 15,
    "start_time": "2022-03-07T12:21:45.780Z"
   },
   {
    "duration": 19,
    "start_time": "2022-03-07T12:55:42.234Z"
   },
   {
    "duration": 13,
    "start_time": "2022-03-07T12:55:58.189Z"
   },
   {
    "duration": 17,
    "start_time": "2022-03-07T12:56:21.719Z"
   },
   {
    "duration": 721,
    "start_time": "2022-03-07T12:56:37.207Z"
   },
   {
    "duration": 450,
    "start_time": "2022-03-07T12:56:55.287Z"
   },
   {
    "duration": 442,
    "start_time": "2022-03-07T12:57:04.863Z"
   },
   {
    "duration": 432,
    "start_time": "2022-03-07T12:57:41.402Z"
   },
   {
    "duration": 342,
    "start_time": "2022-03-07T12:58:01.253Z"
   },
   {
    "duration": 448,
    "start_time": "2022-03-07T12:58:08.973Z"
   },
   {
    "duration": 118,
    "start_time": "2022-03-07T12:58:21.743Z"
   },
   {
    "duration": 179,
    "start_time": "2022-03-07T12:58:26.375Z"
   },
   {
    "duration": 311,
    "start_time": "2022-03-07T12:58:30.693Z"
   },
   {
    "duration": 397,
    "start_time": "2022-03-07T12:58:45.030Z"
   },
   {
    "duration": 13,
    "start_time": "2022-03-07T12:58:58.379Z"
   },
   {
    "duration": 20,
    "start_time": "2022-03-07T12:59:06.770Z"
   },
   {
    "duration": 15,
    "start_time": "2022-03-07T12:59:18.602Z"
   },
   {
    "duration": 340,
    "start_time": "2022-03-07T14:08:46.561Z"
   },
   {
    "duration": 19,
    "start_time": "2022-03-07T14:12:36.440Z"
   },
   {
    "duration": 15,
    "start_time": "2022-03-07T14:12:45.038Z"
   },
   {
    "duration": 725,
    "start_time": "2022-03-07T14:36:29.295Z"
   },
   {
    "duration": 322,
    "start_time": "2022-03-07T14:36:39.846Z"
   },
   {
    "duration": 452,
    "start_time": "2022-03-07T14:38:39.958Z"
   },
   {
    "duration": 328,
    "start_time": "2022-03-07T14:38:48.331Z"
   },
   {
    "duration": 3,
    "start_time": "2022-03-07T14:46:28.896Z"
   },
   {
    "duration": 27,
    "start_time": "2022-03-07T14:46:28.901Z"
   },
   {
    "duration": 30,
    "start_time": "2022-03-07T14:46:28.930Z"
   },
   {
    "duration": 19,
    "start_time": "2022-03-07T14:46:28.961Z"
   },
   {
    "duration": 20,
    "start_time": "2022-03-07T14:46:28.982Z"
   },
   {
    "duration": 17,
    "start_time": "2022-03-07T14:46:29.004Z"
   },
   {
    "duration": 20,
    "start_time": "2022-03-07T14:46:29.024Z"
   },
   {
    "duration": 13,
    "start_time": "2022-03-07T14:46:29.047Z"
   },
   {
    "duration": 728,
    "start_time": "2022-03-07T14:46:29.063Z"
   },
   {
    "duration": 236,
    "start_time": "2022-03-07T14:46:29.793Z"
   },
   {
    "duration": 328,
    "start_time": "2022-03-07T14:46:30.032Z"
   },
   {
    "duration": 351,
    "start_time": "2022-03-07T14:46:30.362Z"
   },
   {
    "duration": 430,
    "start_time": "2022-03-07T14:46:30.715Z"
   },
   {
    "duration": 120,
    "start_time": "2022-03-07T14:46:31.147Z"
   },
   {
    "duration": 218,
    "start_time": "2022-03-07T14:46:31.269Z"
   },
   {
    "duration": 316,
    "start_time": "2022-03-07T14:46:31.489Z"
   },
   {
    "duration": 7,
    "start_time": "2022-03-07T14:46:31.807Z"
   },
   {
    "duration": 319,
    "start_time": "2022-03-07T14:46:31.815Z"
   },
   {
    "duration": 5,
    "start_time": "2022-03-07T14:46:32.137Z"
   },
   {
    "duration": 472,
    "start_time": "2022-03-07T14:46:32.144Z"
   },
   {
    "duration": 10,
    "start_time": "2022-03-07T14:46:32.618Z"
   },
   {
    "duration": 34,
    "start_time": "2022-03-07T14:46:32.630Z"
   },
   {
    "duration": 21,
    "start_time": "2022-03-07T14:46:32.666Z"
   },
   {
    "duration": 224,
    "start_time": "2022-03-08T12:24:32.635Z"
   },
   {
    "duration": 1046,
    "start_time": "2022-03-08T12:24:39.040Z"
   },
   {
    "duration": 22,
    "start_time": "2022-03-08T12:24:40.768Z"
   },
   {
    "duration": 27,
    "start_time": "2022-03-08T12:24:43.478Z"
   },
   {
    "duration": 16,
    "start_time": "2022-03-08T12:24:45.332Z"
   },
   {
    "duration": 15,
    "start_time": "2022-03-08T12:24:47.599Z"
   },
   {
    "duration": 14,
    "start_time": "2022-03-08T12:24:50.916Z"
   },
   {
    "duration": 584,
    "start_time": "2022-03-08T12:24:52.194Z"
   },
   {
    "duration": 1230,
    "start_time": "2022-03-08T12:28:11.990Z"
   },
   {
    "duration": 4,
    "start_time": "2022-03-08T12:28:20.463Z"
   },
   {
    "duration": 33,
    "start_time": "2022-03-08T12:28:20.468Z"
   },
   {
    "duration": 39,
    "start_time": "2022-03-08T12:28:20.503Z"
   },
   {
    "duration": 17,
    "start_time": "2022-03-08T12:28:20.544Z"
   },
   {
    "duration": 15,
    "start_time": "2022-03-08T12:28:20.562Z"
   },
   {
    "duration": 18,
    "start_time": "2022-03-08T12:28:20.578Z"
   },
   {
    "duration": 36,
    "start_time": "2022-03-08T12:28:20.598Z"
   },
   {
    "duration": 24,
    "start_time": "2022-03-08T12:28:20.636Z"
   },
   {
    "duration": 593,
    "start_time": "2022-03-08T12:28:20.662Z"
   },
   {
    "duration": 209,
    "start_time": "2022-03-08T12:28:21.257Z"
   },
   {
    "duration": 276,
    "start_time": "2022-03-08T12:28:21.467Z"
   },
   {
    "duration": 213,
    "start_time": "2022-03-08T12:28:21.745Z"
   },
   {
    "duration": 292,
    "start_time": "2022-03-08T12:28:21.960Z"
   },
   {
    "duration": 117,
    "start_time": "2022-03-08T12:28:22.253Z"
   },
   {
    "duration": 196,
    "start_time": "2022-03-08T12:28:22.372Z"
   },
   {
    "duration": 340,
    "start_time": "2022-03-08T12:28:22.570Z"
   },
   {
    "duration": 4,
    "start_time": "2022-03-08T12:28:22.912Z"
   },
   {
    "duration": 284,
    "start_time": "2022-03-08T12:28:22.932Z"
   },
   {
    "duration": 14,
    "start_time": "2022-03-08T12:28:23.219Z"
   },
   {
    "duration": 354,
    "start_time": "2022-03-08T12:28:23.234Z"
   },
   {
    "duration": 9,
    "start_time": "2022-03-08T12:28:23.590Z"
   },
   {
    "duration": 33,
    "start_time": "2022-03-08T12:28:23.601Z"
   },
   {
    "duration": 14,
    "start_time": "2022-03-08T12:28:23.636Z"
   },
   {
    "duration": 182,
    "start_time": "2022-03-08T12:28:32.585Z"
   },
   {
    "duration": 256,
    "start_time": "2022-03-08T12:30:43.286Z"
   },
   {
    "duration": 241,
    "start_time": "2022-03-08T12:32:14.583Z"
   },
   {
    "duration": 201,
    "start_time": "2022-03-08T13:00:08.714Z"
   },
   {
    "duration": 293,
    "start_time": "2022-03-08T13:04:09.250Z"
   },
   {
    "duration": 219,
    "start_time": "2022-03-08T13:04:44.735Z"
   }
  ],
  "kernelspec": {
   "display_name": "Python 3 (ipykernel)",
   "language": "python",
   "name": "python3"
  },
  "language_info": {
   "codemirror_mode": {
    "name": "ipython",
    "version": 3
   },
   "file_extension": ".py",
   "mimetype": "text/x-python",
   "name": "python",
   "nbconvert_exporter": "python",
   "pygments_lexer": "ipython3",
   "version": "3.9.5"
  },
  "toc": {
   "base_numbering": 1,
   "nav_menu": {
    "height": "201px",
    "width": "253px"
   },
   "number_sections": true,
   "sideBar": true,
   "skip_h1_title": true,
   "title_cell": "Table of Contents",
   "title_sidebar": "Contents",
   "toc_cell": true,
   "toc_position": {},
   "toc_section_display": true,
   "toc_window_display": true
  }
 },
 "nbformat": 4,
 "nbformat_minor": 2
}
