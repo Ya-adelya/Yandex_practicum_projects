{
 "cells": [
  {
   "cell_type": "markdown",
   "id": "42f784f5",
   "metadata": {},
   "source": [
    "# Анализ оттока клиентов банка «Метанпром»"
   ]
  },
  {
   "cell_type": "markdown",
   "id": "89e67473",
   "metadata": {},
   "source": [
    "## Материалы \n",
    "\n",
    "* Ссылка на дашборд: https://public.tableau.com/views/Dashbordbank/sheet2?:language=en-US&:display_count=n&:origin=viz_share_link"
   ]
  },
  {
   "cell_type": "markdown",
   "id": "89b75316",
   "metadata": {},
   "source": [
    "Задача - проанализировать клиентов регионального банка и выделить портрет клиентов, которые склонны уходить из банка.\n",
    "\n",
    "Ход исследования:\n",
    "1. Обзор данных \n",
    "2. Предобработка данных\n",
    "3. Исследовательский анализ данных\n",
    "4. Статистический анализ данных\n",
    "5. Выводы и рекомендации"
   ]
  },
  {
   "cell_type": "markdown",
   "id": "0b1fce33",
   "metadata": {},
   "source": [
    "## Обзор данных"
   ]
  },
  {
   "cell_type": "code",
   "execution_count": 1,
   "id": "514c2bc1",
   "metadata": {},
   "outputs": [],
   "source": [
    "# импортируем библиотеки\n",
    "\n",
    "import pandas as pd\n",
    "import numpy as np\n",
    "import matplotlib.pyplot as plt\n",
    "import matplotlib\n",
    "import seaborn as sns\n",
    "import warnings\n",
    "warnings.filterwarnings(\"ignore\")\n",
    "import scipy.stats as stats\n",
    "from scipy import stats as st"
   ]
  },
  {
   "cell_type": "code",
   "execution_count": 2,
   "id": "e8b83a61",
   "metadata": {},
   "outputs": [],
   "source": [
    "# прочтиаем файл \n",
    "\n",
    "#df = pd.read_csv('C:\\\\Users\\\\fob_v\\\\Projects\\\\Datasets\\\\bank_dataset.csv')"
   ]
  },
  {
   "cell_type": "code",
   "execution_count": 3,
   "id": "ec1a003a",
   "metadata": {},
   "outputs": [],
   "source": [
    "df = pd.read_csv('/datasets/bank_dataset.csv', sep=',')"
   ]
  },
  {
   "cell_type": "code",
   "execution_count": 4,
   "id": "0519ca1c",
   "metadata": {},
   "outputs": [
    {
     "name": "stdout",
     "output_type": "stream",
     "text": [
      "Первые 5 строк датасета\n"
     ]
    },
    {
     "data": {
      "text/html": [
       "<div>\n",
       "<style scoped>\n",
       "    .dataframe tbody tr th:only-of-type {\n",
       "        vertical-align: middle;\n",
       "    }\n",
       "\n",
       "    .dataframe tbody tr th {\n",
       "        vertical-align: top;\n",
       "    }\n",
       "\n",
       "    .dataframe thead th {\n",
       "        text-align: right;\n",
       "    }\n",
       "</style>\n",
       "<table border=\"1\" class=\"dataframe\">\n",
       "  <thead>\n",
       "    <tr style=\"text-align: right;\">\n",
       "      <th></th>\n",
       "      <th>userid</th>\n",
       "      <th>score</th>\n",
       "      <th>City</th>\n",
       "      <th>Gender</th>\n",
       "      <th>Age</th>\n",
       "      <th>Objects</th>\n",
       "      <th>Balance</th>\n",
       "      <th>Products</th>\n",
       "      <th>CreditCard</th>\n",
       "      <th>Loyalty</th>\n",
       "      <th>estimated_salary</th>\n",
       "      <th>Churn</th>\n",
       "    </tr>\n",
       "  </thead>\n",
       "  <tbody>\n",
       "    <tr>\n",
       "      <th>0</th>\n",
       "      <td>15677338</td>\n",
       "      <td>619</td>\n",
       "      <td>Ярославль</td>\n",
       "      <td>Ж</td>\n",
       "      <td>42</td>\n",
       "      <td>2</td>\n",
       "      <td>NaN</td>\n",
       "      <td>1</td>\n",
       "      <td>1</td>\n",
       "      <td>1</td>\n",
       "      <td>101348.88</td>\n",
       "      <td>1</td>\n",
       "    </tr>\n",
       "    <tr>\n",
       "      <th>1</th>\n",
       "      <td>15690047</td>\n",
       "      <td>608</td>\n",
       "      <td>Рыбинск</td>\n",
       "      <td>Ж</td>\n",
       "      <td>41</td>\n",
       "      <td>1</td>\n",
       "      <td>83807.86</td>\n",
       "      <td>1</td>\n",
       "      <td>0</td>\n",
       "      <td>1</td>\n",
       "      <td>112542.58</td>\n",
       "      <td>0</td>\n",
       "    </tr>\n",
       "    <tr>\n",
       "      <th>2</th>\n",
       "      <td>15662040</td>\n",
       "      <td>502</td>\n",
       "      <td>Ярославль</td>\n",
       "      <td>Ж</td>\n",
       "      <td>42</td>\n",
       "      <td>8</td>\n",
       "      <td>159660.80</td>\n",
       "      <td>3</td>\n",
       "      <td>1</td>\n",
       "      <td>0</td>\n",
       "      <td>113931.57</td>\n",
       "      <td>1</td>\n",
       "    </tr>\n",
       "    <tr>\n",
       "      <th>3</th>\n",
       "      <td>15744090</td>\n",
       "      <td>699</td>\n",
       "      <td>Ярославль</td>\n",
       "      <td>Ж</td>\n",
       "      <td>39</td>\n",
       "      <td>1</td>\n",
       "      <td>NaN</td>\n",
       "      <td>2</td>\n",
       "      <td>0</td>\n",
       "      <td>0</td>\n",
       "      <td>93826.63</td>\n",
       "      <td>0</td>\n",
       "    </tr>\n",
       "    <tr>\n",
       "      <th>4</th>\n",
       "      <td>15780624</td>\n",
       "      <td>850</td>\n",
       "      <td>Рыбинск</td>\n",
       "      <td>Ж</td>\n",
       "      <td>43</td>\n",
       "      <td>2</td>\n",
       "      <td>125510.82</td>\n",
       "      <td>1</td>\n",
       "      <td>1</td>\n",
       "      <td>1</td>\n",
       "      <td>79084.10</td>\n",
       "      <td>0</td>\n",
       "    </tr>\n",
       "  </tbody>\n",
       "</table>\n",
       "</div>"
      ],
      "text/plain": [
       "     userid  score       City Gender  Age  Objects    Balance  Products  \\\n",
       "0  15677338    619  Ярославль      Ж   42        2        NaN         1   \n",
       "1  15690047    608    Рыбинск      Ж   41        1   83807.86         1   \n",
       "2  15662040    502  Ярославль      Ж   42        8  159660.80         3   \n",
       "3  15744090    699  Ярославль      Ж   39        1        NaN         2   \n",
       "4  15780624    850    Рыбинск      Ж   43        2  125510.82         1   \n",
       "\n",
       "   CreditCard  Loyalty  estimated_salary  Churn  \n",
       "0           1        1         101348.88      1  \n",
       "1           0        1         112542.58      0  \n",
       "2           1        0         113931.57      1  \n",
       "3           0        0          93826.63      0  \n",
       "4           1        1          79084.10      0  "
      ]
     },
     "metadata": {},
     "output_type": "display_data"
    },
    {
     "name": "stdout",
     "output_type": "stream",
     "text": [
      "Общая информация о датасете\n",
      "<class 'pandas.core.frame.DataFrame'>\n",
      "RangeIndex: 10000 entries, 0 to 9999\n",
      "Data columns (total 12 columns):\n",
      " #   Column            Non-Null Count  Dtype  \n",
      "---  ------            --------------  -----  \n",
      " 0   userid            10000 non-null  int64  \n",
      " 1   score             10000 non-null  int64  \n",
      " 2   City              10000 non-null  object \n",
      " 3   Gender            10000 non-null  object \n",
      " 4   Age               10000 non-null  int64  \n",
      " 5   Objects           10000 non-null  int64  \n",
      " 6   Balance           6383 non-null   float64\n",
      " 7   Products          10000 non-null  int64  \n",
      " 8   CreditCard        10000 non-null  int64  \n",
      " 9   Loyalty           10000 non-null  int64  \n",
      " 10  estimated_salary  10000 non-null  float64\n",
      " 11  Churn             10000 non-null  int64  \n",
      "dtypes: float64(2), int64(8), object(2)\n",
      "memory usage: 937.6+ KB\n"
     ]
    },
    {
     "data": {
      "text/plain": [
       "None"
      ]
     },
     "metadata": {},
     "output_type": "display_data"
    },
    {
     "name": "stdout",
     "output_type": "stream",
     "text": [
      "Количество дубликатов: 0\n",
      "Количество пропусков\n",
      "userid                 0\n",
      "score                  0\n",
      "City                   0\n",
      "Gender                 0\n",
      "Age                    0\n",
      "Objects                0\n",
      "Balance             3617\n",
      "Products               0\n",
      "CreditCard             0\n",
      "Loyalty                0\n",
      "estimated_salary       0\n",
      "Churn                  0\n",
      "dtype: int64\n"
     ]
    }
   ],
   "source": [
    "# создадим функцию для получения информации о датасете \n",
    "\n",
    "df_list = [df]\n",
    "for df in df_list:\n",
    "    print('Первые 5 строк датасета')\n",
    "    display(df.head(5))\n",
    "    print('Общая информация о датасете')\n",
    "    display(df.info())\n",
    "    print('Количество дубликатов: {}'. format(df.duplicated().sum()))\n",
    "    print('Количество пропусков')\n",
    "    print(df.isna().sum())"
   ]
  },
  {
   "cell_type": "markdown",
   "id": "17cf2840",
   "metadata": {},
   "source": [
    "Вывод: \n",
    "- в датасете 10 000 строк\n",
    "- дубликатов нет\n",
    "- типы данных верные\n",
    "- пропуски присутствуют в столбце Balance с данными о балансе на счете клиента. Они могли возникнуть из-за технического сбоя или человеческого фактора, необходимо проверить, для каких категорий или признаков наиболее характерно наличие пропусков (возможно, определенный город). \n"
   ]
  },
  {
   "cell_type": "markdown",
   "id": "1b3d09e8",
   "metadata": {},
   "source": [
    "## Предобработка данных"
   ]
  },
  {
   "cell_type": "code",
   "execution_count": 5,
   "id": "b1ec7725",
   "metadata": {},
   "outputs": [],
   "source": [
    "# приведем названия столбцов к нижнему регистру \n",
    "\n",
    "df.columns = df.columns.str.lower()"
   ]
  },
  {
   "cell_type": "code",
   "execution_count": 6,
   "id": "58af7a54",
   "metadata": {},
   "outputs": [],
   "source": [
    "# изменим название столбца user_id \n",
    "\n",
    "df = df.rename(columns={'userid':'user_id'})"
   ]
  },
  {
   "cell_type": "code",
   "execution_count": 7,
   "id": "8fde30e7",
   "metadata": {},
   "outputs": [
    {
     "data": {
      "text/plain": [
       "Ярославль         5014\n",
       "Ростов Великий    2509\n",
       "Рыбинск           2477\n",
       "Name: city, dtype: int64"
      ]
     },
     "execution_count": 7,
     "metadata": {},
     "output_type": "execute_result"
    }
   ],
   "source": [
    "# посчитаем количество клиентов банка в каждом городе\n",
    "\n",
    "df['city'].value_counts()"
   ]
  },
  {
   "cell_type": "markdown",
   "id": "9acec149",
   "metadata": {},
   "source": [
    "Большая часть клиентов проживает в Ярославле. "
   ]
  },
  {
   "cell_type": "code",
   "execution_count": 8,
   "id": "04864017",
   "metadata": {},
   "outputs": [
    {
     "data": {
      "text/plain": [
       "user_id                0\n",
       "score                  0\n",
       "city                   0\n",
       "gender                 0\n",
       "age                    0\n",
       "objects                0\n",
       "balance             2418\n",
       "products               0\n",
       "creditcard             0\n",
       "loyalty                0\n",
       "estimated_salary       0\n",
       "churn                  0\n",
       "dtype: int64"
      ]
     },
     "execution_count": 8,
     "metadata": {},
     "output_type": "execute_result"
    }
   ],
   "source": [
    "# посчитаем количество пропусков в данных по Ярославлю \n",
    "\n",
    "df[df['city'] == \"Ярославль\"].isna().sum()"
   ]
  },
  {
   "cell_type": "code",
   "execution_count": 9,
   "id": "9696901f",
   "metadata": {},
   "outputs": [
    {
     "data": {
      "text/plain": [
       "user_id             0\n",
       "score               0\n",
       "city                0\n",
       "gender              0\n",
       "age                 0\n",
       "objects             0\n",
       "balance             0\n",
       "products            0\n",
       "creditcard          0\n",
       "loyalty             0\n",
       "estimated_salary    0\n",
       "churn               0\n",
       "dtype: int64"
      ]
     },
     "execution_count": 9,
     "metadata": {},
     "output_type": "execute_result"
    }
   ],
   "source": [
    "# посчитаем количество пропусков в данных по Ростову  \n",
    "\n",
    "df[df['city'] == \"Ростов Великий\"].isna().sum()\n"
   ]
  },
  {
   "cell_type": "code",
   "execution_count": 10,
   "id": "8f4744ed",
   "metadata": {},
   "outputs": [
    {
     "data": {
      "text/plain": [
       "user_id                0\n",
       "score                  0\n",
       "city                   0\n",
       "gender                 0\n",
       "age                    0\n",
       "objects                0\n",
       "balance             1199\n",
       "products               0\n",
       "creditcard             0\n",
       "loyalty                0\n",
       "estimated_salary       0\n",
       "churn                  0\n",
       "dtype: int64"
      ]
     },
     "execution_count": 10,
     "metadata": {},
     "output_type": "execute_result"
    }
   ],
   "source": [
    "# посчитаем количество пропусков в данных по Рыбинску  \n",
    "\n",
    "df[df['city'] == \"Рыбинск\"].isna().sum()"
   ]
  },
  {
   "cell_type": "code",
   "execution_count": 11,
   "id": "5135f3f3",
   "metadata": {
    "scrolled": true
   },
   "outputs": [],
   "source": [
    "# заменим пропуски на 0\n",
    "\n",
    "#df['balance'] = df['balance'].fillna(0)"
   ]
  },
  {
   "cell_type": "markdown",
   "id": "ba78f330",
   "metadata": {},
   "source": [
    "Вывод:\n",
    "- привели названия столбцов к нижнему регистру\n",
    "- посчитали количество пропусков. Пропущенные значения присутствуют в данных 2 городов: Ярославле и Рыбинске, большая часть в Ярославле - 2418 из 3617 пропусков. Причина их возникновения может иметь технический характер, или быть следствием человеческой ошибки. Поскольку пропуски составляют практически половину данных, заменим пропущенные значения на 0 на этапе исследовательского анализа и исключим их на этапе статистического анализа, чтобы выводы были корректными.\n"
   ]
  },
  {
   "cell_type": "markdown",
   "id": "f378e99e",
   "metadata": {},
   "source": [
    "## Исследовательский анализ "
   ]
  },
  {
   "cell_type": "markdown",
   "id": "1c494981",
   "metadata": {},
   "source": [
    "### Анализ данных на выбросы и аномалии"
   ]
  },
  {
   "cell_type": "code",
   "execution_count": 12,
   "id": "ff992a13",
   "metadata": {
    "scrolled": true
   },
   "outputs": [
    {
     "data": {
      "image/png": "[encoded data removed]",
      "text/plain": [
       "<Figure size 864x432 with 1 Axes>"
      ]
     },
     "metadata": {
      "needs_background": "light"
     },
     "output_type": "display_data"
    }
   ],
   "source": [
    "# посторим боксплот по возрасту и полу клиентов\n",
    "\n",
    "plt.figure(\n",
    "    figsize=(12, 6)\n",
    ") \n",
    "sns.boxplot(x='gender', y='age', data=df)\n",
    "plt.title('Диаграмма размаха по возрасту и полу клиентов')\n",
    "plt.show()"
   ]
  },
  {
   "cell_type": "code",
   "execution_count": 13,
   "id": "b0636098",
   "metadata": {
    "scrolled": true
   },
   "outputs": [
    {
     "data": {
      "image/png": "[encoded data removed]",
      "text/plain": [
       "<Figure size 864x432 with 1 Axes>"
      ]
     },
     "metadata": {
      "needs_background": "light"
     },
     "output_type": "display_data"
    }
   ],
   "source": [
    "#посторим боксплот по доходу и полу клиентов\n",
    "\n",
    "plt.figure(\n",
    "    figsize=(12, 6)\n",
    ") \n",
    "sns.boxplot(x='gender', y='estimated_salary', data=df)\n",
    "plt.title('Диаграмма размаха по доходу и полу клиентов')\n",
    "plt.show()"
   ]
  },
  {
   "cell_type": "code",
   "execution_count": 14,
   "id": "a410734c",
   "metadata": {
    "scrolled": true
   },
   "outputs": [
    {
     "data": {
      "image/png": "[encoded data removed]",
      "text/plain": [
       "<Figure size 864x432 with 1 Axes>"
      ]
     },
     "metadata": {
      "needs_background": "light"
     },
     "output_type": "display_data"
    }
   ],
   "source": [
    "#посторим боксплот по количеству объектов в собственности и полу клиентов\n",
    "\n",
    "plt.figure(\n",
    "    figsize=(12, 6)\n",
    ") \n",
    "sns.boxplot(x='gender', y='objects', data=df)\n",
    "plt.title('Диаграмма размаха по количеству объектов в собственности и полу клиентов')\n",
    "plt.show()"
   ]
  },
  {
   "cell_type": "code",
   "execution_count": 15,
   "id": "92241e7c",
   "metadata": {
    "scrolled": true
   },
   "outputs": [
    {
     "data": {
      "image/png": "[encoded data removed]",
      "text/plain": [
       "<Figure size 864x432 with 1 Axes>"
      ]
     },
     "metadata": {
      "needs_background": "light"
     },
     "output_type": "display_data"
    }
   ],
   "source": [
    "#посторим боксплот по балансу и полу клиентов\n",
    "\n",
    "plt.figure(\n",
    "    figsize=(12, 6)\n",
    ") \n",
    "sns.boxplot(x='gender', y='balance', data=df)\n",
    "plt.title('Диаграмма размаха по балансу и полу клиентов')\n",
    "plt.show()"
   ]
  },
  {
   "cell_type": "markdown",
   "id": "f148ee49",
   "metadata": {},
   "source": [
    "##### Вывод:\n",
    "- большинством клиентов банка являются люди среднего  трудоспособного возраста 30-45 лет, встречаются также \"выбросы\" в виде людей пенсионного возраста старше 60 лет, самые возрастные клиенты - мужчины 92 лет.\n",
    "- уровень дохода мужчин и женщин практически одинаков и составляет 50-150 тысяч рублей.\n",
    "- мужчины-клиенты имеют больше объектов в собственности (3-8), женщины - 2-7.\n",
    "- на счете клиентов находятся суммы от 100 до 150 тысяч, при этом и у женщин, и у мужчин встречаются \"выбросы\" в виде максимальных значений от 200 до 250 тысяч и минимальных от 0 до 50 тысяч.\n"
   ]
  },
  {
   "cell_type": "markdown",
   "id": "d3117e82",
   "metadata": {},
   "source": [
    "### Категоризация данных"
   ]
  },
  {
   "cell_type": "markdown",
   "id": "d0aab567",
   "metadata": {},
   "source": [
    "\n",
    "Проведем категоризацию данных по возрасту, уровню дохода, количеству объектов и балансу на счете клиентов.\n",
    "\n",
    "\n"
   ]
  },
  {
   "cell_type": "code",
   "execution_count": 16,
   "id": "5c4fdbdb",
   "metadata": {
    "scrolled": true
   },
   "outputs": [
    {
     "data": {
      "text/html": [
       "<div>\n",
       "<style scoped>\n",
       "    .dataframe tbody tr th:only-of-type {\n",
       "        vertical-align: middle;\n",
       "    }\n",
       "\n",
       "    .dataframe tbody tr th {\n",
       "        vertical-align: top;\n",
       "    }\n",
       "\n",
       "    .dataframe thead th {\n",
       "        text-align: right;\n",
       "    }\n",
       "</style>\n",
       "<table border=\"1\" class=\"dataframe\">\n",
       "  <thead>\n",
       "    <tr style=\"text-align: right;\">\n",
       "      <th></th>\n",
       "      <th>user_id</th>\n",
       "      <th>score</th>\n",
       "      <th>city</th>\n",
       "      <th>gender</th>\n",
       "      <th>age</th>\n",
       "      <th>objects</th>\n",
       "      <th>balance</th>\n",
       "      <th>products</th>\n",
       "      <th>creditcard</th>\n",
       "      <th>loyalty</th>\n",
       "      <th>estimated_salary</th>\n",
       "      <th>churn</th>\n",
       "      <th>age_category</th>\n",
       "    </tr>\n",
       "  </thead>\n",
       "  <tbody>\n",
       "    <tr>\n",
       "      <th>0</th>\n",
       "      <td>15677338</td>\n",
       "      <td>619</td>\n",
       "      <td>Ярославль</td>\n",
       "      <td>Ж</td>\n",
       "      <td>42</td>\n",
       "      <td>2</td>\n",
       "      <td>NaN</td>\n",
       "      <td>1</td>\n",
       "      <td>1</td>\n",
       "      <td>1</td>\n",
       "      <td>101348.88</td>\n",
       "      <td>1</td>\n",
       "      <td>средний возраст</td>\n",
       "    </tr>\n",
       "    <tr>\n",
       "      <th>1</th>\n",
       "      <td>15690047</td>\n",
       "      <td>608</td>\n",
       "      <td>Рыбинск</td>\n",
       "      <td>Ж</td>\n",
       "      <td>41</td>\n",
       "      <td>1</td>\n",
       "      <td>83807.86</td>\n",
       "      <td>1</td>\n",
       "      <td>0</td>\n",
       "      <td>1</td>\n",
       "      <td>112542.58</td>\n",
       "      <td>0</td>\n",
       "      <td>средний возраст</td>\n",
       "    </tr>\n",
       "    <tr>\n",
       "      <th>2</th>\n",
       "      <td>15662040</td>\n",
       "      <td>502</td>\n",
       "      <td>Ярославль</td>\n",
       "      <td>Ж</td>\n",
       "      <td>42</td>\n",
       "      <td>8</td>\n",
       "      <td>159660.80</td>\n",
       "      <td>3</td>\n",
       "      <td>1</td>\n",
       "      <td>0</td>\n",
       "      <td>113931.57</td>\n",
       "      <td>1</td>\n",
       "      <td>средний возраст</td>\n",
       "    </tr>\n",
       "    <tr>\n",
       "      <th>3</th>\n",
       "      <td>15744090</td>\n",
       "      <td>699</td>\n",
       "      <td>Ярославль</td>\n",
       "      <td>Ж</td>\n",
       "      <td>39</td>\n",
       "      <td>1</td>\n",
       "      <td>NaN</td>\n",
       "      <td>2</td>\n",
       "      <td>0</td>\n",
       "      <td>0</td>\n",
       "      <td>93826.63</td>\n",
       "      <td>0</td>\n",
       "      <td>средний возраст</td>\n",
       "    </tr>\n",
       "    <tr>\n",
       "      <th>4</th>\n",
       "      <td>15780624</td>\n",
       "      <td>850</td>\n",
       "      <td>Рыбинск</td>\n",
       "      <td>Ж</td>\n",
       "      <td>43</td>\n",
       "      <td>2</td>\n",
       "      <td>125510.82</td>\n",
       "      <td>1</td>\n",
       "      <td>1</td>\n",
       "      <td>1</td>\n",
       "      <td>79084.10</td>\n",
       "      <td>0</td>\n",
       "      <td>средний возраст</td>\n",
       "    </tr>\n",
       "  </tbody>\n",
       "</table>\n",
       "</div>"
      ],
      "text/plain": [
       "    user_id  score       city gender  age  objects    balance  products  \\\n",
       "0  15677338    619  Ярославль      Ж   42        2        NaN         1   \n",
       "1  15690047    608    Рыбинск      Ж   41        1   83807.86         1   \n",
       "2  15662040    502  Ярославль      Ж   42        8  159660.80         3   \n",
       "3  15744090    699  Ярославль      Ж   39        1        NaN         2   \n",
       "4  15780624    850    Рыбинск      Ж   43        2  125510.82         1   \n",
       "\n",
       "   creditcard  loyalty  estimated_salary  churn     age_category  \n",
       "0           1        1         101348.88      1  средний возраст  \n",
       "1           0        1         112542.58      0  средний возраст  \n",
       "2           1        0         113931.57      1  средний возраст  \n",
       "3           0        0          93826.63      0  средний возраст  \n",
       "4           1        1          79084.10      0  средний возраст  "
      ]
     },
     "execution_count": 16,
     "metadata": {},
     "output_type": "execute_result"
    }
   ],
   "source": [
    "# создадим функцию распределения возраста по категориям\n",
    "\n",
    "def age_category(df):\n",
    "    \n",
    "    if df['age'] <= 30:\n",
    "        return 'молодой'\n",
    "    \n",
    "    elif df['age'] <= 60:\n",
    "        return 'средний возраст'\n",
    "    \n",
    "    else:\n",
    "        return 'пенсионный возраст'\n",
    "\n",
    "# добавим новый столбец в таблицу\n",
    "\n",
    "df['age_category'] = df.apply(age_category, axis=1)\n",
    "\n",
    "df.head()"
   ]
  },
  {
   "cell_type": "code",
   "execution_count": 17,
   "id": "710767c5",
   "metadata": {
    "scrolled": true
   },
   "outputs": [
    {
     "data": {
      "image/png": "[encoded data removed]",
      "text/plain": [
       "<Figure size 864x432 with 1 Axes>"
      ]
     },
     "metadata": {
      "needs_background": "light"
     },
     "output_type": "display_data"
    }
   ],
   "source": [
    "# построим график распределения клиентов по возрастным группам \n",
    "\n",
    "plt.figure(\n",
    "    figsize=(12, 6)\n",
    ") \n",
    "sns.countplot(x = 'age_category', data = df)\n",
    "plt.title('Распределение клиентов по возрастным группам')\n",
    "plt.show()"
   ]
  },
  {
   "cell_type": "markdown",
   "id": "87f84fe9",
   "metadata": {},
   "source": [
    "Распределим доход клиентов по квантилям диаграммы размаха:\n",
    "\n",
    "- 1 квантиль от 0 до 50 тысяч будем считать низким доходом\n",
    "- 2 квантиль от 50 до 100 тысяч - средним уровнем дохода\n",
    "- 3 квантиль от 100 до 150 тысяч - высоким уровнем дохода"
   ]
  },
  {
   "cell_type": "code",
   "execution_count": 18,
   "id": "c1641822",
   "metadata": {
    "scrolled": true
   },
   "outputs": [
    {
     "data": {
      "text/html": [
       "<div>\n",
       "<style scoped>\n",
       "    .dataframe tbody tr th:only-of-type {\n",
       "        vertical-align: middle;\n",
       "    }\n",
       "\n",
       "    .dataframe tbody tr th {\n",
       "        vertical-align: top;\n",
       "    }\n",
       "\n",
       "    .dataframe thead th {\n",
       "        text-align: right;\n",
       "    }\n",
       "</style>\n",
       "<table border=\"1\" class=\"dataframe\">\n",
       "  <thead>\n",
       "    <tr style=\"text-align: right;\">\n",
       "      <th></th>\n",
       "      <th>user_id</th>\n",
       "      <th>score</th>\n",
       "      <th>city</th>\n",
       "      <th>gender</th>\n",
       "      <th>age</th>\n",
       "      <th>objects</th>\n",
       "      <th>balance</th>\n",
       "      <th>products</th>\n",
       "      <th>creditcard</th>\n",
       "      <th>loyalty</th>\n",
       "      <th>estimated_salary</th>\n",
       "      <th>churn</th>\n",
       "      <th>age_category</th>\n",
       "      <th>salary_category</th>\n",
       "    </tr>\n",
       "  </thead>\n",
       "  <tbody>\n",
       "    <tr>\n",
       "      <th>0</th>\n",
       "      <td>15677338</td>\n",
       "      <td>619</td>\n",
       "      <td>Ярославль</td>\n",
       "      <td>Ж</td>\n",
       "      <td>42</td>\n",
       "      <td>2</td>\n",
       "      <td>NaN</td>\n",
       "      <td>1</td>\n",
       "      <td>1</td>\n",
       "      <td>1</td>\n",
       "      <td>101348.88</td>\n",
       "      <td>1</td>\n",
       "      <td>средний возраст</td>\n",
       "      <td>высокий достаток</td>\n",
       "    </tr>\n",
       "    <tr>\n",
       "      <th>1</th>\n",
       "      <td>15690047</td>\n",
       "      <td>608</td>\n",
       "      <td>Рыбинск</td>\n",
       "      <td>Ж</td>\n",
       "      <td>41</td>\n",
       "      <td>1</td>\n",
       "      <td>83807.86</td>\n",
       "      <td>1</td>\n",
       "      <td>0</td>\n",
       "      <td>1</td>\n",
       "      <td>112542.58</td>\n",
       "      <td>0</td>\n",
       "      <td>средний возраст</td>\n",
       "      <td>высокий достаток</td>\n",
       "    </tr>\n",
       "    <tr>\n",
       "      <th>2</th>\n",
       "      <td>15662040</td>\n",
       "      <td>502</td>\n",
       "      <td>Ярославль</td>\n",
       "      <td>Ж</td>\n",
       "      <td>42</td>\n",
       "      <td>8</td>\n",
       "      <td>159660.80</td>\n",
       "      <td>3</td>\n",
       "      <td>1</td>\n",
       "      <td>0</td>\n",
       "      <td>113931.57</td>\n",
       "      <td>1</td>\n",
       "      <td>средний возраст</td>\n",
       "      <td>высокий достаток</td>\n",
       "    </tr>\n",
       "    <tr>\n",
       "      <th>3</th>\n",
       "      <td>15744090</td>\n",
       "      <td>699</td>\n",
       "      <td>Ярославль</td>\n",
       "      <td>Ж</td>\n",
       "      <td>39</td>\n",
       "      <td>1</td>\n",
       "      <td>NaN</td>\n",
       "      <td>2</td>\n",
       "      <td>0</td>\n",
       "      <td>0</td>\n",
       "      <td>93826.63</td>\n",
       "      <td>0</td>\n",
       "      <td>средний возраст</td>\n",
       "      <td>средний достаток</td>\n",
       "    </tr>\n",
       "    <tr>\n",
       "      <th>4</th>\n",
       "      <td>15780624</td>\n",
       "      <td>850</td>\n",
       "      <td>Рыбинск</td>\n",
       "      <td>Ж</td>\n",
       "      <td>43</td>\n",
       "      <td>2</td>\n",
       "      <td>125510.82</td>\n",
       "      <td>1</td>\n",
       "      <td>1</td>\n",
       "      <td>1</td>\n",
       "      <td>79084.10</td>\n",
       "      <td>0</td>\n",
       "      <td>средний возраст</td>\n",
       "      <td>средний достаток</td>\n",
       "    </tr>\n",
       "  </tbody>\n",
       "</table>\n",
       "</div>"
      ],
      "text/plain": [
       "    user_id  score       city gender  age  objects    balance  products  \\\n",
       "0  15677338    619  Ярославль      Ж   42        2        NaN         1   \n",
       "1  15690047    608    Рыбинск      Ж   41        1   83807.86         1   \n",
       "2  15662040    502  Ярославль      Ж   42        8  159660.80         3   \n",
       "3  15744090    699  Ярославль      Ж   39        1        NaN         2   \n",
       "4  15780624    850    Рыбинск      Ж   43        2  125510.82         1   \n",
       "\n",
       "   creditcard  loyalty  estimated_salary  churn     age_category  \\\n",
       "0           1        1         101348.88      1  средний возраст   \n",
       "1           0        1         112542.58      0  средний возраст   \n",
       "2           1        0         113931.57      1  средний возраст   \n",
       "3           0        0          93826.63      0  средний возраст   \n",
       "4           1        1          79084.10      0  средний возраст   \n",
       "\n",
       "    salary_category  \n",
       "0  высокий достаток  \n",
       "1  высокий достаток  \n",
       "2  высокий достаток  \n",
       "3  средний достаток  \n",
       "4  средний достаток  "
      ]
     },
     "execution_count": 18,
     "metadata": {},
     "output_type": "execute_result"
    }
   ],
   "source": [
    "# создадим функцию распределения заработка по категориям\n",
    "\n",
    "def salary_category(df):\n",
    "    \n",
    "    if df['estimated_salary'] <= 50000:\n",
    "        return 'низкий достаток'\n",
    "    \n",
    "    elif df['estimated_salary'] <= 100000:\n",
    "        return 'средний достаток'\n",
    "    \n",
    "    else:\n",
    "        return 'высокий достаток'\n",
    "\n",
    "# добавим новый столбец в таблицу\n",
    "\n",
    "df['salary_category'] = df.apply(salary_category, axis=1)\n",
    "\n",
    "df.head()"
   ]
  },
  {
   "cell_type": "code",
   "execution_count": 19,
   "id": "6b650d6f",
   "metadata": {
    "scrolled": false
   },
   "outputs": [
    {
     "data": {
      "image/png": "[encoded data removed]",
      "text/plain": [
       "<Figure size 864x432 with 1 Axes>"
      ]
     },
     "metadata": {
      "needs_background": "light"
     },
     "output_type": "display_data"
    }
   ],
   "source": [
    "# построим график распределения клиентов по заработку\n",
    "\n",
    "plt.figure(\n",
    "    figsize=(12, 6)\n",
    ") \n",
    "sns.countplot(x = 'salary_category', data = df)\n",
    "plt.title('Распределение клиентов по заработку')\n",
    "plt.show()"
   ]
  },
  {
   "cell_type": "markdown",
   "id": "6a4e6dc2",
   "metadata": {},
   "source": [
    "Распределим клиентов по количеству объектов по квантилям диаграммы размаха:\n",
    "- 1 кавантиль - клиенты, к которых нет объектов в собственности\n",
    "- 2 квантиль - клиенты с 1 объектом\n",
    "- 3 квантиль - 2-5 объектов\n",
    "- 4 квантиль - более 5 объектов\n"
   ]
  },
  {
   "cell_type": "code",
   "execution_count": 20,
   "id": "a1d5831c",
   "metadata": {},
   "outputs": [
    {
     "data": {
      "text/html": [
       "<div>\n",
       "<style scoped>\n",
       "    .dataframe tbody tr th:only-of-type {\n",
       "        vertical-align: middle;\n",
       "    }\n",
       "\n",
       "    .dataframe tbody tr th {\n",
       "        vertical-align: top;\n",
       "    }\n",
       "\n",
       "    .dataframe thead th {\n",
       "        text-align: right;\n",
       "    }\n",
       "</style>\n",
       "<table border=\"1\" class=\"dataframe\">\n",
       "  <thead>\n",
       "    <tr style=\"text-align: right;\">\n",
       "      <th></th>\n",
       "      <th>user_id</th>\n",
       "      <th>score</th>\n",
       "      <th>city</th>\n",
       "      <th>gender</th>\n",
       "      <th>age</th>\n",
       "      <th>objects</th>\n",
       "      <th>balance</th>\n",
       "      <th>products</th>\n",
       "      <th>creditcard</th>\n",
       "      <th>loyalty</th>\n",
       "      <th>estimated_salary</th>\n",
       "      <th>churn</th>\n",
       "      <th>age_category</th>\n",
       "      <th>salary_category</th>\n",
       "      <th>objects_category</th>\n",
       "    </tr>\n",
       "  </thead>\n",
       "  <tbody>\n",
       "    <tr>\n",
       "      <th>0</th>\n",
       "      <td>15677338</td>\n",
       "      <td>619</td>\n",
       "      <td>Ярославль</td>\n",
       "      <td>Ж</td>\n",
       "      <td>42</td>\n",
       "      <td>2</td>\n",
       "      <td>NaN</td>\n",
       "      <td>1</td>\n",
       "      <td>1</td>\n",
       "      <td>1</td>\n",
       "      <td>101348.88</td>\n",
       "      <td>1</td>\n",
       "      <td>средний возраст</td>\n",
       "      <td>высокий достаток</td>\n",
       "      <td>2-5 объектов</td>\n",
       "    </tr>\n",
       "    <tr>\n",
       "      <th>1</th>\n",
       "      <td>15690047</td>\n",
       "      <td>608</td>\n",
       "      <td>Рыбинск</td>\n",
       "      <td>Ж</td>\n",
       "      <td>41</td>\n",
       "      <td>1</td>\n",
       "      <td>83807.86</td>\n",
       "      <td>1</td>\n",
       "      <td>0</td>\n",
       "      <td>1</td>\n",
       "      <td>112542.58</td>\n",
       "      <td>0</td>\n",
       "      <td>средний возраст</td>\n",
       "      <td>высокий достаток</td>\n",
       "      <td>1 объект</td>\n",
       "    </tr>\n",
       "    <tr>\n",
       "      <th>2</th>\n",
       "      <td>15662040</td>\n",
       "      <td>502</td>\n",
       "      <td>Ярославль</td>\n",
       "      <td>Ж</td>\n",
       "      <td>42</td>\n",
       "      <td>8</td>\n",
       "      <td>159660.80</td>\n",
       "      <td>3</td>\n",
       "      <td>1</td>\n",
       "      <td>0</td>\n",
       "      <td>113931.57</td>\n",
       "      <td>1</td>\n",
       "      <td>средний возраст</td>\n",
       "      <td>высокий достаток</td>\n",
       "      <td>боле 5 объектов</td>\n",
       "    </tr>\n",
       "    <tr>\n",
       "      <th>3</th>\n",
       "      <td>15744090</td>\n",
       "      <td>699</td>\n",
       "      <td>Ярославль</td>\n",
       "      <td>Ж</td>\n",
       "      <td>39</td>\n",
       "      <td>1</td>\n",
       "      <td>NaN</td>\n",
       "      <td>2</td>\n",
       "      <td>0</td>\n",
       "      <td>0</td>\n",
       "      <td>93826.63</td>\n",
       "      <td>0</td>\n",
       "      <td>средний возраст</td>\n",
       "      <td>средний достаток</td>\n",
       "      <td>1 объект</td>\n",
       "    </tr>\n",
       "    <tr>\n",
       "      <th>4</th>\n",
       "      <td>15780624</td>\n",
       "      <td>850</td>\n",
       "      <td>Рыбинск</td>\n",
       "      <td>Ж</td>\n",
       "      <td>43</td>\n",
       "      <td>2</td>\n",
       "      <td>125510.82</td>\n",
       "      <td>1</td>\n",
       "      <td>1</td>\n",
       "      <td>1</td>\n",
       "      <td>79084.10</td>\n",
       "      <td>0</td>\n",
       "      <td>средний возраст</td>\n",
       "      <td>средний достаток</td>\n",
       "      <td>2-5 объектов</td>\n",
       "    </tr>\n",
       "  </tbody>\n",
       "</table>\n",
       "</div>"
      ],
      "text/plain": [
       "    user_id  score       city gender  age  objects    balance  products  \\\n",
       "0  15677338    619  Ярославль      Ж   42        2        NaN         1   \n",
       "1  15690047    608    Рыбинск      Ж   41        1   83807.86         1   \n",
       "2  15662040    502  Ярославль      Ж   42        8  159660.80         3   \n",
       "3  15744090    699  Ярославль      Ж   39        1        NaN         2   \n",
       "4  15780624    850    Рыбинск      Ж   43        2  125510.82         1   \n",
       "\n",
       "   creditcard  loyalty  estimated_salary  churn     age_category  \\\n",
       "0           1        1         101348.88      1  средний возраст   \n",
       "1           0        1         112542.58      0  средний возраст   \n",
       "2           1        0         113931.57      1  средний возраст   \n",
       "3           0        0          93826.63      0  средний возраст   \n",
       "4           1        1          79084.10      0  средний возраст   \n",
       "\n",
       "    salary_category objects_category  \n",
       "0  высокий достаток     2-5 объектов  \n",
       "1  высокий достаток         1 объект  \n",
       "2  высокий достаток  боле 5 объектов  \n",
       "3  средний достаток         1 объект  \n",
       "4  средний достаток     2-5 объектов  "
      ]
     },
     "execution_count": 20,
     "metadata": {},
     "output_type": "execute_result"
    }
   ],
   "source": [
    "# создадим функцию распределения клиентов по количеству объектов \n",
    "\n",
    "def objects_category(df):\n",
    "    \n",
    "    if df['objects'] == 0:\n",
    "        return 'нет объектов'\n",
    "    \n",
    "    elif df['objects'] < 2:\n",
    "        return '1 объект'\n",
    "    \n",
    "    elif df['objects'] <= 5:\n",
    "        return '2-5 объектов'\n",
    "    \n",
    "    else:\n",
    "        return 'боле 5 объектов'\n",
    "\n",
    "# добавим новый столбец в таблицу\n",
    "\n",
    "df['objects_category'] = df.apply(objects_category, axis=1)\n",
    "\n",
    "df.head()"
   ]
  },
  {
   "cell_type": "code",
   "execution_count": 21,
   "id": "ccbbab8f",
   "metadata": {
    "scrolled": true
   },
   "outputs": [
    {
     "data": {
      "image/png": "[encoded data removed]",
      "text/plain": [
       "<Figure size 864x432 with 1 Axes>"
      ]
     },
     "metadata": {
      "needs_background": "light"
     },
     "output_type": "display_data"
    }
   ],
   "source": [
    "# построим график распределения клиентов по количеству объектов \n",
    "\n",
    "plt.figure(\n",
    "    figsize=(12, 6)\n",
    ") \n",
    "sns.countplot(x = 'objects_category', data = df)\n",
    "plt.title('Распределение клиентов по количеству объектов')\n",
    "plt.show()"
   ]
  },
  {
   "cell_type": "markdown",
   "id": "432f1cd5",
   "metadata": {},
   "source": [
    "Распределим баланс клиентов по квантилям диаграммы размаха:\n",
    "\n",
    "- 1 кавантиль- клиенты, баланс у которых ниже 50 т.р.\n",
    "- 2 квантиль - клиенты, баланс у которых в диапазоне 50-100 т.р.\n",
    "- 3 квантиль - клиенты, баланс у которых в диапазоне 100-150 т.р.\n",
    "- 4 квантиль - клиенты с балансом более 150 т.р."
   ]
  },
  {
   "cell_type": "code",
   "execution_count": 22,
   "id": "be256fad",
   "metadata": {
    "scrolled": true
   },
   "outputs": [
    {
     "data": {
      "text/html": [
       "<div>\n",
       "<style scoped>\n",
       "    .dataframe tbody tr th:only-of-type {\n",
       "        vertical-align: middle;\n",
       "    }\n",
       "\n",
       "    .dataframe tbody tr th {\n",
       "        vertical-align: top;\n",
       "    }\n",
       "\n",
       "    .dataframe thead th {\n",
       "        text-align: right;\n",
       "    }\n",
       "</style>\n",
       "<table border=\"1\" class=\"dataframe\">\n",
       "  <thead>\n",
       "    <tr style=\"text-align: right;\">\n",
       "      <th></th>\n",
       "      <th>user_id</th>\n",
       "      <th>score</th>\n",
       "      <th>city</th>\n",
       "      <th>gender</th>\n",
       "      <th>age</th>\n",
       "      <th>objects</th>\n",
       "      <th>balance</th>\n",
       "      <th>products</th>\n",
       "      <th>creditcard</th>\n",
       "      <th>loyalty</th>\n",
       "      <th>estimated_salary</th>\n",
       "      <th>churn</th>\n",
       "      <th>age_category</th>\n",
       "      <th>salary_category</th>\n",
       "      <th>objects_category</th>\n",
       "      <th>balance_category</th>\n",
       "    </tr>\n",
       "  </thead>\n",
       "  <tbody>\n",
       "    <tr>\n",
       "      <th>0</th>\n",
       "      <td>15677338</td>\n",
       "      <td>619</td>\n",
       "      <td>Ярославль</td>\n",
       "      <td>Ж</td>\n",
       "      <td>42</td>\n",
       "      <td>2</td>\n",
       "      <td>NaN</td>\n",
       "      <td>1</td>\n",
       "      <td>1</td>\n",
       "      <td>1</td>\n",
       "      <td>101348.88</td>\n",
       "      <td>1</td>\n",
       "      <td>средний возраст</td>\n",
       "      <td>высокий достаток</td>\n",
       "      <td>2-5 объектов</td>\n",
       "      <td>более 150 000р</td>\n",
       "    </tr>\n",
       "    <tr>\n",
       "      <th>1</th>\n",
       "      <td>15690047</td>\n",
       "      <td>608</td>\n",
       "      <td>Рыбинск</td>\n",
       "      <td>Ж</td>\n",
       "      <td>41</td>\n",
       "      <td>1</td>\n",
       "      <td>83807.86</td>\n",
       "      <td>1</td>\n",
       "      <td>0</td>\n",
       "      <td>1</td>\n",
       "      <td>112542.58</td>\n",
       "      <td>0</td>\n",
       "      <td>средний возраст</td>\n",
       "      <td>высокий достаток</td>\n",
       "      <td>1 объект</td>\n",
       "      <td>50 000 - 100 000р</td>\n",
       "    </tr>\n",
       "    <tr>\n",
       "      <th>2</th>\n",
       "      <td>15662040</td>\n",
       "      <td>502</td>\n",
       "      <td>Ярославль</td>\n",
       "      <td>Ж</td>\n",
       "      <td>42</td>\n",
       "      <td>8</td>\n",
       "      <td>159660.80</td>\n",
       "      <td>3</td>\n",
       "      <td>1</td>\n",
       "      <td>0</td>\n",
       "      <td>113931.57</td>\n",
       "      <td>1</td>\n",
       "      <td>средний возраст</td>\n",
       "      <td>высокий достаток</td>\n",
       "      <td>боле 5 объектов</td>\n",
       "      <td>более 150 000р</td>\n",
       "    </tr>\n",
       "    <tr>\n",
       "      <th>3</th>\n",
       "      <td>15744090</td>\n",
       "      <td>699</td>\n",
       "      <td>Ярославль</td>\n",
       "      <td>Ж</td>\n",
       "      <td>39</td>\n",
       "      <td>1</td>\n",
       "      <td>NaN</td>\n",
       "      <td>2</td>\n",
       "      <td>0</td>\n",
       "      <td>0</td>\n",
       "      <td>93826.63</td>\n",
       "      <td>0</td>\n",
       "      <td>средний возраст</td>\n",
       "      <td>средний достаток</td>\n",
       "      <td>1 объект</td>\n",
       "      <td>более 150 000р</td>\n",
       "    </tr>\n",
       "    <tr>\n",
       "      <th>4</th>\n",
       "      <td>15780624</td>\n",
       "      <td>850</td>\n",
       "      <td>Рыбинск</td>\n",
       "      <td>Ж</td>\n",
       "      <td>43</td>\n",
       "      <td>2</td>\n",
       "      <td>125510.82</td>\n",
       "      <td>1</td>\n",
       "      <td>1</td>\n",
       "      <td>1</td>\n",
       "      <td>79084.10</td>\n",
       "      <td>0</td>\n",
       "      <td>средний возраст</td>\n",
       "      <td>средний достаток</td>\n",
       "      <td>2-5 объектов</td>\n",
       "      <td>100 000 - 150 000р</td>\n",
       "    </tr>\n",
       "  </tbody>\n",
       "</table>\n",
       "</div>"
      ],
      "text/plain": [
       "    user_id  score       city gender  age  objects    balance  products  \\\n",
       "0  15677338    619  Ярославль      Ж   42        2        NaN         1   \n",
       "1  15690047    608    Рыбинск      Ж   41        1   83807.86         1   \n",
       "2  15662040    502  Ярославль      Ж   42        8  159660.80         3   \n",
       "3  15744090    699  Ярославль      Ж   39        1        NaN         2   \n",
       "4  15780624    850    Рыбинск      Ж   43        2  125510.82         1   \n",
       "\n",
       "   creditcard  loyalty  estimated_salary  churn     age_category  \\\n",
       "0           1        1         101348.88      1  средний возраст   \n",
       "1           0        1         112542.58      0  средний возраст   \n",
       "2           1        0         113931.57      1  средний возраст   \n",
       "3           0        0          93826.63      0  средний возраст   \n",
       "4           1        1          79084.10      0  средний возраст   \n",
       "\n",
       "    salary_category objects_category    balance_category  \n",
       "0  высокий достаток     2-5 объектов      более 150 000р  \n",
       "1  высокий достаток         1 объект   50 000 - 100 000р  \n",
       "2  высокий достаток  боле 5 объектов      более 150 000р  \n",
       "3  средний достаток         1 объект      более 150 000р  \n",
       "4  средний достаток     2-5 объектов  100 000 - 150 000р  "
      ]
     },
     "execution_count": 22,
     "metadata": {},
     "output_type": "execute_result"
    }
   ],
   "source": [
    "# создадим функцию распределения баланса\n",
    "\n",
    "def balance_category(df):\n",
    "    \n",
    "    if df['balance'] <= 50000:\n",
    "        return '0 - 50000'\n",
    "           \n",
    "    elif df['balance'] <= 100000:\n",
    "        return '50 000 - 100 000р'\n",
    "    if df['balance'] <= 150000:\n",
    "        return '100 000 - 150 000р'\n",
    "    \n",
    "    else:\n",
    "        return 'более 150 000р'\n",
    "\n",
    "#добавим новый столбец в таблицу\n",
    "\n",
    "df['balance_category'] = df.apply(balance_category, axis=1)\n",
    "\n",
    "df.head()"
   ]
  },
  {
   "cell_type": "code",
   "execution_count": 23,
   "id": "22da3e46",
   "metadata": {
    "scrolled": true
   },
   "outputs": [
    {
     "data": {
      "image/png": "[encoded data removed]",
      "text/plain": [
       "<Figure size 864x432 with 1 Axes>"
      ]
     },
     "metadata": {
      "needs_background": "light"
     },
     "output_type": "display_data"
    }
   ],
   "source": [
    "# построим график распределения клиентов по балансу \n",
    "\n",
    "plt.figure(\n",
    "    figsize=(12, 6)\n",
    ") \n",
    "sns.countplot(x = 'balance_category', data = df)\n",
    "plt.title('Распределение клиентов по балансу')\n",
    "plt.show()"
   ]
  },
  {
   "cell_type": "markdown",
   "id": "5048536a",
   "metadata": {},
   "source": [
    "Вывод:\n",
    "- основная часть клиентов принадлежит средней возрастной группе 30-60 лет\n",
    "- клиенты принадлежат к группе с высоким уровнем дохода (более 100 тысяч)\n",
    "- в большинстве имеют в собственности более 5 объектов \n",
    "- у большей части клиентов на счете более 100 тысяч"
   ]
  },
  {
   "cell_type": "markdown",
   "id": "1824f5cc",
   "metadata": {},
   "source": [
    "### Средние значения и стандартные отклонения данных по всем клиентам"
   ]
  },
  {
   "cell_type": "code",
   "execution_count": 24,
   "id": "661de23a",
   "metadata": {},
   "outputs": [],
   "source": [
    "# заменим данные в столюце gender на 0 и 1, чтобы посмотреть распределения \n",
    "\n",
    "df['gender'] = df['gender'].replace({'Ж':0, 'М': 1})"
   ]
  },
  {
   "cell_type": "code",
   "execution_count": 25,
   "id": "603b3109",
   "metadata": {
    "scrolled": true
   },
   "outputs": [
    {
     "data": {
      "text/html": [
       "<div>\n",
       "<style scoped>\n",
       "    .dataframe tbody tr th:only-of-type {\n",
       "        vertical-align: middle;\n",
       "    }\n",
       "\n",
       "    .dataframe tbody tr th {\n",
       "        vertical-align: top;\n",
       "    }\n",
       "\n",
       "    .dataframe thead th {\n",
       "        text-align: right;\n",
       "    }\n",
       "</style>\n",
       "<table border=\"1\" class=\"dataframe\">\n",
       "  <thead>\n",
       "    <tr style=\"text-align: right;\">\n",
       "      <th></th>\n",
       "      <th>user_id</th>\n",
       "      <th>score</th>\n",
       "      <th>gender</th>\n",
       "      <th>age</th>\n",
       "      <th>objects</th>\n",
       "      <th>balance</th>\n",
       "      <th>products</th>\n",
       "      <th>creditcard</th>\n",
       "      <th>loyalty</th>\n",
       "      <th>estimated_salary</th>\n",
       "      <th>churn</th>\n",
       "    </tr>\n",
       "  </thead>\n",
       "  <tbody>\n",
       "    <tr>\n",
       "      <th>count</th>\n",
       "      <td>1.000000e+04</td>\n",
       "      <td>10000.000000</td>\n",
       "      <td>10000.000000</td>\n",
       "      <td>10000.000000</td>\n",
       "      <td>10000.000000</td>\n",
       "      <td>6383.000000</td>\n",
       "      <td>10000.000000</td>\n",
       "      <td>10000.00000</td>\n",
       "      <td>10000.000000</td>\n",
       "      <td>10000.000000</td>\n",
       "      <td>10000.000000</td>\n",
       "    </tr>\n",
       "    <tr>\n",
       "      <th>mean</th>\n",
       "      <td>1.573368e+07</td>\n",
       "      <td>650.528800</td>\n",
       "      <td>0.545700</td>\n",
       "      <td>38.921800</td>\n",
       "      <td>5.012800</td>\n",
       "      <td>119827.493793</td>\n",
       "      <td>1.530200</td>\n",
       "      <td>0.70550</td>\n",
       "      <td>0.515100</td>\n",
       "      <td>100090.239881</td>\n",
       "      <td>0.203700</td>\n",
       "    </tr>\n",
       "    <tr>\n",
       "      <th>std</th>\n",
       "      <td>7.193619e+04</td>\n",
       "      <td>96.653299</td>\n",
       "      <td>0.497932</td>\n",
       "      <td>10.487806</td>\n",
       "      <td>2.892174</td>\n",
       "      <td>30095.056462</td>\n",
       "      <td>0.581654</td>\n",
       "      <td>0.45584</td>\n",
       "      <td>0.499797</td>\n",
       "      <td>57510.492818</td>\n",
       "      <td>0.402769</td>\n",
       "    </tr>\n",
       "    <tr>\n",
       "      <th>min</th>\n",
       "      <td>1.560844e+07</td>\n",
       "      <td>350.000000</td>\n",
       "      <td>0.000000</td>\n",
       "      <td>18.000000</td>\n",
       "      <td>0.000000</td>\n",
       "      <td>3768.690000</td>\n",
       "      <td>1.000000</td>\n",
       "      <td>0.00000</td>\n",
       "      <td>0.000000</td>\n",
       "      <td>11.580000</td>\n",
       "      <td>0.000000</td>\n",
       "    </tr>\n",
       "    <tr>\n",
       "      <th>25%</th>\n",
       "      <td>1.567126e+07</td>\n",
       "      <td>584.000000</td>\n",
       "      <td>0.000000</td>\n",
       "      <td>32.000000</td>\n",
       "      <td>3.000000</td>\n",
       "      <td>100181.975000</td>\n",
       "      <td>1.000000</td>\n",
       "      <td>0.00000</td>\n",
       "      <td>0.000000</td>\n",
       "      <td>51002.110000</td>\n",
       "      <td>0.000000</td>\n",
       "    </tr>\n",
       "    <tr>\n",
       "      <th>50%</th>\n",
       "      <td>1.573347e+07</td>\n",
       "      <td>652.000000</td>\n",
       "      <td>1.000000</td>\n",
       "      <td>37.000000</td>\n",
       "      <td>5.000000</td>\n",
       "      <td>119839.690000</td>\n",
       "      <td>1.000000</td>\n",
       "      <td>1.00000</td>\n",
       "      <td>1.000000</td>\n",
       "      <td>100193.915000</td>\n",
       "      <td>0.000000</td>\n",
       "    </tr>\n",
       "    <tr>\n",
       "      <th>75%</th>\n",
       "      <td>1.579597e+07</td>\n",
       "      <td>718.000000</td>\n",
       "      <td>1.000000</td>\n",
       "      <td>44.000000</td>\n",
       "      <td>7.000000</td>\n",
       "      <td>139512.290000</td>\n",
       "      <td>2.000000</td>\n",
       "      <td>1.00000</td>\n",
       "      <td>1.000000</td>\n",
       "      <td>149388.247500</td>\n",
       "      <td>0.000000</td>\n",
       "    </tr>\n",
       "    <tr>\n",
       "      <th>max</th>\n",
       "      <td>1.585843e+07</td>\n",
       "      <td>850.000000</td>\n",
       "      <td>1.000000</td>\n",
       "      <td>92.000000</td>\n",
       "      <td>10.000000</td>\n",
       "      <td>250898.090000</td>\n",
       "      <td>4.000000</td>\n",
       "      <td>1.00000</td>\n",
       "      <td>1.000000</td>\n",
       "      <td>199992.480000</td>\n",
       "      <td>1.000000</td>\n",
       "    </tr>\n",
       "  </tbody>\n",
       "</table>\n",
       "</div>"
      ],
      "text/plain": [
       "            user_id         score        gender           age       objects  \\\n",
       "count  1.000000e+04  10000.000000  10000.000000  10000.000000  10000.000000   \n",
       "mean   1.573368e+07    650.528800      0.545700     38.921800      5.012800   \n",
       "std    7.193619e+04     96.653299      0.497932     10.487806      2.892174   \n",
       "min    1.560844e+07    350.000000      0.000000     18.000000      0.000000   \n",
       "25%    1.567126e+07    584.000000      0.000000     32.000000      3.000000   \n",
       "50%    1.573347e+07    652.000000      1.000000     37.000000      5.000000   \n",
       "75%    1.579597e+07    718.000000      1.000000     44.000000      7.000000   \n",
       "max    1.585843e+07    850.000000      1.000000     92.000000     10.000000   \n",
       "\n",
       "             balance      products   creditcard       loyalty  \\\n",
       "count    6383.000000  10000.000000  10000.00000  10000.000000   \n",
       "mean   119827.493793      1.530200      0.70550      0.515100   \n",
       "std     30095.056462      0.581654      0.45584      0.499797   \n",
       "min      3768.690000      1.000000      0.00000      0.000000   \n",
       "25%    100181.975000      1.000000      0.00000      0.000000   \n",
       "50%    119839.690000      1.000000      1.00000      1.000000   \n",
       "75%    139512.290000      2.000000      1.00000      1.000000   \n",
       "max    250898.090000      4.000000      1.00000      1.000000   \n",
       "\n",
       "       estimated_salary         churn  \n",
       "count      10000.000000  10000.000000  \n",
       "mean      100090.239881      0.203700  \n",
       "std        57510.492818      0.402769  \n",
       "min           11.580000      0.000000  \n",
       "25%        51002.110000      0.000000  \n",
       "50%       100193.915000      0.000000  \n",
       "75%       149388.247500      0.000000  \n",
       "max       199992.480000      1.000000  "
      ]
     },
     "execution_count": 25,
     "metadata": {},
     "output_type": "execute_result"
    }
   ],
   "source": [
    "# изучим средние значения и стандартные отклонения данных\n",
    "\n",
    "df.describe()"
   ]
  },
  {
   "cell_type": "markdown",
   "id": "39b28851",
   "metadata": {},
   "source": [
    "- Перед нами данные о 10000 клиентах банка. \n",
    "- Средний балл кредитного скоринга - 650. \n",
    "- Среди клиентов приблизительно одинаковое количество мужчин и женщин. \n",
    "- Средний возраст клиента составляет 39 лет, самым молодым клиентам 18 лет, самым старшим - 92 года. \n",
    "- В среднем в собственности клиентов находится 5 объектов. \n",
    "- На счете клиентов в среднем находится около 120 т.р. \n",
    "- В среднем клиенты пользуются 1-2 продуктами банка, макисмальное количество используемых продуктов - 4. \n",
    "- 70% клиентов имеют кредитную карту, но только 50% пользуются ею.\n",
    "- средняя зарплата клиентов - 100 тысяч рублей. При этом минимальная заработная плата - 11 рублей, вероятно, это данные клиентов, у которых нет официального заработка, или тех, кто находится в декретном отпуске. Максимальная сумма - практически 200 тысяч.\n",
    "- Общий отток клиентов в среднем составляет 20%"
   ]
  },
  {
   "cell_type": "markdown",
   "id": "842c4df8",
   "metadata": {},
   "source": [
    "### Средние значения признаков в двух группах — тех, кто ушел в отток и тех, кто остался"
   ]
  },
  {
   "cell_type": "markdown",
   "id": "e1a10e4d",
   "metadata": {},
   "source": [
    "Поскольку нам нужен усредненный портрет клиента банка с учетом выбросов, посчитаем средние значения признаков в двух группах. "
   ]
  },
  {
   "cell_type": "code",
   "execution_count": 26,
   "id": "563dc821",
   "metadata": {},
   "outputs": [
    {
     "data": {
      "text/html": [
       "<div>\n",
       "<style scoped>\n",
       "    .dataframe tbody tr th:only-of-type {\n",
       "        vertical-align: middle;\n",
       "    }\n",
       "\n",
       "    .dataframe tbody tr th {\n",
       "        vertical-align: top;\n",
       "    }\n",
       "\n",
       "    .dataframe thead th {\n",
       "        text-align: right;\n",
       "    }\n",
       "</style>\n",
       "<table border=\"1\" class=\"dataframe\">\n",
       "  <thead>\n",
       "    <tr style=\"text-align: right;\">\n",
       "      <th>churn</th>\n",
       "      <th>0</th>\n",
       "      <th>1</th>\n",
       "    </tr>\n",
       "  </thead>\n",
       "  <tbody>\n",
       "    <tr>\n",
       "      <th>user_id</th>\n",
       "      <td>1.573390e+07</td>\n",
       "      <td>1.573279e+07</td>\n",
       "    </tr>\n",
       "    <tr>\n",
       "      <th>score</th>\n",
       "      <td>6.518532e+02</td>\n",
       "      <td>6.453515e+02</td>\n",
       "    </tr>\n",
       "    <tr>\n",
       "      <th>gender</th>\n",
       "      <td>5.725229e-01</td>\n",
       "      <td>4.408444e-01</td>\n",
       "    </tr>\n",
       "    <tr>\n",
       "      <th>age</th>\n",
       "      <td>3.740839e+01</td>\n",
       "      <td>4.483800e+01</td>\n",
       "    </tr>\n",
       "    <tr>\n",
       "      <th>objects</th>\n",
       "      <td>5.033279e+00</td>\n",
       "      <td>4.932744e+00</td>\n",
       "    </tr>\n",
       "    <tr>\n",
       "      <th>balance</th>\n",
       "      <td>1.195359e+05</td>\n",
       "      <td>1.207470e+05</td>\n",
       "    </tr>\n",
       "    <tr>\n",
       "      <th>products</th>\n",
       "      <td>1.544267e+00</td>\n",
       "      <td>1.475209e+00</td>\n",
       "    </tr>\n",
       "    <tr>\n",
       "      <th>creditcard</th>\n",
       "      <td>7.071455e-01</td>\n",
       "      <td>6.990673e-01</td>\n",
       "    </tr>\n",
       "    <tr>\n",
       "      <th>loyalty</th>\n",
       "      <td>5.545649e-01</td>\n",
       "      <td>3.608247e-01</td>\n",
       "    </tr>\n",
       "    <tr>\n",
       "      <th>estimated_salary</th>\n",
       "      <td>9.973839e+04</td>\n",
       "      <td>1.014657e+05</td>\n",
       "    </tr>\n",
       "  </tbody>\n",
       "</table>\n",
       "</div>"
      ],
      "text/plain": [
       "churn                        0             1\n",
       "user_id           1.573390e+07  1.573279e+07\n",
       "score             6.518532e+02  6.453515e+02\n",
       "gender            5.725229e-01  4.408444e-01\n",
       "age               3.740839e+01  4.483800e+01\n",
       "objects           5.033279e+00  4.932744e+00\n",
       "balance           1.195359e+05  1.207470e+05\n",
       "products          1.544267e+00  1.475209e+00\n",
       "creditcard        7.071455e-01  6.990673e-01\n",
       "loyalty           5.545649e-01  3.608247e-01\n",
       "estimated_salary  9.973839e+04  1.014657e+05"
      ]
     },
     "execution_count": 26,
     "metadata": {},
     "output_type": "execute_result"
    }
   ],
   "source": [
    "# изучим средние значения признаков у тех, кто ушел в отток и тех, кто остался \n",
    "\n",
    "df.groupby('churn').mean().T"
   ]
  },
  {
   "cell_type": "markdown",
   "id": "5aae3910",
   "metadata": {},
   "source": [
    "Показатели в двух группах практически одинаковы. Различия между ушедшими и оставшимися пользователями есть в следующих показателях:\n",
    "- возраст: в отток попадают клиенты более старшего возраста (45 лет по сравнению с 37 годами оставшихся)\n",
    "- заработк: выше у ушедших клиентов\n",
    "- активность: в оттоке менее активные клиенты \n"
   ]
  },
  {
   "cell_type": "markdown",
   "id": "e2b6b700",
   "metadata": {},
   "source": [
    "### Распределения признаков для тех, кто ушёл, и тех, кто остался "
   ]
  },
  {
   "cell_type": "code",
   "execution_count": 27,
   "id": "cd45ac2f",
   "metadata": {
    "scrolled": true
   },
   "outputs": [
    {
     "data": {
      "image/png": "[encoded data removed]",
      "text/plain": [
       "<Figure size 360x360 with 1 Axes>"
      ]
     },
     "metadata": {
      "needs_background": "light"
     },
     "output_type": "display_data"
    },
    {
     "data": {
      "image/png": "[encoded data removed]",
      "text/plain": [
       "<Figure size 360x360 with 1 Axes>"
      ]
     },
     "metadata": {
      "needs_background": "light"
     },
     "output_type": "display_data"
    },
    {
     "data": {
      "image/png": "[encoded data removed]",
      "text/plain": [
       "<Figure size 360x360 with 1 Axes>"
      ]
     },
     "metadata": {
      "needs_background": "light"
     },
     "output_type": "display_data"
    }
   ],
   "source": [
    "# построим графики для булевых значений\n",
    "\n",
    "for column in ['gender', 'creditcard', 'loyalty']:\n",
    "    plt.figure(figsize=(5, 5))\n",
    "    sns.countplot(x = df[column], hue='churn', data=df)\n",
    "    palette=\"pastel\"\n",
    "    plt.title(column)\n",
    "    plt.show()"
   ]
  },
  {
   "cell_type": "markdown",
   "id": "b7cbcc6b",
   "metadata": {},
   "source": [
    "Чаще уходят в отток:\n",
    "- женщины уходят немного чаще мужчин\n",
    "- клиенты, у которых есть кредитная карта\n",
    "- менее активные клиенты банка"
   ]
  },
  {
   "cell_type": "code",
   "execution_count": 28,
   "id": "02ab7569",
   "metadata": {
    "scrolled": false
   },
   "outputs": [
    {
     "data": {
      "image/png": "[encoded data removed]",
      "text/plain": [
       "<Figure size 360x360 with 1 Axes>"
      ]
     },
     "metadata": {
      "needs_background": "light"
     },
     "output_type": "display_data"
    },
    {
     "data": {
      "image/png": "[encoded data removed]",
      "text/plain": [
       "<Figure size 360x360 with 1 Axes>"
      ]
     },
     "metadata": {},
     "output_type": "display_data"
    },
    {
     "data": {
      "image/png": "[encoded data removed]",
      "text/plain": [
       "<Figure size 360x360 with 1 Axes>"
      ]
     },
     "metadata": {},
     "output_type": "display_data"
    },
    {
     "data": {
      "image/png": "[encoded data removed]",
      "text/plain": [
       "<Figure size 360x360 with 1 Axes>"
      ]
     },
     "metadata": {},
     "output_type": "display_data"
    },
    {
     "data": {
      "image/png": "[encoded data removed]",
      "text/plain": [
       "<Figure size 360x360 with 1 Axes>"
      ]
     },
     "metadata": {},
     "output_type": "display_data"
    },
    {
     "data": {
      "image/png": "[encoded data removed]",
      "text/plain": [
       "<Figure size 360x360 with 1 Axes>"
      ]
     },
     "metadata": {},
     "output_type": "display_data"
    }
   ],
   "source": [
    "# построим графики для небинарных значений\n",
    "\n",
    "for column in ['score', 'age', 'objects', 'balance', 'products', 'estimated_salary']:\n",
    "    plt.figure(figsize=(5, 5))\n",
    "    df.groupby('churn')[column]   \n",
    "    sns.distplot(df.query('churn==1')[column], label = 'Отток',  hist=True, kde=True)\n",
    "    sns.distplot(df.query('churn==0')[column], label = 'Активные',  hist=True, kde=True)\n",
    "    sns.set_style('whitegrid')\n",
    "    plt.legend()\n",
    "    plt.title(column)\n",
    "    plt.show()"
   ]
  },
  {
   "cell_type": "markdown",
   "id": "39f0dd65",
   "metadata": {},
   "source": [
    "Чаще уходят в отток:\n",
    "- клиенты с уровнем кредитного скоринга 600 и более, при этом у оставшихся клиентов уровень скоринга такой же, поэтому этот показатель не является определяющим\n",
    "- клиенты более старшего возраста 40-60 лет, клиенты в возрастее 30-40 лет чаще остаются с банком\n",
    "- клиенты с высоким балансом на карте - 100-150 тысяч\n",
    "- клиенты, которые пользуются 3-мя или 4-мя продуктами, - 100% отток, но таких клиентов мало. Наименьший отток среди клиентов, которые пользуются 2-мя продуктами\n",
    "- уровень заработной платы не различается кардинально для обеих групп"
   ]
  },
  {
   "cell_type": "code",
   "execution_count": 29,
   "id": "4343441a",
   "metadata": {
    "scrolled": true
   },
   "outputs": [
    {
     "data": {
      "text/html": [
       "<div>\n",
       "<style scoped>\n",
       "    .dataframe tbody tr th:only-of-type {\n",
       "        vertical-align: middle;\n",
       "    }\n",
       "\n",
       "    .dataframe tbody tr th {\n",
       "        vertical-align: top;\n",
       "    }\n",
       "\n",
       "    .dataframe thead tr th {\n",
       "        text-align: left;\n",
       "    }\n",
       "\n",
       "    .dataframe thead tr:last-of-type th {\n",
       "        text-align: right;\n",
       "    }\n",
       "</style>\n",
       "<table border=\"1\" class=\"dataframe\">\n",
       "  <thead>\n",
       "    <tr>\n",
       "      <th></th>\n",
       "      <th>user_id</th>\n",
       "    </tr>\n",
       "    <tr>\n",
       "      <th></th>\n",
       "      <th>count</th>\n",
       "    </tr>\n",
       "    <tr>\n",
       "      <th>city</th>\n",
       "      <th></th>\n",
       "    </tr>\n",
       "  </thead>\n",
       "  <tbody>\n",
       "    <tr>\n",
       "      <th>Ростов Великий</th>\n",
       "      <td>814</td>\n",
       "    </tr>\n",
       "    <tr>\n",
       "      <th>Рыбинск</th>\n",
       "      <td>413</td>\n",
       "    </tr>\n",
       "    <tr>\n",
       "      <th>Ярославль</th>\n",
       "      <td>810</td>\n",
       "    </tr>\n",
       "  </tbody>\n",
       "</table>\n",
       "</div>"
      ],
      "text/plain": [
       "               user_id\n",
       "                 count\n",
       "city                  \n",
       "Ростов Великий     814\n",
       "Рыбинск            413\n",
       "Ярославль          810"
      ]
     },
     "execution_count": 29,
     "metadata": {},
     "output_type": "execute_result"
    }
   ],
   "source": [
    "# посчитаем количество ушедших клиентов в каждом городе\n",
    "\n",
    "df[df['churn']==True].groupby('city').agg({'user_id': ['count']})"
   ]
  },
  {
   "cell_type": "markdown",
   "id": "8a4abf34",
   "metadata": {},
   "source": [
    "Больший отток клиентов в Ростове Великом и Ярославле."
   ]
  },
  {
   "cell_type": "markdown",
   "id": "cb802023",
   "metadata": {},
   "source": [
    "### Матрица корреляции"
   ]
  },
  {
   "cell_type": "code",
   "execution_count": 30,
   "id": "91b9c3f1",
   "metadata": {},
   "outputs": [
    {
     "data": {
      "image/png": "[encoded data removed]",
      "text/plain": [
       "<Figure size 864x576 with 2 Axes>"
      ]
     },
     "metadata": {},
     "output_type": "display_data"
    }
   ],
   "source": [
    "# построим матрицу корреляции \n",
    "\n",
    "cm=df.corr()\n",
    "plt.figure(figsize=(12,8))\n",
    "sns.heatmap(cm, annot=True, fmt='.2f', annot_kws={\"size\": 10}, cmap=\"Blues\")\n",
    "plt.title('Матрица корреляций', fontsize = 12)\n",
    "plt.show()"
   ]
  },
  {
   "cell_type": "markdown",
   "id": "60c2af2c",
   "metadata": {},
   "source": [
    "Корреляция для большинства признаков практически отсутствует. В большинстве случаев она равна 0.01. Следовательно, большая часть характеристик не влияет на отток клиентов, а именно: заработная плата, наличие кредитной карты, количество объектов в собственности. Слабая корреляция у признаков: возраст, активность и пол, коррелируют баланс и количество продуктов, которыми пользуется клиент. Но в целом по матрице корреляции мы не можем определить явные признаки, свойственные клиентам, которые уходят в отток. \n",
    "\n"
   ]
  },
  {
   "cell_type": "markdown",
   "id": "1841d677",
   "metadata": {},
   "source": [
    "Вывод\n",
    "На основе проведенного исследовательского анализа мы можем сформировать портрет типичного клиента банка.\n",
    "\n",
    "Это мужчины и женщины среднего трудоспособного возраста 30-50 лет с высоким (более 100 тысяч) уровнем дохода. Большая часть клиентов обладает более 3 объектами собственности, причем у мужчин этот показатель выше. На счете такого клиента находятся суммы от 100 до 150 тысяч. Они пользуются 1-2 продуктами банка, имеют кредитную карту и средний балл кредитного скоринга - 650.\n",
    "\n",
    "\n",
    "Также мы можем сформировать портреты клиентов, ушедших в отток, и тех, кто остался с банком. \n",
    "\n",
    "Общий отток клиентов банка составляет 20%, чаще уходят из банка: \n",
    "- женщины\n",
    "- клиенты в возрасте 40-60 лет,\n",
    "- клиенты, у которых есть кредитная карта\n",
    "- неактивные клиенты банка\n",
    "- жители Ростова Великого и Ярославля.\n",
    "- клиенты, которые пользуются 3-4 продуктами банка \n",
    "- киенты, на балансе карты которых находятся 100-150 тысяч\n",
    "\n",
    "Остаются с банком:\n",
    "- жители Рыбинска \n",
    "- мужчины\n",
    "- клиенты в возрасте 30-40 лет\n",
    "- клиенты, которые пользуются 2 продуктами банка\n",
    "- активные клиенты банка\n"
   ]
  },
  {
   "cell_type": "markdown",
   "id": "ed1097d4",
   "metadata": {},
   "source": [
    "## Проверка гипотез"
   ]
  },
  {
   "cell_type": "markdown",
   "id": "acecf02e",
   "metadata": {},
   "source": [
    "###  Гипотеза различия дохода между теми клиентами, которые ушли, и теми, которые остались"
   ]
  },
  {
   "cell_type": "code",
   "execution_count": 31,
   "id": "3d7dae41",
   "metadata": {},
   "outputs": [
    {
     "data": {
      "image/png": "[encoded data removed]",
      "text/plain": [
       "<Figure size 576x576 with 1 Axes>"
      ]
     },
     "metadata": {},
     "output_type": "display_data"
    }
   ],
   "source": [
    "# создадим график распределения уровня дохода клиентов\n",
    "\n",
    "plt.figure(figsize=(8, 8))\n",
    "sns.distplot(df['estimated_salary'])\n",
    "sns.set_style('whitegrid')\n",
    "plt.title('Распределение уровня дохода клиентов')\n",
    "plt.show()"
   ]
  },
  {
   "cell_type": "markdown",
   "id": "00af7970",
   "metadata": {},
   "source": [
    "Распределение напоминает нормальное, для проверки гипотезы можем использовать U-критерий (Манна-Уитни).\n",
    "\n",
    "Формулируем гипотезы:\n",
    "- H0: доход клиентов, которые ушли, равен доходу клиентов, которые остались\n",
    "- H1: доход клиентов, которые ушли, отличается от дохода клиентов, которые остались"
   ]
  },
  {
   "cell_type": "code",
   "execution_count": 32,
   "id": "bf9661e3",
   "metadata": {},
   "outputs": [
    {
     "name": "stdout",
     "output_type": "stream",
     "text": [
      "p-значение:  0.22705150930153783\n",
      "Не получилось отвергнуть H0: вывод о различии сделать нельзя\n"
     ]
    }
   ],
   "source": [
    "# задаем уровень статичстической значимости\n",
    "\n",
    "alpha = 0.05\n",
    "\n",
    "results = st.mannwhitneyu(df[df['churn']==1]['estimated_salary'], df[df['churn']==0]['estimated_salary'])\n",
    "pvalue = results.pvalue\n",
    "\n",
    "print('p-значение: ', pvalue)\n",
    "\n",
    "if (pvalue < alpha):\n",
    "    print(\"Отвергаем H0: разница статистически значима\")\n",
    "else:\n",
    "    print(\"Не получилось отвергнуть H0: вывод о различии сделать нельзя\")"
   ]
  },
  {
   "cell_type": "code",
   "execution_count": 33,
   "id": "7abd2a84",
   "metadata": {},
   "outputs": [
    {
     "data": {
      "text/plain": [
       "102461.0"
      ]
     },
     "execution_count": 33,
     "metadata": {},
     "output_type": "execute_result"
    }
   ],
   "source": [
    "# посчитаем медианный уровень заработка у ушедших клиентов\n",
    "\n",
    "df[df['churn']==1]['estimated_salary'].median().round()"
   ]
  },
  {
   "cell_type": "code",
   "execution_count": 34,
   "id": "fe777100",
   "metadata": {},
   "outputs": [
    {
     "data": {
      "text/plain": [
       "99645.0"
      ]
     },
     "execution_count": 34,
     "metadata": {},
     "output_type": "execute_result"
    }
   ],
   "source": [
    "# посчитаем медианный уровень заработка у оставшихся клиентов\n",
    "\n",
    "df[df['churn']==0]['estimated_salary'].median().round()"
   ]
  },
  {
   "cell_type": "markdown",
   "id": "969755f3",
   "metadata": {},
   "source": [
    "Уровень дохода между теми клиентами, которые ушли, и теми, которые остались, отличается незначительно. Статистически значимой разницы между данными не обнаружено, мы не можем опровергуть нулевую гипотезу о равенстве доходов между группами."
   ]
  },
  {
   "cell_type": "markdown",
   "id": "e2d0f6b8",
   "metadata": {},
   "source": [
    "### Гипотеза различия в возрасте между теми клиентами, которые ушли, и теми, которые остались"
   ]
  },
  {
   "cell_type": "markdown",
   "id": "aa4ce754",
   "metadata": {},
   "source": [
    "График распределения количества активных и ушедших клиентов по возрастам показал, что между этими группами есть различия. Поэтому проверим гипотезу о разнице в возрасте между теми клиентами, которые ушли, и теми, которые остались."
   ]
  },
  {
   "cell_type": "code",
   "execution_count": 35,
   "id": "adec6dbd",
   "metadata": {},
   "outputs": [
    {
     "data": {
      "image/png": "[encoded data removed]",
      "text/plain": [
       "<Figure size 576x576 with 1 Axes>"
      ]
     },
     "metadata": {},
     "output_type": "display_data"
    }
   ],
   "source": [
    "# создадим график распределения возраста клиентов\n",
    "\n",
    "plt.figure(figsize=(8, 8))\n",
    "sns.distplot(df['age'])\n",
    "sns.set_style('whitegrid')\n",
    "plt.title('Распределение возраста клиентов')\n",
    "plt.show()"
   ]
  },
  {
   "cell_type": "markdown",
   "id": "a8e85730",
   "metadata": {},
   "source": [
    "Распределение напоминает нормальное с небольшим отклонением вправо - в сторону сильно возрастных клиентов. Для проверки гипотезы можем использовать U-критерий (Манна-Уитни).\n",
    "\n",
    "Формулируем гипотезы:\n",
    "\n",
    "- H0: возраст клиентов, которые ушли, равен возрасту клиентов, которые остались\n",
    "- H1: возраст клиентов, которые ушли, отличается от возраста клиентов, которые остались"
   ]
  },
  {
   "cell_type": "code",
   "execution_count": 36,
   "id": "bc8d4279",
   "metadata": {},
   "outputs": [
    {
     "name": "stdout",
     "output_type": "stream",
     "text": [
      "p-значение:  3.2104014319371675e-230\n",
      "Отвергаем H0: разница статистически значима\n"
     ]
    }
   ],
   "source": [
    "# задаем уровень статичстической значимости\n",
    "\n",
    "alpha = 0.05\n",
    "\n",
    "results = st.mannwhitneyu(df[df['churn']==1]['age'], df[df['churn']==0]['age'])\n",
    "pvalue = results.pvalue\n",
    "\n",
    "print('p-значение: ', pvalue)\n",
    "\n",
    "if (pvalue < alpha):\n",
    "    print(\"Отвергаем H0: разница статистически значима\")\n",
    "else:\n",
    "    print(\"Не получилось отвергнуть H0: вывод о различии сделать нельзя\")"
   ]
  },
  {
   "cell_type": "code",
   "execution_count": 37,
   "id": "e86f19a4",
   "metadata": {},
   "outputs": [
    {
     "data": {
      "text/plain": [
       "45.0"
      ]
     },
     "execution_count": 37,
     "metadata": {},
     "output_type": "execute_result"
    }
   ],
   "source": [
    "# посчитаем медианный возраст ушедших клиентов\n",
    "\n",
    "df[df['churn']==1]['age'].median().round()"
   ]
  },
  {
   "cell_type": "code",
   "execution_count": 38,
   "id": "d54a67d8",
   "metadata": {},
   "outputs": [
    {
     "data": {
      "text/plain": [
       "36.0"
      ]
     },
     "execution_count": 38,
     "metadata": {},
     "output_type": "execute_result"
    }
   ],
   "source": [
    "# посчитаем медианный возраст оставшихся клиентов\n",
    "\n",
    "df[df['churn']==0]['age'].median().round()"
   ]
  },
  {
   "cell_type": "markdown",
   "id": "b757038f",
   "metadata": {},
   "source": [
    "Медианный возраст ушедших клиентов 45 лет, медианный возраст оставшихся клиентов 36 лет. Между данными присутствует статистически значимая разница, мы не можем принять нулевую гипотезу."
   ]
  },
  {
   "cell_type": "markdown",
   "id": "9858b884",
   "metadata": {},
   "source": [
    " ## Вывод и рекомендации"
   ]
  },
  {
   "cell_type": "markdown",
   "id": "c9e54d8e",
   "metadata": {},
   "source": [
    "Мы проанализировали данные 10 тысяч клиентов банка из трех городов и составили общий портрет клиента, для которого характерны следующие признаки:\n",
    "- мужчины и женщины\n",
    "- возраст 30-60 лет\n",
    "- высокий (более 100 тысяч) уровнь дохода\n",
    "- более 3 объектов собственности\n",
    "- от 100 до 150 тысяч на банковском счете \n",
    "- 1-2 продукта банка в использовании \n",
    "- есть кредитная карта \n",
    "- средний балл кредитного скоринга - 650\n",
    "\n",
    "Также выяснили, что 20% клиентов перестают пользоваться услугами банка. Для пользователей, уходящих в отток, характерны: \n",
    "\n",
    "- женский пол\n",
    "- возраст 40-60 лет\n",
    "- наличие кредитной карты\n",
    "- пользование 1, 3 или 4-мя продуктами банка. Среди тех клиентов, которые используют 4 продукта, 100% отток\n",
    "- высокий доход\n",
    "- город проживания - Ростов Великий и Ярославль\n",
    "\n",
    "80% остаются лояльными банку, для этих клиентов характерны:\n",
    "\n",
    "- мужской пол\n",
    "- возраст 30-40 лет\n",
    "- пользование 2 продуктами банка \n",
    "- город проживания - Рыбинск\n",
    "\n",
    "Мы проверили две статистические гипотезы. Первая гипотеза о различии дохода между теми клиентами, которые ушли, и теми, которые остались, была подтверждена. Действительно медианный заработок ушедших и оставшихся в банке клиентов практически совпадает. Вторая гипотеза о различии в возрасте между теми клиентами, которые ушли, и теми, которые остались, была опровергнута. Медианный возраст ушедших и оставшихся клиентов различается на 9 лет. \n",
    "\n",
    "На основе проведенного исследовательского и статистического анализа можем предположить, что главной мерой по удержанию клиентов должна стать новая линейка предложений для людей пенсионного возраста, потому что в отток чаще всего попадают именно они. Также стоит разобраться, почему у тех клиентов, которые используют 4 продукта, 100% отток. Поскольку наиболее лояльными являются клиенты, которые используют 2 продукта, вероятно стоит разработать парные банковские программы, чтобы привлечь больше клиентов пользоваться двумя продуктами. \n"
   ]
  },
  {
   "cell_type": "code",
   "execution_count": null,
   "id": "79ca8e33",
   "metadata": {},
   "outputs": [],
   "source": []
  }
 ],
 "metadata": {
  "ExecuteTimeLog": [
   {
    "duration": 1360,
    "start_time": "2022-05-28T09:04:43.654Z"
   },
   {
    "duration": 124,
    "start_time": "2022-05-28T09:04:45.016Z"
   },
   {
    "duration": 0,
    "start_time": "2022-05-28T09:04:45.143Z"
   },
   {
    "duration": 0,
    "start_time": "2022-05-28T09:04:45.144Z"
   },
   {
    "duration": 0,
    "start_time": "2022-05-28T09:04:45.145Z"
   },
   {
    "duration": 0,
    "start_time": "2022-05-28T09:04:45.146Z"
   },
   {
    "duration": 0,
    "start_time": "2022-05-28T09:04:45.147Z"
   },
   {
    "duration": 0,
    "start_time": "2022-05-28T09:04:45.149Z"
   },
   {
    "duration": 0,
    "start_time": "2022-05-28T09:04:45.164Z"
   },
   {
    "duration": 0,
    "start_time": "2022-05-28T09:04:45.166Z"
   },
   {
    "duration": 0,
    "start_time": "2022-05-28T09:04:45.167Z"
   },
   {
    "duration": 0,
    "start_time": "2022-05-28T09:04:45.168Z"
   },
   {
    "duration": 0,
    "start_time": "2022-05-28T09:04:45.169Z"
   },
   {
    "duration": 0,
    "start_time": "2022-05-28T09:04:45.170Z"
   },
   {
    "duration": 0,
    "start_time": "2022-05-28T09:04:45.171Z"
   },
   {
    "duration": 0,
    "start_time": "2022-05-28T09:04:45.173Z"
   },
   {
    "duration": 0,
    "start_time": "2022-05-28T09:04:45.174Z"
   },
   {
    "duration": 0,
    "start_time": "2022-05-28T09:04:45.175Z"
   },
   {
    "duration": 0,
    "start_time": "2022-05-28T09:04:45.176Z"
   },
   {
    "duration": 0,
    "start_time": "2022-05-28T09:04:45.177Z"
   },
   {
    "duration": 0,
    "start_time": "2022-05-28T09:04:45.178Z"
   },
   {
    "duration": 0,
    "start_time": "2022-05-28T09:04:45.180Z"
   },
   {
    "duration": 0,
    "start_time": "2022-05-28T09:04:45.181Z"
   },
   {
    "duration": 0,
    "start_time": "2022-05-28T09:04:45.182Z"
   },
   {
    "duration": 0,
    "start_time": "2022-05-28T09:04:45.183Z"
   },
   {
    "duration": 0,
    "start_time": "2022-05-28T09:04:45.184Z"
   },
   {
    "duration": 0,
    "start_time": "2022-05-28T09:04:45.185Z"
   },
   {
    "duration": 0,
    "start_time": "2022-05-28T09:04:45.186Z"
   },
   {
    "duration": 0,
    "start_time": "2022-05-28T09:04:45.187Z"
   },
   {
    "duration": 0,
    "start_time": "2022-05-28T09:04:45.189Z"
   },
   {
    "duration": 0,
    "start_time": "2022-05-28T09:04:45.190Z"
   },
   {
    "duration": 0,
    "start_time": "2022-05-28T09:04:45.191Z"
   },
   {
    "duration": 0,
    "start_time": "2022-05-28T09:04:45.192Z"
   },
   {
    "duration": 0,
    "start_time": "2022-05-28T09:04:45.193Z"
   },
   {
    "duration": 0,
    "start_time": "2022-05-28T09:04:45.194Z"
   },
   {
    "duration": 0,
    "start_time": "2022-05-28T09:04:45.195Z"
   },
   {
    "duration": 0,
    "start_time": "2022-05-28T09:04:45.196Z"
   },
   {
    "duration": 1184,
    "start_time": "2022-05-28T09:06:41.850Z"
   },
   {
    "duration": 123,
    "start_time": "2022-05-28T09:06:43.037Z"
   },
   {
    "duration": 0,
    "start_time": "2022-05-28T09:06:43.166Z"
   },
   {
    "duration": 0,
    "start_time": "2022-05-28T09:06:43.167Z"
   },
   {
    "duration": 0,
    "start_time": "2022-05-28T09:06:43.169Z"
   },
   {
    "duration": 0,
    "start_time": "2022-05-28T09:06:43.170Z"
   },
   {
    "duration": 0,
    "start_time": "2022-05-28T09:06:43.171Z"
   },
   {
    "duration": 0,
    "start_time": "2022-05-28T09:06:43.172Z"
   },
   {
    "duration": 0,
    "start_time": "2022-05-28T09:06:43.174Z"
   },
   {
    "duration": 0,
    "start_time": "2022-05-28T09:06:43.175Z"
   },
   {
    "duration": 0,
    "start_time": "2022-05-28T09:06:43.176Z"
   },
   {
    "duration": 0,
    "start_time": "2022-05-28T09:06:43.177Z"
   },
   {
    "duration": 0,
    "start_time": "2022-05-28T09:06:43.178Z"
   },
   {
    "duration": 0,
    "start_time": "2022-05-28T09:06:43.180Z"
   },
   {
    "duration": 0,
    "start_time": "2022-05-28T09:06:43.181Z"
   },
   {
    "duration": 0,
    "start_time": "2022-05-28T09:06:43.182Z"
   },
   {
    "duration": 0,
    "start_time": "2022-05-28T09:06:43.183Z"
   },
   {
    "duration": 0,
    "start_time": "2022-05-28T09:06:43.185Z"
   },
   {
    "duration": 0,
    "start_time": "2022-05-28T09:06:43.186Z"
   },
   {
    "duration": 0,
    "start_time": "2022-05-28T09:06:43.187Z"
   },
   {
    "duration": 0,
    "start_time": "2022-05-28T09:06:43.188Z"
   },
   {
    "duration": 0,
    "start_time": "2022-05-28T09:06:43.189Z"
   },
   {
    "duration": 0,
    "start_time": "2022-05-28T09:06:43.190Z"
   },
   {
    "duration": 0,
    "start_time": "2022-05-28T09:06:43.192Z"
   },
   {
    "duration": 0,
    "start_time": "2022-05-28T09:06:43.193Z"
   },
   {
    "duration": 0,
    "start_time": "2022-05-28T09:06:43.194Z"
   },
   {
    "duration": 0,
    "start_time": "2022-05-28T09:06:43.196Z"
   },
   {
    "duration": 0,
    "start_time": "2022-05-28T09:06:43.197Z"
   },
   {
    "duration": 0,
    "start_time": "2022-05-28T09:06:43.198Z"
   },
   {
    "duration": 0,
    "start_time": "2022-05-28T09:06:43.199Z"
   },
   {
    "duration": 0,
    "start_time": "2022-05-28T09:06:43.201Z"
   },
   {
    "duration": 0,
    "start_time": "2022-05-28T09:06:43.202Z"
   },
   {
    "duration": 0,
    "start_time": "2022-05-28T09:06:43.203Z"
   },
   {
    "duration": 0,
    "start_time": "2022-05-28T09:06:43.204Z"
   },
   {
    "duration": 0,
    "start_time": "2022-05-28T09:06:43.264Z"
   },
   {
    "duration": 0,
    "start_time": "2022-05-28T09:06:43.266Z"
   },
   {
    "duration": 0,
    "start_time": "2022-05-28T09:06:43.268Z"
   },
   {
    "duration": 0,
    "start_time": "2022-05-28T09:06:43.269Z"
   },
   {
    "duration": 1233,
    "start_time": "2022-05-28T09:13:11.871Z"
   },
   {
    "duration": 3,
    "start_time": "2022-05-28T09:13:13.106Z"
   },
   {
    "duration": 80,
    "start_time": "2022-05-28T09:13:13.111Z"
   },
   {
    "duration": 40,
    "start_time": "2022-05-28T09:13:13.193Z"
   },
   {
    "duration": 4,
    "start_time": "2022-05-28T09:13:13.236Z"
   },
   {
    "duration": 23,
    "start_time": "2022-05-28T09:13:13.241Z"
   },
   {
    "duration": 8,
    "start_time": "2022-05-28T09:13:13.266Z"
   },
   {
    "duration": 17,
    "start_time": "2022-05-28T09:13:13.276Z"
   },
   {
    "duration": 11,
    "start_time": "2022-05-28T09:13:13.295Z"
   },
   {
    "duration": 11,
    "start_time": "2022-05-28T09:13:13.308Z"
   },
   {
    "duration": 3,
    "start_time": "2022-05-28T09:13:13.321Z"
   },
   {
    "duration": 229,
    "start_time": "2022-05-28T09:13:13.326Z"
   },
   {
    "duration": 262,
    "start_time": "2022-05-28T09:13:13.557Z"
   },
   {
    "duration": 156,
    "start_time": "2022-05-28T09:13:13.823Z"
   },
   {
    "duration": 160,
    "start_time": "2022-05-28T09:13:13.981Z"
   },
   {
    "duration": 112,
    "start_time": "2022-05-28T09:13:14.143Z"
   },
   {
    "duration": 168,
    "start_time": "2022-05-28T09:13:14.257Z"
   },
   {
    "duration": 113,
    "start_time": "2022-05-28T09:13:14.427Z"
   },
   {
    "duration": 206,
    "start_time": "2022-05-28T09:13:14.542Z"
   },
   {
    "duration": 137,
    "start_time": "2022-05-28T09:13:14.750Z"
   },
   {
    "duration": 196,
    "start_time": "2022-05-28T09:13:14.889Z"
   },
   {
    "duration": 145,
    "start_time": "2022-05-28T09:13:15.087Z"
   },
   {
    "duration": 155,
    "start_time": "2022-05-28T09:13:15.234Z"
   },
   {
    "duration": 9,
    "start_time": "2022-05-28T09:13:15.391Z"
   },
   {
    "duration": 68,
    "start_time": "2022-05-28T09:13:15.403Z"
   },
   {
    "duration": 14,
    "start_time": "2022-05-28T09:13:15.473Z"
   },
   {
    "duration": 425,
    "start_time": "2022-05-28T09:13:15.489Z"
   },
   {
    "duration": 2221,
    "start_time": "2022-05-28T09:13:15.916Z"
   },
   {
    "duration": 14,
    "start_time": "2022-05-28T09:13:18.139Z"
   },
   {
    "duration": 1230,
    "start_time": "2022-05-28T09:13:18.165Z"
   },
   {
    "duration": 260,
    "start_time": "2022-05-28T09:13:19.397Z"
   },
   {
    "duration": 17,
    "start_time": "2022-05-28T09:13:19.665Z"
   },
   {
    "duration": 8,
    "start_time": "2022-05-28T09:13:19.684Z"
   },
   {
    "duration": 9,
    "start_time": "2022-05-28T09:13:19.694Z"
   },
   {
    "duration": 314,
    "start_time": "2022-05-28T09:13:19.705Z"
   },
   {
    "duration": 16,
    "start_time": "2022-05-28T09:13:20.021Z"
   },
   {
    "duration": 26,
    "start_time": "2022-05-28T09:13:20.039Z"
   },
   {
    "duration": 7,
    "start_time": "2022-05-28T09:13:20.067Z"
   },
   {
    "duration": 15,
    "start_time": "2022-05-28T09:14:30.775Z"
   }
  ],
  "kernelspec": {
   "display_name": "Python 3 (ipykernel)",
   "language": "python",
   "name": "python3"
  },
  "language_info": {
   "codemirror_mode": {
    "name": "ipython",
    "version": 3
   },
   "file_extension": ".py",
   "mimetype": "text/x-python",
   "name": "python",
   "nbconvert_exporter": "python",
   "pygments_lexer": "ipython3",
   "version": "3.9.5"
  },
  "toc": {
   "base_numbering": 1,
   "nav_menu": {},
   "number_sections": true,
   "sideBar": true,
   "skip_h1_title": true,
   "title_cell": "Table of Contents",
   "title_sidebar": "Contents",
   "toc_cell": false,
   "toc_position": {},
   "toc_section_display": true,
   "toc_window_display": false
  }
 },
 "nbformat": 4,
 "nbformat_minor": 5
}
