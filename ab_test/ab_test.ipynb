{
 "cells": [
  {
   "cell_type": "markdown",
   "metadata": {
    "toc": true
   },
   "source": [
    "<h1>Содержание<span class=\"tocSkip\"></span></h1>\n",
    "<div class=\"toc\"><ul class=\"toc-item\"><li><span><a href=\"#Обзор-данных\" data-toc-modified-id=\"Обзор-данных-1\"><span class=\"toc-item-num\">1&nbsp;&nbsp;</span>Обзор данных</a></span></li><li><span><a href=\"#Предобработка-данных\" data-toc-modified-id=\"Предобработка-данных-2\"><span class=\"toc-item-num\">2&nbsp;&nbsp;</span>Предобработка данных</a></span></li><li><span><a href=\"#Исследовательский-анализ-данных\" data-toc-modified-id=\"Исследовательский-анализ-данных-3\"><span class=\"toc-item-num\">3&nbsp;&nbsp;</span>Исследовательский анализ данных</a></span><ul class=\"toc-item\"><li><span><a href=\"#Распределение-количества-событий-на-пользователя-в-выборках\" data-toc-modified-id=\"Распределение-количества-событий-на-пользователя-в-выборках-3.1\"><span class=\"toc-item-num\">3.1&nbsp;&nbsp;</span>Распределение количества событий на пользователя в выборках</a></span></li><li><span><a href=\"#Распределение-числа-событий-в-выборках--по-дням\" data-toc-modified-id=\"Распределение-числа-событий-в-выборках--по-дням-3.2\"><span class=\"toc-item-num\">3.2&nbsp;&nbsp;</span>Распределение числа событий в выборках  по дням</a></span></li><li><span><a href=\"#Конверсия-в-воронке-в-выборках-на-разных-этапах\" data-toc-modified-id=\"Конверсия-в-воронке-в-выборках-на-разных-этапах-3.3\"><span class=\"toc-item-num\">3.3&nbsp;&nbsp;</span>Конверсия в воронке в выборках на разных этапах</a></span></li><li><span><a href=\"#Какие-особенности-данных-нужно-учесть,-прежде-чем-приступать-к-A/B-тестированию\" data-toc-modified-id=\"Какие-особенности-данных-нужно-учесть,-прежде-чем-приступать-к-A/B-тестированию-3.4\"><span class=\"toc-item-num\">3.4&nbsp;&nbsp;</span>Какие особенности данных нужно учесть, прежде чем приступать к A/B-тестированию</a></span></li></ul></li><li><span><a href=\"#Результаты-A/B-тестирования\" data-toc-modified-id=\"Результаты-A/B-тестирования-4\"><span class=\"toc-item-num\">4&nbsp;&nbsp;</span>Результаты A/B-тестирования</a></span><ul class=\"toc-item\"><li><span><a href=\"#Проверка-статистической-разницы-долей-z-критерием\" data-toc-modified-id=\"Проверка-статистической-разницы-долей-z-критерием-4.1\"><span class=\"toc-item-num\">4.1&nbsp;&nbsp;</span>Проверка статистической разницы долей z-критерием</a></span></li></ul></li><li><span><a href=\"#Вывод\" data-toc-modified-id=\"Вывод-5\"><span class=\"toc-item-num\">5&nbsp;&nbsp;</span>Вывод</a></span></li></ul></div>"
   ]
  },
  {
   "cell_type": "markdown",
   "metadata": {},
   "source": [
    "# A/B-тестирование"
   ]
  },
  {
   "cell_type": "markdown",
   "metadata": {},
   "source": [
    "**Цель исследования** — провести оценку результатов A/B-теста. \n",
    "- Оценить корректность проведения теста:\n",
    " - проверить пересечение тестовой аудитории с конкурирующим тестом\n",
    " - проверить совпадение теста и маркетинговых событий, другие проблемы временных границ теста\n",
    "- Проанализировать результаты теста\n",
    "\n",
    "**Ход исследования**:\n",
    "1. Обзор данных \n",
    "2. Предобработка данных\n",
    "3. Исследовательский анализ \n",
    "4. Проверка гипотез\n",
    "5. Выводы"
   ]
  },
  {
   "cell_type": "markdown",
   "metadata": {},
   "source": [
    "## Обзор данных"
   ]
  },
  {
   "cell_type": "code",
   "execution_count": 72,
   "metadata": {},
   "outputs": [],
   "source": [
    "# импортируем библиотеки\n",
    "\n",
    "import pandas as pd\n",
    "import numpy as np\n",
    "import math as mth\n",
    "\n",
    "\n",
    "import matplotlib.pyplot as plt\n",
    "from plotly import graph_objects as go\n",
    "import seaborn as sns\n",
    "from scipy import stats as st\n",
    "import warnings\n",
    "warnings.filterwarnings(\"ignore\")"
   ]
  },
  {
   "cell_type": "code",
   "execution_count": 73,
   "metadata": {},
   "outputs": [],
   "source": [
    "# прочтиаем файлы\n",
    "\n",
    "new_users = pd.read_csv('/datasets/final_ab_new_users.csv')\n",
    "ab_events = pd.read_csv('/datasets/final_ab_events.csv')\n",
    "participants = pd.read_csv('/datasets/final_ab_participants.csv')\n",
    "marketing_events = pd.read_csv('/datasets/ab_project_marketing_events.csv')"
   ]
  },
  {
   "cell_type": "code",
   "execution_count": 74,
   "metadata": {},
   "outputs": [],
   "source": [
    "# создадим функцию для получения информации о таблицах \n",
    "\n",
    "def df_info(df):\n",
    "    print('Первые 5 строк датасета')\n",
    "    display(df.head(5))\n",
    "    print('Общая информация о датасете')\n",
    "    display(df.info())\n",
    "    print('Количество дубликатов: {}'. format(df.duplicated().sum()))\n",
    "    print('Количество пропусков')\n",
    "    print(df.isna().sum())\n",
    "    print('Статистические данные')\n",
    "    display(df.describe())"
   ]
  },
  {
   "cell_type": "code",
   "execution_count": 75,
   "metadata": {
    "scrolled": true
   },
   "outputs": [
    {
     "name": "stdout",
     "output_type": "stream",
     "text": [
      "Первые 5 строк датасета\n"
     ]
    },
    {
     "data": {
      "text/html": [
       "<div>\n",
       "<style scoped>\n",
       "    .dataframe tbody tr th:only-of-type {\n",
       "        vertical-align: middle;\n",
       "    }\n",
       "\n",
       "    .dataframe tbody tr th {\n",
       "        vertical-align: top;\n",
       "    }\n",
       "\n",
       "    .dataframe thead th {\n",
       "        text-align: right;\n",
       "    }\n",
       "</style>\n",
       "<table border=\"1\" class=\"dataframe\">\n",
       "  <thead>\n",
       "    <tr style=\"text-align: right;\">\n",
       "      <th></th>\n",
       "      <th>user_id</th>\n",
       "      <th>first_date</th>\n",
       "      <th>region</th>\n",
       "      <th>device</th>\n",
       "    </tr>\n",
       "  </thead>\n",
       "  <tbody>\n",
       "    <tr>\n",
       "      <th>0</th>\n",
       "      <td>D72A72121175D8BE</td>\n",
       "      <td>2020-12-07</td>\n",
       "      <td>EU</td>\n",
       "      <td>PC</td>\n",
       "    </tr>\n",
       "    <tr>\n",
       "      <th>1</th>\n",
       "      <td>F1C668619DFE6E65</td>\n",
       "      <td>2020-12-07</td>\n",
       "      <td>N.America</td>\n",
       "      <td>Android</td>\n",
       "    </tr>\n",
       "    <tr>\n",
       "      <th>2</th>\n",
       "      <td>2E1BF1D4C37EA01F</td>\n",
       "      <td>2020-12-07</td>\n",
       "      <td>EU</td>\n",
       "      <td>PC</td>\n",
       "    </tr>\n",
       "    <tr>\n",
       "      <th>3</th>\n",
       "      <td>50734A22C0C63768</td>\n",
       "      <td>2020-12-07</td>\n",
       "      <td>EU</td>\n",
       "      <td>iPhone</td>\n",
       "    </tr>\n",
       "    <tr>\n",
       "      <th>4</th>\n",
       "      <td>E1BDDCE0DAFA2679</td>\n",
       "      <td>2020-12-07</td>\n",
       "      <td>N.America</td>\n",
       "      <td>iPhone</td>\n",
       "    </tr>\n",
       "  </tbody>\n",
       "</table>\n",
       "</div>"
      ],
      "text/plain": [
       "            user_id  first_date     region   device\n",
       "0  D72A72121175D8BE  2020-12-07         EU       PC\n",
       "1  F1C668619DFE6E65  2020-12-07  N.America  Android\n",
       "2  2E1BF1D4C37EA01F  2020-12-07         EU       PC\n",
       "3  50734A22C0C63768  2020-12-07         EU   iPhone\n",
       "4  E1BDDCE0DAFA2679  2020-12-07  N.America   iPhone"
      ]
     },
     "metadata": {},
     "output_type": "display_data"
    },
    {
     "name": "stdout",
     "output_type": "stream",
     "text": [
      "Общая информация о датасете\n",
      "<class 'pandas.core.frame.DataFrame'>\n",
      "RangeIndex: 61733 entries, 0 to 61732\n",
      "Data columns (total 4 columns):\n",
      " #   Column      Non-Null Count  Dtype \n",
      "---  ------      --------------  ----- \n",
      " 0   user_id     61733 non-null  object\n",
      " 1   first_date  61733 non-null  object\n",
      " 2   region      61733 non-null  object\n",
      " 3   device      61733 non-null  object\n",
      "dtypes: object(4)\n",
      "memory usage: 1.9+ MB\n"
     ]
    },
    {
     "data": {
      "text/plain": [
       "None"
      ]
     },
     "metadata": {},
     "output_type": "display_data"
    },
    {
     "name": "stdout",
     "output_type": "stream",
     "text": [
      "Количество дубликатов: 0\n",
      "Количество пропусков\n",
      "user_id       0\n",
      "first_date    0\n",
      "region        0\n",
      "device        0\n",
      "dtype: int64\n",
      "Статистические данные\n"
     ]
    },
    {
     "data": {
      "text/html": [
       "<div>\n",
       "<style scoped>\n",
       "    .dataframe tbody tr th:only-of-type {\n",
       "        vertical-align: middle;\n",
       "    }\n",
       "\n",
       "    .dataframe tbody tr th {\n",
       "        vertical-align: top;\n",
       "    }\n",
       "\n",
       "    .dataframe thead th {\n",
       "        text-align: right;\n",
       "    }\n",
       "</style>\n",
       "<table border=\"1\" class=\"dataframe\">\n",
       "  <thead>\n",
       "    <tr style=\"text-align: right;\">\n",
       "      <th></th>\n",
       "      <th>user_id</th>\n",
       "      <th>first_date</th>\n",
       "      <th>region</th>\n",
       "      <th>device</th>\n",
       "    </tr>\n",
       "  </thead>\n",
       "  <tbody>\n",
       "    <tr>\n",
       "      <th>count</th>\n",
       "      <td>61733</td>\n",
       "      <td>61733</td>\n",
       "      <td>61733</td>\n",
       "      <td>61733</td>\n",
       "    </tr>\n",
       "    <tr>\n",
       "      <th>unique</th>\n",
       "      <td>61733</td>\n",
       "      <td>17</td>\n",
       "      <td>4</td>\n",
       "      <td>4</td>\n",
       "    </tr>\n",
       "    <tr>\n",
       "      <th>top</th>\n",
       "      <td>DFFB4F3905881D6B</td>\n",
       "      <td>2020-12-21</td>\n",
       "      <td>EU</td>\n",
       "      <td>Android</td>\n",
       "    </tr>\n",
       "    <tr>\n",
       "      <th>freq</th>\n",
       "      <td>1</td>\n",
       "      <td>6290</td>\n",
       "      <td>46270</td>\n",
       "      <td>27520</td>\n",
       "    </tr>\n",
       "  </tbody>\n",
       "</table>\n",
       "</div>"
      ],
      "text/plain": [
       "                 user_id  first_date region   device\n",
       "count              61733       61733  61733    61733\n",
       "unique             61733          17      4        4\n",
       "top     DFFB4F3905881D6B  2020-12-21     EU  Android\n",
       "freq                   1        6290  46270    27520"
      ]
     },
     "metadata": {},
     "output_type": "display_data"
    }
   ],
   "source": [
    "# вызовем функцию для new_users\n",
    "\n",
    "df_info(new_users)"
   ]
  },
  {
   "cell_type": "code",
   "execution_count": 76,
   "metadata": {},
   "outputs": [
    {
     "name": "stdout",
     "output_type": "stream",
     "text": [
      "Минимальная первая дата: 2020-12-07\n",
      "максимальная первая дата 2020-12-23\n"
     ]
    }
   ],
   "source": [
    "# выведем минимальную и максимальную даты тестирования\n",
    "\n",
    "print('Минимальная первая дата:', new_users['first_date'].min())\n",
    "print('максимальная первая дата', new_users['first_date'].max())"
   ]
  },
  {
   "cell_type": "code",
   "execution_count": 77,
   "metadata": {},
   "outputs": [
    {
     "data": {
      "text/plain": [
       "array(['EU', 'N.America', 'APAC', 'CIS'], dtype=object)"
      ]
     },
     "execution_count": 77,
     "metadata": {},
     "output_type": "execute_result"
    }
   ],
   "source": [
    "# выведем регионы тестирования\n",
    "\n",
    "new_users['region'].unique()"
   ]
  },
  {
   "cell_type": "markdown",
   "metadata": {},
   "source": [
    "- Таблица new_users сожержит данные о 61 733 уникальных пользователях. \n",
    "- Пропусков и дубликатов в таблице нет.\n",
    "- Необходимо привести тип данных в столбце first_date к формату datetime. \n",
    "- Дата окончания тестирования в таблице отличается от той, что указана в задании: мы располагаем данными до 23 декабря вместо заявленного 21 декабря. Необходимо отфильтровать данные по дате.\n",
    "- Также нужно отфильтровать данные по региону: мы должны проанализировать новых пользователей из региона EU, в таблице данные о пользователях из 4 регионов. \n",
    "\n"
   ]
  },
  {
   "cell_type": "code",
   "execution_count": 78,
   "metadata": {},
   "outputs": [
    {
     "name": "stdout",
     "output_type": "stream",
     "text": [
      "Первые 5 строк датасета\n"
     ]
    },
    {
     "data": {
      "text/html": [
       "<div>\n",
       "<style scoped>\n",
       "    .dataframe tbody tr th:only-of-type {\n",
       "        vertical-align: middle;\n",
       "    }\n",
       "\n",
       "    .dataframe tbody tr th {\n",
       "        vertical-align: top;\n",
       "    }\n",
       "\n",
       "    .dataframe thead th {\n",
       "        text-align: right;\n",
       "    }\n",
       "</style>\n",
       "<table border=\"1\" class=\"dataframe\">\n",
       "  <thead>\n",
       "    <tr style=\"text-align: right;\">\n",
       "      <th></th>\n",
       "      <th>user_id</th>\n",
       "      <th>event_dt</th>\n",
       "      <th>event_name</th>\n",
       "      <th>details</th>\n",
       "    </tr>\n",
       "  </thead>\n",
       "  <tbody>\n",
       "    <tr>\n",
       "      <th>0</th>\n",
       "      <td>E1BDDCE0DAFA2679</td>\n",
       "      <td>2020-12-07 20:22:03</td>\n",
       "      <td>purchase</td>\n",
       "      <td>99.99</td>\n",
       "    </tr>\n",
       "    <tr>\n",
       "      <th>1</th>\n",
       "      <td>7B6452F081F49504</td>\n",
       "      <td>2020-12-07 09:22:53</td>\n",
       "      <td>purchase</td>\n",
       "      <td>9.99</td>\n",
       "    </tr>\n",
       "    <tr>\n",
       "      <th>2</th>\n",
       "      <td>9CD9F34546DF254C</td>\n",
       "      <td>2020-12-07 12:59:29</td>\n",
       "      <td>purchase</td>\n",
       "      <td>4.99</td>\n",
       "    </tr>\n",
       "    <tr>\n",
       "      <th>3</th>\n",
       "      <td>96F27A054B191457</td>\n",
       "      <td>2020-12-07 04:02:40</td>\n",
       "      <td>purchase</td>\n",
       "      <td>4.99</td>\n",
       "    </tr>\n",
       "    <tr>\n",
       "      <th>4</th>\n",
       "      <td>1FD7660FDF94CA1F</td>\n",
       "      <td>2020-12-07 10:15:09</td>\n",
       "      <td>purchase</td>\n",
       "      <td>4.99</td>\n",
       "    </tr>\n",
       "  </tbody>\n",
       "</table>\n",
       "</div>"
      ],
      "text/plain": [
       "            user_id             event_dt event_name  details\n",
       "0  E1BDDCE0DAFA2679  2020-12-07 20:22:03   purchase    99.99\n",
       "1  7B6452F081F49504  2020-12-07 09:22:53   purchase     9.99\n",
       "2  9CD9F34546DF254C  2020-12-07 12:59:29   purchase     4.99\n",
       "3  96F27A054B191457  2020-12-07 04:02:40   purchase     4.99\n",
       "4  1FD7660FDF94CA1F  2020-12-07 10:15:09   purchase     4.99"
      ]
     },
     "metadata": {},
     "output_type": "display_data"
    },
    {
     "name": "stdout",
     "output_type": "stream",
     "text": [
      "Общая информация о датасете\n",
      "<class 'pandas.core.frame.DataFrame'>\n",
      "RangeIndex: 440317 entries, 0 to 440316\n",
      "Data columns (total 4 columns):\n",
      " #   Column      Non-Null Count   Dtype  \n",
      "---  ------      --------------   -----  \n",
      " 0   user_id     440317 non-null  object \n",
      " 1   event_dt    440317 non-null  object \n",
      " 2   event_name  440317 non-null  object \n",
      " 3   details     62740 non-null   float64\n",
      "dtypes: float64(1), object(3)\n",
      "memory usage: 13.4+ MB\n"
     ]
    },
    {
     "data": {
      "text/plain": [
       "None"
      ]
     },
     "metadata": {},
     "output_type": "display_data"
    },
    {
     "name": "stdout",
     "output_type": "stream",
     "text": [
      "Количество дубликатов: 0\n",
      "Количество пропусков\n",
      "user_id            0\n",
      "event_dt           0\n",
      "event_name         0\n",
      "details       377577\n",
      "dtype: int64\n",
      "Статистические данные\n"
     ]
    },
    {
     "data": {
      "text/html": [
       "<div>\n",
       "<style scoped>\n",
       "    .dataframe tbody tr th:only-of-type {\n",
       "        vertical-align: middle;\n",
       "    }\n",
       "\n",
       "    .dataframe tbody tr th {\n",
       "        vertical-align: top;\n",
       "    }\n",
       "\n",
       "    .dataframe thead th {\n",
       "        text-align: right;\n",
       "    }\n",
       "</style>\n",
       "<table border=\"1\" class=\"dataframe\">\n",
       "  <thead>\n",
       "    <tr style=\"text-align: right;\">\n",
       "      <th></th>\n",
       "      <th>details</th>\n",
       "    </tr>\n",
       "  </thead>\n",
       "  <tbody>\n",
       "    <tr>\n",
       "      <th>count</th>\n",
       "      <td>62740.000000</td>\n",
       "    </tr>\n",
       "    <tr>\n",
       "      <th>mean</th>\n",
       "      <td>23.877631</td>\n",
       "    </tr>\n",
       "    <tr>\n",
       "      <th>std</th>\n",
       "      <td>72.180465</td>\n",
       "    </tr>\n",
       "    <tr>\n",
       "      <th>min</th>\n",
       "      <td>4.990000</td>\n",
       "    </tr>\n",
       "    <tr>\n",
       "      <th>25%</th>\n",
       "      <td>4.990000</td>\n",
       "    </tr>\n",
       "    <tr>\n",
       "      <th>50%</th>\n",
       "      <td>4.990000</td>\n",
       "    </tr>\n",
       "    <tr>\n",
       "      <th>75%</th>\n",
       "      <td>9.990000</td>\n",
       "    </tr>\n",
       "    <tr>\n",
       "      <th>max</th>\n",
       "      <td>499.990000</td>\n",
       "    </tr>\n",
       "  </tbody>\n",
       "</table>\n",
       "</div>"
      ],
      "text/plain": [
       "            details\n",
       "count  62740.000000\n",
       "mean      23.877631\n",
       "std       72.180465\n",
       "min        4.990000\n",
       "25%        4.990000\n",
       "50%        4.990000\n",
       "75%        9.990000\n",
       "max      499.990000"
      ]
     },
     "metadata": {},
     "output_type": "display_data"
    }
   ],
   "source": [
    "# вызовем функцию для new_users ab_events\n",
    "\n",
    "df_info(ab_events)"
   ]
  },
  {
   "cell_type": "code",
   "execution_count": 79,
   "metadata": {},
   "outputs": [
    {
     "name": "stdout",
     "output_type": "stream",
     "text": [
      "Минимальная первая дата: 2020-12-07 00:00:33\n",
      "максимальная первая дата 2020-12-30 23:36:33\n"
     ]
    }
   ],
   "source": [
    "# выведем минимальную и максимальную даты покупки\n",
    "\n",
    "print('Минимальная первая дата:', ab_events['event_dt'].min())\n",
    "print('максимальная первая дата', ab_events['event_dt'].max())"
   ]
  },
  {
   "cell_type": "markdown",
   "metadata": {},
   "source": [
    "- Таблица содержит данные о 44 0317 совершивших покупки новых пользователей.\n",
    "- Дубликатов в таблице нет. \n",
    "- 377577 пропусков есть в столбце с дополнительные данными о событии. Поскольку не все события являются покупками, оставим пустые значения незаполненными.  \n",
    "- Необходимо привести тип данных в столбце event_dt к формату datetime.\n",
    "- В таблице отсутствуют данные за 5 дней: в задании оккончанием исследования указано 4 января, на деле исследование завершилось 30 декабря. Вероятно, тест был остановлен слишком рано, мы располагаем неполными данными."
   ]
  },
  {
   "cell_type": "code",
   "execution_count": 80,
   "metadata": {
    "scrolled": true
   },
   "outputs": [
    {
     "name": "stdout",
     "output_type": "stream",
     "text": [
      "Первые 5 строк датасета\n"
     ]
    },
    {
     "data": {
      "text/html": [
       "<div>\n",
       "<style scoped>\n",
       "    .dataframe tbody tr th:only-of-type {\n",
       "        vertical-align: middle;\n",
       "    }\n",
       "\n",
       "    .dataframe tbody tr th {\n",
       "        vertical-align: top;\n",
       "    }\n",
       "\n",
       "    .dataframe thead th {\n",
       "        text-align: right;\n",
       "    }\n",
       "</style>\n",
       "<table border=\"1\" class=\"dataframe\">\n",
       "  <thead>\n",
       "    <tr style=\"text-align: right;\">\n",
       "      <th></th>\n",
       "      <th>user_id</th>\n",
       "      <th>group</th>\n",
       "      <th>ab_test</th>\n",
       "    </tr>\n",
       "  </thead>\n",
       "  <tbody>\n",
       "    <tr>\n",
       "      <th>0</th>\n",
       "      <td>D1ABA3E2887B6A73</td>\n",
       "      <td>A</td>\n",
       "      <td>recommender_system_test</td>\n",
       "    </tr>\n",
       "    <tr>\n",
       "      <th>1</th>\n",
       "      <td>A7A3664BD6242119</td>\n",
       "      <td>A</td>\n",
       "      <td>recommender_system_test</td>\n",
       "    </tr>\n",
       "    <tr>\n",
       "      <th>2</th>\n",
       "      <td>DABC14FDDFADD29E</td>\n",
       "      <td>A</td>\n",
       "      <td>recommender_system_test</td>\n",
       "    </tr>\n",
       "    <tr>\n",
       "      <th>3</th>\n",
       "      <td>04988C5DF189632E</td>\n",
       "      <td>A</td>\n",
       "      <td>recommender_system_test</td>\n",
       "    </tr>\n",
       "    <tr>\n",
       "      <th>4</th>\n",
       "      <td>482F14783456D21B</td>\n",
       "      <td>B</td>\n",
       "      <td>recommender_system_test</td>\n",
       "    </tr>\n",
       "  </tbody>\n",
       "</table>\n",
       "</div>"
      ],
      "text/plain": [
       "            user_id group                  ab_test\n",
       "0  D1ABA3E2887B6A73     A  recommender_system_test\n",
       "1  A7A3664BD6242119     A  recommender_system_test\n",
       "2  DABC14FDDFADD29E     A  recommender_system_test\n",
       "3  04988C5DF189632E     A  recommender_system_test\n",
       "4  482F14783456D21B     B  recommender_system_test"
      ]
     },
     "metadata": {},
     "output_type": "display_data"
    },
    {
     "name": "stdout",
     "output_type": "stream",
     "text": [
      "Общая информация о датасете\n",
      "<class 'pandas.core.frame.DataFrame'>\n",
      "RangeIndex: 18268 entries, 0 to 18267\n",
      "Data columns (total 3 columns):\n",
      " #   Column   Non-Null Count  Dtype \n",
      "---  ------   --------------  ----- \n",
      " 0   user_id  18268 non-null  object\n",
      " 1   group    18268 non-null  object\n",
      " 2   ab_test  18268 non-null  object\n",
      "dtypes: object(3)\n",
      "memory usage: 428.3+ KB\n"
     ]
    },
    {
     "data": {
      "text/plain": [
       "None"
      ]
     },
     "metadata": {},
     "output_type": "display_data"
    },
    {
     "name": "stdout",
     "output_type": "stream",
     "text": [
      "Количество дубликатов: 0\n",
      "Количество пропусков\n",
      "user_id    0\n",
      "group      0\n",
      "ab_test    0\n",
      "dtype: int64\n",
      "Статистические данные\n"
     ]
    },
    {
     "data": {
      "text/html": [
       "<div>\n",
       "<style scoped>\n",
       "    .dataframe tbody tr th:only-of-type {\n",
       "        vertical-align: middle;\n",
       "    }\n",
       "\n",
       "    .dataframe tbody tr th {\n",
       "        vertical-align: top;\n",
       "    }\n",
       "\n",
       "    .dataframe thead th {\n",
       "        text-align: right;\n",
       "    }\n",
       "</style>\n",
       "<table border=\"1\" class=\"dataframe\">\n",
       "  <thead>\n",
       "    <tr style=\"text-align: right;\">\n",
       "      <th></th>\n",
       "      <th>user_id</th>\n",
       "      <th>group</th>\n",
       "      <th>ab_test</th>\n",
       "    </tr>\n",
       "  </thead>\n",
       "  <tbody>\n",
       "    <tr>\n",
       "      <th>count</th>\n",
       "      <td>18268</td>\n",
       "      <td>18268</td>\n",
       "      <td>18268</td>\n",
       "    </tr>\n",
       "    <tr>\n",
       "      <th>unique</th>\n",
       "      <td>16666</td>\n",
       "      <td>2</td>\n",
       "      <td>2</td>\n",
       "    </tr>\n",
       "    <tr>\n",
       "      <th>top</th>\n",
       "      <td>7FE6DDDB6C85C934</td>\n",
       "      <td>A</td>\n",
       "      <td>interface_eu_test</td>\n",
       "    </tr>\n",
       "    <tr>\n",
       "      <th>freq</th>\n",
       "      <td>2</td>\n",
       "      <td>9655</td>\n",
       "      <td>11567</td>\n",
       "    </tr>\n",
       "  </tbody>\n",
       "</table>\n",
       "</div>"
      ],
      "text/plain": [
       "                 user_id  group            ab_test\n",
       "count              18268  18268              18268\n",
       "unique             16666      2                  2\n",
       "top     7FE6DDDB6C85C934      A  interface_eu_test\n",
       "freq                   2   9655              11567"
      ]
     },
     "metadata": {},
     "output_type": "display_data"
    }
   ],
   "source": [
    "# вызовем функцию для participants\n",
    "\n",
    "df_info(participants)"
   ]
  },
  {
   "cell_type": "code",
   "execution_count": 81,
   "metadata": {},
   "outputs": [
    {
     "data": {
      "text/plain": [
       "array(['recommender_system_test', 'interface_eu_test'], dtype=object)"
      ]
     },
     "execution_count": 81,
     "metadata": {},
     "output_type": "execute_result"
    }
   ],
   "source": [
    "# проверим, какие тесты проводились\n",
    "\n",
    "participants['ab_test'].unique()"
   ]
  },
  {
   "cell_type": "markdown",
   "metadata": {},
   "source": [
    "- В таблице participants данные о 18268 участников теста. \n",
    "- Пропусков и дубликатов нет.\n",
    "- Необходимо проверить, нет ли в таблице пользователей, которые попали в обе группы теста одновременно.\n",
    "- Также нужно проверить, отсутствует ли в таблице пересечение участников в двух тестах. "
   ]
  },
  {
   "cell_type": "code",
   "execution_count": 82,
   "metadata": {},
   "outputs": [
    {
     "name": "stdout",
     "output_type": "stream",
     "text": [
      "Первые 5 строк датасета\n"
     ]
    },
    {
     "data": {
      "text/html": [
       "<div>\n",
       "<style scoped>\n",
       "    .dataframe tbody tr th:only-of-type {\n",
       "        vertical-align: middle;\n",
       "    }\n",
       "\n",
       "    .dataframe tbody tr th {\n",
       "        vertical-align: top;\n",
       "    }\n",
       "\n",
       "    .dataframe thead th {\n",
       "        text-align: right;\n",
       "    }\n",
       "</style>\n",
       "<table border=\"1\" class=\"dataframe\">\n",
       "  <thead>\n",
       "    <tr style=\"text-align: right;\">\n",
       "      <th></th>\n",
       "      <th>name</th>\n",
       "      <th>regions</th>\n",
       "      <th>start_dt</th>\n",
       "      <th>finish_dt</th>\n",
       "    </tr>\n",
       "  </thead>\n",
       "  <tbody>\n",
       "    <tr>\n",
       "      <th>0</th>\n",
       "      <td>Christmas&amp;New Year Promo</td>\n",
       "      <td>EU, N.America</td>\n",
       "      <td>2020-12-25</td>\n",
       "      <td>2021-01-03</td>\n",
       "    </tr>\n",
       "    <tr>\n",
       "      <th>1</th>\n",
       "      <td>St. Valentine's Day Giveaway</td>\n",
       "      <td>EU, CIS, APAC, N.America</td>\n",
       "      <td>2020-02-14</td>\n",
       "      <td>2020-02-16</td>\n",
       "    </tr>\n",
       "    <tr>\n",
       "      <th>2</th>\n",
       "      <td>St. Patric's Day Promo</td>\n",
       "      <td>EU, N.America</td>\n",
       "      <td>2020-03-17</td>\n",
       "      <td>2020-03-19</td>\n",
       "    </tr>\n",
       "    <tr>\n",
       "      <th>3</th>\n",
       "      <td>Easter Promo</td>\n",
       "      <td>EU, CIS, APAC, N.America</td>\n",
       "      <td>2020-04-12</td>\n",
       "      <td>2020-04-19</td>\n",
       "    </tr>\n",
       "    <tr>\n",
       "      <th>4</th>\n",
       "      <td>4th of July Promo</td>\n",
       "      <td>N.America</td>\n",
       "      <td>2020-07-04</td>\n",
       "      <td>2020-07-11</td>\n",
       "    </tr>\n",
       "  </tbody>\n",
       "</table>\n",
       "</div>"
      ],
      "text/plain": [
       "                           name                   regions    start_dt  \\\n",
       "0      Christmas&New Year Promo             EU, N.America  2020-12-25   \n",
       "1  St. Valentine's Day Giveaway  EU, CIS, APAC, N.America  2020-02-14   \n",
       "2        St. Patric's Day Promo             EU, N.America  2020-03-17   \n",
       "3                  Easter Promo  EU, CIS, APAC, N.America  2020-04-12   \n",
       "4             4th of July Promo                 N.America  2020-07-04   \n",
       "\n",
       "    finish_dt  \n",
       "0  2021-01-03  \n",
       "1  2020-02-16  \n",
       "2  2020-03-19  \n",
       "3  2020-04-19  \n",
       "4  2020-07-11  "
      ]
     },
     "metadata": {},
     "output_type": "display_data"
    },
    {
     "name": "stdout",
     "output_type": "stream",
     "text": [
      "Общая информация о датасете\n",
      "<class 'pandas.core.frame.DataFrame'>\n",
      "RangeIndex: 14 entries, 0 to 13\n",
      "Data columns (total 4 columns):\n",
      " #   Column     Non-Null Count  Dtype \n",
      "---  ------     --------------  ----- \n",
      " 0   name       14 non-null     object\n",
      " 1   regions    14 non-null     object\n",
      " 2   start_dt   14 non-null     object\n",
      " 3   finish_dt  14 non-null     object\n",
      "dtypes: object(4)\n",
      "memory usage: 576.0+ bytes\n"
     ]
    },
    {
     "data": {
      "text/plain": [
       "None"
      ]
     },
     "metadata": {},
     "output_type": "display_data"
    },
    {
     "name": "stdout",
     "output_type": "stream",
     "text": [
      "Количество дубликатов: 0\n",
      "Количество пропусков\n",
      "name         0\n",
      "regions      0\n",
      "start_dt     0\n",
      "finish_dt    0\n",
      "dtype: int64\n",
      "Статистические данные\n"
     ]
    },
    {
     "data": {
      "text/html": [
       "<div>\n",
       "<style scoped>\n",
       "    .dataframe tbody tr th:only-of-type {\n",
       "        vertical-align: middle;\n",
       "    }\n",
       "\n",
       "    .dataframe tbody tr th {\n",
       "        vertical-align: top;\n",
       "    }\n",
       "\n",
       "    .dataframe thead th {\n",
       "        text-align: right;\n",
       "    }\n",
       "</style>\n",
       "<table border=\"1\" class=\"dataframe\">\n",
       "  <thead>\n",
       "    <tr style=\"text-align: right;\">\n",
       "      <th></th>\n",
       "      <th>name</th>\n",
       "      <th>regions</th>\n",
       "      <th>start_dt</th>\n",
       "      <th>finish_dt</th>\n",
       "    </tr>\n",
       "  </thead>\n",
       "  <tbody>\n",
       "    <tr>\n",
       "      <th>count</th>\n",
       "      <td>14</td>\n",
       "      <td>14</td>\n",
       "      <td>14</td>\n",
       "      <td>14</td>\n",
       "    </tr>\n",
       "    <tr>\n",
       "      <th>unique</th>\n",
       "      <td>14</td>\n",
       "      <td>6</td>\n",
       "      <td>14</td>\n",
       "      <td>14</td>\n",
       "    </tr>\n",
       "    <tr>\n",
       "      <th>top</th>\n",
       "      <td>CIS New Year Gift Lottery</td>\n",
       "      <td>APAC</td>\n",
       "      <td>2020-10-01</td>\n",
       "      <td>2020-07-01</td>\n",
       "    </tr>\n",
       "    <tr>\n",
       "      <th>freq</th>\n",
       "      <td>1</td>\n",
       "      <td>4</td>\n",
       "      <td>1</td>\n",
       "      <td>1</td>\n",
       "    </tr>\n",
       "  </tbody>\n",
       "</table>\n",
       "</div>"
      ],
      "text/plain": [
       "                             name regions    start_dt   finish_dt\n",
       "count                          14      14          14          14\n",
       "unique                         14       6          14          14\n",
       "top     CIS New Year Gift Lottery    APAC  2020-10-01  2020-07-01\n",
       "freq                            1       4           1           1"
      ]
     },
     "metadata": {},
     "output_type": "display_data"
    }
   ],
   "source": [
    "# вызовем функцию для  marketing_events\n",
    "\n",
    "df_info(marketing_events)"
   ]
  },
  {
   "cell_type": "markdown",
   "metadata": {},
   "source": [
    "В таблице marketing_events нет пропусков и дубликатов. Необходимо привести столбцы с датами к формату datetime. "
   ]
  },
  {
   "cell_type": "markdown",
   "metadata": {},
   "source": [
    "## Предобработка данных"
   ]
  },
  {
   "cell_type": "code",
   "execution_count": 83,
   "metadata": {},
   "outputs": [],
   "source": [
    "# приведем столбцы с датами к формату datetime\n",
    "\n",
    "new_users['first_date'] = pd.to_datetime(new_users['first_date'])\n",
    "ab_events['event_dt'] = pd.to_datetime(ab_events['event_dt'])\n",
    "marketing_events['start_dt'] = pd.to_datetime(marketing_events['start_dt'])\n"
   ]
  },
  {
   "cell_type": "code",
   "execution_count": 84,
   "metadata": {
    "scrolled": true
   },
   "outputs": [
    {
     "data": {
      "text/html": [
       "<div>\n",
       "<style scoped>\n",
       "    .dataframe tbody tr th:only-of-type {\n",
       "        vertical-align: middle;\n",
       "    }\n",
       "\n",
       "    .dataframe tbody tr th {\n",
       "        vertical-align: top;\n",
       "    }\n",
       "\n",
       "    .dataframe thead th {\n",
       "        text-align: right;\n",
       "    }\n",
       "</style>\n",
       "<table border=\"1\" class=\"dataframe\">\n",
       "  <thead>\n",
       "    <tr style=\"text-align: right;\">\n",
       "      <th></th>\n",
       "      <th>user_id</th>\n",
       "      <th>group</th>\n",
       "      <th>ab_test</th>\n",
       "      <th>first_date</th>\n",
       "      <th>region</th>\n",
       "      <th>device</th>\n",
       "      <th>event_dt</th>\n",
       "      <th>event_name</th>\n",
       "      <th>details</th>\n",
       "    </tr>\n",
       "  </thead>\n",
       "  <tbody>\n",
       "    <tr>\n",
       "      <th>0</th>\n",
       "      <td>D1ABA3E2887B6A73</td>\n",
       "      <td>A</td>\n",
       "      <td>recommender_system_test</td>\n",
       "      <td>2020-12-07</td>\n",
       "      <td>EU</td>\n",
       "      <td>PC</td>\n",
       "      <td>2020-12-07 14:43:27</td>\n",
       "      <td>purchase</td>\n",
       "      <td>99.99</td>\n",
       "    </tr>\n",
       "    <tr>\n",
       "      <th>1</th>\n",
       "      <td>D1ABA3E2887B6A73</td>\n",
       "      <td>A</td>\n",
       "      <td>recommender_system_test</td>\n",
       "      <td>2020-12-07</td>\n",
       "      <td>EU</td>\n",
       "      <td>PC</td>\n",
       "      <td>2020-12-25 00:04:56</td>\n",
       "      <td>purchase</td>\n",
       "      <td>4.99</td>\n",
       "    </tr>\n",
       "    <tr>\n",
       "      <th>2</th>\n",
       "      <td>D1ABA3E2887B6A73</td>\n",
       "      <td>A</td>\n",
       "      <td>recommender_system_test</td>\n",
       "      <td>2020-12-07</td>\n",
       "      <td>EU</td>\n",
       "      <td>PC</td>\n",
       "      <td>2020-12-07 14:43:29</td>\n",
       "      <td>product_cart</td>\n",
       "      <td>NaN</td>\n",
       "    </tr>\n",
       "    <tr>\n",
       "      <th>3</th>\n",
       "      <td>D1ABA3E2887B6A73</td>\n",
       "      <td>A</td>\n",
       "      <td>recommender_system_test</td>\n",
       "      <td>2020-12-07</td>\n",
       "      <td>EU</td>\n",
       "      <td>PC</td>\n",
       "      <td>2020-12-25 00:04:57</td>\n",
       "      <td>product_cart</td>\n",
       "      <td>NaN</td>\n",
       "    </tr>\n",
       "    <tr>\n",
       "      <th>4</th>\n",
       "      <td>D1ABA3E2887B6A73</td>\n",
       "      <td>A</td>\n",
       "      <td>recommender_system_test</td>\n",
       "      <td>2020-12-07</td>\n",
       "      <td>EU</td>\n",
       "      <td>PC</td>\n",
       "      <td>2020-12-07 14:43:27</td>\n",
       "      <td>product_page</td>\n",
       "      <td>NaN</td>\n",
       "    </tr>\n",
       "  </tbody>\n",
       "</table>\n",
       "</div>"
      ],
      "text/plain": [
       "            user_id group                  ab_test first_date region device  \\\n",
       "0  D1ABA3E2887B6A73     A  recommender_system_test 2020-12-07     EU     PC   \n",
       "1  D1ABA3E2887B6A73     A  recommender_system_test 2020-12-07     EU     PC   \n",
       "2  D1ABA3E2887B6A73     A  recommender_system_test 2020-12-07     EU     PC   \n",
       "3  D1ABA3E2887B6A73     A  recommender_system_test 2020-12-07     EU     PC   \n",
       "4  D1ABA3E2887B6A73     A  recommender_system_test 2020-12-07     EU     PC   \n",
       "\n",
       "             event_dt    event_name  details  \n",
       "0 2020-12-07 14:43:27      purchase    99.99  \n",
       "1 2020-12-25 00:04:56      purchase     4.99  \n",
       "2 2020-12-07 14:43:29  product_cart      NaN  \n",
       "3 2020-12-25 00:04:57  product_cart      NaN  \n",
       "4 2020-12-07 14:43:27  product_page      NaN  "
      ]
     },
     "execution_count": 84,
     "metadata": {},
     "output_type": "execute_result"
    }
   ],
   "source": [
    "# объеденим таблицы eu_users, participants и ab_events\n",
    "\n",
    "users_participants = pd.merge(participants,new_users,on='user_id')\n",
    "users_participants_events =  pd.merge(users_participants,ab_events,on='user_id')\n",
    "users_participants_events.head()"
   ]
  },
  {
   "cell_type": "code",
   "execution_count": 87,
   "metadata": {},
   "outputs": [
    {
     "data": {
      "text/html": [
       "<div>\n",
       "<style scoped>\n",
       "    .dataframe tbody tr th:only-of-type {\n",
       "        vertical-align: middle;\n",
       "    }\n",
       "\n",
       "    .dataframe tbody tr th {\n",
       "        vertical-align: top;\n",
       "    }\n",
       "\n",
       "    .dataframe thead th {\n",
       "        text-align: right;\n",
       "    }\n",
       "</style>\n",
       "<table border=\"1\" class=\"dataframe\">\n",
       "  <thead>\n",
       "    <tr style=\"text-align: right;\">\n",
       "      <th></th>\n",
       "      <th>user_id</th>\n",
       "      <th>group</th>\n",
       "      <th>ab_test</th>\n",
       "      <th>first_date</th>\n",
       "      <th>region</th>\n",
       "      <th>device</th>\n",
       "      <th>event_dt</th>\n",
       "      <th>event_name</th>\n",
       "      <th>details</th>\n",
       "      <th>date_diff</th>\n",
       "    </tr>\n",
       "  </thead>\n",
       "  <tbody>\n",
       "    <tr>\n",
       "      <th>0</th>\n",
       "      <td>D1ABA3E2887B6A73</td>\n",
       "      <td>A</td>\n",
       "      <td>recommender_system_test</td>\n",
       "      <td>2020-12-07</td>\n",
       "      <td>EU</td>\n",
       "      <td>PC</td>\n",
       "      <td>2020-12-07 14:43:27</td>\n",
       "      <td>purchase</td>\n",
       "      <td>99.99</td>\n",
       "      <td>0</td>\n",
       "    </tr>\n",
       "    <tr>\n",
       "      <th>1</th>\n",
       "      <td>D1ABA3E2887B6A73</td>\n",
       "      <td>A</td>\n",
       "      <td>recommender_system_test</td>\n",
       "      <td>2020-12-07</td>\n",
       "      <td>EU</td>\n",
       "      <td>PC</td>\n",
       "      <td>2020-12-25 00:04:56</td>\n",
       "      <td>purchase</td>\n",
       "      <td>4.99</td>\n",
       "      <td>18</td>\n",
       "    </tr>\n",
       "    <tr>\n",
       "      <th>2</th>\n",
       "      <td>D1ABA3E2887B6A73</td>\n",
       "      <td>A</td>\n",
       "      <td>recommender_system_test</td>\n",
       "      <td>2020-12-07</td>\n",
       "      <td>EU</td>\n",
       "      <td>PC</td>\n",
       "      <td>2020-12-07 14:43:29</td>\n",
       "      <td>product_cart</td>\n",
       "      <td>NaN</td>\n",
       "      <td>0</td>\n",
       "    </tr>\n",
       "    <tr>\n",
       "      <th>3</th>\n",
       "      <td>D1ABA3E2887B6A73</td>\n",
       "      <td>A</td>\n",
       "      <td>recommender_system_test</td>\n",
       "      <td>2020-12-07</td>\n",
       "      <td>EU</td>\n",
       "      <td>PC</td>\n",
       "      <td>2020-12-25 00:04:57</td>\n",
       "      <td>product_cart</td>\n",
       "      <td>NaN</td>\n",
       "      <td>18</td>\n",
       "    </tr>\n",
       "    <tr>\n",
       "      <th>4</th>\n",
       "      <td>D1ABA3E2887B6A73</td>\n",
       "      <td>A</td>\n",
       "      <td>recommender_system_test</td>\n",
       "      <td>2020-12-07</td>\n",
       "      <td>EU</td>\n",
       "      <td>PC</td>\n",
       "      <td>2020-12-07 14:43:27</td>\n",
       "      <td>product_page</td>\n",
       "      <td>NaN</td>\n",
       "      <td>0</td>\n",
       "    </tr>\n",
       "    <tr>\n",
       "      <th>...</th>\n",
       "      <td>...</td>\n",
       "      <td>...</td>\n",
       "      <td>...</td>\n",
       "      <td>...</td>\n",
       "      <td>...</td>\n",
       "      <td>...</td>\n",
       "      <td>...</td>\n",
       "      <td>...</td>\n",
       "      <td>...</td>\n",
       "      <td>...</td>\n",
       "    </tr>\n",
       "    <tr>\n",
       "      <th>106620</th>\n",
       "      <td>63FBE257B05F2245</td>\n",
       "      <td>A</td>\n",
       "      <td>interface_eu_test</td>\n",
       "      <td>2020-12-20</td>\n",
       "      <td>EU</td>\n",
       "      <td>Android</td>\n",
       "      <td>2020-12-23 13:03:17</td>\n",
       "      <td>login</td>\n",
       "      <td>NaN</td>\n",
       "      <td>3</td>\n",
       "    </tr>\n",
       "    <tr>\n",
       "      <th>106621</th>\n",
       "      <td>79F9ABFB029CF724</td>\n",
       "      <td>B</td>\n",
       "      <td>interface_eu_test</td>\n",
       "      <td>2020-12-14</td>\n",
       "      <td>EU</td>\n",
       "      <td>PC</td>\n",
       "      <td>2020-12-14 19:12:49</td>\n",
       "      <td>login</td>\n",
       "      <td>NaN</td>\n",
       "      <td>0</td>\n",
       "    </tr>\n",
       "    <tr>\n",
       "      <th>106622</th>\n",
       "      <td>79F9ABFB029CF724</td>\n",
       "      <td>B</td>\n",
       "      <td>interface_eu_test</td>\n",
       "      <td>2020-12-14</td>\n",
       "      <td>EU</td>\n",
       "      <td>PC</td>\n",
       "      <td>2020-12-15 01:50:22</td>\n",
       "      <td>login</td>\n",
       "      <td>NaN</td>\n",
       "      <td>1</td>\n",
       "    </tr>\n",
       "    <tr>\n",
       "      <th>106623</th>\n",
       "      <td>79F9ABFB029CF724</td>\n",
       "      <td>B</td>\n",
       "      <td>interface_eu_test</td>\n",
       "      <td>2020-12-14</td>\n",
       "      <td>EU</td>\n",
       "      <td>PC</td>\n",
       "      <td>2020-12-16 19:27:36</td>\n",
       "      <td>login</td>\n",
       "      <td>NaN</td>\n",
       "      <td>2</td>\n",
       "    </tr>\n",
       "    <tr>\n",
       "      <th>106624</th>\n",
       "      <td>79F9ABFB029CF724</td>\n",
       "      <td>B</td>\n",
       "      <td>interface_eu_test</td>\n",
       "      <td>2020-12-14</td>\n",
       "      <td>EU</td>\n",
       "      <td>PC</td>\n",
       "      <td>2020-12-20 13:04:31</td>\n",
       "      <td>login</td>\n",
       "      <td>NaN</td>\n",
       "      <td>6</td>\n",
       "    </tr>\n",
       "  </tbody>\n",
       "</table>\n",
       "<p>106625 rows × 10 columns</p>\n",
       "</div>"
      ],
      "text/plain": [
       "                 user_id group                  ab_test first_date region  \\\n",
       "0       D1ABA3E2887B6A73     A  recommender_system_test 2020-12-07     EU   \n",
       "1       D1ABA3E2887B6A73     A  recommender_system_test 2020-12-07     EU   \n",
       "2       D1ABA3E2887B6A73     A  recommender_system_test 2020-12-07     EU   \n",
       "3       D1ABA3E2887B6A73     A  recommender_system_test 2020-12-07     EU   \n",
       "4       D1ABA3E2887B6A73     A  recommender_system_test 2020-12-07     EU   \n",
       "...                  ...   ...                      ...        ...    ...   \n",
       "106620  63FBE257B05F2245     A        interface_eu_test 2020-12-20     EU   \n",
       "106621  79F9ABFB029CF724     B        interface_eu_test 2020-12-14     EU   \n",
       "106622  79F9ABFB029CF724     B        interface_eu_test 2020-12-14     EU   \n",
       "106623  79F9ABFB029CF724     B        interface_eu_test 2020-12-14     EU   \n",
       "106624  79F9ABFB029CF724     B        interface_eu_test 2020-12-14     EU   \n",
       "\n",
       "         device            event_dt    event_name  details  date_diff  \n",
       "0            PC 2020-12-07 14:43:27      purchase    99.99          0  \n",
       "1            PC 2020-12-25 00:04:56      purchase     4.99         18  \n",
       "2            PC 2020-12-07 14:43:29  product_cart      NaN          0  \n",
       "3            PC 2020-12-25 00:04:57  product_cart      NaN         18  \n",
       "4            PC 2020-12-07 14:43:27  product_page      NaN          0  \n",
       "...         ...                 ...           ...      ...        ...  \n",
       "106620  Android 2020-12-23 13:03:17         login      NaN          3  \n",
       "106621       PC 2020-12-14 19:12:49         login      NaN          0  \n",
       "106622       PC 2020-12-15 01:50:22         login      NaN          1  \n",
       "106623       PC 2020-12-16 19:27:36         login      NaN          2  \n",
       "106624       PC 2020-12-20 13:04:31         login      NaN          6  \n",
       "\n",
       "[106625 rows x 10 columns]"
      ]
     },
     "execution_count": 87,
     "metadata": {},
     "output_type": "execute_result"
    }
   ],
   "source": [
    "users_participants_events['date_diff'] = (pd.to_datetime(users_participants_events.event_dt) - pd.to_datetime(users_participants_events.first_date)).dt.days\n",
    "users_participants_events"
   ]
  },
  {
   "cell_type": "code",
   "execution_count": 88,
   "metadata": {},
   "outputs": [
    {
     "data": {
      "text/html": [
       "<div>\n",
       "<style scoped>\n",
       "    .dataframe tbody tr th:only-of-type {\n",
       "        vertical-align: middle;\n",
       "    }\n",
       "\n",
       "    .dataframe tbody tr th {\n",
       "        vertical-align: top;\n",
       "    }\n",
       "\n",
       "    .dataframe thead th {\n",
       "        text-align: right;\n",
       "    }\n",
       "</style>\n",
       "<table border=\"1\" class=\"dataframe\">\n",
       "  <thead>\n",
       "    <tr style=\"text-align: right;\">\n",
       "      <th></th>\n",
       "      <th>user_id</th>\n",
       "      <th>group</th>\n",
       "      <th>ab_test</th>\n",
       "      <th>first_date</th>\n",
       "      <th>region</th>\n",
       "      <th>device</th>\n",
       "      <th>event_dt</th>\n",
       "      <th>event_name</th>\n",
       "      <th>details</th>\n",
       "      <th>date_diff</th>\n",
       "    </tr>\n",
       "  </thead>\n",
       "  <tbody>\n",
       "    <tr>\n",
       "      <th>0</th>\n",
       "      <td>D1ABA3E2887B6A73</td>\n",
       "      <td>A</td>\n",
       "      <td>recommender_system_test</td>\n",
       "      <td>2020-12-07</td>\n",
       "      <td>EU</td>\n",
       "      <td>PC</td>\n",
       "      <td>2020-12-07 14:43:27</td>\n",
       "      <td>purchase</td>\n",
       "      <td>99.99</td>\n",
       "      <td>0</td>\n",
       "    </tr>\n",
       "    <tr>\n",
       "      <th>2</th>\n",
       "      <td>D1ABA3E2887B6A73</td>\n",
       "      <td>A</td>\n",
       "      <td>recommender_system_test</td>\n",
       "      <td>2020-12-07</td>\n",
       "      <td>EU</td>\n",
       "      <td>PC</td>\n",
       "      <td>2020-12-07 14:43:29</td>\n",
       "      <td>product_cart</td>\n",
       "      <td>NaN</td>\n",
       "      <td>0</td>\n",
       "    </tr>\n",
       "    <tr>\n",
       "      <th>4</th>\n",
       "      <td>D1ABA3E2887B6A73</td>\n",
       "      <td>A</td>\n",
       "      <td>recommender_system_test</td>\n",
       "      <td>2020-12-07</td>\n",
       "      <td>EU</td>\n",
       "      <td>PC</td>\n",
       "      <td>2020-12-07 14:43:27</td>\n",
       "      <td>product_page</td>\n",
       "      <td>NaN</td>\n",
       "      <td>0</td>\n",
       "    </tr>\n",
       "    <tr>\n",
       "      <th>6</th>\n",
       "      <td>D1ABA3E2887B6A73</td>\n",
       "      <td>A</td>\n",
       "      <td>recommender_system_test</td>\n",
       "      <td>2020-12-07</td>\n",
       "      <td>EU</td>\n",
       "      <td>PC</td>\n",
       "      <td>2020-12-07 14:43:27</td>\n",
       "      <td>login</td>\n",
       "      <td>NaN</td>\n",
       "      <td>0</td>\n",
       "    </tr>\n",
       "    <tr>\n",
       "      <th>8</th>\n",
       "      <td>A7A3664BD6242119</td>\n",
       "      <td>A</td>\n",
       "      <td>recommender_system_test</td>\n",
       "      <td>2020-12-20</td>\n",
       "      <td>EU</td>\n",
       "      <td>iPhone</td>\n",
       "      <td>2020-12-20 15:46:06</td>\n",
       "      <td>product_page</td>\n",
       "      <td>NaN</td>\n",
       "      <td>0</td>\n",
       "    </tr>\n",
       "    <tr>\n",
       "      <th>...</th>\n",
       "      <td>...</td>\n",
       "      <td>...</td>\n",
       "      <td>...</td>\n",
       "      <td>...</td>\n",
       "      <td>...</td>\n",
       "      <td>...</td>\n",
       "      <td>...</td>\n",
       "      <td>...</td>\n",
       "      <td>...</td>\n",
       "      <td>...</td>\n",
       "    </tr>\n",
       "    <tr>\n",
       "      <th>106620</th>\n",
       "      <td>63FBE257B05F2245</td>\n",
       "      <td>A</td>\n",
       "      <td>interface_eu_test</td>\n",
       "      <td>2020-12-20</td>\n",
       "      <td>EU</td>\n",
       "      <td>Android</td>\n",
       "      <td>2020-12-23 13:03:17</td>\n",
       "      <td>login</td>\n",
       "      <td>NaN</td>\n",
       "      <td>3</td>\n",
       "    </tr>\n",
       "    <tr>\n",
       "      <th>106621</th>\n",
       "      <td>79F9ABFB029CF724</td>\n",
       "      <td>B</td>\n",
       "      <td>interface_eu_test</td>\n",
       "      <td>2020-12-14</td>\n",
       "      <td>EU</td>\n",
       "      <td>PC</td>\n",
       "      <td>2020-12-14 19:12:49</td>\n",
       "      <td>login</td>\n",
       "      <td>NaN</td>\n",
       "      <td>0</td>\n",
       "    </tr>\n",
       "    <tr>\n",
       "      <th>106622</th>\n",
       "      <td>79F9ABFB029CF724</td>\n",
       "      <td>B</td>\n",
       "      <td>interface_eu_test</td>\n",
       "      <td>2020-12-14</td>\n",
       "      <td>EU</td>\n",
       "      <td>PC</td>\n",
       "      <td>2020-12-15 01:50:22</td>\n",
       "      <td>login</td>\n",
       "      <td>NaN</td>\n",
       "      <td>1</td>\n",
       "    </tr>\n",
       "    <tr>\n",
       "      <th>106623</th>\n",
       "      <td>79F9ABFB029CF724</td>\n",
       "      <td>B</td>\n",
       "      <td>interface_eu_test</td>\n",
       "      <td>2020-12-14</td>\n",
       "      <td>EU</td>\n",
       "      <td>PC</td>\n",
       "      <td>2020-12-16 19:27:36</td>\n",
       "      <td>login</td>\n",
       "      <td>NaN</td>\n",
       "      <td>2</td>\n",
       "    </tr>\n",
       "    <tr>\n",
       "      <th>106624</th>\n",
       "      <td>79F9ABFB029CF724</td>\n",
       "      <td>B</td>\n",
       "      <td>interface_eu_test</td>\n",
       "      <td>2020-12-14</td>\n",
       "      <td>EU</td>\n",
       "      <td>PC</td>\n",
       "      <td>2020-12-20 13:04:31</td>\n",
       "      <td>login</td>\n",
       "      <td>NaN</td>\n",
       "      <td>6</td>\n",
       "    </tr>\n",
       "  </tbody>\n",
       "</table>\n",
       "<p>103154 rows × 10 columns</p>\n",
       "</div>"
      ],
      "text/plain": [
       "                 user_id group                  ab_test first_date region  \\\n",
       "0       D1ABA3E2887B6A73     A  recommender_system_test 2020-12-07     EU   \n",
       "2       D1ABA3E2887B6A73     A  recommender_system_test 2020-12-07     EU   \n",
       "4       D1ABA3E2887B6A73     A  recommender_system_test 2020-12-07     EU   \n",
       "6       D1ABA3E2887B6A73     A  recommender_system_test 2020-12-07     EU   \n",
       "8       A7A3664BD6242119     A  recommender_system_test 2020-12-20     EU   \n",
       "...                  ...   ...                      ...        ...    ...   \n",
       "106620  63FBE257B05F2245     A        interface_eu_test 2020-12-20     EU   \n",
       "106621  79F9ABFB029CF724     B        interface_eu_test 2020-12-14     EU   \n",
       "106622  79F9ABFB029CF724     B        interface_eu_test 2020-12-14     EU   \n",
       "106623  79F9ABFB029CF724     B        interface_eu_test 2020-12-14     EU   \n",
       "106624  79F9ABFB029CF724     B        interface_eu_test 2020-12-14     EU   \n",
       "\n",
       "         device            event_dt    event_name  details  date_diff  \n",
       "0            PC 2020-12-07 14:43:27      purchase    99.99          0  \n",
       "2            PC 2020-12-07 14:43:29  product_cart      NaN          0  \n",
       "4            PC 2020-12-07 14:43:27  product_page      NaN          0  \n",
       "6            PC 2020-12-07 14:43:27         login      NaN          0  \n",
       "8        iPhone 2020-12-20 15:46:06  product_page      NaN          0  \n",
       "...         ...                 ...           ...      ...        ...  \n",
       "106620  Android 2020-12-23 13:03:17         login      NaN          3  \n",
       "106621       PC 2020-12-14 19:12:49         login      NaN          0  \n",
       "106622       PC 2020-12-15 01:50:22         login      NaN          1  \n",
       "106623       PC 2020-12-16 19:27:36         login      NaN          2  \n",
       "106624       PC 2020-12-20 13:04:31         login      NaN          6  \n",
       "\n",
       "[103154 rows x 10 columns]"
      ]
     },
     "execution_count": 88,
     "metadata": {},
     "output_type": "execute_result"
    }
   ],
   "source": [
    "# удалим события старше 14 дней \n",
    "\n",
    "users_participants_events = users_participants_events[users_participants_events['date_diff']<=14]\n",
    "users_participants_events"
   ]
  },
  {
   "cell_type": "code",
   "execution_count": 89,
   "metadata": {},
   "outputs": [],
   "source": [
    "# отфильтруем данные таблицы до 21 декабря\n",
    "\n",
    "users_participants_events = users_participants_events[users_participants_events['first_date'] <= '2020-12-21']"
   ]
  },
  {
   "cell_type": "code",
   "execution_count": 90,
   "metadata": {},
   "outputs": [],
   "source": [
    "# отфильтруем данные таблицы по региону\n",
    "\n",
    "users_participants_events = users_participants_events[users_participants_events['region'] == 'EU']"
   ]
  },
  {
   "cell_type": "code",
   "execution_count": 91,
   "metadata": {},
   "outputs": [
    {
     "data": {
      "text/plain": [
       "887"
      ]
     },
     "execution_count": 91,
     "metadata": {},
     "output_type": "execute_result"
    }
   ],
   "source": [
    "# проверим принадлежность пользователей к участию в обоих тестах\n",
    "\n",
    "len(np.intersect1d(users_participants_events.query('ab_test == \"recommender_system_test\"')['user_id'].unique(), users_participants_events.query('ab_test == \"interface_eu_test\"')['user_id'].unique()))"
   ]
  },
  {
   "cell_type": "markdown",
   "metadata": {},
   "source": [
    "887 человек попали сразу в два теста. Чтобы дальнейшее исследование было корректным, удалим этих пользователей."
   ]
  },
  {
   "cell_type": "code",
   "execution_count": 92,
   "metadata": {},
   "outputs": [],
   "source": [
    "# посмотрим на id тех, кто попал в обе группы\n",
    "\n",
    "list_id = np.intersect1d(users_participants_events.query('ab_test == \"recommender_system_test\"')['user_id'].unique(), users_participants_events.query('ab_test == \"interface_eu_test\"')['user_id'].unique())"
   ]
  },
  {
   "cell_type": "code",
   "execution_count": 93,
   "metadata": {},
   "outputs": [],
   "source": [
    "# переведем массив в список\n",
    "\n",
    "list_id = list_id.tolist()"
   ]
  },
  {
   "cell_type": "code",
   "execution_count": 94,
   "metadata": {},
   "outputs": [],
   "source": [
    "# удалим пользователей из обеих групп \n",
    "\n",
    "users_participants_events = users_participants_events[~users_participants_events.user_id.isin(list_id)]"
   ]
  },
  {
   "cell_type": "code",
   "execution_count": 95,
   "metadata": {},
   "outputs": [
    {
     "data": {
      "text/plain": [
       "0"
      ]
     },
     "execution_count": 95,
     "metadata": {},
     "output_type": "execute_result"
    }
   ],
   "source": [
    "# проверим результат вычислений \n",
    "\n",
    "len(np.intersect1d(users_participants_events.query('ab_test == \"recommender_system_test\"')['user_id'].unique(), users_participants_events.query('ab_test == \"interface_eu_test\"')['user_id'].unique()))"
   ]
  },
  {
   "cell_type": "markdown",
   "metadata": {},
   "source": [
    "Мы удалили пользователей, которые были сразу в обоих тестах. Теперь оставим только пользователей recommender_system_test."
   ]
  },
  {
   "cell_type": "code",
   "execution_count": 96,
   "metadata": {
    "scrolled": true
   },
   "outputs": [],
   "source": [
    "# отфильтруем данные по тесту recommender_system_test\n",
    "\n",
    "users_participants_events = users_participants_events[users_participants_events['ab_test'] == 'recommender_system_test']"
   ]
  },
  {
   "cell_type": "code",
   "execution_count": 97,
   "metadata": {},
   "outputs": [
    {
     "data": {
      "text/plain": [
       "0"
      ]
     },
     "execution_count": 97,
     "metadata": {},
     "output_type": "execute_result"
    }
   ],
   "source": [
    "# проверим количество пользователей, участвующих в двух группах теста одновременно\n",
    "\n",
    "len(np.intersect1d(users_participants_events.query('group == \"A\"')['user_id'].unique(), users_participants_events.query('group == \"B\"')['user_id'].unique()))"
   ]
  },
  {
   "cell_type": "markdown",
   "metadata": {},
   "source": [
    "Между группами А и В нет пересечения пользователей. Проверим количество участников в каждом тесте. "
   ]
  },
  {
   "cell_type": "code",
   "execution_count": 98,
   "metadata": {},
   "outputs": [
    {
     "data": {
      "text/plain": [
       "group\n",
       "A    1939\n",
       "B     655\n",
       "Name: user_id, dtype: int64"
      ]
     },
     "execution_count": 98,
     "metadata": {},
     "output_type": "execute_result"
    }
   ],
   "source": [
    "# посчитаем количество пользователей в каждой группе \n",
    "\n",
    "users_participants_events.groupby('group')['user_id'].nunique()"
   ]
  },
  {
   "cell_type": "markdown",
   "metadata": {},
   "source": [
    "Пользователи распределены между группами неравномерно. В группе А почти в 3 раза больше пользователей, чем в группе B.\n"
   ]
  },
  {
   "cell_type": "code",
   "execution_count": 99,
   "metadata": {},
   "outputs": [
    {
     "name": "stdout",
     "output_type": "stream",
     "text": [
      "Дата начала: 2020-01-25 00:00:00\n",
      "Дата окончания: 2021-01-07\n"
     ]
    }
   ],
   "source": [
    "# посмотрим дату начала и окончания маркетинговых мероприятий\n",
    "\n",
    "print('Дата начала:', marketing_events['start_dt'].min())\n",
    "print('Дата окончания:', marketing_events['finish_dt'].max())"
   ]
  },
  {
   "cell_type": "markdown",
   "metadata": {},
   "source": [
    "Маркетинговые мероприятия проводились с 25.01.2020 по 07.01.2021. Мы получили данные, что тест проводился с 07.12.2020 по 30.12.2020. Проверим, какие маркетинговые мероприятия проходили в период проведения AB-теста.\n",
    "\n",
    "\n",
    "\n"
   ]
  },
  {
   "cell_type": "code",
   "execution_count": 100,
   "metadata": {},
   "outputs": [
    {
     "data": {
      "text/html": [
       "<div>\n",
       "<style scoped>\n",
       "    .dataframe tbody tr th:only-of-type {\n",
       "        vertical-align: middle;\n",
       "    }\n",
       "\n",
       "    .dataframe tbody tr th {\n",
       "        vertical-align: top;\n",
       "    }\n",
       "\n",
       "    .dataframe thead th {\n",
       "        text-align: right;\n",
       "    }\n",
       "</style>\n",
       "<table border=\"1\" class=\"dataframe\">\n",
       "  <thead>\n",
       "    <tr style=\"text-align: right;\">\n",
       "      <th></th>\n",
       "      <th>name</th>\n",
       "      <th>regions</th>\n",
       "      <th>start_dt</th>\n",
       "      <th>finish_dt</th>\n",
       "    </tr>\n",
       "  </thead>\n",
       "  <tbody>\n",
       "    <tr>\n",
       "      <th>0</th>\n",
       "      <td>Christmas&amp;New Year Promo</td>\n",
       "      <td>EU, N.America</td>\n",
       "      <td>2020-12-25</td>\n",
       "      <td>2021-01-03</td>\n",
       "    </tr>\n",
       "    <tr>\n",
       "      <th>10</th>\n",
       "      <td>CIS New Year Gift Lottery</td>\n",
       "      <td>CIS</td>\n",
       "      <td>2020-12-30</td>\n",
       "      <td>2021-01-07</td>\n",
       "    </tr>\n",
       "  </tbody>\n",
       "</table>\n",
       "</div>"
      ],
      "text/plain": [
       "                         name        regions   start_dt   finish_dt\n",
       "0    Christmas&New Year Promo  EU, N.America 2020-12-25  2021-01-03\n",
       "10  CIS New Year Gift Lottery            CIS 2020-12-30  2021-01-07"
      ]
     },
     "execution_count": 100,
     "metadata": {},
     "output_type": "execute_result"
    }
   ],
   "source": [
    "# проверим, какие маркетинговые мероприятия проходили в период проведения AB-теста\n",
    "\n",
    "marketing_events[(marketing_events['start_dt'] >= '2020-12-07 00:00:33') & (marketing_events['start_dt'] <= '2020-12-30 23:36:33')]"
   ]
  },
  {
   "cell_type": "markdown",
   "metadata": {},
   "source": [
    "В период тестирования проходило 2 маркетинговых события, но в европейском регионе одно - Christmas&New Year Promo. Оно проходило с 25 декабаря по 3 января 2020 года. Мы отфильтруем данные с 25 по 30 декабаря, чтобы выводы были корректными."
   ]
  },
  {
   "cell_type": "code",
   "execution_count": 101,
   "metadata": {},
   "outputs": [],
   "source": [
    "# отфильтруем данные до начала маркетингового события \n",
    "\n",
    "users_participants_events = users_participants_events[users_participants_events['event_dt']< '2020-12-25']"
   ]
  },
  {
   "cell_type": "code",
   "execution_count": 102,
   "metadata": {},
   "outputs": [
    {
     "data": {
      "text/plain": [
       "2594"
      ]
     },
     "execution_count": 102,
     "metadata": {},
     "output_type": "execute_result"
    }
   ],
   "source": [
    "# посчитаем итоговое количество пользователей \n",
    "\n",
    "users_participants_events['user_id'].nunique()"
   ]
  },
  {
   "cell_type": "code",
   "execution_count": 103,
   "metadata": {
    "scrolled": true
   },
   "outputs": [
    {
     "data": {
      "text/plain": [
       "region\n",
       "EU    2594\n",
       "Name: user_id, dtype: int64"
      ]
     },
     "execution_count": 103,
     "metadata": {},
     "output_type": "execute_result"
    }
   ],
   "source": [
    "# посчитаем количество участников из EU в тесте \n",
    "\n",
    "users_participants_events.groupby('region')['user_id'].nunique()"
   ]
  },
  {
   "cell_type": "code",
   "execution_count": 104,
   "metadata": {},
   "outputs": [
    {
     "data": {
      "text/plain": [
       "46270"
      ]
     },
     "execution_count": 104,
     "metadata": {},
     "output_type": "execute_result"
    }
   ],
   "source": [
    "# посчитаем общее количество участников из EU\n",
    "\n",
    "new_users.query('region == \"EU\"')['user_id'].nunique()"
   ]
  },
  {
   "cell_type": "code",
   "execution_count": 105,
   "metadata": {
    "scrolled": true
   },
   "outputs": [
    {
     "data": {
      "text/plain": [
       "0.0560622433542252"
      ]
     },
     "execution_count": 105,
     "metadata": {},
     "output_type": "execute_result"
    }
   ],
   "source": [
    "# посчитаем долю участников из EU в тесте \n",
    "\n",
    "2594/46270"
   ]
  },
  {
   "cell_type": "markdown",
   "metadata": {},
   "source": [
    "Доля участников теста из европейского региона составляет 5.6% от общего количества европейских пользователей. Ожидаемым количеством были 15%.  "
   ]
  },
  {
   "cell_type": "markdown",
   "metadata": {},
   "source": [
    "Ожидаемым количеством участников теста должны были стать 6000 пользователей. В результате фильтрации по интересующему нас европейскому региону, отсечения пользователей из конкурирующего теста и пользователй, попавших в два тестирования одновременно, а также пересекающейся с маркетинговым мероприятием дате, мы получили 2594 участников. Обнаружили также, что количество пользователей в двух группах теста распределено неравномерно: 1939 в группе А и 655 в группе В. Такие данные могут привести к некорректным результатам теста. "
   ]
  },
  {
   "cell_type": "markdown",
   "metadata": {},
   "source": [
    "##  Исследовательский анализ данных"
   ]
  },
  {
   "cell_type": "markdown",
   "metadata": {},
   "source": [
    "### Распределение количества событий на пользователя в выборках"
   ]
  },
  {
   "cell_type": "code",
   "execution_count": 106,
   "metadata": {},
   "outputs": [
    {
     "data": {
      "text/plain": [
       "login           6806\n",
       "product_page    4222\n",
       "product_cart    2047\n",
       "purchase        2007\n",
       "Name: event_name, dtype: int64"
      ]
     },
     "execution_count": 106,
     "metadata": {},
     "output_type": "execute_result"
    }
   ],
   "source": [
    "# посмотрим, какие события может совершить пользователей \n",
    "\n",
    "users_participants_events['event_name'].value_counts()"
   ]
  },
  {
   "cell_type": "code",
   "execution_count": 107,
   "metadata": {},
   "outputs": [
    {
     "data": {
      "text/plain": [
       "6.0"
      ]
     },
     "execution_count": 107,
     "metadata": {},
     "output_type": "execute_result"
    }
   ],
   "source": [
    "# посчитаем среднее количество совершаемых пользователем событий \n",
    "\n",
    "users_participants_events.groupby('user_id')['event_name'].count().mean().round()"
   ]
  },
  {
   "cell_type": "markdown",
   "metadata": {},
   "source": [
    "В среднем 1 пользователь совершает 6 событий"
   ]
  },
  {
   "cell_type": "code",
   "execution_count": 108,
   "metadata": {},
   "outputs": [
    {
     "data": {
      "text/plain": [
       "6.0"
      ]
     },
     "execution_count": 108,
     "metadata": {},
     "output_type": "execute_result"
    }
   ],
   "source": [
    "# посчитаем среднее количество совершаемых пользователем из группы А событий \n",
    "\n",
    "group_A = users_participants_events[users_participants_events['group'] == 'A']\n",
    "group_A.groupby('user_id')['event_name'].count().mean().round()"
   ]
  },
  {
   "cell_type": "code",
   "execution_count": 109,
   "metadata": {},
   "outputs": [
    {
     "data": {
      "text/plain": [
       "5.0"
      ]
     },
     "execution_count": 109,
     "metadata": {},
     "output_type": "execute_result"
    }
   ],
   "source": [
    "# посчитаем среднее количество совершаемых пользователем из группы B событий \n",
    "\n",
    "group_B = users_participants_events[users_participants_events['group'] == 'B']\n",
    "group_B.groupby('user_id')['event_name'].count().mean().round()"
   ]
  },
  {
   "cell_type": "markdown",
   "metadata": {},
   "source": [
    "В среднем пользователь из группы А совершает 6 событий, из группы В - 5. Всего пользователь может совершить такие события: регистрация, просмотр страницы с товаром, просмотр корзины, покупка. "
   ]
  },
  {
   "cell_type": "markdown",
   "metadata": {},
   "source": [
    "### Распределение числа событий в выборках  по дням"
   ]
  },
  {
   "cell_type": "code",
   "execution_count": 110,
   "metadata": {},
   "outputs": [],
   "source": [
    "# выделим дату из столбца event_dt\n",
    "\n",
    "users_participants_events['event_dt'] = users_participants_events['event_dt'].dt.date\n",
    "users_participants_events['event_dt'] = pd.to_datetime(users_participants_events['event_dt'])"
   ]
  },
  {
   "cell_type": "code",
   "execution_count": 111,
   "metadata": {},
   "outputs": [],
   "source": [
    "# создадим таблицу с пользователями и днями событий\n",
    "\n",
    "event_date = users_participants_events.groupby(['event_dt', 'group'])['user_id'].count().reset_index()"
   ]
  },
  {
   "cell_type": "code",
   "execution_count": 112,
   "metadata": {},
   "outputs": [
    {
     "data": {
      "image/png": "[encoded data removed]",
      "text/plain": [
       "<Figure size 1800x576 with 1 Axes>"
      ]
     },
     "metadata": {
      "needs_background": "light"
     },
     "output_type": "display_data"
    }
   ],
   "source": [
    "# построим график распределения числа событий \n",
    "\n",
    "event_date.index = event_date['event_dt']\n",
    "plt.figure(figsize = (25, 8))\n",
    "plt.grid(True)\n",
    "plt.title(' Распределение числа событий в выборках по дням')\n",
    "sns.barplot(data = event_date, x = event_date.index.strftime('%d.%m.%Y'), y = 'user_id', hue = 'group')\n",
    "plt.ylabel('Количество событий')\n",
    "plt.xlabel('Дата')\n",
    "plt.xticks(rotation = 45)\n",
    "plt.show()"
   ]
  },
  {
   "cell_type": "markdown",
   "metadata": {},
   "source": [
    "На 8 день проведения теста происходит резкое увеличение числа событий. Вероятно, это можно объяснить сезонностью: пользователи совершают больше покупок в преддверии Рождества, потому что после 24 декабря количество событий уменьшается.  "
   ]
  },
  {
   "cell_type": "markdown",
   "metadata": {},
   "source": [
    "### Конверсия в воронке в выборках на разных этапах"
   ]
  },
  {
   "cell_type": "code",
   "execution_count": 113,
   "metadata": {},
   "outputs": [
    {
     "data": {
      "application/vnd.plotly.v1+json": {
       "config": {
        "plotlyServerURL": "https://plot.ly"
       },
       "data": [
        {
         "type": "funnel",
         "x": [
          1939,
          1256,
          589,
          613
         ],
         "y": [
          "Login",
          "Product_page",
          "Product_cart",
          "Purchase"
         ]
        }
       ],
       "layout": {
        "template": {
         "data": {
          "bar": [
           {
            "error_x": {
             "color": "#2a3f5f"
            },
            "error_y": {
             "color": "#2a3f5f"
            },
            "marker": {
             "line": {
              "color": "#E5ECF6",
              "width": 0.5
             },
             "pattern": {
              "fillmode": "overlay",
              "size": 10,
              "solidity": 0.2
             }
            },
            "type": "bar"
           }
          ],
          "barpolar": [
           {
            "marker": {
             "line": {
              "color": "#E5ECF6",
              "width": 0.5
             },
             "pattern": {
              "fillmode": "overlay",
              "size": 10,
              "solidity": 0.2
             }
            },
            "type": "barpolar"
           }
          ],
          "carpet": [
           {
            "aaxis": {
             "endlinecolor": "#2a3f5f",
             "gridcolor": "white",
             "linecolor": "white",
             "minorgridcolor": "white",
             "startlinecolor": "#2a3f5f"
            },
            "baxis": {
             "endlinecolor": "#2a3f5f",
             "gridcolor": "white",
             "linecolor": "white",
             "minorgridcolor": "white",
             "startlinecolor": "#2a3f5f"
            },
            "type": "carpet"
           }
          ],
          "choropleth": [
           {
            "colorbar": {
             "outlinewidth": 0,
             "ticks": ""
            },
            "type": "choropleth"
           }
          ],
          "contour": [
           {
            "colorbar": {
             "outlinewidth": 0,
             "ticks": ""
            },
            "colorscale": [
             [
              0,
              "#0d0887"
             ],
             [
              0.1111111111111111,
              "#46039f"
             ],
             [
              0.2222222222222222,
              "#7201a8"
             ],
             [
              0.3333333333333333,
              "#9c179e"
             ],
             [
              0.4444444444444444,
              "#bd3786"
             ],
             [
              0.5555555555555556,
              "#d8576b"
             ],
             [
              0.6666666666666666,
              "#ed7953"
             ],
             [
              0.7777777777777778,
              "#fb9f3a"
             ],
             [
              0.8888888888888888,
              "#fdca26"
             ],
             [
              1,
              "#f0f921"
             ]
            ],
            "type": "contour"
           }
          ],
          "contourcarpet": [
           {
            "colorbar": {
             "outlinewidth": 0,
             "ticks": ""
            },
            "type": "contourcarpet"
           }
          ],
          "heatmap": [
           {
            "colorbar": {
             "outlinewidth": 0,
             "ticks": ""
            },
            "colorscale": [
             [
              0,
              "#0d0887"
             ],
             [
              0.1111111111111111,
              "#46039f"
             ],
             [
              0.2222222222222222,
              "#7201a8"
             ],
             [
              0.3333333333333333,
              "#9c179e"
             ],
             [
              0.4444444444444444,
              "#bd3786"
             ],
             [
              0.5555555555555556,
              "#d8576b"
             ],
             [
              0.6666666666666666,
              "#ed7953"
             ],
             [
              0.7777777777777778,
              "#fb9f3a"
             ],
             [
              0.8888888888888888,
              "#fdca26"
             ],
             [
              1,
              "#f0f921"
             ]
            ],
            "type": "heatmap"
           }
          ],
          "heatmapgl": [
           {
            "colorbar": {
             "outlinewidth": 0,
             "ticks": ""
            },
            "colorscale": [
             [
              0,
              "#0d0887"
             ],
             [
              0.1111111111111111,
              "#46039f"
             ],
             [
              0.2222222222222222,
              "#7201a8"
             ],
             [
              0.3333333333333333,
              "#9c179e"
             ],
             [
              0.4444444444444444,
              "#bd3786"
             ],
             [
              0.5555555555555556,
              "#d8576b"
             ],
             [
              0.6666666666666666,
              "#ed7953"
             ],
             [
              0.7777777777777778,
              "#fb9f3a"
             ],
             [
              0.8888888888888888,
              "#fdca26"
             ],
             [
              1,
              "#f0f921"
             ]
            ],
            "type": "heatmapgl"
           }
          ],
          "histogram": [
           {
            "marker": {
             "pattern": {
              "fillmode": "overlay",
              "size": 10,
              "solidity": 0.2
             }
            },
            "type": "histogram"
           }
          ],
          "histogram2d": [
           {
            "colorbar": {
             "outlinewidth": 0,
             "ticks": ""
            },
            "colorscale": [
             [
              0,
              "#0d0887"
             ],
             [
              0.1111111111111111,
              "#46039f"
             ],
             [
              0.2222222222222222,
              "#7201a8"
             ],
             [
              0.3333333333333333,
              "#9c179e"
             ],
             [
              0.4444444444444444,
              "#bd3786"
             ],
             [
              0.5555555555555556,
              "#d8576b"
             ],
             [
              0.6666666666666666,
              "#ed7953"
             ],
             [
              0.7777777777777778,
              "#fb9f3a"
             ],
             [
              0.8888888888888888,
              "#fdca26"
             ],
             [
              1,
              "#f0f921"
             ]
            ],
            "type": "histogram2d"
           }
          ],
          "histogram2dcontour": [
           {
            "colorbar": {
             "outlinewidth": 0,
             "ticks": ""
            },
            "colorscale": [
             [
              0,
              "#0d0887"
             ],
             [
              0.1111111111111111,
              "#46039f"
             ],
             [
              0.2222222222222222,
              "#7201a8"
             ],
             [
              0.3333333333333333,
              "#9c179e"
             ],
             [
              0.4444444444444444,
              "#bd3786"
             ],
             [
              0.5555555555555556,
              "#d8576b"
             ],
             [
              0.6666666666666666,
              "#ed7953"
             ],
             [
              0.7777777777777778,
              "#fb9f3a"
             ],
             [
              0.8888888888888888,
              "#fdca26"
             ],
             [
              1,
              "#f0f921"
             ]
            ],
            "type": "histogram2dcontour"
           }
          ],
          "mesh3d": [
           {
            "colorbar": {
             "outlinewidth": 0,
             "ticks": ""
            },
            "type": "mesh3d"
           }
          ],
          "parcoords": [
           {
            "line": {
             "colorbar": {
              "outlinewidth": 0,
              "ticks": ""
             }
            },
            "type": "parcoords"
           }
          ],
          "pie": [
           {
            "automargin": true,
            "type": "pie"
           }
          ],
          "scatter": [
           {
            "marker": {
             "colorbar": {
              "outlinewidth": 0,
              "ticks": ""
             }
            },
            "type": "scatter"
           }
          ],
          "scatter3d": [
           {
            "line": {
             "colorbar": {
              "outlinewidth": 0,
              "ticks": ""
             }
            },
            "marker": {
             "colorbar": {
              "outlinewidth": 0,
              "ticks": ""
             }
            },
            "type": "scatter3d"
           }
          ],
          "scattercarpet": [
           {
            "marker": {
             "colorbar": {
              "outlinewidth": 0,
              "ticks": ""
             }
            },
            "type": "scattercarpet"
           }
          ],
          "scattergeo": [
           {
            "marker": {
             "colorbar": {
              "outlinewidth": 0,
              "ticks": ""
             }
            },
            "type": "scattergeo"
           }
          ],
          "scattergl": [
           {
            "marker": {
             "colorbar": {
              "outlinewidth": 0,
              "ticks": ""
             }
            },
            "type": "scattergl"
           }
          ],
          "scattermapbox": [
           {
            "marker": {
             "colorbar": {
              "outlinewidth": 0,
              "ticks": ""
             }
            },
            "type": "scattermapbox"
           }
          ],
          "scatterpolar": [
           {
            "marker": {
             "colorbar": {
              "outlinewidth": 0,
              "ticks": ""
             }
            },
            "type": "scatterpolar"
           }
          ],
          "scatterpolargl": [
           {
            "marker": {
             "colorbar": {
              "outlinewidth": 0,
              "ticks": ""
             }
            },
            "type": "scatterpolargl"
           }
          ],
          "scatterternary": [
           {
            "marker": {
             "colorbar": {
              "outlinewidth": 0,
              "ticks": ""
             }
            },
            "type": "scatterternary"
           }
          ],
          "surface": [
           {
            "colorbar": {
             "outlinewidth": 0,
             "ticks": ""
            },
            "colorscale": [
             [
              0,
              "#0d0887"
             ],
             [
              0.1111111111111111,
              "#46039f"
             ],
             [
              0.2222222222222222,
              "#7201a8"
             ],
             [
              0.3333333333333333,
              "#9c179e"
             ],
             [
              0.4444444444444444,
              "#bd3786"
             ],
             [
              0.5555555555555556,
              "#d8576b"
             ],
             [
              0.6666666666666666,
              "#ed7953"
             ],
             [
              0.7777777777777778,
              "#fb9f3a"
             ],
             [
              0.8888888888888888,
              "#fdca26"
             ],
             [
              1,
              "#f0f921"
             ]
            ],
            "type": "surface"
           }
          ],
          "table": [
           {
            "cells": {
             "fill": {
              "color": "#EBF0F8"
             },
             "line": {
              "color": "white"
             }
            },
            "header": {
             "fill": {
              "color": "#C8D4E3"
             },
             "line": {
              "color": "white"
             }
            },
            "type": "table"
           }
          ]
         },
         "layout": {
          "annotationdefaults": {
           "arrowcolor": "#2a3f5f",
           "arrowhead": 0,
           "arrowwidth": 1
          },
          "autotypenumbers": "strict",
          "coloraxis": {
           "colorbar": {
            "outlinewidth": 0,
            "ticks": ""
           }
          },
          "colorscale": {
           "diverging": [
            [
             0,
             "#8e0152"
            ],
            [
             0.1,
             "#c51b7d"
            ],
            [
             0.2,
             "#de77ae"
            ],
            [
             0.3,
             "#f1b6da"
            ],
            [
             0.4,
             "#fde0ef"
            ],
            [
             0.5,
             "#f7f7f7"
            ],
            [
             0.6,
             "#e6f5d0"
            ],
            [
             0.7,
             "#b8e186"
            ],
            [
             0.8,
             "#7fbc41"
            ],
            [
             0.9,
             "#4d9221"
            ],
            [
             1,
             "#276419"
            ]
           ],
           "sequential": [
            [
             0,
             "#0d0887"
            ],
            [
             0.1111111111111111,
             "#46039f"
            ],
            [
             0.2222222222222222,
             "#7201a8"
            ],
            [
             0.3333333333333333,
             "#9c179e"
            ],
            [
             0.4444444444444444,
             "#bd3786"
            ],
            [
             0.5555555555555556,
             "#d8576b"
            ],
            [
             0.6666666666666666,
             "#ed7953"
            ],
            [
             0.7777777777777778,
             "#fb9f3a"
            ],
            [
             0.8888888888888888,
             "#fdca26"
            ],
            [
             1,
             "#f0f921"
            ]
           ],
           "sequentialminus": [
            [
             0,
             "#0d0887"
            ],
            [
             0.1111111111111111,
             "#46039f"
            ],
            [
             0.2222222222222222,
             "#7201a8"
            ],
            [
             0.3333333333333333,
             "#9c179e"
            ],
            [
             0.4444444444444444,
             "#bd3786"
            ],
            [
             0.5555555555555556,
             "#d8576b"
            ],
            [
             0.6666666666666666,
             "#ed7953"
            ],
            [
             0.7777777777777778,
             "#fb9f3a"
            ],
            [
             0.8888888888888888,
             "#fdca26"
            ],
            [
             1,
             "#f0f921"
            ]
           ]
          },
          "colorway": [
           "#636efa",
           "#EF553B",
           "#00cc96",
           "#ab63fa",
           "#FFA15A",
           "#19d3f3",
           "#FF6692",
           "#B6E880",
           "#FF97FF",
           "#FECB52"
          ],
          "font": {
           "color": "#2a3f5f"
          },
          "geo": {
           "bgcolor": "white",
           "lakecolor": "white",
           "landcolor": "#E5ECF6",
           "showlakes": true,
           "showland": true,
           "subunitcolor": "white"
          },
          "hoverlabel": {
           "align": "left"
          },
          "hovermode": "closest",
          "mapbox": {
           "style": "light"
          },
          "paper_bgcolor": "white",
          "plot_bgcolor": "#E5ECF6",
          "polar": {
           "angularaxis": {
            "gridcolor": "white",
            "linecolor": "white",
            "ticks": ""
           },
           "bgcolor": "#E5ECF6",
           "radialaxis": {
            "gridcolor": "white",
            "linecolor": "white",
            "ticks": ""
           }
          },
          "scene": {
           "xaxis": {
            "backgroundcolor": "#E5ECF6",
            "gridcolor": "white",
            "gridwidth": 2,
            "linecolor": "white",
            "showbackground": true,
            "ticks": "",
            "zerolinecolor": "white"
           },
           "yaxis": {
            "backgroundcolor": "#E5ECF6",
            "gridcolor": "white",
            "gridwidth": 2,
            "linecolor": "white",
            "showbackground": true,
            "ticks": "",
            "zerolinecolor": "white"
           },
           "zaxis": {
            "backgroundcolor": "#E5ECF6",
            "gridcolor": "white",
            "gridwidth": 2,
            "linecolor": "white",
            "showbackground": true,
            "ticks": "",
            "zerolinecolor": "white"
           }
          },
          "shapedefaults": {
           "line": {
            "color": "#2a3f5f"
           }
          },
          "ternary": {
           "aaxis": {
            "gridcolor": "white",
            "linecolor": "white",
            "ticks": ""
           },
           "baxis": {
            "gridcolor": "white",
            "linecolor": "white",
            "ticks": ""
           },
           "bgcolor": "#E5ECF6",
           "caxis": {
            "gridcolor": "white",
            "linecolor": "white",
            "ticks": ""
           }
          },
          "title": {
           "x": 0.05
          },
          "xaxis": {
           "automargin": true,
           "gridcolor": "white",
           "linecolor": "white",
           "ticks": "",
           "title": {
            "standoff": 15
           },
           "zerolinecolor": "white",
           "zerolinewidth": 2
          },
          "yaxis": {
           "automargin": true,
           "gridcolor": "white",
           "linecolor": "white",
           "ticks": "",
           "title": {
            "standoff": 15
           },
           "zerolinecolor": "white",
           "zerolinewidth": 2
          }
         }
        }
       }
      },
      "text/html": [
       "<div>                            <div id=\"0e3a6c7d-51e3-4c61-9188-8f1d7d81aa9a\" class=\"plotly-graph-div\" style=\"height:525px; width:100%;\"></div>            <script type=\"text/javascript\">                require([\"plotly\"], function(Plotly) {                    window.PLOTLYENV=window.PLOTLYENV || {};                                    if (document.getElementById(\"0e3a6c7d-51e3-4c61-9188-8f1d7d81aa9a\")) {                    Plotly.newPlot(                        \"0e3a6c7d-51e3-4c61-9188-8f1d7d81aa9a\",                        [{\"x\":[1939,1256,589,613],\"y\":[\"Login\",\"Product_page\",\"Product_cart\",\"Purchase\"],\"type\":\"funnel\"}],                        {\"template\":{\"data\":{\"bar\":[{\"error_x\":{\"color\":\"#2a3f5f\"},\"error_y\":{\"color\":\"#2a3f5f\"},\"marker\":{\"line\":{\"color\":\"#E5ECF6\",\"width\":0.5},\"pattern\":{\"fillmode\":\"overlay\",\"size\":10,\"solidity\":0.2}},\"type\":\"bar\"}],\"barpolar\":[{\"marker\":{\"line\":{\"color\":\"#E5ECF6\",\"width\":0.5},\"pattern\":{\"fillmode\":\"overlay\",\"size\":10,\"solidity\":0.2}},\"type\":\"barpolar\"}],\"carpet\":[{\"aaxis\":{\"endlinecolor\":\"#2a3f5f\",\"gridcolor\":\"white\",\"linecolor\":\"white\",\"minorgridcolor\":\"white\",\"startlinecolor\":\"#2a3f5f\"},\"baxis\":{\"endlinecolor\":\"#2a3f5f\",\"gridcolor\":\"white\",\"linecolor\":\"white\",\"minorgridcolor\":\"white\",\"startlinecolor\":\"#2a3f5f\"},\"type\":\"carpet\"}],\"choropleth\":[{\"colorbar\":{\"outlinewidth\":0,\"ticks\":\"\"},\"type\":\"choropleth\"}],\"contour\":[{\"colorbar\":{\"outlinewidth\":0,\"ticks\":\"\"},\"colorscale\":[[0.0,\"#0d0887\"],[0.1111111111111111,\"#46039f\"],[0.2222222222222222,\"#7201a8\"],[0.3333333333333333,\"#9c179e\"],[0.4444444444444444,\"#bd3786\"],[0.5555555555555556,\"#d8576b\"],[0.6666666666666666,\"#ed7953\"],[0.7777777777777778,\"#fb9f3a\"],[0.8888888888888888,\"#fdca26\"],[1.0,\"#f0f921\"]],\"type\":\"contour\"}],\"contourcarpet\":[{\"colorbar\":{\"outlinewidth\":0,\"ticks\":\"\"},\"type\":\"contourcarpet\"}],\"heatmap\":[{\"colorbar\":{\"outlinewidth\":0,\"ticks\":\"\"},\"colorscale\":[[0.0,\"#0d0887\"],[0.1111111111111111,\"#46039f\"],[0.2222222222222222,\"#7201a8\"],[0.3333333333333333,\"#9c179e\"],[0.4444444444444444,\"#bd3786\"],[0.5555555555555556,\"#d8576b\"],[0.6666666666666666,\"#ed7953\"],[0.7777777777777778,\"#fb9f3a\"],[0.8888888888888888,\"#fdca26\"],[1.0,\"#f0f921\"]],\"type\":\"heatmap\"}],\"heatmapgl\":[{\"colorbar\":{\"outlinewidth\":0,\"ticks\":\"\"},\"colorscale\":[[0.0,\"#0d0887\"],[0.1111111111111111,\"#46039f\"],[0.2222222222222222,\"#7201a8\"],[0.3333333333333333,\"#9c179e\"],[0.4444444444444444,\"#bd3786\"],[0.5555555555555556,\"#d8576b\"],[0.6666666666666666,\"#ed7953\"],[0.7777777777777778,\"#fb9f3a\"],[0.8888888888888888,\"#fdca26\"],[1.0,\"#f0f921\"]],\"type\":\"heatmapgl\"}],\"histogram\":[{\"marker\":{\"pattern\":{\"fillmode\":\"overlay\",\"size\":10,\"solidity\":0.2}},\"type\":\"histogram\"}],\"histogram2d\":[{\"colorbar\":{\"outlinewidth\":0,\"ticks\":\"\"},\"colorscale\":[[0.0,\"#0d0887\"],[0.1111111111111111,\"#46039f\"],[0.2222222222222222,\"#7201a8\"],[0.3333333333333333,\"#9c179e\"],[0.4444444444444444,\"#bd3786\"],[0.5555555555555556,\"#d8576b\"],[0.6666666666666666,\"#ed7953\"],[0.7777777777777778,\"#fb9f3a\"],[0.8888888888888888,\"#fdca26\"],[1.0,\"#f0f921\"]],\"type\":\"histogram2d\"}],\"histogram2dcontour\":[{\"colorbar\":{\"outlinewidth\":0,\"ticks\":\"\"},\"colorscale\":[[0.0,\"#0d0887\"],[0.1111111111111111,\"#46039f\"],[0.2222222222222222,\"#7201a8\"],[0.3333333333333333,\"#9c179e\"],[0.4444444444444444,\"#bd3786\"],[0.5555555555555556,\"#d8576b\"],[0.6666666666666666,\"#ed7953\"],[0.7777777777777778,\"#fb9f3a\"],[0.8888888888888888,\"#fdca26\"],[1.0,\"#f0f921\"]],\"type\":\"histogram2dcontour\"}],\"mesh3d\":[{\"colorbar\":{\"outlinewidth\":0,\"ticks\":\"\"},\"type\":\"mesh3d\"}],\"parcoords\":[{\"line\":{\"colorbar\":{\"outlinewidth\":0,\"ticks\":\"\"}},\"type\":\"parcoords\"}],\"pie\":[{\"automargin\":true,\"type\":\"pie\"}],\"scatter\":[{\"marker\":{\"colorbar\":{\"outlinewidth\":0,\"ticks\":\"\"}},\"type\":\"scatter\"}],\"scatter3d\":[{\"line\":{\"colorbar\":{\"outlinewidth\":0,\"ticks\":\"\"}},\"marker\":{\"colorbar\":{\"outlinewidth\":0,\"ticks\":\"\"}},\"type\":\"scatter3d\"}],\"scattercarpet\":[{\"marker\":{\"colorbar\":{\"outlinewidth\":0,\"ticks\":\"\"}},\"type\":\"scattercarpet\"}],\"scattergeo\":[{\"marker\":{\"colorbar\":{\"outlinewidth\":0,\"ticks\":\"\"}},\"type\":\"scattergeo\"}],\"scattergl\":[{\"marker\":{\"colorbar\":{\"outlinewidth\":0,\"ticks\":\"\"}},\"type\":\"scattergl\"}],\"scattermapbox\":[{\"marker\":{\"colorbar\":{\"outlinewidth\":0,\"ticks\":\"\"}},\"type\":\"scattermapbox\"}],\"scatterpolar\":[{\"marker\":{\"colorbar\":{\"outlinewidth\":0,\"ticks\":\"\"}},\"type\":\"scatterpolar\"}],\"scatterpolargl\":[{\"marker\":{\"colorbar\":{\"outlinewidth\":0,\"ticks\":\"\"}},\"type\":\"scatterpolargl\"}],\"scatterternary\":[{\"marker\":{\"colorbar\":{\"outlinewidth\":0,\"ticks\":\"\"}},\"type\":\"scatterternary\"}],\"surface\":[{\"colorbar\":{\"outlinewidth\":0,\"ticks\":\"\"},\"colorscale\":[[0.0,\"#0d0887\"],[0.1111111111111111,\"#46039f\"],[0.2222222222222222,\"#7201a8\"],[0.3333333333333333,\"#9c179e\"],[0.4444444444444444,\"#bd3786\"],[0.5555555555555556,\"#d8576b\"],[0.6666666666666666,\"#ed7953\"],[0.7777777777777778,\"#fb9f3a\"],[0.8888888888888888,\"#fdca26\"],[1.0,\"#f0f921\"]],\"type\":\"surface\"}],\"table\":[{\"cells\":{\"fill\":{\"color\":\"#EBF0F8\"},\"line\":{\"color\":\"white\"}},\"header\":{\"fill\":{\"color\":\"#C8D4E3\"},\"line\":{\"color\":\"white\"}},\"type\":\"table\"}]},\"layout\":{\"annotationdefaults\":{\"arrowcolor\":\"#2a3f5f\",\"arrowhead\":0,\"arrowwidth\":1},\"autotypenumbers\":\"strict\",\"coloraxis\":{\"colorbar\":{\"outlinewidth\":0,\"ticks\":\"\"}},\"colorscale\":{\"diverging\":[[0,\"#8e0152\"],[0.1,\"#c51b7d\"],[0.2,\"#de77ae\"],[0.3,\"#f1b6da\"],[0.4,\"#fde0ef\"],[0.5,\"#f7f7f7\"],[0.6,\"#e6f5d0\"],[0.7,\"#b8e186\"],[0.8,\"#7fbc41\"],[0.9,\"#4d9221\"],[1,\"#276419\"]],\"sequential\":[[0.0,\"#0d0887\"],[0.1111111111111111,\"#46039f\"],[0.2222222222222222,\"#7201a8\"],[0.3333333333333333,\"#9c179e\"],[0.4444444444444444,\"#bd3786\"],[0.5555555555555556,\"#d8576b\"],[0.6666666666666666,\"#ed7953\"],[0.7777777777777778,\"#fb9f3a\"],[0.8888888888888888,\"#fdca26\"],[1.0,\"#f0f921\"]],\"sequentialminus\":[[0.0,\"#0d0887\"],[0.1111111111111111,\"#46039f\"],[0.2222222222222222,\"#7201a8\"],[0.3333333333333333,\"#9c179e\"],[0.4444444444444444,\"#bd3786\"],[0.5555555555555556,\"#d8576b\"],[0.6666666666666666,\"#ed7953\"],[0.7777777777777778,\"#fb9f3a\"],[0.8888888888888888,\"#fdca26\"],[1.0,\"#f0f921\"]]},\"colorway\":[\"#636efa\",\"#EF553B\",\"#00cc96\",\"#ab63fa\",\"#FFA15A\",\"#19d3f3\",\"#FF6692\",\"#B6E880\",\"#FF97FF\",\"#FECB52\"],\"font\":{\"color\":\"#2a3f5f\"},\"geo\":{\"bgcolor\":\"white\",\"lakecolor\":\"white\",\"landcolor\":\"#E5ECF6\",\"showlakes\":true,\"showland\":true,\"subunitcolor\":\"white\"},\"hoverlabel\":{\"align\":\"left\"},\"hovermode\":\"closest\",\"mapbox\":{\"style\":\"light\"},\"paper_bgcolor\":\"white\",\"plot_bgcolor\":\"#E5ECF6\",\"polar\":{\"angularaxis\":{\"gridcolor\":\"white\",\"linecolor\":\"white\",\"ticks\":\"\"},\"bgcolor\":\"#E5ECF6\",\"radialaxis\":{\"gridcolor\":\"white\",\"linecolor\":\"white\",\"ticks\":\"\"}},\"scene\":{\"xaxis\":{\"backgroundcolor\":\"#E5ECF6\",\"gridcolor\":\"white\",\"gridwidth\":2,\"linecolor\":\"white\",\"showbackground\":true,\"ticks\":\"\",\"zerolinecolor\":\"white\"},\"yaxis\":{\"backgroundcolor\":\"#E5ECF6\",\"gridcolor\":\"white\",\"gridwidth\":2,\"linecolor\":\"white\",\"showbackground\":true,\"ticks\":\"\",\"zerolinecolor\":\"white\"},\"zaxis\":{\"backgroundcolor\":\"#E5ECF6\",\"gridcolor\":\"white\",\"gridwidth\":2,\"linecolor\":\"white\",\"showbackground\":true,\"ticks\":\"\",\"zerolinecolor\":\"white\"}},\"shapedefaults\":{\"line\":{\"color\":\"#2a3f5f\"}},\"ternary\":{\"aaxis\":{\"gridcolor\":\"white\",\"linecolor\":\"white\",\"ticks\":\"\"},\"baxis\":{\"gridcolor\":\"white\",\"linecolor\":\"white\",\"ticks\":\"\"},\"bgcolor\":\"#E5ECF6\",\"caxis\":{\"gridcolor\":\"white\",\"linecolor\":\"white\",\"ticks\":\"\"}},\"title\":{\"x\":0.05},\"xaxis\":{\"automargin\":true,\"gridcolor\":\"white\",\"linecolor\":\"white\",\"ticks\":\"\",\"title\":{\"standoff\":15},\"zerolinecolor\":\"white\",\"zerolinewidth\":2},\"yaxis\":{\"automargin\":true,\"gridcolor\":\"white\",\"linecolor\":\"white\",\"ticks\":\"\",\"title\":{\"standoff\":15},\"zerolinecolor\":\"white\",\"zerolinewidth\":2}}}},                        {\"responsive\": true}                    ).then(function(){\n",
       "                            \n",
       "var gd = document.getElementById('0e3a6c7d-51e3-4c61-9188-8f1d7d81aa9a');\n",
       "var x = new MutationObserver(function (mutations, observer) {{\n",
       "        var display = window.getComputedStyle(gd).display;\n",
       "        if (!display || display === 'none') {{\n",
       "            console.log([gd, 'removed!']);\n",
       "            Plotly.purge(gd);\n",
       "            observer.disconnect();\n",
       "        }}\n",
       "}});\n",
       "\n",
       "// Listen for the removal of the full notebook cells\n",
       "var notebookContainer = gd.closest('#notebook-container');\n",
       "if (notebookContainer) {{\n",
       "    x.observe(notebookContainer, {childList: true});\n",
       "}}\n",
       "\n",
       "// Listen for the clearing of the current output cell\n",
       "var outputEl = gd.closest('.output');\n",
       "if (outputEl) {{\n",
       "    x.observe(outputEl, {childList: true});\n",
       "}}\n",
       "\n",
       "                        })                };                });            </script>        </div>"
      ]
     },
     "metadata": {},
     "output_type": "display_data"
    }
   ],
   "source": [
    "# отфильтруем пользователей в группе А\n",
    "\n",
    "group_a = users_participants_events.query('group == \"A\"').groupby('event_name')['user_id'].nunique().reset_index()\n",
    "# построим воронку для пользователей в группе А\n",
    "\n",
    "fig = go.Figure(\n",
    "    go.Funnel(\n",
    "        y=[\n",
    "            'Login',\n",
    "            'Product_page',\n",
    "            'Product_cart',\n",
    "            'Purchase',\n",
    "        ],\n",
    "        x=[1939, 1256, 589, 613],\n",
    "    )\n",
    ")\n",
    "fig.show() \n",
    "\n"
   ]
  },
  {
   "cell_type": "markdown",
   "metadata": {},
   "source": [
    "В группе А на второй шаг (просмотр товара) переходит 65.2% пользователей. Далее мы видим, что число пользователей, которые оплатили покупку, больше тех, кто перешел в корзину. Вероятно, пользователи могут оплатить товар, не переходя в корзину, либо произошел технический сбой. В любом случае, до оплаты товара доходит только половина тех пользователей, что перешли на его страницу. "
   ]
  },
  {
   "cell_type": "code",
   "execution_count": 114,
   "metadata": {},
   "outputs": [
    {
     "data": {
      "application/vnd.plotly.v1+json": {
       "config": {
        "plotlyServerURL": "https://plot.ly"
       },
       "data": [
        {
         "type": "funnel",
         "x": [
          654,
          367,
          184,
          191
         ],
         "y": [
          "Login",
          "Product_page",
          "Product_cart",
          "Purchase"
         ]
        }
       ],
       "layout": {
        "template": {
         "data": {
          "bar": [
           {
            "error_x": {
             "color": "#2a3f5f"
            },
            "error_y": {
             "color": "#2a3f5f"
            },
            "marker": {
             "line": {
              "color": "#E5ECF6",
              "width": 0.5
             },
             "pattern": {
              "fillmode": "overlay",
              "size": 10,
              "solidity": 0.2
             }
            },
            "type": "bar"
           }
          ],
          "barpolar": [
           {
            "marker": {
             "line": {
              "color": "#E5ECF6",
              "width": 0.5
             },
             "pattern": {
              "fillmode": "overlay",
              "size": 10,
              "solidity": 0.2
             }
            },
            "type": "barpolar"
           }
          ],
          "carpet": [
           {
            "aaxis": {
             "endlinecolor": "#2a3f5f",
             "gridcolor": "white",
             "linecolor": "white",
             "minorgridcolor": "white",
             "startlinecolor": "#2a3f5f"
            },
            "baxis": {
             "endlinecolor": "#2a3f5f",
             "gridcolor": "white",
             "linecolor": "white",
             "minorgridcolor": "white",
             "startlinecolor": "#2a3f5f"
            },
            "type": "carpet"
           }
          ],
          "choropleth": [
           {
            "colorbar": {
             "outlinewidth": 0,
             "ticks": ""
            },
            "type": "choropleth"
           }
          ],
          "contour": [
           {
            "colorbar": {
             "outlinewidth": 0,
             "ticks": ""
            },
            "colorscale": [
             [
              0,
              "#0d0887"
             ],
             [
              0.1111111111111111,
              "#46039f"
             ],
             [
              0.2222222222222222,
              "#7201a8"
             ],
             [
              0.3333333333333333,
              "#9c179e"
             ],
             [
              0.4444444444444444,
              "#bd3786"
             ],
             [
              0.5555555555555556,
              "#d8576b"
             ],
             [
              0.6666666666666666,
              "#ed7953"
             ],
             [
              0.7777777777777778,
              "#fb9f3a"
             ],
             [
              0.8888888888888888,
              "#fdca26"
             ],
             [
              1,
              "#f0f921"
             ]
            ],
            "type": "contour"
           }
          ],
          "contourcarpet": [
           {
            "colorbar": {
             "outlinewidth": 0,
             "ticks": ""
            },
            "type": "contourcarpet"
           }
          ],
          "heatmap": [
           {
            "colorbar": {
             "outlinewidth": 0,
             "ticks": ""
            },
            "colorscale": [
             [
              0,
              "#0d0887"
             ],
             [
              0.1111111111111111,
              "#46039f"
             ],
             [
              0.2222222222222222,
              "#7201a8"
             ],
             [
              0.3333333333333333,
              "#9c179e"
             ],
             [
              0.4444444444444444,
              "#bd3786"
             ],
             [
              0.5555555555555556,
              "#d8576b"
             ],
             [
              0.6666666666666666,
              "#ed7953"
             ],
             [
              0.7777777777777778,
              "#fb9f3a"
             ],
             [
              0.8888888888888888,
              "#fdca26"
             ],
             [
              1,
              "#f0f921"
             ]
            ],
            "type": "heatmap"
           }
          ],
          "heatmapgl": [
           {
            "colorbar": {
             "outlinewidth": 0,
             "ticks": ""
            },
            "colorscale": [
             [
              0,
              "#0d0887"
             ],
             [
              0.1111111111111111,
              "#46039f"
             ],
             [
              0.2222222222222222,
              "#7201a8"
             ],
             [
              0.3333333333333333,
              "#9c179e"
             ],
             [
              0.4444444444444444,
              "#bd3786"
             ],
             [
              0.5555555555555556,
              "#d8576b"
             ],
             [
              0.6666666666666666,
              "#ed7953"
             ],
             [
              0.7777777777777778,
              "#fb9f3a"
             ],
             [
              0.8888888888888888,
              "#fdca26"
             ],
             [
              1,
              "#f0f921"
             ]
            ],
            "type": "heatmapgl"
           }
          ],
          "histogram": [
           {
            "marker": {
             "pattern": {
              "fillmode": "overlay",
              "size": 10,
              "solidity": 0.2
             }
            },
            "type": "histogram"
           }
          ],
          "histogram2d": [
           {
            "colorbar": {
             "outlinewidth": 0,
             "ticks": ""
            },
            "colorscale": [
             [
              0,
              "#0d0887"
             ],
             [
              0.1111111111111111,
              "#46039f"
             ],
             [
              0.2222222222222222,
              "#7201a8"
             ],
             [
              0.3333333333333333,
              "#9c179e"
             ],
             [
              0.4444444444444444,
              "#bd3786"
             ],
             [
              0.5555555555555556,
              "#d8576b"
             ],
             [
              0.6666666666666666,
              "#ed7953"
             ],
             [
              0.7777777777777778,
              "#fb9f3a"
             ],
             [
              0.8888888888888888,
              "#fdca26"
             ],
             [
              1,
              "#f0f921"
             ]
            ],
            "type": "histogram2d"
           }
          ],
          "histogram2dcontour": [
           {
            "colorbar": {
             "outlinewidth": 0,
             "ticks": ""
            },
            "colorscale": [
             [
              0,
              "#0d0887"
             ],
             [
              0.1111111111111111,
              "#46039f"
             ],
             [
              0.2222222222222222,
              "#7201a8"
             ],
             [
              0.3333333333333333,
              "#9c179e"
             ],
             [
              0.4444444444444444,
              "#bd3786"
             ],
             [
              0.5555555555555556,
              "#d8576b"
             ],
             [
              0.6666666666666666,
              "#ed7953"
             ],
             [
              0.7777777777777778,
              "#fb9f3a"
             ],
             [
              0.8888888888888888,
              "#fdca26"
             ],
             [
              1,
              "#f0f921"
             ]
            ],
            "type": "histogram2dcontour"
           }
          ],
          "mesh3d": [
           {
            "colorbar": {
             "outlinewidth": 0,
             "ticks": ""
            },
            "type": "mesh3d"
           }
          ],
          "parcoords": [
           {
            "line": {
             "colorbar": {
              "outlinewidth": 0,
              "ticks": ""
             }
            },
            "type": "parcoords"
           }
          ],
          "pie": [
           {
            "automargin": true,
            "type": "pie"
           }
          ],
          "scatter": [
           {
            "marker": {
             "colorbar": {
              "outlinewidth": 0,
              "ticks": ""
             }
            },
            "type": "scatter"
           }
          ],
          "scatter3d": [
           {
            "line": {
             "colorbar": {
              "outlinewidth": 0,
              "ticks": ""
             }
            },
            "marker": {
             "colorbar": {
              "outlinewidth": 0,
              "ticks": ""
             }
            },
            "type": "scatter3d"
           }
          ],
          "scattercarpet": [
           {
            "marker": {
             "colorbar": {
              "outlinewidth": 0,
              "ticks": ""
             }
            },
            "type": "scattercarpet"
           }
          ],
          "scattergeo": [
           {
            "marker": {
             "colorbar": {
              "outlinewidth": 0,
              "ticks": ""
             }
            },
            "type": "scattergeo"
           }
          ],
          "scattergl": [
           {
            "marker": {
             "colorbar": {
              "outlinewidth": 0,
              "ticks": ""
             }
            },
            "type": "scattergl"
           }
          ],
          "scattermapbox": [
           {
            "marker": {
             "colorbar": {
              "outlinewidth": 0,
              "ticks": ""
             }
            },
            "type": "scattermapbox"
           }
          ],
          "scatterpolar": [
           {
            "marker": {
             "colorbar": {
              "outlinewidth": 0,
              "ticks": ""
             }
            },
            "type": "scatterpolar"
           }
          ],
          "scatterpolargl": [
           {
            "marker": {
             "colorbar": {
              "outlinewidth": 0,
              "ticks": ""
             }
            },
            "type": "scatterpolargl"
           }
          ],
          "scatterternary": [
           {
            "marker": {
             "colorbar": {
              "outlinewidth": 0,
              "ticks": ""
             }
            },
            "type": "scatterternary"
           }
          ],
          "surface": [
           {
            "colorbar": {
             "outlinewidth": 0,
             "ticks": ""
            },
            "colorscale": [
             [
              0,
              "#0d0887"
             ],
             [
              0.1111111111111111,
              "#46039f"
             ],
             [
              0.2222222222222222,
              "#7201a8"
             ],
             [
              0.3333333333333333,
              "#9c179e"
             ],
             [
              0.4444444444444444,
              "#bd3786"
             ],
             [
              0.5555555555555556,
              "#d8576b"
             ],
             [
              0.6666666666666666,
              "#ed7953"
             ],
             [
              0.7777777777777778,
              "#fb9f3a"
             ],
             [
              0.8888888888888888,
              "#fdca26"
             ],
             [
              1,
              "#f0f921"
             ]
            ],
            "type": "surface"
           }
          ],
          "table": [
           {
            "cells": {
             "fill": {
              "color": "#EBF0F8"
             },
             "line": {
              "color": "white"
             }
            },
            "header": {
             "fill": {
              "color": "#C8D4E3"
             },
             "line": {
              "color": "white"
             }
            },
            "type": "table"
           }
          ]
         },
         "layout": {
          "annotationdefaults": {
           "arrowcolor": "#2a3f5f",
           "arrowhead": 0,
           "arrowwidth": 1
          },
          "autotypenumbers": "strict",
          "coloraxis": {
           "colorbar": {
            "outlinewidth": 0,
            "ticks": ""
           }
          },
          "colorscale": {
           "diverging": [
            [
             0,
             "#8e0152"
            ],
            [
             0.1,
             "#c51b7d"
            ],
            [
             0.2,
             "#de77ae"
            ],
            [
             0.3,
             "#f1b6da"
            ],
            [
             0.4,
             "#fde0ef"
            ],
            [
             0.5,
             "#f7f7f7"
            ],
            [
             0.6,
             "#e6f5d0"
            ],
            [
             0.7,
             "#b8e186"
            ],
            [
             0.8,
             "#7fbc41"
            ],
            [
             0.9,
             "#4d9221"
            ],
            [
             1,
             "#276419"
            ]
           ],
           "sequential": [
            [
             0,
             "#0d0887"
            ],
            [
             0.1111111111111111,
             "#46039f"
            ],
            [
             0.2222222222222222,
             "#7201a8"
            ],
            [
             0.3333333333333333,
             "#9c179e"
            ],
            [
             0.4444444444444444,
             "#bd3786"
            ],
            [
             0.5555555555555556,
             "#d8576b"
            ],
            [
             0.6666666666666666,
             "#ed7953"
            ],
            [
             0.7777777777777778,
             "#fb9f3a"
            ],
            [
             0.8888888888888888,
             "#fdca26"
            ],
            [
             1,
             "#f0f921"
            ]
           ],
           "sequentialminus": [
            [
             0,
             "#0d0887"
            ],
            [
             0.1111111111111111,
             "#46039f"
            ],
            [
             0.2222222222222222,
             "#7201a8"
            ],
            [
             0.3333333333333333,
             "#9c179e"
            ],
            [
             0.4444444444444444,
             "#bd3786"
            ],
            [
             0.5555555555555556,
             "#d8576b"
            ],
            [
             0.6666666666666666,
             "#ed7953"
            ],
            [
             0.7777777777777778,
             "#fb9f3a"
            ],
            [
             0.8888888888888888,
             "#fdca26"
            ],
            [
             1,
             "#f0f921"
            ]
           ]
          },
          "colorway": [
           "#636efa",
           "#EF553B",
           "#00cc96",
           "#ab63fa",
           "#FFA15A",
           "#19d3f3",
           "#FF6692",
           "#B6E880",
           "#FF97FF",
           "#FECB52"
          ],
          "font": {
           "color": "#2a3f5f"
          },
          "geo": {
           "bgcolor": "white",
           "lakecolor": "white",
           "landcolor": "#E5ECF6",
           "showlakes": true,
           "showland": true,
           "subunitcolor": "white"
          },
          "hoverlabel": {
           "align": "left"
          },
          "hovermode": "closest",
          "mapbox": {
           "style": "light"
          },
          "paper_bgcolor": "white",
          "plot_bgcolor": "#E5ECF6",
          "polar": {
           "angularaxis": {
            "gridcolor": "white",
            "linecolor": "white",
            "ticks": ""
           },
           "bgcolor": "#E5ECF6",
           "radialaxis": {
            "gridcolor": "white",
            "linecolor": "white",
            "ticks": ""
           }
          },
          "scene": {
           "xaxis": {
            "backgroundcolor": "#E5ECF6",
            "gridcolor": "white",
            "gridwidth": 2,
            "linecolor": "white",
            "showbackground": true,
            "ticks": "",
            "zerolinecolor": "white"
           },
           "yaxis": {
            "backgroundcolor": "#E5ECF6",
            "gridcolor": "white",
            "gridwidth": 2,
            "linecolor": "white",
            "showbackground": true,
            "ticks": "",
            "zerolinecolor": "white"
           },
           "zaxis": {
            "backgroundcolor": "#E5ECF6",
            "gridcolor": "white",
            "gridwidth": 2,
            "linecolor": "white",
            "showbackground": true,
            "ticks": "",
            "zerolinecolor": "white"
           }
          },
          "shapedefaults": {
           "line": {
            "color": "#2a3f5f"
           }
          },
          "ternary": {
           "aaxis": {
            "gridcolor": "white",
            "linecolor": "white",
            "ticks": ""
           },
           "baxis": {
            "gridcolor": "white",
            "linecolor": "white",
            "ticks": ""
           },
           "bgcolor": "#E5ECF6",
           "caxis": {
            "gridcolor": "white",
            "linecolor": "white",
            "ticks": ""
           }
          },
          "title": {
           "x": 0.05
          },
          "xaxis": {
           "automargin": true,
           "gridcolor": "white",
           "linecolor": "white",
           "ticks": "",
           "title": {
            "standoff": 15
           },
           "zerolinecolor": "white",
           "zerolinewidth": 2
          },
          "yaxis": {
           "automargin": true,
           "gridcolor": "white",
           "linecolor": "white",
           "ticks": "",
           "title": {
            "standoff": 15
           },
           "zerolinecolor": "white",
           "zerolinewidth": 2
          }
         }
        }
       }
      },
      "text/html": [
       "<div>                            <div id=\"63b36858-69a8-4e9b-8264-5d4715d3f817\" class=\"plotly-graph-div\" style=\"height:525px; width:100%;\"></div>            <script type=\"text/javascript\">                require([\"plotly\"], function(Plotly) {                    window.PLOTLYENV=window.PLOTLYENV || {};                                    if (document.getElementById(\"63b36858-69a8-4e9b-8264-5d4715d3f817\")) {                    Plotly.newPlot(                        \"63b36858-69a8-4e9b-8264-5d4715d3f817\",                        [{\"x\":[654,367,184,191],\"y\":[\"Login\",\"Product_page\",\"Product_cart\",\"Purchase\"],\"type\":\"funnel\"}],                        {\"template\":{\"data\":{\"bar\":[{\"error_x\":{\"color\":\"#2a3f5f\"},\"error_y\":{\"color\":\"#2a3f5f\"},\"marker\":{\"line\":{\"color\":\"#E5ECF6\",\"width\":0.5},\"pattern\":{\"fillmode\":\"overlay\",\"size\":10,\"solidity\":0.2}},\"type\":\"bar\"}],\"barpolar\":[{\"marker\":{\"line\":{\"color\":\"#E5ECF6\",\"width\":0.5},\"pattern\":{\"fillmode\":\"overlay\",\"size\":10,\"solidity\":0.2}},\"type\":\"barpolar\"}],\"carpet\":[{\"aaxis\":{\"endlinecolor\":\"#2a3f5f\",\"gridcolor\":\"white\",\"linecolor\":\"white\",\"minorgridcolor\":\"white\",\"startlinecolor\":\"#2a3f5f\"},\"baxis\":{\"endlinecolor\":\"#2a3f5f\",\"gridcolor\":\"white\",\"linecolor\":\"white\",\"minorgridcolor\":\"white\",\"startlinecolor\":\"#2a3f5f\"},\"type\":\"carpet\"}],\"choropleth\":[{\"colorbar\":{\"outlinewidth\":0,\"ticks\":\"\"},\"type\":\"choropleth\"}],\"contour\":[{\"colorbar\":{\"outlinewidth\":0,\"ticks\":\"\"},\"colorscale\":[[0.0,\"#0d0887\"],[0.1111111111111111,\"#46039f\"],[0.2222222222222222,\"#7201a8\"],[0.3333333333333333,\"#9c179e\"],[0.4444444444444444,\"#bd3786\"],[0.5555555555555556,\"#d8576b\"],[0.6666666666666666,\"#ed7953\"],[0.7777777777777778,\"#fb9f3a\"],[0.8888888888888888,\"#fdca26\"],[1.0,\"#f0f921\"]],\"type\":\"contour\"}],\"contourcarpet\":[{\"colorbar\":{\"outlinewidth\":0,\"ticks\":\"\"},\"type\":\"contourcarpet\"}],\"heatmap\":[{\"colorbar\":{\"outlinewidth\":0,\"ticks\":\"\"},\"colorscale\":[[0.0,\"#0d0887\"],[0.1111111111111111,\"#46039f\"],[0.2222222222222222,\"#7201a8\"],[0.3333333333333333,\"#9c179e\"],[0.4444444444444444,\"#bd3786\"],[0.5555555555555556,\"#d8576b\"],[0.6666666666666666,\"#ed7953\"],[0.7777777777777778,\"#fb9f3a\"],[0.8888888888888888,\"#fdca26\"],[1.0,\"#f0f921\"]],\"type\":\"heatmap\"}],\"heatmapgl\":[{\"colorbar\":{\"outlinewidth\":0,\"ticks\":\"\"},\"colorscale\":[[0.0,\"#0d0887\"],[0.1111111111111111,\"#46039f\"],[0.2222222222222222,\"#7201a8\"],[0.3333333333333333,\"#9c179e\"],[0.4444444444444444,\"#bd3786\"],[0.5555555555555556,\"#d8576b\"],[0.6666666666666666,\"#ed7953\"],[0.7777777777777778,\"#fb9f3a\"],[0.8888888888888888,\"#fdca26\"],[1.0,\"#f0f921\"]],\"type\":\"heatmapgl\"}],\"histogram\":[{\"marker\":{\"pattern\":{\"fillmode\":\"overlay\",\"size\":10,\"solidity\":0.2}},\"type\":\"histogram\"}],\"histogram2d\":[{\"colorbar\":{\"outlinewidth\":0,\"ticks\":\"\"},\"colorscale\":[[0.0,\"#0d0887\"],[0.1111111111111111,\"#46039f\"],[0.2222222222222222,\"#7201a8\"],[0.3333333333333333,\"#9c179e\"],[0.4444444444444444,\"#bd3786\"],[0.5555555555555556,\"#d8576b\"],[0.6666666666666666,\"#ed7953\"],[0.7777777777777778,\"#fb9f3a\"],[0.8888888888888888,\"#fdca26\"],[1.0,\"#f0f921\"]],\"type\":\"histogram2d\"}],\"histogram2dcontour\":[{\"colorbar\":{\"outlinewidth\":0,\"ticks\":\"\"},\"colorscale\":[[0.0,\"#0d0887\"],[0.1111111111111111,\"#46039f\"],[0.2222222222222222,\"#7201a8\"],[0.3333333333333333,\"#9c179e\"],[0.4444444444444444,\"#bd3786\"],[0.5555555555555556,\"#d8576b\"],[0.6666666666666666,\"#ed7953\"],[0.7777777777777778,\"#fb9f3a\"],[0.8888888888888888,\"#fdca26\"],[1.0,\"#f0f921\"]],\"type\":\"histogram2dcontour\"}],\"mesh3d\":[{\"colorbar\":{\"outlinewidth\":0,\"ticks\":\"\"},\"type\":\"mesh3d\"}],\"parcoords\":[{\"line\":{\"colorbar\":{\"outlinewidth\":0,\"ticks\":\"\"}},\"type\":\"parcoords\"}],\"pie\":[{\"automargin\":true,\"type\":\"pie\"}],\"scatter\":[{\"marker\":{\"colorbar\":{\"outlinewidth\":0,\"ticks\":\"\"}},\"type\":\"scatter\"}],\"scatter3d\":[{\"line\":{\"colorbar\":{\"outlinewidth\":0,\"ticks\":\"\"}},\"marker\":{\"colorbar\":{\"outlinewidth\":0,\"ticks\":\"\"}},\"type\":\"scatter3d\"}],\"scattercarpet\":[{\"marker\":{\"colorbar\":{\"outlinewidth\":0,\"ticks\":\"\"}},\"type\":\"scattercarpet\"}],\"scattergeo\":[{\"marker\":{\"colorbar\":{\"outlinewidth\":0,\"ticks\":\"\"}},\"type\":\"scattergeo\"}],\"scattergl\":[{\"marker\":{\"colorbar\":{\"outlinewidth\":0,\"ticks\":\"\"}},\"type\":\"scattergl\"}],\"scattermapbox\":[{\"marker\":{\"colorbar\":{\"outlinewidth\":0,\"ticks\":\"\"}},\"type\":\"scattermapbox\"}],\"scatterpolar\":[{\"marker\":{\"colorbar\":{\"outlinewidth\":0,\"ticks\":\"\"}},\"type\":\"scatterpolar\"}],\"scatterpolargl\":[{\"marker\":{\"colorbar\":{\"outlinewidth\":0,\"ticks\":\"\"}},\"type\":\"scatterpolargl\"}],\"scatterternary\":[{\"marker\":{\"colorbar\":{\"outlinewidth\":0,\"ticks\":\"\"}},\"type\":\"scatterternary\"}],\"surface\":[{\"colorbar\":{\"outlinewidth\":0,\"ticks\":\"\"},\"colorscale\":[[0.0,\"#0d0887\"],[0.1111111111111111,\"#46039f\"],[0.2222222222222222,\"#7201a8\"],[0.3333333333333333,\"#9c179e\"],[0.4444444444444444,\"#bd3786\"],[0.5555555555555556,\"#d8576b\"],[0.6666666666666666,\"#ed7953\"],[0.7777777777777778,\"#fb9f3a\"],[0.8888888888888888,\"#fdca26\"],[1.0,\"#f0f921\"]],\"type\":\"surface\"}],\"table\":[{\"cells\":{\"fill\":{\"color\":\"#EBF0F8\"},\"line\":{\"color\":\"white\"}},\"header\":{\"fill\":{\"color\":\"#C8D4E3\"},\"line\":{\"color\":\"white\"}},\"type\":\"table\"}]},\"layout\":{\"annotationdefaults\":{\"arrowcolor\":\"#2a3f5f\",\"arrowhead\":0,\"arrowwidth\":1},\"autotypenumbers\":\"strict\",\"coloraxis\":{\"colorbar\":{\"outlinewidth\":0,\"ticks\":\"\"}},\"colorscale\":{\"diverging\":[[0,\"#8e0152\"],[0.1,\"#c51b7d\"],[0.2,\"#de77ae\"],[0.3,\"#f1b6da\"],[0.4,\"#fde0ef\"],[0.5,\"#f7f7f7\"],[0.6,\"#e6f5d0\"],[0.7,\"#b8e186\"],[0.8,\"#7fbc41\"],[0.9,\"#4d9221\"],[1,\"#276419\"]],\"sequential\":[[0.0,\"#0d0887\"],[0.1111111111111111,\"#46039f\"],[0.2222222222222222,\"#7201a8\"],[0.3333333333333333,\"#9c179e\"],[0.4444444444444444,\"#bd3786\"],[0.5555555555555556,\"#d8576b\"],[0.6666666666666666,\"#ed7953\"],[0.7777777777777778,\"#fb9f3a\"],[0.8888888888888888,\"#fdca26\"],[1.0,\"#f0f921\"]],\"sequentialminus\":[[0.0,\"#0d0887\"],[0.1111111111111111,\"#46039f\"],[0.2222222222222222,\"#7201a8\"],[0.3333333333333333,\"#9c179e\"],[0.4444444444444444,\"#bd3786\"],[0.5555555555555556,\"#d8576b\"],[0.6666666666666666,\"#ed7953\"],[0.7777777777777778,\"#fb9f3a\"],[0.8888888888888888,\"#fdca26\"],[1.0,\"#f0f921\"]]},\"colorway\":[\"#636efa\",\"#EF553B\",\"#00cc96\",\"#ab63fa\",\"#FFA15A\",\"#19d3f3\",\"#FF6692\",\"#B6E880\",\"#FF97FF\",\"#FECB52\"],\"font\":{\"color\":\"#2a3f5f\"},\"geo\":{\"bgcolor\":\"white\",\"lakecolor\":\"white\",\"landcolor\":\"#E5ECF6\",\"showlakes\":true,\"showland\":true,\"subunitcolor\":\"white\"},\"hoverlabel\":{\"align\":\"left\"},\"hovermode\":\"closest\",\"mapbox\":{\"style\":\"light\"},\"paper_bgcolor\":\"white\",\"plot_bgcolor\":\"#E5ECF6\",\"polar\":{\"angularaxis\":{\"gridcolor\":\"white\",\"linecolor\":\"white\",\"ticks\":\"\"},\"bgcolor\":\"#E5ECF6\",\"radialaxis\":{\"gridcolor\":\"white\",\"linecolor\":\"white\",\"ticks\":\"\"}},\"scene\":{\"xaxis\":{\"backgroundcolor\":\"#E5ECF6\",\"gridcolor\":\"white\",\"gridwidth\":2,\"linecolor\":\"white\",\"showbackground\":true,\"ticks\":\"\",\"zerolinecolor\":\"white\"},\"yaxis\":{\"backgroundcolor\":\"#E5ECF6\",\"gridcolor\":\"white\",\"gridwidth\":2,\"linecolor\":\"white\",\"showbackground\":true,\"ticks\":\"\",\"zerolinecolor\":\"white\"},\"zaxis\":{\"backgroundcolor\":\"#E5ECF6\",\"gridcolor\":\"white\",\"gridwidth\":2,\"linecolor\":\"white\",\"showbackground\":true,\"ticks\":\"\",\"zerolinecolor\":\"white\"}},\"shapedefaults\":{\"line\":{\"color\":\"#2a3f5f\"}},\"ternary\":{\"aaxis\":{\"gridcolor\":\"white\",\"linecolor\":\"white\",\"ticks\":\"\"},\"baxis\":{\"gridcolor\":\"white\",\"linecolor\":\"white\",\"ticks\":\"\"},\"bgcolor\":\"#E5ECF6\",\"caxis\":{\"gridcolor\":\"white\",\"linecolor\":\"white\",\"ticks\":\"\"}},\"title\":{\"x\":0.05},\"xaxis\":{\"automargin\":true,\"gridcolor\":\"white\",\"linecolor\":\"white\",\"ticks\":\"\",\"title\":{\"standoff\":15},\"zerolinecolor\":\"white\",\"zerolinewidth\":2},\"yaxis\":{\"automargin\":true,\"gridcolor\":\"white\",\"linecolor\":\"white\",\"ticks\":\"\",\"title\":{\"standoff\":15},\"zerolinecolor\":\"white\",\"zerolinewidth\":2}}}},                        {\"responsive\": true}                    ).then(function(){\n",
       "                            \n",
       "var gd = document.getElementById('63b36858-69a8-4e9b-8264-5d4715d3f817');\n",
       "var x = new MutationObserver(function (mutations, observer) {{\n",
       "        var display = window.getComputedStyle(gd).display;\n",
       "        if (!display || display === 'none') {{\n",
       "            console.log([gd, 'removed!']);\n",
       "            Plotly.purge(gd);\n",
       "            observer.disconnect();\n",
       "        }}\n",
       "}});\n",
       "\n",
       "// Listen for the removal of the full notebook cells\n",
       "var notebookContainer = gd.closest('#notebook-container');\n",
       "if (notebookContainer) {{\n",
       "    x.observe(notebookContainer, {childList: true});\n",
       "}}\n",
       "\n",
       "// Listen for the clearing of the current output cell\n",
       "var outputEl = gd.closest('.output');\n",
       "if (outputEl) {{\n",
       "    x.observe(outputEl, {childList: true});\n",
       "}}\n",
       "\n",
       "                        })                };                });            </script>        </div>"
      ]
     },
     "metadata": {},
     "output_type": "display_data"
    }
   ],
   "source": [
    "# отфильтруем пользователей в группе B\n",
    "\n",
    "group_b = users_participants_events.query('group == \"B\"').groupby('event_name')['user_id'].nunique().reset_index().sort_values('user_id', ascending = False)\n",
    "\n",
    "# построим воронку для пользователей в группе B\n",
    "fig = go.Figure(\n",
    "    go.Funnel(\n",
    "        y=[\n",
    "            'Login',\n",
    "            'Product_page',\n",
    "            'Product_cart',\n",
    "            'Purchase',\n",
    "        ],\n",
    "        x=[654, 367, 184, 191],\n",
    "    )\n",
    ")\n",
    "fig.show() \n"
   ]
  },
  {
   "cell_type": "markdown",
   "metadata": {},
   "source": [
    "В группе В на страницу товара переходит 56% пользователей. И также как и в группе А, только половина из них переходит к покупке. "
   ]
  },
  {
   "cell_type": "markdown",
   "metadata": {},
   "source": [
    "### Какие особенности данных нужно учесть, прежде чем приступать к A/B-тестированию"
   ]
  },
  {
   "cell_type": "markdown",
   "metadata": {},
   "source": [
    "- количество пользователей в группах должно различаться не более, чем на 1% \n",
    "- проводить тест не менее 2 недель\n",
    "- тест не должен пересекаться с конкурирующим тестированием и маркетинговыми событиями \n",
    "- пользователи в группах не должны пересекаться \n",
    "- тест нельзя останавливать раньше указанного срока"
   ]
  },
  {
   "cell_type": "markdown",
   "metadata": {},
   "source": [
    "## Результаты A/B-тестирования"
   ]
  },
  {
   "cell_type": "markdown",
   "metadata": {},
   "source": [
    "- мы получили данные по пользователям с 7 по 23 декабря 2020 года вместо указанного 21 декабря 2020 года\n",
    "- кроме пользователей из европейского региона в данные попали пользователи из других регионов\n",
    "- тестирование было остановлено раньше на 5 дней, либо произошла не полная выгрузка данных: не хватает данных с 31 декабря 2020 по 4 января 2021 года\n",
    "- тест проводился параллельно с конкурирующим тестом, поэтому будет сложнее интерпретировать результаты теста и решать однозначно, что могло повлиять на конверсию \n",
    "- контрольные группы А и В сильно отличаются размером: в группе В практически в 3 раза меньше участников \n",
    "- проведение теста совпало с маркетинговым событием Christmas&New Year Promo. Чтобы результат тестирования был чище, мы удалили период промо из анализа\n",
    "- Вывод: данные неполлные, тест был провееден некорректно, его результаты не могут быть точными.\n"
   ]
  },
  {
   "cell_type": "markdown",
   "metadata": {},
   "source": [
    "### Проверка статистической разницы долей z-критерием"
   ]
  },
  {
   "cell_type": "code",
   "execution_count": 115,
   "metadata": {
    "scrolled": true
   },
   "outputs": [
    {
     "data": {
      "text/html": [
       "<div>\n",
       "<style scoped>\n",
       "    .dataframe tbody tr th:only-of-type {\n",
       "        vertical-align: middle;\n",
       "    }\n",
       "\n",
       "    .dataframe tbody tr th {\n",
       "        vertical-align: top;\n",
       "    }\n",
       "\n",
       "    .dataframe thead th {\n",
       "        text-align: right;\n",
       "    }\n",
       "</style>\n",
       "<table border=\"1\" class=\"dataframe\">\n",
       "  <thead>\n",
       "    <tr style=\"text-align: right;\">\n",
       "      <th>group</th>\n",
       "      <th>event_name</th>\n",
       "      <th>A</th>\n",
       "      <th>B</th>\n",
       "    </tr>\n",
       "  </thead>\n",
       "  <tbody>\n",
       "    <tr>\n",
       "      <th>0</th>\n",
       "      <td>login</td>\n",
       "      <td>1939</td>\n",
       "      <td>654</td>\n",
       "    </tr>\n",
       "    <tr>\n",
       "      <th>1</th>\n",
       "      <td>product_page</td>\n",
       "      <td>1265</td>\n",
       "      <td>367</td>\n",
       "    </tr>\n",
       "    <tr>\n",
       "      <th>2</th>\n",
       "      <td>purchase</td>\n",
       "      <td>613</td>\n",
       "      <td>191</td>\n",
       "    </tr>\n",
       "    <tr>\n",
       "      <th>3</th>\n",
       "      <td>product_cart</td>\n",
       "      <td>589</td>\n",
       "      <td>184</td>\n",
       "    </tr>\n",
       "  </tbody>\n",
       "</table>\n",
       "</div>"
      ],
      "text/plain": [
       "group    event_name     A    B\n",
       "0             login  1939  654\n",
       "1      product_page  1265  367\n",
       "2          purchase   613  191\n",
       "3      product_cart   589  184"
      ]
     },
     "execution_count": 115,
     "metadata": {},
     "output_type": "execute_result"
    }
   ],
   "source": [
    "# создадим таблицу с количеством пользователей в двух группах на каждом шаге \n",
    "\n",
    "all_funnels = users_participants_events.pivot_table(index='event_name', columns='group',values='user_id',aggfunc='nunique')\\\n",
    "                       .sort_values('A',ascending=False)\n",
    "all_funnels.reset_index()"
   ]
  },
  {
   "cell_type": "code",
   "execution_count": 116,
   "metadata": {
    "scrolled": true
   },
   "outputs": [
    {
     "data": {
      "text/html": [
       "<div>\n",
       "<style scoped>\n",
       "    .dataframe tbody tr th:only-of-type {\n",
       "        vertical-align: middle;\n",
       "    }\n",
       "\n",
       "    .dataframe tbody tr th {\n",
       "        vertical-align: top;\n",
       "    }\n",
       "\n",
       "    .dataframe thead th {\n",
       "        text-align: right;\n",
       "    }\n",
       "</style>\n",
       "<table border=\"1\" class=\"dataframe\">\n",
       "  <thead>\n",
       "    <tr style=\"text-align: right;\">\n",
       "      <th></th>\n",
       "      <th>user_id</th>\n",
       "    </tr>\n",
       "    <tr>\n",
       "      <th>group</th>\n",
       "      <th></th>\n",
       "    </tr>\n",
       "  </thead>\n",
       "  <tbody>\n",
       "    <tr>\n",
       "      <th>A</th>\n",
       "      <td>1939</td>\n",
       "    </tr>\n",
       "    <tr>\n",
       "      <th>B</th>\n",
       "      <td>655</td>\n",
       "    </tr>\n",
       "  </tbody>\n",
       "</table>\n",
       "</div>"
      ],
      "text/plain": [
       "       user_id\n",
       "group         \n",
       "A         1939\n",
       "B          655"
      ]
     },
     "execution_count": 116,
     "metadata": {},
     "output_type": "execute_result"
    }
   ],
   "source": [
    "users = users_participants_events.groupby('group')['user_id'].nunique().reset_index()\n",
    "users = users.set_index(users.columns[0])\n",
    "users"
   ]
  },
  {
   "cell_type": "markdown",
   "metadata": {},
   "source": [
    "Для проверки гипотез воспользуемся Z-критерием и применим метод Бонферрони (поправка Бонферрони), так как проводим множественное сравнение. В нашем случае мы будем проводить 8 сравнений, следовательно, bonferroni_alpha будет равно alpha / 8.\n",
    "\n",
    "Сформулируем гипотезы\n",
    "\n",
    "- H0: Конверсия в группах A и B одинаковая\n",
    "- H1: Конверсия в группах A и B различается"
   ]
  },
  {
   "cell_type": "code",
   "execution_count": 117,
   "metadata": {},
   "outputs": [],
   "source": [
    "# проверим статистическую разницу долей z-критерием\n",
    "\n",
    "def print_z_test_with_bonferroni_validation_result(group1, group2, event, alpha): \n",
    "    p1_event = all_funnels.loc[event, group1]\n",
    "    p2_event = all_funnels.loc[event, group2] \n",
    "    p1_users = users.loc[group1, 'user_id'] \n",
    "    p2_users = users.loc[group2, 'user_id'] \n",
    "    p1 = p1_event / p1_users \n",
    "    p2 = p2_event / p2_users \n",
    "    difference = p1 - p2\n",
    "    p_combined = (p1_event + p2_event) / (p1_users + p2_users) \n",
    "    z_value = difference / mth.sqrt(p_combined * (1 - p_combined) * (1 / p1_users + 1 / p2_users))\n",
    "    distr = st.norm(0, 1)\n",
    "    p_value = (1 - distr.cdf(abs(z_value))) * 2\n",
    "    \n",
    "    bonferroni_alpha = alpha / 8\n",
    "    \n",
    "    print('Проверка для групп {} и {}, событие: {}, p-значение: {p_value:.2f}'.format(group1, group2, event, p_value=p_value))\n",
    "    if (p_value < bonferroni_alpha):\n",
    "        print(\"Отвергаем нулевую гипотезу о равенстве конверсии в группах\")\n",
    "    else:\n",
    "        print(\"Не получилось отвергнуть нулевую гипотезу о равенстве конверсии в группах\")"
   ]
  },
  {
   "cell_type": "code",
   "execution_count": 118,
   "metadata": {},
   "outputs": [
    {
     "name": "stdout",
     "output_type": "stream",
     "text": [
      "Проверка для групп A и B, событие: login, p-значение: 0.09\n",
      "Не получилось отвергнуть нулевую гипотезу о равенстве конверсии в группах\n",
      "\n",
      "Проверка для групп A и B, событие: product_page, p-значение: 0.00\n",
      "Отвергаем нулевую гипотезу о равенстве конверсии в группах\n",
      "\n",
      "Проверка для групп A и B, событие: purchase, p-значение: 0.24\n",
      "Не получилось отвергнуть нулевую гипотезу о равенстве конверсии в группах\n",
      "\n",
      "Проверка для групп A и B, событие: product_cart, p-значение: 0.27\n",
      "Не получилось отвергнуть нулевую гипотезу о равенстве конверсии в группах\n",
      "\n"
     ]
    }
   ],
   "source": [
    "for event in all_funnels.index:\n",
    "    print_z_test_with_bonferroni_validation_result('A', 'B', event, 0.05)\n",
    "    print()"
   ]
  },
  {
   "cell_type": "markdown",
   "metadata": {},
   "source": [
    "Статистически значимой разницы в конверсии двух групп нет в таких событиях, как регистрация, добавление в корзину и покупка. В данных случаях мы не можем опровергуть нулевую гипотезу о равенстве конверсий. \n",
    "\n",
    "В событии \"просмотр карточки товара\" между двумя группами присутствует статистически значимая разница, мы не можем принять нулевую гипотезу: конверсия группы А отличается от конверсии группы В. \n",
    "\n"
   ]
  },
  {
   "cell_type": "markdown",
   "metadata": {},
   "source": [
    "## Вывод"
   ]
  },
  {
   "cell_type": "markdown",
   "metadata": {},
   "source": [
    "В ходе исследовательского анализа мы обнаружили такие недочеты по пунктам ТЗ:\n",
    "- отсутствуют события в диапазоне с 31 декабря 2020 по 4 января 2021\n",
    "- кроме пользователей из европейского региона присутствовали данные пользователей других регионов \n",
    "- ожидаемым количеством участников теста были 6000 пользователей, по факту мы получили только 2594\n",
    "- одновременно с тестом recommender_system_test проходил тест interface_eu_test. Произошло пересечение пользователей в двух тестах \n",
    "- время проведения теста совпало с маркетинговым событием, которое могло повлиять на поведение  пользователей\n",
    "- участники в группах А и В распределены неравномерно: группа А практически в 3 раза больше. Такие данные могут исказить результат теста \n",
    "\n",
    "Мы видим нарушение ключевых критериев А/В-теста и неудовлетворительное качество данных. Проведение теста можно назвать неудовлетворительным, его результаты нельзя считать достоверными."
   ]
  }
 ],
 "metadata": {
  "ExecuteTimeLog": [
   {
    "duration": 1124,
    "start_time": "2022-05-28T16:44:08.126Z"
   },
   {
    "duration": 899,
    "start_time": "2022-05-28T16:49:10.866Z"
   },
   {
    "duration": 79,
    "start_time": "2022-05-28T16:56:52.684Z"
   },
   {
    "duration": 806,
    "start_time": "2022-05-28T16:57:41.340Z"
   },
   {
    "duration": 114,
    "start_time": "2022-05-28T16:58:11.481Z"
   },
   {
    "duration": 15,
    "start_time": "2022-05-28T17:05:03.656Z"
   },
   {
    "duration": 7,
    "start_time": "2022-05-28T17:07:13.577Z"
   },
   {
    "duration": 411,
    "start_time": "2022-05-28T17:13:39.014Z"
   },
   {
    "duration": 11,
    "start_time": "2022-05-28T17:15:16.525Z"
   },
   {
    "duration": 43,
    "start_time": "2022-05-28T17:27:15.333Z"
   },
   {
    "duration": 10,
    "start_time": "2022-05-28T17:29:52.498Z"
   },
   {
    "duration": 3,
    "start_time": "2022-05-28T17:30:07.982Z"
   },
   {
    "duration": 8,
    "start_time": "2022-05-28T17:30:12.411Z"
   },
   {
    "duration": 30,
    "start_time": "2022-05-28T17:30:33.414Z"
   },
   {
    "duration": 33,
    "start_time": "2022-05-28T17:30:59.157Z"
   },
   {
    "duration": 31,
    "start_time": "2022-05-28T17:37:11.545Z"
   },
   {
    "duration": 5,
    "start_time": "2022-05-28T17:38:06.084Z"
   },
   {
    "duration": 26,
    "start_time": "2022-05-28T17:48:20.779Z"
   },
   {
    "duration": 24,
    "start_time": "2022-05-28T17:51:15.811Z"
   },
   {
    "duration": 34,
    "start_time": "2022-05-28T17:53:58.025Z"
   },
   {
    "duration": 12,
    "start_time": "2022-05-28T17:54:24.801Z"
   },
   {
    "duration": 9,
    "start_time": "2022-05-28T17:58:23.141Z"
   },
   {
    "duration": 36,
    "start_time": "2022-05-28T17:59:22.239Z"
   },
   {
    "duration": 5,
    "start_time": "2022-05-28T18:00:03.649Z"
   },
   {
    "duration": 31,
    "start_time": "2022-05-28T18:00:44.875Z"
   },
   {
    "duration": 43,
    "start_time": "2022-05-28T18:01:20.304Z"
   },
   {
    "duration": 65,
    "start_time": "2022-05-28T18:06:44.879Z"
   },
   {
    "duration": 21,
    "start_time": "2022-05-28T18:09:00.484Z"
   },
   {
    "duration": 117,
    "start_time": "2022-05-28T18:09:22.428Z"
   },
   {
    "duration": 21,
    "start_time": "2022-05-28T18:09:26.231Z"
   },
   {
    "duration": 7,
    "start_time": "2022-05-28T18:11:24.786Z"
   },
   {
    "duration": 11,
    "start_time": "2022-05-28T18:11:39.000Z"
   },
   {
    "duration": 32,
    "start_time": "2022-05-28T18:15:31.915Z"
   },
   {
    "duration": 10,
    "start_time": "2022-05-28T18:15:38.331Z"
   },
   {
    "duration": 31,
    "start_time": "2022-05-28T18:17:41.775Z"
   },
   {
    "duration": 691,
    "start_time": "2022-05-28T18:25:47.072Z"
   },
   {
    "duration": 13,
    "start_time": "2022-05-28T18:26:06.147Z"
   },
   {
    "duration": 9,
    "start_time": "2022-05-28T18:26:28.608Z"
   },
   {
    "duration": 10,
    "start_time": "2022-05-28T18:26:35.637Z"
   },
   {
    "duration": 9,
    "start_time": "2022-05-28T18:27:34.853Z"
   },
   {
    "duration": 17,
    "start_time": "2022-05-28T18:29:22.736Z"
   },
   {
    "duration": 17,
    "start_time": "2022-05-28T18:29:57.827Z"
   },
   {
    "duration": 34,
    "start_time": "2022-05-28T18:30:11.696Z"
   },
   {
    "duration": 5,
    "start_time": "2022-05-28T18:30:50.851Z"
   },
   {
    "duration": 10,
    "start_time": "2022-05-28T18:32:54.954Z"
   },
   {
    "duration": 5,
    "start_time": "2022-05-28T18:35:24.114Z"
   },
   {
    "duration": 36,
    "start_time": "2022-05-28T18:37:21.681Z"
   },
   {
    "duration": 8,
    "start_time": "2022-05-28T18:37:24.160Z"
   },
   {
    "duration": 10,
    "start_time": "2022-05-28T18:37:26.907Z"
   },
   {
    "duration": 26,
    "start_time": "2022-05-28T18:40:36.159Z"
   },
   {
    "duration": 33,
    "start_time": "2022-05-28T18:40:42.446Z"
   },
   {
    "duration": 11,
    "start_time": "2022-05-28T18:41:52.080Z"
   },
   {
    "duration": 27,
    "start_time": "2022-05-28T18:42:18.379Z"
   },
   {
    "duration": 28,
    "start_time": "2022-05-28T18:42:52.725Z"
   },
   {
    "duration": 3,
    "start_time": "2022-05-28T18:43:57.093Z"
   },
   {
    "duration": 568,
    "start_time": "2022-05-28T18:43:57.103Z"
   },
   {
    "duration": 117,
    "start_time": "2022-05-28T18:43:57.673Z"
   },
   {
    "duration": 11,
    "start_time": "2022-05-28T18:43:57.793Z"
   },
   {
    "duration": 11,
    "start_time": "2022-05-28T18:43:57.805Z"
   },
   {
    "duration": 408,
    "start_time": "2022-05-28T18:43:57.817Z"
   },
   {
    "duration": 72,
    "start_time": "2022-05-28T18:43:58.227Z"
   },
   {
    "duration": 46,
    "start_time": "2022-05-28T18:43:58.301Z"
   },
   {
    "duration": 4,
    "start_time": "2022-05-28T18:43:58.350Z"
   },
   {
    "duration": 60,
    "start_time": "2022-05-28T18:43:58.356Z"
   },
   {
    "duration": 4,
    "start_time": "2022-05-28T18:43:58.418Z"
   },
   {
    "duration": 119,
    "start_time": "2022-05-28T18:43:58.424Z"
   },
   {
    "duration": 7,
    "start_time": "2022-05-28T18:43:58.544Z"
   },
   {
    "duration": 18,
    "start_time": "2022-05-28T18:43:58.553Z"
   },
   {
    "duration": 35,
    "start_time": "2022-05-28T18:43:58.573Z"
   },
   {
    "duration": 5,
    "start_time": "2022-05-28T18:43:58.610Z"
   },
   {
    "duration": 17,
    "start_time": "2022-05-28T18:43:58.616Z"
   },
   {
    "duration": 29,
    "start_time": "2022-05-28T18:43:58.635Z"
   },
   {
    "duration": 15,
    "start_time": "2022-05-28T18:55:08.399Z"
   },
   {
    "duration": 8,
    "start_time": "2022-05-28T18:55:25.414Z"
   },
   {
    "duration": 28,
    "start_time": "2022-05-28T18:58:29.945Z"
   },
   {
    "duration": 16,
    "start_time": "2022-05-28T19:00:58.586Z"
   },
   {
    "duration": 8,
    "start_time": "2022-05-28T19:01:08.842Z"
   },
   {
    "duration": 5,
    "start_time": "2022-05-28T19:40:48.006Z"
   },
   {
    "duration": 3,
    "start_time": "2022-05-29T10:50:48.351Z"
   },
   {
    "duration": 50,
    "start_time": "2022-05-29T10:51:29.795Z"
   },
   {
    "duration": 818,
    "start_time": "2022-05-29T10:51:48.275Z"
   },
   {
    "duration": 1954,
    "start_time": "2022-05-29T10:51:49.094Z"
   },
   {
    "duration": 119,
    "start_time": "2022-05-29T10:51:51.050Z"
   },
   {
    "duration": 13,
    "start_time": "2022-05-29T10:51:51.171Z"
   },
   {
    "duration": 7,
    "start_time": "2022-05-29T10:51:51.186Z"
   },
   {
    "duration": 406,
    "start_time": "2022-05-29T10:51:51.194Z"
   },
   {
    "duration": 78,
    "start_time": "2022-05-29T10:51:51.602Z"
   },
   {
    "duration": 57,
    "start_time": "2022-05-29T10:51:51.682Z"
   },
   {
    "duration": 4,
    "start_time": "2022-05-29T10:51:51.759Z"
   },
   {
    "duration": 45,
    "start_time": "2022-05-29T10:51:51.766Z"
   },
   {
    "duration": 5,
    "start_time": "2022-05-29T10:51:51.812Z"
   },
   {
    "duration": 138,
    "start_time": "2022-05-29T10:51:51.818Z"
   },
   {
    "duration": 6,
    "start_time": "2022-05-29T10:51:51.957Z"
   },
   {
    "duration": 7,
    "start_time": "2022-05-29T10:51:51.965Z"
   },
   {
    "duration": 27,
    "start_time": "2022-05-29T10:51:51.974Z"
   },
   {
    "duration": 28,
    "start_time": "2022-05-29T10:51:52.003Z"
   },
   {
    "duration": 4,
    "start_time": "2022-05-29T10:51:52.033Z"
   },
   {
    "duration": 31,
    "start_time": "2022-05-29T10:51:52.060Z"
   },
   {
    "duration": 0,
    "start_time": "2022-05-29T10:51:52.093Z"
   },
   {
    "duration": 0,
    "start_time": "2022-05-29T10:51:52.094Z"
   },
   {
    "duration": 33,
    "start_time": "2022-05-29T10:52:20.803Z"
   },
   {
    "duration": 3,
    "start_time": "2022-05-29T10:52:28.039Z"
   },
   {
    "duration": 551,
    "start_time": "2022-05-29T10:52:28.046Z"
   },
   {
    "duration": 154,
    "start_time": "2022-05-29T10:52:28.599Z"
   },
   {
    "duration": 14,
    "start_time": "2022-05-29T10:52:28.755Z"
   },
   {
    "duration": 13,
    "start_time": "2022-05-29T10:52:28.771Z"
   },
   {
    "duration": 361,
    "start_time": "2022-05-29T10:52:28.786Z"
   },
   {
    "duration": 69,
    "start_time": "2022-05-29T10:52:29.148Z"
   },
   {
    "duration": 69,
    "start_time": "2022-05-29T10:52:29.219Z"
   },
   {
    "duration": 4,
    "start_time": "2022-05-29T10:52:29.290Z"
   },
   {
    "duration": 43,
    "start_time": "2022-05-29T10:52:29.296Z"
   },
   {
    "duration": 4,
    "start_time": "2022-05-29T10:52:29.360Z"
   },
   {
    "duration": 100,
    "start_time": "2022-05-29T10:52:29.367Z"
   },
   {
    "duration": 7,
    "start_time": "2022-05-29T10:52:29.469Z"
   },
   {
    "duration": 14,
    "start_time": "2022-05-29T10:52:29.477Z"
   },
   {
    "duration": 35,
    "start_time": "2022-05-29T10:52:29.493Z"
   },
   {
    "duration": 53,
    "start_time": "2022-05-29T10:52:29.529Z"
   },
   {
    "duration": 4,
    "start_time": "2022-05-29T10:52:29.584Z"
   },
   {
    "duration": 11,
    "start_time": "2022-05-29T10:52:29.590Z"
   },
   {
    "duration": 0,
    "start_time": "2022-05-29T10:52:29.602Z"
   },
   {
    "duration": 0,
    "start_time": "2022-05-29T10:52:29.603Z"
   },
   {
    "duration": 3,
    "start_time": "2022-05-29T10:54:03.394Z"
   },
   {
    "duration": 560,
    "start_time": "2022-05-29T10:54:03.399Z"
   },
   {
    "duration": 145,
    "start_time": "2022-05-29T10:54:03.963Z"
   },
   {
    "duration": 16,
    "start_time": "2022-05-29T10:54:04.110Z"
   },
   {
    "duration": 30,
    "start_time": "2022-05-29T10:54:04.129Z"
   },
   {
    "duration": 369,
    "start_time": "2022-05-29T10:54:04.161Z"
   },
   {
    "duration": 58,
    "start_time": "2022-05-29T10:54:04.532Z"
   },
   {
    "duration": 44,
    "start_time": "2022-05-29T10:54:04.591Z"
   },
   {
    "duration": 23,
    "start_time": "2022-05-29T10:54:04.637Z"
   },
   {
    "duration": 26,
    "start_time": "2022-05-29T10:54:04.661Z"
   },
   {
    "duration": 9,
    "start_time": "2022-05-29T10:54:04.689Z"
   },
   {
    "duration": 116,
    "start_time": "2022-05-29T10:54:04.699Z"
   },
   {
    "duration": 6,
    "start_time": "2022-05-29T10:54:04.817Z"
   },
   {
    "duration": 19,
    "start_time": "2022-05-29T10:54:04.824Z"
   },
   {
    "duration": 42,
    "start_time": "2022-05-29T10:54:04.844Z"
   },
   {
    "duration": 29,
    "start_time": "2022-05-29T10:54:04.888Z"
   },
   {
    "duration": 4,
    "start_time": "2022-05-29T10:54:04.919Z"
   },
   {
    "duration": 16,
    "start_time": "2022-05-29T10:54:04.925Z"
   },
   {
    "duration": 0,
    "start_time": "2022-05-29T10:54:04.942Z"
   },
   {
    "duration": 0,
    "start_time": "2022-05-29T10:54:04.943Z"
   },
   {
    "duration": 8,
    "start_time": "2022-05-29T10:57:31.482Z"
   },
   {
    "duration": 5,
    "start_time": "2022-05-29T10:57:36.415Z"
   },
   {
    "duration": 584,
    "start_time": "2022-05-29T10:57:36.422Z"
   },
   {
    "duration": 152,
    "start_time": "2022-05-29T10:57:37.008Z"
   },
   {
    "duration": 18,
    "start_time": "2022-05-29T10:57:37.162Z"
   },
   {
    "duration": 13,
    "start_time": "2022-05-29T10:57:37.183Z"
   },
   {
    "duration": 422,
    "start_time": "2022-05-29T10:57:37.198Z"
   },
   {
    "duration": 98,
    "start_time": "2022-05-29T10:57:37.622Z"
   },
   {
    "duration": 82,
    "start_time": "2022-05-29T10:57:37.723Z"
   },
   {
    "duration": 7,
    "start_time": "2022-05-29T10:57:37.807Z"
   },
   {
    "duration": 64,
    "start_time": "2022-05-29T10:57:37.815Z"
   },
   {
    "duration": 37,
    "start_time": "2022-05-29T10:57:37.881Z"
   },
   {
    "duration": 154,
    "start_time": "2022-05-29T10:57:37.920Z"
   },
   {
    "duration": 8,
    "start_time": "2022-05-29T10:57:38.080Z"
   },
   {
    "duration": 21,
    "start_time": "2022-05-29T10:57:38.090Z"
   },
   {
    "duration": 223,
    "start_time": "2022-05-29T10:57:38.115Z"
   },
   {
    "duration": 51,
    "start_time": "2022-05-29T10:57:38.339Z"
   },
   {
    "duration": 6,
    "start_time": "2022-05-29T10:57:38.392Z"
   },
   {
    "duration": 16,
    "start_time": "2022-05-29T10:57:38.400Z"
   },
   {
    "duration": 0,
    "start_time": "2022-05-29T10:57:38.418Z"
   },
   {
    "duration": 0,
    "start_time": "2022-05-29T10:57:38.419Z"
   },
   {
    "duration": 3,
    "start_time": "2022-05-29T14:59:29.144Z"
   },
   {
    "duration": 572,
    "start_time": "2022-05-29T14:59:29.150Z"
   },
   {
    "duration": 141,
    "start_time": "2022-05-29T14:59:29.723Z"
   },
   {
    "duration": 11,
    "start_time": "2022-05-29T14:59:29.867Z"
   },
   {
    "duration": 13,
    "start_time": "2022-05-29T14:59:29.879Z"
   },
   {
    "duration": 362,
    "start_time": "2022-05-29T14:59:29.893Z"
   },
   {
    "duration": 52,
    "start_time": "2022-05-29T14:59:30.259Z"
   },
   {
    "duration": 66,
    "start_time": "2022-05-29T14:59:30.312Z"
   },
   {
    "duration": 4,
    "start_time": "2022-05-29T14:59:30.380Z"
   },
   {
    "duration": 41,
    "start_time": "2022-05-29T14:59:30.387Z"
   },
   {
    "duration": 4,
    "start_time": "2022-05-29T14:59:30.429Z"
   },
   {
    "duration": 119,
    "start_time": "2022-05-29T14:59:30.434Z"
   },
   {
    "duration": 10,
    "start_time": "2022-05-29T14:59:30.554Z"
   },
   {
    "duration": 21,
    "start_time": "2022-05-29T14:59:30.565Z"
   },
   {
    "duration": 165,
    "start_time": "2022-05-29T14:59:30.587Z"
   },
   {
    "duration": 42,
    "start_time": "2022-05-29T14:59:30.759Z"
   },
   {
    "duration": 7,
    "start_time": "2022-05-29T14:59:30.803Z"
   },
   {
    "duration": 56,
    "start_time": "2022-05-29T14:59:30.811Z"
   },
   {
    "duration": 0,
    "start_time": "2022-05-29T14:59:30.869Z"
   },
   {
    "duration": 0,
    "start_time": "2022-05-29T14:59:30.871Z"
   },
   {
    "duration": 124,
    "start_time": "2022-05-29T15:02:24.247Z"
   },
   {
    "duration": 8,
    "start_time": "2022-05-29T15:02:54.641Z"
   },
   {
    "duration": 8,
    "start_time": "2022-05-29T15:03:33.913Z"
   },
   {
    "duration": 9,
    "start_time": "2022-05-29T15:03:52.011Z"
   },
   {
    "duration": 8,
    "start_time": "2022-05-29T15:03:57.789Z"
   },
   {
    "duration": 8,
    "start_time": "2022-05-29T15:23:52.696Z"
   },
   {
    "duration": 14,
    "start_time": "2022-05-29T15:24:24.680Z"
   },
   {
    "duration": 3,
    "start_time": "2022-05-29T15:24:44.322Z"
   },
   {
    "duration": 7,
    "start_time": "2022-05-29T15:25:33.502Z"
   },
   {
    "duration": 5,
    "start_time": "2022-05-29T15:25:48.253Z"
   },
   {
    "duration": 15,
    "start_time": "2022-05-29T15:27:49.165Z"
   },
   {
    "duration": 7,
    "start_time": "2022-05-29T15:31:06.142Z"
   },
   {
    "duration": 7,
    "start_time": "2022-05-29T15:31:29.664Z"
   },
   {
    "duration": 15,
    "start_time": "2022-05-29T15:32:39.237Z"
   },
   {
    "duration": 9,
    "start_time": "2022-05-29T15:35:56.843Z"
   },
   {
    "duration": 7,
    "start_time": "2022-05-29T15:37:52.890Z"
   },
   {
    "duration": 5,
    "start_time": "2022-05-29T15:50:43.689Z"
   },
   {
    "duration": 5,
    "start_time": "2022-05-29T15:51:29.218Z"
   },
   {
    "duration": 4,
    "start_time": "2022-05-29T15:51:35.837Z"
   },
   {
    "duration": 521,
    "start_time": "2022-05-29T15:53:09.767Z"
   },
   {
    "duration": 4,
    "start_time": "2022-05-29T15:53:59.201Z"
   },
   {
    "duration": 4,
    "start_time": "2022-05-29T15:54:03.541Z"
   },
   {
    "duration": 4,
    "start_time": "2022-05-29T15:54:22.351Z"
   },
   {
    "duration": 5,
    "start_time": "2022-05-29T15:58:27.207Z"
   },
   {
    "duration": 5,
    "start_time": "2022-05-29T16:01:36.084Z"
   },
   {
    "duration": 8,
    "start_time": "2022-05-29T16:04:57.337Z"
   },
   {
    "duration": 7,
    "start_time": "2022-05-29T16:11:06.057Z"
   },
   {
    "duration": 6,
    "start_time": "2022-05-29T16:11:40.516Z"
   },
   {
    "duration": 6,
    "start_time": "2022-05-29T17:12:24.153Z"
   },
   {
    "duration": 4,
    "start_time": "2022-05-29T17:12:48.090Z"
   },
   {
    "duration": 625,
    "start_time": "2022-05-29T17:12:48.096Z"
   },
   {
    "duration": 168,
    "start_time": "2022-05-29T17:12:48.724Z"
   },
   {
    "duration": 16,
    "start_time": "2022-05-29T17:12:48.894Z"
   },
   {
    "duration": 14,
    "start_time": "2022-05-29T17:12:48.912Z"
   },
   {
    "duration": 389,
    "start_time": "2022-05-29T17:12:48.927Z"
   },
   {
    "duration": 80,
    "start_time": "2022-05-29T17:12:49.318Z"
   },
   {
    "duration": 70,
    "start_time": "2022-05-29T17:12:49.400Z"
   },
   {
    "duration": 5,
    "start_time": "2022-05-29T17:12:49.472Z"
   },
   {
    "duration": 37,
    "start_time": "2022-05-29T17:12:49.479Z"
   },
   {
    "duration": 138,
    "start_time": "2022-05-29T17:12:49.519Z"
   },
   {
    "duration": 178,
    "start_time": "2022-05-29T17:12:49.660Z"
   },
   {
    "duration": 41,
    "start_time": "2022-05-29T17:12:49.839Z"
   },
   {
    "duration": 19,
    "start_time": "2022-05-29T17:12:49.882Z"
   },
   {
    "duration": 37,
    "start_time": "2022-05-29T17:12:49.903Z"
   },
   {
    "duration": 62,
    "start_time": "2022-05-29T17:12:49.942Z"
   },
   {
    "duration": 3,
    "start_time": "2022-05-29T17:12:50.005Z"
   },
   {
    "duration": 19,
    "start_time": "2022-05-29T17:12:50.009Z"
   },
   {
    "duration": 61,
    "start_time": "2022-05-29T17:12:50.030Z"
   },
   {
    "duration": 11,
    "start_time": "2022-05-29T17:12:50.093Z"
   },
   {
    "duration": 17,
    "start_time": "2022-05-29T17:12:50.106Z"
   },
   {
    "duration": 6,
    "start_time": "2022-05-29T17:12:50.124Z"
   },
   {
    "duration": 5,
    "start_time": "2022-05-29T17:12:50.132Z"
   },
   {
    "duration": 11,
    "start_time": "2022-05-29T17:12:50.159Z"
   },
   {
    "duration": 9,
    "start_time": "2022-05-29T17:12:50.171Z"
   },
   {
    "duration": 7,
    "start_time": "2022-05-29T17:12:50.182Z"
   },
   {
    "duration": 8,
    "start_time": "2022-05-29T17:25:46.146Z"
   },
   {
    "duration": 9,
    "start_time": "2022-05-29T17:26:05.621Z"
   },
   {
    "duration": 9,
    "start_time": "2022-05-29T17:26:14.792Z"
   },
   {
    "duration": 6,
    "start_time": "2022-05-29T17:29:11.019Z"
   },
   {
    "duration": 12,
    "start_time": "2022-05-29T17:29:42.965Z"
   },
   {
    "duration": 13,
    "start_time": "2022-05-29T17:33:10.787Z"
   },
   {
    "duration": 8,
    "start_time": "2022-05-29T17:33:32.352Z"
   },
   {
    "duration": 8,
    "start_time": "2022-05-29T17:39:54.674Z"
   },
   {
    "duration": 12,
    "start_time": "2022-05-29T17:40:12.544Z"
   },
   {
    "duration": 14,
    "start_time": "2022-05-29T17:41:01.024Z"
   },
   {
    "duration": 7,
    "start_time": "2022-05-29T17:41:26.303Z"
   },
   {
    "duration": 12,
    "start_time": "2022-05-29T17:41:35.823Z"
   },
   {
    "duration": 536,
    "start_time": "2022-05-29T17:42:13.780Z"
   },
   {
    "duration": 485,
    "start_time": "2022-05-29T17:42:35.005Z"
   },
   {
    "duration": 157,
    "start_time": "2022-05-29T17:42:39.765Z"
   },
   {
    "duration": 38,
    "start_time": "2022-05-29T17:43:12.517Z"
   },
   {
    "duration": 19,
    "start_time": "2022-05-29T17:43:22.210Z"
   },
   {
    "duration": 151,
    "start_time": "2022-05-29T17:43:30.893Z"
   },
   {
    "duration": 370,
    "start_time": "2022-05-29T17:43:46.910Z"
   },
   {
    "duration": 13,
    "start_time": "2022-05-29T17:44:46.437Z"
   },
   {
    "duration": 11,
    "start_time": "2022-05-29T17:44:50.696Z"
   },
   {
    "duration": 474,
    "start_time": "2022-05-29T17:46:00.944Z"
   },
   {
    "duration": 11,
    "start_time": "2022-05-29T17:55:13.473Z"
   },
   {
    "duration": 10,
    "start_time": "2022-05-29T17:55:35.345Z"
   },
   {
    "duration": 362,
    "start_time": "2022-05-29T17:56:56.550Z"
   },
   {
    "duration": 162,
    "start_time": "2022-05-29T17:57:20.928Z"
   },
   {
    "duration": 24,
    "start_time": "2022-05-29T17:57:59.253Z"
   },
   {
    "duration": 18,
    "start_time": "2022-05-29T18:01:10.742Z"
   },
   {
    "duration": 117,
    "start_time": "2022-05-29T18:02:30.596Z"
   },
   {
    "duration": 22,
    "start_time": "2022-05-29T18:03:02.198Z"
   },
   {
    "duration": 17,
    "start_time": "2022-05-29T18:03:26.862Z"
   },
   {
    "duration": 21,
    "start_time": "2022-05-29T18:03:31.853Z"
   },
   {
    "duration": 24,
    "start_time": "2022-05-29T18:04:19.384Z"
   },
   {
    "duration": 24,
    "start_time": "2022-05-29T18:07:01.366Z"
   },
   {
    "duration": 19,
    "start_time": "2022-05-29T18:07:28.523Z"
   },
   {
    "duration": 16,
    "start_time": "2022-05-29T18:16:24.975Z"
   },
   {
    "duration": 7,
    "start_time": "2022-05-29T18:38:01.477Z"
   },
   {
    "duration": 20,
    "start_time": "2022-05-29T18:38:12.863Z"
   },
   {
    "duration": 7,
    "start_time": "2022-05-29T18:38:53.669Z"
   },
   {
    "duration": 9,
    "start_time": "2022-05-29T18:38:55.640Z"
   },
   {
    "duration": 18,
    "start_time": "2022-05-29T18:56:16.956Z"
   },
   {
    "duration": 10,
    "start_time": "2022-05-29T18:56:21.110Z"
   },
   {
    "duration": 9,
    "start_time": "2022-05-29T18:57:49.388Z"
   },
   {
    "duration": 17,
    "start_time": "2022-05-29T18:58:03.627Z"
   },
   {
    "duration": 20,
    "start_time": "2022-05-29T18:58:12.088Z"
   },
   {
    "duration": 6,
    "start_time": "2022-05-29T18:58:27.431Z"
   },
   {
    "duration": 22,
    "start_time": "2022-05-29T18:58:35.244Z"
   },
   {
    "duration": 3,
    "start_time": "2022-05-29T18:58:59.806Z"
   },
   {
    "duration": 3,
    "start_time": "2022-05-29T19:01:29.214Z"
   },
   {
    "duration": 564,
    "start_time": "2022-05-29T19:01:29.218Z"
   },
   {
    "duration": 189,
    "start_time": "2022-05-29T19:01:29.784Z"
   },
   {
    "duration": 11,
    "start_time": "2022-05-29T19:01:29.977Z"
   },
   {
    "duration": 12,
    "start_time": "2022-05-29T19:01:29.989Z"
   },
   {
    "duration": 419,
    "start_time": "2022-05-29T19:01:30.003Z"
   },
   {
    "duration": 88,
    "start_time": "2022-05-29T19:01:30.424Z"
   },
   {
    "duration": 81,
    "start_time": "2022-05-29T19:01:30.513Z"
   },
   {
    "duration": 5,
    "start_time": "2022-05-29T19:01:30.597Z"
   },
   {
    "duration": 35,
    "start_time": "2022-05-29T19:01:30.604Z"
   },
   {
    "duration": 128,
    "start_time": "2022-05-29T19:01:30.640Z"
   },
   {
    "duration": 217,
    "start_time": "2022-05-29T19:01:30.770Z"
   },
   {
    "duration": 16,
    "start_time": "2022-05-29T19:01:30.988Z"
   },
   {
    "duration": 20,
    "start_time": "2022-05-29T19:01:31.006Z"
   },
   {
    "duration": 59,
    "start_time": "2022-05-29T19:01:31.028Z"
   },
   {
    "duration": 52,
    "start_time": "2022-05-29T19:01:31.089Z"
   },
   {
    "duration": 2,
    "start_time": "2022-05-29T19:01:31.143Z"
   },
   {
    "duration": 30,
    "start_time": "2022-05-29T19:01:31.146Z"
   },
   {
    "duration": 39,
    "start_time": "2022-05-29T19:01:31.180Z"
   },
   {
    "duration": 9,
    "start_time": "2022-05-29T19:01:31.220Z"
   },
   {
    "duration": 21,
    "start_time": "2022-05-29T19:01:31.231Z"
   },
   {
    "duration": 13,
    "start_time": "2022-05-29T19:01:31.259Z"
   },
   {
    "duration": 24,
    "start_time": "2022-05-29T19:01:31.274Z"
   },
   {
    "duration": 16,
    "start_time": "2022-05-29T19:01:31.302Z"
   },
   {
    "duration": 11,
    "start_time": "2022-05-29T19:01:31.319Z"
   },
   {
    "duration": 10,
    "start_time": "2022-05-29T19:01:31.331Z"
   },
   {
    "duration": 10,
    "start_time": "2022-05-29T19:01:31.343Z"
   },
   {
    "duration": 21,
    "start_time": "2022-05-29T19:01:31.354Z"
   },
   {
    "duration": 10,
    "start_time": "2022-05-29T19:01:31.379Z"
   },
   {
    "duration": 10,
    "start_time": "2022-05-29T19:01:31.390Z"
   },
   {
    "duration": 11,
    "start_time": "2022-05-29T19:01:31.401Z"
   },
   {
    "duration": 8,
    "start_time": "2022-05-29T19:01:31.414Z"
   },
   {
    "duration": 431,
    "start_time": "2022-05-29T19:01:31.424Z"
   },
   {
    "duration": 126,
    "start_time": "2022-05-29T19:01:31.856Z"
   },
   {
    "duration": 17,
    "start_time": "2022-05-29T19:01:31.984Z"
   },
   {
    "duration": 28,
    "start_time": "2022-05-29T19:01:32.003Z"
   },
   {
    "duration": 32,
    "start_time": "2022-05-29T19:01:32.032Z"
   },
   {
    "duration": 5,
    "start_time": "2022-05-29T19:01:32.070Z"
   },
   {
    "duration": 15,
    "start_time": "2022-05-29T19:01:32.083Z"
   },
   {
    "duration": 16,
    "start_time": "2022-05-29T19:01:38.995Z"
   },
   {
    "duration": 17,
    "start_time": "2022-05-29T19:01:54.377Z"
   },
   {
    "duration": 21,
    "start_time": "2022-05-29T19:02:10.674Z"
   },
   {
    "duration": 20,
    "start_time": "2022-05-29T19:02:15.019Z"
   },
   {
    "duration": 17,
    "start_time": "2022-05-29T19:02:20.100Z"
   },
   {
    "duration": 6,
    "start_time": "2022-05-29T19:02:24.812Z"
   },
   {
    "duration": 10,
    "start_time": "2022-05-29T19:03:22.473Z"
   },
   {
    "duration": 7,
    "start_time": "2022-05-29T19:03:51.093Z"
   },
   {
    "duration": 11,
    "start_time": "2022-05-29T19:03:55.907Z"
   },
   {
    "duration": 6,
    "start_time": "2022-05-29T19:04:00.357Z"
   },
   {
    "duration": 12,
    "start_time": "2022-05-29T19:04:02.137Z"
   },
   {
    "duration": 5,
    "start_time": "2022-05-29T19:04:26.356Z"
   },
   {
    "duration": 8,
    "start_time": "2022-05-29T19:04:30.622Z"
   },
   {
    "duration": 9,
    "start_time": "2022-05-29T19:09:26.399Z"
   },
   {
    "duration": 3,
    "start_time": "2022-05-29T19:09:30.955Z"
   },
   {
    "duration": 117,
    "start_time": "2022-05-29T19:09:36.997Z"
   },
   {
    "duration": 300,
    "start_time": "2022-05-29T19:11:06.589Z"
   },
   {
    "duration": 48,
    "start_time": "2022-05-29T19:11:30.202Z"
   },
   {
    "duration": 39,
    "start_time": "2022-05-29T19:11:57.073Z"
   },
   {
    "duration": 1764,
    "start_time": "2022-05-30T08:20:00.890Z"
   },
   {
    "duration": 943,
    "start_time": "2022-05-30T08:20:02.875Z"
   },
   {
    "duration": 3,
    "start_time": "2022-05-30T08:20:06.812Z"
   },
   {
    "duration": 132,
    "start_time": "2022-05-30T08:20:19.627Z"
   },
   {
    "duration": 30,
    "start_time": "2022-05-30T08:21:03.210Z"
   },
   {
    "duration": 106,
    "start_time": "2022-05-30T08:21:35.898Z"
   },
   {
    "duration": 4,
    "start_time": "2022-05-30T08:21:42.412Z"
   },
   {
    "duration": 616,
    "start_time": "2022-05-30T08:21:42.418Z"
   },
   {
    "duration": 3,
    "start_time": "2022-05-30T08:21:43.036Z"
   },
   {
    "duration": 133,
    "start_time": "2022-05-30T08:21:43.041Z"
   },
   {
    "duration": 10,
    "start_time": "2022-05-30T08:21:43.176Z"
   },
   {
    "duration": 10,
    "start_time": "2022-05-30T08:21:43.196Z"
   },
   {
    "duration": 406,
    "start_time": "2022-05-30T08:21:43.209Z"
   },
   {
    "duration": 59,
    "start_time": "2022-05-30T08:21:43.617Z"
   },
   {
    "duration": 60,
    "start_time": "2022-05-30T08:21:43.677Z"
   },
   {
    "duration": 4,
    "start_time": "2022-05-30T08:21:43.741Z"
   },
   {
    "duration": 62,
    "start_time": "2022-05-30T08:21:43.747Z"
   },
   {
    "duration": 110,
    "start_time": "2022-05-30T08:21:43.810Z"
   },
   {
    "duration": 8,
    "start_time": "2022-05-30T08:21:43.922Z"
   },
   {
    "duration": 0,
    "start_time": "2022-05-30T08:21:43.932Z"
   },
   {
    "duration": 0,
    "start_time": "2022-05-30T08:21:43.933Z"
   },
   {
    "duration": 0,
    "start_time": "2022-05-30T08:21:43.934Z"
   },
   {
    "duration": 0,
    "start_time": "2022-05-30T08:21:43.935Z"
   },
   {
    "duration": 0,
    "start_time": "2022-05-30T08:21:43.937Z"
   },
   {
    "duration": 0,
    "start_time": "2022-05-30T08:21:43.938Z"
   },
   {
    "duration": 0,
    "start_time": "2022-05-30T08:21:43.938Z"
   },
   {
    "duration": 0,
    "start_time": "2022-05-30T08:21:43.940Z"
   },
   {
    "duration": 0,
    "start_time": "2022-05-30T08:21:43.941Z"
   },
   {
    "duration": 0,
    "start_time": "2022-05-30T08:21:43.942Z"
   },
   {
    "duration": 0,
    "start_time": "2022-05-30T08:21:43.943Z"
   },
   {
    "duration": 0,
    "start_time": "2022-05-30T08:21:43.944Z"
   },
   {
    "duration": 0,
    "start_time": "2022-05-30T08:21:43.945Z"
   },
   {
    "duration": 0,
    "start_time": "2022-05-30T08:21:43.946Z"
   },
   {
    "duration": 0,
    "start_time": "2022-05-30T08:21:43.947Z"
   },
   {
    "duration": 0,
    "start_time": "2022-05-30T08:21:43.948Z"
   },
   {
    "duration": 0,
    "start_time": "2022-05-30T08:21:43.949Z"
   },
   {
    "duration": 0,
    "start_time": "2022-05-30T08:21:43.950Z"
   },
   {
    "duration": 0,
    "start_time": "2022-05-30T08:21:43.951Z"
   },
   {
    "duration": 0,
    "start_time": "2022-05-30T08:21:43.995Z"
   },
   {
    "duration": 0,
    "start_time": "2022-05-30T08:21:43.996Z"
   },
   {
    "duration": 0,
    "start_time": "2022-05-30T08:21:43.997Z"
   },
   {
    "duration": 0,
    "start_time": "2022-05-30T08:21:43.998Z"
   },
   {
    "duration": 0,
    "start_time": "2022-05-30T08:21:43.999Z"
   },
   {
    "duration": 0,
    "start_time": "2022-05-30T08:21:44.000Z"
   },
   {
    "duration": 0,
    "start_time": "2022-05-30T08:21:44.001Z"
   },
   {
    "duration": 0,
    "start_time": "2022-05-30T08:21:44.002Z"
   },
   {
    "duration": 9,
    "start_time": "2022-05-30T08:22:01.815Z"
   },
   {
    "duration": 4,
    "start_time": "2022-05-30T08:22:09.061Z"
   },
   {
    "duration": 604,
    "start_time": "2022-05-30T08:22:09.067Z"
   },
   {
    "duration": 4,
    "start_time": "2022-05-30T08:22:09.672Z"
   },
   {
    "duration": 137,
    "start_time": "2022-05-30T08:22:09.678Z"
   },
   {
    "duration": 11,
    "start_time": "2022-05-30T08:22:09.817Z"
   },
   {
    "duration": 31,
    "start_time": "2022-05-30T08:22:09.829Z"
   },
   {
    "duration": 401,
    "start_time": "2022-05-30T08:22:09.862Z"
   },
   {
    "duration": 66,
    "start_time": "2022-05-30T08:22:10.265Z"
   },
   {
    "duration": 44,
    "start_time": "2022-05-30T08:22:10.332Z"
   },
   {
    "duration": 5,
    "start_time": "2022-05-30T08:22:10.395Z"
   },
   {
    "duration": 41,
    "start_time": "2022-05-30T08:22:10.401Z"
   },
   {
    "duration": 126,
    "start_time": "2022-05-30T08:22:10.445Z"
   },
   {
    "duration": 11,
    "start_time": "2022-05-30T08:22:10.572Z"
   },
   {
    "duration": 0,
    "start_time": "2022-05-30T08:22:10.585Z"
   },
   {
    "duration": 0,
    "start_time": "2022-05-30T08:22:10.594Z"
   },
   {
    "duration": 0,
    "start_time": "2022-05-30T08:22:10.595Z"
   },
   {
    "duration": 0,
    "start_time": "2022-05-30T08:22:10.596Z"
   },
   {
    "duration": 0,
    "start_time": "2022-05-30T08:22:10.597Z"
   },
   {
    "duration": 0,
    "start_time": "2022-05-30T08:22:10.598Z"
   },
   {
    "duration": 0,
    "start_time": "2022-05-30T08:22:10.599Z"
   },
   {
    "duration": 0,
    "start_time": "2022-05-30T08:22:10.601Z"
   },
   {
    "duration": 0,
    "start_time": "2022-05-30T08:22:10.601Z"
   },
   {
    "duration": 0,
    "start_time": "2022-05-30T08:22:10.602Z"
   },
   {
    "duration": 0,
    "start_time": "2022-05-30T08:22:10.604Z"
   },
   {
    "duration": 1,
    "start_time": "2022-05-30T08:22:10.604Z"
   },
   {
    "duration": 0,
    "start_time": "2022-05-30T08:22:10.606Z"
   },
   {
    "duration": 0,
    "start_time": "2022-05-30T08:22:10.607Z"
   },
   {
    "duration": 0,
    "start_time": "2022-05-30T08:22:10.608Z"
   },
   {
    "duration": 0,
    "start_time": "2022-05-30T08:22:10.609Z"
   },
   {
    "duration": 0,
    "start_time": "2022-05-30T08:22:10.610Z"
   },
   {
    "duration": 0,
    "start_time": "2022-05-30T08:22:10.611Z"
   },
   {
    "duration": 0,
    "start_time": "2022-05-30T08:22:10.612Z"
   },
   {
    "duration": 0,
    "start_time": "2022-05-30T08:22:10.613Z"
   },
   {
    "duration": 0,
    "start_time": "2022-05-30T08:22:10.615Z"
   },
   {
    "duration": 0,
    "start_time": "2022-05-30T08:22:10.616Z"
   },
   {
    "duration": 0,
    "start_time": "2022-05-30T08:22:10.618Z"
   },
   {
    "duration": 0,
    "start_time": "2022-05-30T08:22:10.619Z"
   },
   {
    "duration": 0,
    "start_time": "2022-05-30T08:22:10.620Z"
   },
   {
    "duration": 0,
    "start_time": "2022-05-30T08:22:10.621Z"
   },
   {
    "duration": 0,
    "start_time": "2022-05-30T08:22:10.623Z"
   },
   {
    "duration": 7,
    "start_time": "2022-05-30T08:22:30.510Z"
   },
   {
    "duration": 9,
    "start_time": "2022-05-30T08:22:41.592Z"
   },
   {
    "duration": 8,
    "start_time": "2022-05-30T08:23:06.247Z"
   },
   {
    "duration": 179,
    "start_time": "2022-05-30T08:23:23.812Z"
   },
   {
    "duration": 18,
    "start_time": "2022-05-30T08:23:27.919Z"
   },
   {
    "duration": 16,
    "start_time": "2022-05-30T08:23:31.195Z"
   },
   {
    "duration": 40,
    "start_time": "2022-05-30T08:23:34.453Z"
   },
   {
    "duration": 36,
    "start_time": "2022-05-30T08:23:42.100Z"
   },
   {
    "duration": 9,
    "start_time": "2022-05-30T08:23:44.553Z"
   },
   {
    "duration": 9,
    "start_time": "2022-05-30T08:23:48.835Z"
   },
   {
    "duration": 39,
    "start_time": "2022-05-30T08:23:51.177Z"
   },
   {
    "duration": 3,
    "start_time": "2022-05-30T08:23:52.923Z"
   },
   {
    "duration": 16,
    "start_time": "2022-05-30T08:23:54.852Z"
   },
   {
    "duration": 36,
    "start_time": "2022-05-30T08:23:56.782Z"
   },
   {
    "duration": 4,
    "start_time": "2022-05-30T08:24:04.795Z"
   },
   {
    "duration": 565,
    "start_time": "2022-05-30T08:24:04.801Z"
   },
   {
    "duration": 5,
    "start_time": "2022-05-30T08:24:05.368Z"
   },
   {
    "duration": 146,
    "start_time": "2022-05-30T08:24:05.375Z"
   },
   {
    "duration": 13,
    "start_time": "2022-05-30T08:24:05.523Z"
   },
   {
    "duration": 15,
    "start_time": "2022-05-30T08:24:05.537Z"
   },
   {
    "duration": 434,
    "start_time": "2022-05-30T08:24:05.554Z"
   },
   {
    "duration": 62,
    "start_time": "2022-05-30T08:24:05.993Z"
   },
   {
    "duration": 68,
    "start_time": "2022-05-30T08:24:06.057Z"
   },
   {
    "duration": 5,
    "start_time": "2022-05-30T08:24:06.126Z"
   },
   {
    "duration": 33,
    "start_time": "2022-05-30T08:24:06.132Z"
   },
   {
    "duration": 142,
    "start_time": "2022-05-30T08:24:06.166Z"
   },
   {
    "duration": 177,
    "start_time": "2022-05-30T08:24:06.309Z"
   },
   {
    "duration": 19,
    "start_time": "2022-05-30T08:24:06.489Z"
   },
   {
    "duration": 14,
    "start_time": "2022-05-30T08:24:06.510Z"
   },
   {
    "duration": 38,
    "start_time": "2022-05-30T08:24:06.526Z"
   },
   {
    "duration": 60,
    "start_time": "2022-05-30T08:24:06.566Z"
   },
   {
    "duration": 3,
    "start_time": "2022-05-30T08:24:06.627Z"
   },
   {
    "duration": 17,
    "start_time": "2022-05-30T08:24:06.632Z"
   },
   {
    "duration": 44,
    "start_time": "2022-05-30T08:24:06.651Z"
   },
   {
    "duration": 11,
    "start_time": "2022-05-30T08:24:06.697Z"
   },
   {
    "duration": 20,
    "start_time": "2022-05-30T08:24:06.710Z"
   },
   {
    "duration": 9,
    "start_time": "2022-05-30T08:24:06.732Z"
   },
   {
    "duration": 4,
    "start_time": "2022-05-30T08:24:06.742Z"
   },
   {
    "duration": 12,
    "start_time": "2022-05-30T08:24:06.748Z"
   },
   {
    "duration": 36,
    "start_time": "2022-05-30T08:24:06.761Z"
   },
   {
    "duration": 17,
    "start_time": "2022-05-30T08:24:06.799Z"
   },
   {
    "duration": 7,
    "start_time": "2022-05-30T08:24:06.818Z"
   },
   {
    "duration": 14,
    "start_time": "2022-05-30T08:24:06.827Z"
   },
   {
    "duration": 10,
    "start_time": "2022-05-30T08:24:06.843Z"
   },
   {
    "duration": 9,
    "start_time": "2022-05-30T08:24:06.854Z"
   },
   {
    "duration": 35,
    "start_time": "2022-05-30T08:24:06.865Z"
   },
   {
    "duration": 8,
    "start_time": "2022-05-30T08:24:06.902Z"
   },
   {
    "duration": 864,
    "start_time": "2022-05-30T08:24:06.912Z"
   },
   {
    "duration": 133,
    "start_time": "2022-05-30T08:24:07.778Z"
   },
   {
    "duration": 17,
    "start_time": "2022-05-30T08:24:07.913Z"
   },
   {
    "duration": 63,
    "start_time": "2022-05-30T08:24:07.931Z"
   },
   {
    "duration": 13,
    "start_time": "2022-05-30T08:24:07.996Z"
   },
   {
    "duration": 7,
    "start_time": "2022-05-30T08:24:08.011Z"
   },
   {
    "duration": 74,
    "start_time": "2022-05-30T08:24:08.020Z"
   },
   {
    "duration": 7,
    "start_time": "2022-05-30T08:24:48.359Z"
   },
   {
    "duration": 8,
    "start_time": "2022-05-30T08:33:15.114Z"
   },
   {
    "duration": 5,
    "start_time": "2022-05-30T08:48:02.327Z"
   },
   {
    "duration": 589,
    "start_time": "2022-05-30T08:48:02.334Z"
   },
   {
    "duration": 4,
    "start_time": "2022-05-30T08:48:02.924Z"
   },
   {
    "duration": 127,
    "start_time": "2022-05-30T08:48:02.931Z"
   },
   {
    "duration": 11,
    "start_time": "2022-05-30T08:48:03.060Z"
   },
   {
    "duration": 23,
    "start_time": "2022-05-30T08:48:03.072Z"
   },
   {
    "duration": 456,
    "start_time": "2022-05-30T08:48:03.097Z"
   },
   {
    "duration": 84,
    "start_time": "2022-05-30T08:48:03.554Z"
   },
   {
    "duration": 64,
    "start_time": "2022-05-30T08:48:03.640Z"
   },
   {
    "duration": 6,
    "start_time": "2022-05-30T08:48:03.706Z"
   },
   {
    "duration": 43,
    "start_time": "2022-05-30T08:48:03.713Z"
   },
   {
    "duration": 141,
    "start_time": "2022-05-30T08:48:03.759Z"
   },
   {
    "duration": 217,
    "start_time": "2022-05-30T08:48:03.902Z"
   },
   {
    "duration": 17,
    "start_time": "2022-05-30T08:48:04.121Z"
   },
   {
    "duration": 15,
    "start_time": "2022-05-30T08:48:04.140Z"
   },
   {
    "duration": 61,
    "start_time": "2022-05-30T08:48:04.157Z"
   },
   {
    "duration": 42,
    "start_time": "2022-05-30T08:48:04.219Z"
   },
   {
    "duration": 3,
    "start_time": "2022-05-30T08:48:04.263Z"
   },
   {
    "duration": 33,
    "start_time": "2022-05-30T08:48:04.268Z"
   },
   {
    "duration": 35,
    "start_time": "2022-05-30T08:48:04.303Z"
   },
   {
    "duration": 11,
    "start_time": "2022-05-30T08:48:04.340Z"
   },
   {
    "duration": 16,
    "start_time": "2022-05-30T08:48:04.353Z"
   },
   {
    "duration": 10,
    "start_time": "2022-05-30T08:48:04.395Z"
   },
   {
    "duration": 6,
    "start_time": "2022-05-30T08:48:04.407Z"
   },
   {
    "duration": 13,
    "start_time": "2022-05-30T08:48:04.414Z"
   },
   {
    "duration": 8,
    "start_time": "2022-05-30T08:48:04.428Z"
   },
   {
    "duration": 6,
    "start_time": "2022-05-30T08:48:04.437Z"
   },
   {
    "duration": 6,
    "start_time": "2022-05-30T08:48:04.447Z"
   },
   {
    "duration": 47,
    "start_time": "2022-05-30T08:48:04.455Z"
   },
   {
    "duration": 11,
    "start_time": "2022-05-30T08:48:04.504Z"
   },
   {
    "duration": 9,
    "start_time": "2022-05-30T08:48:04.517Z"
   },
   {
    "duration": 11,
    "start_time": "2022-05-30T08:48:04.528Z"
   },
   {
    "duration": 14,
    "start_time": "2022-05-30T08:48:04.541Z"
   },
   {
    "duration": 438,
    "start_time": "2022-05-30T08:48:04.556Z"
   },
   {
    "duration": 19,
    "start_time": "2022-05-30T08:48:04.996Z"
   },
   {
    "duration": 16,
    "start_time": "2022-05-30T08:48:05.016Z"
   },
   {
    "duration": 21,
    "start_time": "2022-05-30T08:48:05.034Z"
   },
   {
    "duration": 43,
    "start_time": "2022-05-30T08:48:05.057Z"
   },
   {
    "duration": 5,
    "start_time": "2022-05-30T08:48:05.102Z"
   },
   {
    "duration": 19,
    "start_time": "2022-05-30T08:48:05.108Z"
   },
   {
    "duration": 1371,
    "start_time": "2022-06-01T07:32:50.844Z"
   },
   {
    "duration": 1067,
    "start_time": "2022-06-01T07:32:52.217Z"
   },
   {
    "duration": 5,
    "start_time": "2022-06-01T07:32:53.285Z"
   },
   {
    "duration": 122,
    "start_time": "2022-06-01T07:32:53.292Z"
   },
   {
    "duration": 9,
    "start_time": "2022-06-01T07:32:53.416Z"
   },
   {
    "duration": 9,
    "start_time": "2022-06-01T07:32:53.427Z"
   },
   {
    "duration": 432,
    "start_time": "2022-06-01T07:32:53.437Z"
   },
   {
    "duration": 51,
    "start_time": "2022-06-01T07:32:53.871Z"
   },
   {
    "duration": 72,
    "start_time": "2022-06-01T07:32:53.924Z"
   },
   {
    "duration": 5,
    "start_time": "2022-06-01T07:32:53.999Z"
   },
   {
    "duration": 60,
    "start_time": "2022-06-01T07:32:54.006Z"
   },
   {
    "duration": 140,
    "start_time": "2022-06-01T07:32:54.068Z"
   },
   {
    "duration": 173,
    "start_time": "2022-06-01T07:32:54.210Z"
   },
   {
    "duration": 14,
    "start_time": "2022-06-01T07:32:54.384Z"
   },
   {
    "duration": 14,
    "start_time": "2022-06-01T07:32:54.400Z"
   },
   {
    "duration": 59,
    "start_time": "2022-06-01T07:32:54.416Z"
   },
   {
    "duration": 35,
    "start_time": "2022-06-01T07:32:54.477Z"
   },
   {
    "duration": 3,
    "start_time": "2022-06-01T07:32:54.514Z"
   },
   {
    "duration": 24,
    "start_time": "2022-06-01T07:32:54.518Z"
   },
   {
    "duration": 36,
    "start_time": "2022-06-01T07:32:54.555Z"
   },
   {
    "duration": 10,
    "start_time": "2022-06-01T07:32:54.592Z"
   },
   {
    "duration": 21,
    "start_time": "2022-06-01T07:32:54.603Z"
   },
   {
    "duration": 30,
    "start_time": "2022-06-01T07:32:54.625Z"
   },
   {
    "duration": 17,
    "start_time": "2022-06-01T07:32:54.656Z"
   },
   {
    "duration": 13,
    "start_time": "2022-06-01T07:32:54.674Z"
   },
   {
    "duration": 9,
    "start_time": "2022-06-01T07:32:54.688Z"
   },
   {
    "duration": 8,
    "start_time": "2022-06-01T07:32:54.698Z"
   },
   {
    "duration": 9,
    "start_time": "2022-06-01T07:32:54.709Z"
   },
   {
    "duration": 11,
    "start_time": "2022-06-01T07:32:54.719Z"
   },
   {
    "duration": 24,
    "start_time": "2022-06-01T07:32:54.731Z"
   },
   {
    "duration": 9,
    "start_time": "2022-06-01T07:32:54.756Z"
   },
   {
    "duration": 22,
    "start_time": "2022-06-01T07:32:54.766Z"
   },
   {
    "duration": 12,
    "start_time": "2022-06-01T07:32:54.789Z"
   },
   {
    "duration": 524,
    "start_time": "2022-06-01T07:32:54.802Z"
   },
   {
    "duration": 165,
    "start_time": "2022-06-01T07:32:55.328Z"
   },
   {
    "duration": 26,
    "start_time": "2022-06-01T07:32:55.496Z"
   },
   {
    "duration": 53,
    "start_time": "2022-06-01T07:32:55.524Z"
   },
   {
    "duration": 11,
    "start_time": "2022-06-01T07:32:55.579Z"
   },
   {
    "duration": 6,
    "start_time": "2022-06-01T07:32:55.591Z"
   },
   {
    "duration": 63,
    "start_time": "2022-06-01T07:32:55.598Z"
   },
   {
    "duration": 12,
    "start_time": "2022-06-01T07:33:32.362Z"
   },
   {
    "duration": 57,
    "start_time": "2022-06-01T08:51:54.108Z"
   },
   {
    "duration": 1537,
    "start_time": "2022-06-01T08:54:34.452Z"
   },
   {
    "duration": 906,
    "start_time": "2022-06-01T08:54:35.991Z"
   },
   {
    "duration": 4,
    "start_time": "2022-06-01T08:54:36.899Z"
   },
   {
    "duration": 140,
    "start_time": "2022-06-01T08:54:36.905Z"
   },
   {
    "duration": 11,
    "start_time": "2022-06-01T08:54:37.047Z"
   },
   {
    "duration": 18,
    "start_time": "2022-06-01T08:54:37.060Z"
   },
   {
    "duration": 404,
    "start_time": "2022-06-01T08:54:37.080Z"
   },
   {
    "duration": 53,
    "start_time": "2022-06-01T08:54:37.486Z"
   },
   {
    "duration": 74,
    "start_time": "2022-06-01T08:54:37.541Z"
   },
   {
    "duration": 4,
    "start_time": "2022-06-01T08:54:37.618Z"
   },
   {
    "duration": 55,
    "start_time": "2022-06-01T08:54:37.624Z"
   },
   {
    "duration": 114,
    "start_time": "2022-06-01T08:54:37.681Z"
   },
   {
    "duration": 196,
    "start_time": "2022-06-01T08:54:37.796Z"
   },
   {
    "duration": 15,
    "start_time": "2022-06-01T08:54:37.994Z"
   },
   {
    "duration": 14,
    "start_time": "2022-06-01T08:54:38.011Z"
   },
   {
    "duration": 58,
    "start_time": "2022-06-01T08:54:38.027Z"
   },
   {
    "duration": 37,
    "start_time": "2022-06-01T08:54:38.087Z"
   },
   {
    "duration": 3,
    "start_time": "2022-06-01T08:54:38.125Z"
   },
   {
    "duration": 15,
    "start_time": "2022-06-01T08:54:38.129Z"
   },
   {
    "duration": 53,
    "start_time": "2022-06-01T08:54:38.146Z"
   },
   {
    "duration": 10,
    "start_time": "2022-06-01T08:54:38.201Z"
   },
   {
    "duration": 22,
    "start_time": "2022-06-01T08:54:38.212Z"
   },
   {
    "duration": 7,
    "start_time": "2022-06-01T08:54:38.236Z"
   },
   {
    "duration": 4,
    "start_time": "2022-06-01T08:54:38.244Z"
   },
   {
    "duration": 31,
    "start_time": "2022-06-01T08:54:38.250Z"
   },
   {
    "duration": 5,
    "start_time": "2022-06-01T08:54:38.282Z"
   },
   {
    "duration": 12,
    "start_time": "2022-06-01T08:54:38.289Z"
   },
   {
    "duration": 8,
    "start_time": "2022-06-01T08:54:38.305Z"
   },
   {
    "duration": 15,
    "start_time": "2022-06-01T08:54:38.315Z"
   },
   {
    "duration": 11,
    "start_time": "2022-06-01T08:54:38.332Z"
   },
   {
    "duration": 35,
    "start_time": "2022-06-01T08:54:38.345Z"
   },
   {
    "duration": 20,
    "start_time": "2022-06-01T08:54:38.382Z"
   },
   {
    "duration": 9,
    "start_time": "2022-06-01T08:54:38.404Z"
   },
   {
    "duration": 516,
    "start_time": "2022-06-01T08:54:38.415Z"
   },
   {
    "duration": 137,
    "start_time": "2022-06-01T08:54:38.933Z"
   },
   {
    "duration": 20,
    "start_time": "2022-06-01T08:54:39.072Z"
   },
   {
    "duration": 28,
    "start_time": "2022-06-01T08:54:39.094Z"
   },
   {
    "duration": 14,
    "start_time": "2022-06-01T08:54:39.176Z"
   },
   {
    "duration": 6,
    "start_time": "2022-06-01T08:54:39.192Z"
   },
   {
    "duration": 11,
    "start_time": "2022-06-01T08:54:39.200Z"
   },
   {
    "duration": 5,
    "start_time": "2022-06-01T08:56:00.227Z"
   },
   {
    "duration": 4,
    "start_time": "2022-06-01T08:56:19.017Z"
   },
   {
    "duration": 5,
    "start_time": "2022-06-01T08:58:26.652Z"
   },
   {
    "duration": 5,
    "start_time": "2022-06-01T08:58:35.584Z"
   },
   {
    "duration": 5,
    "start_time": "2022-06-01T08:58:56.775Z"
   },
   {
    "duration": 5,
    "start_time": "2022-06-01T08:58:58.623Z"
   },
   {
    "duration": 5,
    "start_time": "2022-06-01T08:59:07.670Z"
   },
   {
    "duration": 5,
    "start_time": "2022-06-01T08:59:10.049Z"
   },
   {
    "duration": 5,
    "start_time": "2022-06-01T08:59:18.789Z"
   },
   {
    "duration": 5,
    "start_time": "2022-06-01T08:59:20.637Z"
   },
   {
    "duration": 3,
    "start_time": "2022-06-01T08:59:28.450Z"
   },
   {
    "duration": 526,
    "start_time": "2022-06-01T08:59:28.455Z"
   },
   {
    "duration": 4,
    "start_time": "2022-06-01T08:59:28.982Z"
   },
   {
    "duration": 142,
    "start_time": "2022-06-01T08:59:28.988Z"
   },
   {
    "duration": 10,
    "start_time": "2022-06-01T08:59:29.131Z"
   },
   {
    "duration": 11,
    "start_time": "2022-06-01T08:59:29.143Z"
   },
   {
    "duration": 383,
    "start_time": "2022-06-01T08:59:29.155Z"
   },
   {
    "duration": 65,
    "start_time": "2022-06-01T08:59:29.540Z"
   },
   {
    "duration": 48,
    "start_time": "2022-06-01T08:59:29.607Z"
   },
   {
    "duration": 19,
    "start_time": "2022-06-01T08:59:29.657Z"
   },
   {
    "duration": 31,
    "start_time": "2022-06-01T08:59:29.677Z"
   },
   {
    "duration": 131,
    "start_time": "2022-06-01T08:59:29.710Z"
   },
   {
    "duration": 198,
    "start_time": "2022-06-01T08:59:29.842Z"
   },
   {
    "duration": 6,
    "start_time": "2022-06-01T08:59:30.042Z"
   },
   {
    "duration": 16,
    "start_time": "2022-06-01T08:59:30.049Z"
   },
   {
    "duration": 31,
    "start_time": "2022-06-01T08:59:30.066Z"
   },
   {
    "duration": 5,
    "start_time": "2022-06-01T08:59:30.099Z"
   },
   {
    "duration": 23,
    "start_time": "2022-06-01T08:59:30.105Z"
   },
   {
    "duration": 17,
    "start_time": "2022-06-01T08:59:30.129Z"
   },
   {
    "duration": 36,
    "start_time": "2022-06-01T08:59:30.147Z"
   },
   {
    "duration": 35,
    "start_time": "2022-06-01T08:59:30.185Z"
   },
   {
    "duration": 3,
    "start_time": "2022-06-01T08:59:30.222Z"
   },
   {
    "duration": 32,
    "start_time": "2022-06-01T08:59:30.226Z"
   },
   {
    "duration": 46,
    "start_time": "2022-06-01T08:59:30.261Z"
   },
   {
    "duration": 8,
    "start_time": "2022-06-01T08:59:30.309Z"
   },
   {
    "duration": 22,
    "start_time": "2022-06-01T08:59:30.319Z"
   },
   {
    "duration": 18,
    "start_time": "2022-06-01T08:59:30.343Z"
   },
   {
    "duration": 10,
    "start_time": "2022-06-01T08:59:30.363Z"
   },
   {
    "duration": 31,
    "start_time": "2022-06-01T08:59:30.374Z"
   },
   {
    "duration": 27,
    "start_time": "2022-06-01T08:59:30.407Z"
   },
   {
    "duration": 8,
    "start_time": "2022-06-01T08:59:30.435Z"
   },
   {
    "duration": 24,
    "start_time": "2022-06-01T08:59:30.445Z"
   },
   {
    "duration": 33,
    "start_time": "2022-06-01T08:59:30.471Z"
   },
   {
    "duration": 56,
    "start_time": "2022-06-01T08:59:30.506Z"
   },
   {
    "duration": 26,
    "start_time": "2022-06-01T08:59:30.564Z"
   },
   {
    "duration": 27,
    "start_time": "2022-06-01T08:59:30.592Z"
   },
   {
    "duration": 17,
    "start_time": "2022-06-01T08:59:30.621Z"
   },
   {
    "duration": 369,
    "start_time": "2022-06-01T08:59:30.640Z"
   },
   {
    "duration": 19,
    "start_time": "2022-06-01T08:59:31.011Z"
   },
   {
    "duration": 28,
    "start_time": "2022-06-01T08:59:31.032Z"
   },
   {
    "duration": 27,
    "start_time": "2022-06-01T08:59:31.061Z"
   },
   {
    "duration": 25,
    "start_time": "2022-06-01T08:59:31.090Z"
   },
   {
    "duration": 16,
    "start_time": "2022-06-01T08:59:31.117Z"
   },
   {
    "duration": 20,
    "start_time": "2022-06-01T08:59:31.135Z"
   },
   {
    "duration": 6,
    "start_time": "2022-06-01T09:00:18.798Z"
   },
   {
    "duration": 5,
    "start_time": "2022-06-01T09:00:21.154Z"
   },
   {
    "duration": 4,
    "start_time": "2022-06-01T09:01:28.135Z"
   },
   {
    "duration": 21,
    "start_time": "2022-06-01T09:02:30.206Z"
   },
   {
    "duration": 7,
    "start_time": "2022-06-01T09:02:34.467Z"
   },
   {
    "duration": 5,
    "start_time": "2022-06-01T09:02:36.564Z"
   },
   {
    "duration": 4,
    "start_time": "2022-06-01T09:02:43.000Z"
   },
   {
    "duration": 666,
    "start_time": "2022-06-01T09:02:43.007Z"
   },
   {
    "duration": 5,
    "start_time": "2022-06-01T09:02:43.675Z"
   },
   {
    "duration": 153,
    "start_time": "2022-06-01T09:02:43.682Z"
   },
   {
    "duration": 11,
    "start_time": "2022-06-01T09:02:43.837Z"
   },
   {
    "duration": 25,
    "start_time": "2022-06-01T09:02:43.850Z"
   },
   {
    "duration": 450,
    "start_time": "2022-06-01T09:02:43.877Z"
   },
   {
    "duration": 71,
    "start_time": "2022-06-01T09:02:44.328Z"
   },
   {
    "duration": 75,
    "start_time": "2022-06-01T09:02:44.402Z"
   },
   {
    "duration": 8,
    "start_time": "2022-06-01T09:02:44.480Z"
   },
   {
    "duration": 34,
    "start_time": "2022-06-01T09:02:44.491Z"
   },
   {
    "duration": 131,
    "start_time": "2022-06-01T09:02:44.526Z"
   },
   {
    "duration": 197,
    "start_time": "2022-06-01T09:02:44.659Z"
   },
   {
    "duration": 5,
    "start_time": "2022-06-01T09:02:44.858Z"
   },
   {
    "duration": 12,
    "start_time": "2022-06-01T09:02:44.882Z"
   },
   {
    "duration": 21,
    "start_time": "2022-06-01T09:02:44.896Z"
   },
   {
    "duration": 11,
    "start_time": "2022-06-01T09:02:44.920Z"
   },
   {
    "duration": 18,
    "start_time": "2022-06-01T09:02:44.933Z"
   },
   {
    "duration": 70,
    "start_time": "2022-06-01T09:02:44.953Z"
   },
   {
    "duration": 74,
    "start_time": "2022-06-01T09:02:45.026Z"
   },
   {
    "duration": 7,
    "start_time": "2022-06-01T09:02:45.102Z"
   },
   {
    "duration": 36,
    "start_time": "2022-06-01T09:02:45.111Z"
   },
   {
    "duration": 60,
    "start_time": "2022-06-01T09:02:45.149Z"
   },
   {
    "duration": 16,
    "start_time": "2022-06-01T09:02:45.217Z"
   },
   {
    "duration": 28,
    "start_time": "2022-06-01T09:02:45.235Z"
   },
   {
    "duration": 14,
    "start_time": "2022-06-01T09:02:45.265Z"
   },
   {
    "duration": 17,
    "start_time": "2022-06-01T09:02:45.281Z"
   },
   {
    "duration": 29,
    "start_time": "2022-06-01T09:02:45.300Z"
   },
   {
    "duration": 15,
    "start_time": "2022-06-01T09:02:45.332Z"
   },
   {
    "duration": 18,
    "start_time": "2022-06-01T09:02:45.349Z"
   },
   {
    "duration": 15,
    "start_time": "2022-06-01T09:02:45.369Z"
   },
   {
    "duration": 17,
    "start_time": "2022-06-01T09:02:45.386Z"
   },
   {
    "duration": 17,
    "start_time": "2022-06-01T09:02:45.405Z"
   },
   {
    "duration": 13,
    "start_time": "2022-06-01T09:02:45.424Z"
   },
   {
    "duration": 19,
    "start_time": "2022-06-01T09:02:45.439Z"
   },
   {
    "duration": 25,
    "start_time": "2022-06-01T09:02:45.460Z"
   },
   {
    "duration": 463,
    "start_time": "2022-06-01T09:02:45.488Z"
   },
   {
    "duration": 37,
    "start_time": "2022-06-01T09:02:45.953Z"
   },
   {
    "duration": 23,
    "start_time": "2022-06-01T09:02:45.992Z"
   },
   {
    "duration": 24,
    "start_time": "2022-06-01T09:02:46.018Z"
   },
   {
    "duration": 36,
    "start_time": "2022-06-01T09:02:46.044Z"
   },
   {
    "duration": 27,
    "start_time": "2022-06-01T09:02:46.082Z"
   },
   {
    "duration": 14,
    "start_time": "2022-06-01T09:02:46.111Z"
   },
   {
    "duration": 16,
    "start_time": "2022-06-01T09:03:09.324Z"
   },
   {
    "duration": 6,
    "start_time": "2022-06-01T09:03:11.948Z"
   },
   {
    "duration": 4,
    "start_time": "2022-06-01T09:03:18.561Z"
   },
   {
    "duration": 604,
    "start_time": "2022-06-01T09:03:18.570Z"
   },
   {
    "duration": 5,
    "start_time": "2022-06-01T09:03:19.176Z"
   },
   {
    "duration": 148,
    "start_time": "2022-06-01T09:03:19.182Z"
   },
   {
    "duration": 12,
    "start_time": "2022-06-01T09:03:19.331Z"
   },
   {
    "duration": 9,
    "start_time": "2022-06-01T09:03:19.345Z"
   },
   {
    "duration": 418,
    "start_time": "2022-06-01T09:03:19.356Z"
   },
   {
    "duration": 76,
    "start_time": "2022-06-01T09:03:19.775Z"
   },
   {
    "duration": 75,
    "start_time": "2022-06-01T09:03:19.853Z"
   },
   {
    "duration": 4,
    "start_time": "2022-06-01T09:03:19.930Z"
   },
   {
    "duration": 66,
    "start_time": "2022-06-01T09:03:19.936Z"
   },
   {
    "duration": 118,
    "start_time": "2022-06-01T09:03:20.004Z"
   },
   {
    "duration": 180,
    "start_time": "2022-06-01T09:03:20.124Z"
   },
   {
    "duration": 5,
    "start_time": "2022-06-01T09:03:20.306Z"
   },
   {
    "duration": 7,
    "start_time": "2022-06-01T09:03:20.314Z"
   },
   {
    "duration": 23,
    "start_time": "2022-06-01T09:03:20.323Z"
   },
   {
    "duration": 27,
    "start_time": "2022-06-01T09:03:20.348Z"
   },
   {
    "duration": 13,
    "start_time": "2022-06-01T09:03:20.377Z"
   },
   {
    "duration": 56,
    "start_time": "2022-06-01T09:03:20.392Z"
   },
   {
    "duration": 40,
    "start_time": "2022-06-01T09:03:20.450Z"
   },
   {
    "duration": 3,
    "start_time": "2022-06-01T09:03:20.492Z"
   },
   {
    "duration": 16,
    "start_time": "2022-06-01T09:03:20.496Z"
   },
   {
    "duration": 33,
    "start_time": "2022-06-01T09:03:20.514Z"
   },
   {
    "duration": 26,
    "start_time": "2022-06-01T09:03:20.549Z"
   },
   {
    "duration": 20,
    "start_time": "2022-06-01T09:03:20.577Z"
   },
   {
    "duration": 9,
    "start_time": "2022-06-01T09:03:20.599Z"
   },
   {
    "duration": 6,
    "start_time": "2022-06-01T09:03:20.609Z"
   },
   {
    "duration": 14,
    "start_time": "2022-06-01T09:03:20.616Z"
   },
   {
    "duration": 12,
    "start_time": "2022-06-01T09:03:20.632Z"
   },
   {
    "duration": 37,
    "start_time": "2022-06-01T09:03:20.645Z"
   },
   {
    "duration": 9,
    "start_time": "2022-06-01T09:03:20.684Z"
   },
   {
    "duration": 11,
    "start_time": "2022-06-01T09:03:20.695Z"
   },
   {
    "duration": 10,
    "start_time": "2022-06-01T09:03:20.708Z"
   },
   {
    "duration": 10,
    "start_time": "2022-06-01T09:03:20.719Z"
   },
   {
    "duration": 46,
    "start_time": "2022-06-01T09:03:20.731Z"
   },
   {
    "duration": 14,
    "start_time": "2022-06-01T09:03:20.778Z"
   },
   {
    "duration": 406,
    "start_time": "2022-06-01T09:03:20.794Z"
   },
   {
    "duration": 26,
    "start_time": "2022-06-01T09:03:21.202Z"
   },
   {
    "duration": 18,
    "start_time": "2022-06-01T09:03:21.229Z"
   },
   {
    "duration": 48,
    "start_time": "2022-06-01T09:03:21.249Z"
   },
   {
    "duration": 11,
    "start_time": "2022-06-01T09:03:21.299Z"
   },
   {
    "duration": 6,
    "start_time": "2022-06-01T09:03:21.313Z"
   },
   {
    "duration": 14,
    "start_time": "2022-06-01T09:03:21.320Z"
   },
   {
    "duration": 7,
    "start_time": "2022-06-01T09:04:00.989Z"
   },
   {
    "duration": 68,
    "start_time": "2022-06-01T09:11:54.927Z"
   },
   {
    "duration": 10,
    "start_time": "2022-06-01T09:12:07.947Z"
   },
   {
    "duration": 8,
    "start_time": "2022-06-01T09:13:02.763Z"
   },
   {
    "duration": 463,
    "start_time": "2022-06-01T09:14:14.420Z"
   },
   {
    "duration": 711,
    "start_time": "2022-06-01T09:14:45.806Z"
   },
   {
    "duration": 429,
    "start_time": "2022-06-01T09:14:57.227Z"
   },
   {
    "duration": 654,
    "start_time": "2022-06-01T09:15:53.887Z"
   },
   {
    "duration": 641,
    "start_time": "2022-06-01T09:15:57.253Z"
   },
   {
    "duration": 18,
    "start_time": "2022-06-01T09:17:31.570Z"
   },
   {
    "duration": 4,
    "start_time": "2022-06-01T09:57:54.074Z"
   },
   {
    "duration": 5,
    "start_time": "2022-06-01T09:58:06.602Z"
   },
   {
    "duration": 3,
    "start_time": "2022-06-01T10:00:36.439Z"
   },
   {
    "duration": 8,
    "start_time": "2022-06-01T10:00:48.904Z"
   },
   {
    "duration": 19,
    "start_time": "2022-06-01T10:01:14.013Z"
   },
   {
    "duration": 25,
    "start_time": "2022-06-01T10:01:42.491Z"
   },
   {
    "duration": 18,
    "start_time": "2022-06-01T10:02:03.375Z"
   },
   {
    "duration": 3,
    "start_time": "2022-06-01T10:11:16.504Z"
   },
   {
    "duration": 16,
    "start_time": "2022-06-01T11:22:35.566Z"
   },
   {
    "duration": 13,
    "start_time": "2022-06-01T11:23:49.990Z"
   },
   {
    "duration": 4,
    "start_time": "2022-06-01T11:27:17.589Z"
   },
   {
    "duration": 592,
    "start_time": "2022-06-01T11:27:17.595Z"
   },
   {
    "duration": 5,
    "start_time": "2022-06-01T11:27:18.189Z"
   },
   {
    "duration": 139,
    "start_time": "2022-06-01T11:27:18.195Z"
   },
   {
    "duration": 11,
    "start_time": "2022-06-01T11:27:18.336Z"
   },
   {
    "duration": 9,
    "start_time": "2022-06-01T11:27:18.348Z"
   },
   {
    "duration": 426,
    "start_time": "2022-06-01T11:27:18.359Z"
   },
   {
    "duration": 55,
    "start_time": "2022-06-01T11:27:18.788Z"
   },
   {
    "duration": 69,
    "start_time": "2022-06-01T11:27:18.845Z"
   },
   {
    "duration": 5,
    "start_time": "2022-06-01T11:27:18.916Z"
   },
   {
    "duration": 57,
    "start_time": "2022-06-01T11:27:18.923Z"
   },
   {
    "duration": 119,
    "start_time": "2022-06-01T11:27:18.982Z"
   },
   {
    "duration": 190,
    "start_time": "2022-06-01T11:27:19.102Z"
   },
   {
    "duration": 4,
    "start_time": "2022-06-01T11:27:19.295Z"
   },
   {
    "duration": 9,
    "start_time": "2022-06-01T11:27:19.301Z"
   },
   {
    "duration": 27,
    "start_time": "2022-06-01T11:27:19.312Z"
   },
   {
    "duration": 8,
    "start_time": "2022-06-01T11:27:19.341Z"
   },
   {
    "duration": 33,
    "start_time": "2022-06-01T11:27:19.350Z"
   },
   {
    "duration": 37,
    "start_time": "2022-06-01T11:27:19.385Z"
   },
   {
    "duration": 32,
    "start_time": "2022-06-01T11:27:19.424Z"
   },
   {
    "duration": 3,
    "start_time": "2022-06-01T11:27:19.475Z"
   },
   {
    "duration": 20,
    "start_time": "2022-06-01T11:27:19.482Z"
   },
   {
    "duration": 30,
    "start_time": "2022-06-01T11:27:19.503Z"
   },
   {
    "duration": 9,
    "start_time": "2022-06-01T11:27:19.534Z"
   },
   {
    "duration": 14,
    "start_time": "2022-06-01T11:27:19.544Z"
   },
   {
    "duration": 14,
    "start_time": "2022-06-01T11:27:19.578Z"
   },
   {
    "duration": 8,
    "start_time": "2022-06-01T11:27:19.594Z"
   },
   {
    "duration": 11,
    "start_time": "2022-06-01T11:27:19.603Z"
   },
   {
    "duration": 6,
    "start_time": "2022-06-01T11:27:19.615Z"
   },
   {
    "duration": 7,
    "start_time": "2022-06-01T11:27:19.623Z"
   },
   {
    "duration": 6,
    "start_time": "2022-06-01T11:27:19.632Z"
   },
   {
    "duration": 42,
    "start_time": "2022-06-01T11:27:19.640Z"
   },
   {
    "duration": 5,
    "start_time": "2022-06-01T11:27:19.684Z"
   },
   {
    "duration": 18,
    "start_time": "2022-06-01T11:27:19.691Z"
   },
   {
    "duration": 9,
    "start_time": "2022-06-01T11:27:19.711Z"
   },
   {
    "duration": 9,
    "start_time": "2022-06-01T11:27:19.721Z"
   },
   {
    "duration": 7,
    "start_time": "2022-06-01T11:27:19.732Z"
   },
   {
    "duration": 36,
    "start_time": "2022-06-01T11:27:19.741Z"
   },
   {
    "duration": 11,
    "start_time": "2022-06-01T11:27:19.779Z"
   },
   {
    "duration": 486,
    "start_time": "2022-06-01T11:27:19.792Z"
   },
   {
    "duration": 19,
    "start_time": "2022-06-01T11:27:20.283Z"
   },
   {
    "duration": 14,
    "start_time": "2022-06-01T11:27:20.303Z"
   },
   {
    "duration": 18,
    "start_time": "2022-06-01T11:27:20.318Z"
   },
   {
    "duration": 39,
    "start_time": "2022-06-01T11:27:20.337Z"
   },
   {
    "duration": 7,
    "start_time": "2022-06-01T11:27:20.379Z"
   },
   {
    "duration": 19,
    "start_time": "2022-06-01T11:27:20.388Z"
   },
   {
    "duration": 1337,
    "start_time": "2022-06-01T13:41:06.111Z"
   },
   {
    "duration": 1032,
    "start_time": "2022-06-01T13:41:07.450Z"
   },
   {
    "duration": 4,
    "start_time": "2022-06-01T13:41:08.484Z"
   },
   {
    "duration": 162,
    "start_time": "2022-06-01T13:41:08.490Z"
   },
   {
    "duration": 16,
    "start_time": "2022-06-01T13:41:08.654Z"
   },
   {
    "duration": 9,
    "start_time": "2022-06-01T13:41:08.681Z"
   },
   {
    "duration": 472,
    "start_time": "2022-06-01T13:41:08.692Z"
   },
   {
    "duration": 66,
    "start_time": "2022-06-01T13:41:09.166Z"
   },
   {
    "duration": 74,
    "start_time": "2022-06-01T13:41:09.234Z"
   },
   {
    "duration": 6,
    "start_time": "2022-06-01T13:41:09.311Z"
   },
   {
    "duration": 73,
    "start_time": "2022-06-01T13:41:09.319Z"
   },
   {
    "duration": 145,
    "start_time": "2022-06-01T13:41:09.394Z"
   },
   {
    "duration": 214,
    "start_time": "2022-06-01T13:41:09.541Z"
   },
   {
    "duration": 7,
    "start_time": "2022-06-01T13:41:09.757Z"
   },
   {
    "duration": 6,
    "start_time": "2022-06-01T13:41:09.781Z"
   },
   {
    "duration": 33,
    "start_time": "2022-06-01T13:41:09.789Z"
   },
   {
    "duration": 11,
    "start_time": "2022-06-01T13:41:09.824Z"
   },
   {
    "duration": 18,
    "start_time": "2022-06-01T13:41:09.837Z"
   },
   {
    "duration": 54,
    "start_time": "2022-06-01T13:41:09.857Z"
   },
   {
    "duration": 45,
    "start_time": "2022-06-01T13:41:09.914Z"
   },
   {
    "duration": 21,
    "start_time": "2022-06-01T13:41:09.961Z"
   },
   {
    "duration": 11,
    "start_time": "2022-06-01T13:41:09.984Z"
   },
   {
    "duration": 38,
    "start_time": "2022-06-01T13:41:09.997Z"
   },
   {
    "duration": 9,
    "start_time": "2022-06-01T13:41:10.037Z"
   },
   {
    "duration": 44,
    "start_time": "2022-06-01T13:41:10.048Z"
   },
   {
    "duration": 11,
    "start_time": "2022-06-01T13:41:10.094Z"
   },
   {
    "duration": 4,
    "start_time": "2022-06-01T13:41:10.107Z"
   },
   {
    "duration": 10,
    "start_time": "2022-06-01T13:41:10.115Z"
   },
   {
    "duration": 11,
    "start_time": "2022-06-01T13:41:10.127Z"
   },
   {
    "duration": 44,
    "start_time": "2022-06-01T13:41:10.140Z"
   },
   {
    "duration": 8,
    "start_time": "2022-06-01T13:41:10.186Z"
   },
   {
    "duration": 20,
    "start_time": "2022-06-01T13:41:10.196Z"
   },
   {
    "duration": 4,
    "start_time": "2022-06-01T13:41:10.218Z"
   },
   {
    "duration": 10,
    "start_time": "2022-06-01T13:41:10.224Z"
   },
   {
    "duration": 45,
    "start_time": "2022-06-01T13:41:10.236Z"
   },
   {
    "duration": 10,
    "start_time": "2022-06-01T13:41:10.283Z"
   },
   {
    "duration": 8,
    "start_time": "2022-06-01T13:41:10.295Z"
   },
   {
    "duration": 12,
    "start_time": "2022-06-01T13:41:10.305Z"
   },
   {
    "duration": 12,
    "start_time": "2022-06-01T13:41:10.319Z"
   },
   {
    "duration": 533,
    "start_time": "2022-06-01T13:41:10.333Z"
   },
   {
    "duration": 167,
    "start_time": "2022-06-01T13:41:10.868Z"
   },
   {
    "duration": 24,
    "start_time": "2022-06-01T13:41:11.037Z"
   },
   {
    "duration": 31,
    "start_time": "2022-06-01T13:41:11.081Z"
   },
   {
    "duration": 73,
    "start_time": "2022-06-01T13:41:11.114Z"
   },
   {
    "duration": 8,
    "start_time": "2022-06-01T13:41:11.189Z"
   },
   {
    "duration": 14,
    "start_time": "2022-06-01T13:41:11.199Z"
   },
   {
    "duration": 57,
    "start_time": "2022-06-01T19:14:14.440Z"
   },
   {
    "duration": 1618,
    "start_time": "2022-06-01T19:14:30.966Z"
   },
   {
    "duration": 908,
    "start_time": "2022-06-01T19:14:32.586Z"
   },
   {
    "duration": 3,
    "start_time": "2022-06-01T19:14:33.496Z"
   },
   {
    "duration": 144,
    "start_time": "2022-06-01T19:14:33.501Z"
   },
   {
    "duration": 17,
    "start_time": "2022-06-01T19:14:33.648Z"
   },
   {
    "duration": 15,
    "start_time": "2022-06-01T19:14:33.666Z"
   },
   {
    "duration": 437,
    "start_time": "2022-06-01T19:14:33.683Z"
   },
   {
    "duration": 65,
    "start_time": "2022-06-01T19:14:34.122Z"
   },
   {
    "duration": 46,
    "start_time": "2022-06-01T19:14:34.189Z"
   },
   {
    "duration": 4,
    "start_time": "2022-06-01T19:14:34.237Z"
   },
   {
    "duration": 53,
    "start_time": "2022-06-01T19:14:34.242Z"
   },
   {
    "duration": 113,
    "start_time": "2022-06-01T19:14:34.296Z"
   },
   {
    "duration": 173,
    "start_time": "2022-06-01T19:14:34.410Z"
   },
   {
    "duration": 5,
    "start_time": "2022-06-01T19:14:34.586Z"
   },
   {
    "duration": 9,
    "start_time": "2022-06-01T19:14:34.592Z"
   },
   {
    "duration": 164,
    "start_time": "2022-06-01T19:14:34.603Z"
   },
   {
    "duration": 0,
    "start_time": "2022-06-01T19:14:34.769Z"
   },
   {
    "duration": 0,
    "start_time": "2022-06-01T19:14:34.770Z"
   },
   {
    "duration": 0,
    "start_time": "2022-06-01T19:14:34.772Z"
   },
   {
    "duration": 0,
    "start_time": "2022-06-01T19:14:34.773Z"
   },
   {
    "duration": 0,
    "start_time": "2022-06-01T19:14:34.774Z"
   },
   {
    "duration": 0,
    "start_time": "2022-06-01T19:14:34.775Z"
   },
   {
    "duration": 0,
    "start_time": "2022-06-01T19:14:34.776Z"
   },
   {
    "duration": 0,
    "start_time": "2022-06-01T19:14:34.777Z"
   },
   {
    "duration": 0,
    "start_time": "2022-06-01T19:14:34.778Z"
   },
   {
    "duration": 0,
    "start_time": "2022-06-01T19:14:34.779Z"
   },
   {
    "duration": 0,
    "start_time": "2022-06-01T19:14:34.780Z"
   },
   {
    "duration": 0,
    "start_time": "2022-06-01T19:14:34.780Z"
   },
   {
    "duration": 0,
    "start_time": "2022-06-01T19:14:34.781Z"
   },
   {
    "duration": 0,
    "start_time": "2022-06-01T19:14:34.782Z"
   },
   {
    "duration": 0,
    "start_time": "2022-06-01T19:14:34.783Z"
   },
   {
    "duration": 0,
    "start_time": "2022-06-01T19:14:34.785Z"
   },
   {
    "duration": 0,
    "start_time": "2022-06-01T19:14:34.786Z"
   },
   {
    "duration": 0,
    "start_time": "2022-06-01T19:14:34.787Z"
   },
   {
    "duration": 0,
    "start_time": "2022-06-01T19:14:34.788Z"
   },
   {
    "duration": 0,
    "start_time": "2022-06-01T19:14:34.789Z"
   },
   {
    "duration": 0,
    "start_time": "2022-06-01T19:14:34.790Z"
   },
   {
    "duration": 0,
    "start_time": "2022-06-01T19:14:34.791Z"
   },
   {
    "duration": 0,
    "start_time": "2022-06-01T19:14:34.792Z"
   },
   {
    "duration": 0,
    "start_time": "2022-06-01T19:14:34.793Z"
   },
   {
    "duration": 0,
    "start_time": "2022-06-01T19:14:34.794Z"
   },
   {
    "duration": 0,
    "start_time": "2022-06-01T19:14:34.795Z"
   },
   {
    "duration": 0,
    "start_time": "2022-06-01T19:14:34.796Z"
   },
   {
    "duration": 0,
    "start_time": "2022-06-01T19:14:34.797Z"
   },
   {
    "duration": 0,
    "start_time": "2022-06-01T19:14:34.798Z"
   },
   {
    "duration": 0,
    "start_time": "2022-06-01T19:14:34.799Z"
   },
   {
    "duration": 0,
    "start_time": "2022-06-01T19:14:34.800Z"
   },
   {
    "duration": 48,
    "start_time": "2022-06-01T19:15:34.135Z"
   },
   {
    "duration": 41,
    "start_time": "2022-06-01T19:16:52.819Z"
   },
   {
    "duration": 16,
    "start_time": "2022-06-01T19:16:53.675Z"
   },
   {
    "duration": 46,
    "start_time": "2022-06-01T19:18:16.899Z"
   },
   {
    "duration": 9,
    "start_time": "2022-06-01T19:20:24.745Z"
   },
   {
    "duration": 27,
    "start_time": "2022-06-01T19:20:42.271Z"
   },
   {
    "duration": 42,
    "start_time": "2022-06-01T19:21:26.964Z"
   },
   {
    "duration": 3,
    "start_time": "2022-06-01T19:22:08.048Z"
   },
   {
    "duration": 566,
    "start_time": "2022-06-01T19:22:08.075Z"
   },
   {
    "duration": 3,
    "start_time": "2022-06-01T19:22:08.644Z"
   },
   {
    "duration": 122,
    "start_time": "2022-06-01T19:22:08.649Z"
   },
   {
    "duration": 11,
    "start_time": "2022-06-01T19:22:08.773Z"
   },
   {
    "duration": 10,
    "start_time": "2022-06-01T19:22:08.786Z"
   },
   {
    "duration": 425,
    "start_time": "2022-06-01T19:22:08.797Z"
   },
   {
    "duration": 65,
    "start_time": "2022-06-01T19:22:09.224Z"
   },
   {
    "duration": 47,
    "start_time": "2022-06-01T19:22:09.291Z"
   },
   {
    "duration": 5,
    "start_time": "2022-06-01T19:22:09.339Z"
   },
   {
    "duration": 32,
    "start_time": "2022-06-01T19:22:09.365Z"
   },
   {
    "duration": 126,
    "start_time": "2022-06-01T19:22:09.398Z"
   },
   {
    "duration": 172,
    "start_time": "2022-06-01T19:22:09.525Z"
   },
   {
    "duration": 4,
    "start_time": "2022-06-01T19:22:09.699Z"
   },
   {
    "duration": 6,
    "start_time": "2022-06-01T19:22:09.706Z"
   },
   {
    "duration": 128,
    "start_time": "2022-06-01T19:22:09.713Z"
   },
   {
    "duration": 54,
    "start_time": "2022-06-01T19:22:09.843Z"
   },
   {
    "duration": 13,
    "start_time": "2022-06-01T19:22:09.898Z"
   },
   {
    "duration": 19,
    "start_time": "2022-06-01T19:22:09.913Z"
   },
   {
    "duration": 62,
    "start_time": "2022-06-01T19:22:09.934Z"
   },
   {
    "duration": 42,
    "start_time": "2022-06-01T19:22:09.998Z"
   },
   {
    "duration": 3,
    "start_time": "2022-06-01T19:22:10.042Z"
   },
   {
    "duration": 13,
    "start_time": "2022-06-01T19:22:10.064Z"
   },
   {
    "duration": 35,
    "start_time": "2022-06-01T19:22:10.079Z"
   },
   {
    "duration": 9,
    "start_time": "2022-06-01T19:22:10.116Z"
   },
   {
    "duration": 39,
    "start_time": "2022-06-01T19:22:10.127Z"
   },
   {
    "duration": 8,
    "start_time": "2022-06-01T19:22:10.168Z"
   },
   {
    "duration": 6,
    "start_time": "2022-06-01T19:22:10.177Z"
   },
   {
    "duration": 11,
    "start_time": "2022-06-01T19:22:10.184Z"
   },
   {
    "duration": 8,
    "start_time": "2022-06-01T19:22:10.196Z"
   },
   {
    "duration": 6,
    "start_time": "2022-06-01T19:22:10.206Z"
   },
   {
    "duration": 8,
    "start_time": "2022-06-01T19:22:10.214Z"
   },
   {
    "duration": 56,
    "start_time": "2022-06-01T19:22:10.223Z"
   },
   {
    "duration": 4,
    "start_time": "2022-06-01T19:22:10.280Z"
   },
   {
    "duration": 9,
    "start_time": "2022-06-01T19:22:10.285Z"
   },
   {
    "duration": 12,
    "start_time": "2022-06-01T19:22:10.296Z"
   },
   {
    "duration": 10,
    "start_time": "2022-06-01T19:22:10.309Z"
   },
   {
    "duration": 51,
    "start_time": "2022-06-01T19:22:10.320Z"
   },
   {
    "duration": 11,
    "start_time": "2022-06-01T19:22:10.373Z"
   },
   {
    "duration": 10,
    "start_time": "2022-06-01T19:22:10.385Z"
   },
   {
    "duration": 712,
    "start_time": "2022-06-01T19:22:10.397Z"
   },
   {
    "duration": 149,
    "start_time": "2022-06-01T19:22:11.113Z"
   },
   {
    "duration": 16,
    "start_time": "2022-06-01T19:22:11.264Z"
   },
   {
    "duration": 21,
    "start_time": "2022-06-01T19:22:11.281Z"
   },
   {
    "duration": 64,
    "start_time": "2022-06-01T19:22:11.304Z"
   },
   {
    "duration": 5,
    "start_time": "2022-06-01T19:22:11.370Z"
   },
   {
    "duration": 13,
    "start_time": "2022-06-01T19:22:11.376Z"
   },
   {
    "duration": 3,
    "start_time": "2022-06-01T19:23:11.948Z"
   },
   {
    "duration": 563,
    "start_time": "2022-06-01T19:23:11.963Z"
   },
   {
    "duration": 4,
    "start_time": "2022-06-01T19:23:12.528Z"
   },
   {
    "duration": 134,
    "start_time": "2022-06-01T19:23:12.533Z"
   },
   {
    "duration": 10,
    "start_time": "2022-06-01T19:23:12.668Z"
   },
   {
    "duration": 9,
    "start_time": "2022-06-01T19:23:12.680Z"
   },
   {
    "duration": 388,
    "start_time": "2022-06-01T19:23:12.691Z"
   },
   {
    "duration": 57,
    "start_time": "2022-06-01T19:23:13.081Z"
   },
   {
    "duration": 66,
    "start_time": "2022-06-01T19:23:13.139Z"
   },
   {
    "duration": 6,
    "start_time": "2022-06-01T19:23:13.207Z"
   },
   {
    "duration": 66,
    "start_time": "2022-06-01T19:23:13.215Z"
   },
   {
    "duration": 113,
    "start_time": "2022-06-01T19:23:13.283Z"
   },
   {
    "duration": 188,
    "start_time": "2022-06-01T19:23:13.397Z"
   },
   {
    "duration": 5,
    "start_time": "2022-06-01T19:23:13.587Z"
   },
   {
    "duration": 5,
    "start_time": "2022-06-01T19:23:13.596Z"
   },
   {
    "duration": 66,
    "start_time": "2022-06-01T19:23:13.603Z"
   },
   {
    "duration": 35,
    "start_time": "2022-06-01T19:23:13.671Z"
   },
   {
    "duration": 10,
    "start_time": "2022-06-01T19:23:13.708Z"
   },
   {
    "duration": 18,
    "start_time": "2022-06-01T19:23:13.720Z"
   },
   {
    "duration": 39,
    "start_time": "2022-06-01T19:23:13.765Z"
   },
   {
    "duration": 36,
    "start_time": "2022-06-01T19:23:13.805Z"
   },
   {
    "duration": 3,
    "start_time": "2022-06-01T19:23:13.843Z"
   },
   {
    "duration": 13,
    "start_time": "2022-06-01T19:23:13.864Z"
   },
   {
    "duration": 35,
    "start_time": "2022-06-01T19:23:13.878Z"
   },
   {
    "duration": 9,
    "start_time": "2022-06-01T19:23:13.915Z"
   },
   {
    "duration": 40,
    "start_time": "2022-06-01T19:23:13.926Z"
   },
   {
    "duration": 9,
    "start_time": "2022-06-01T19:23:13.968Z"
   },
   {
    "duration": 5,
    "start_time": "2022-06-01T19:23:13.979Z"
   },
   {
    "duration": 10,
    "start_time": "2022-06-01T19:23:13.986Z"
   },
   {
    "duration": 7,
    "start_time": "2022-06-01T19:23:13.998Z"
   },
   {
    "duration": 7,
    "start_time": "2022-06-01T19:23:14.006Z"
   },
   {
    "duration": 9,
    "start_time": "2022-06-01T19:23:14.015Z"
   },
   {
    "duration": 54,
    "start_time": "2022-06-01T19:23:14.026Z"
   },
   {
    "duration": 3,
    "start_time": "2022-06-01T19:23:14.082Z"
   },
   {
    "duration": 9,
    "start_time": "2022-06-01T19:23:14.087Z"
   },
   {
    "duration": 12,
    "start_time": "2022-06-01T19:23:14.098Z"
   },
   {
    "duration": 11,
    "start_time": "2022-06-01T19:23:14.111Z"
   },
   {
    "duration": 8,
    "start_time": "2022-06-01T19:23:14.123Z"
   },
   {
    "duration": 11,
    "start_time": "2022-06-01T19:23:14.165Z"
   },
   {
    "duration": 7,
    "start_time": "2022-06-01T19:23:14.178Z"
   },
   {
    "duration": 410,
    "start_time": "2022-06-01T19:23:14.187Z"
   },
   {
    "duration": 113,
    "start_time": "2022-06-01T19:23:14.601Z"
   },
   {
    "duration": 15,
    "start_time": "2022-06-01T19:23:14.716Z"
   },
   {
    "duration": 33,
    "start_time": "2022-06-01T19:23:14.732Z"
   },
   {
    "duration": 11,
    "start_time": "2022-06-01T19:23:14.767Z"
   },
   {
    "duration": 5,
    "start_time": "2022-06-01T19:23:14.779Z"
   },
   {
    "duration": 12,
    "start_time": "2022-06-01T19:23:14.787Z"
   }
  ],
  "kernelspec": {
   "display_name": "Python 3 (ipykernel)",
   "language": "python",
   "name": "python3"
  },
  "language_info": {
   "codemirror_mode": {
    "name": "ipython",
    "version": 3
   },
   "file_extension": ".py",
   "mimetype": "text/x-python",
   "name": "python",
   "nbconvert_exporter": "python",
   "pygments_lexer": "ipython3",
   "version": "3.9.5"
  },
  "toc": {
   "base_numbering": 1,
   "nav_menu": {
    "height": "149px",
    "width": "229px"
   },
   "number_sections": true,
   "sideBar": true,
   "skip_h1_title": true,
   "title_cell": "Содержание",
   "title_sidebar": "Contents",
   "toc_cell": true,
   "toc_position": {
    "height": "calc(100% - 180px)",
    "left": "10px",
    "top": "150px",
    "width": "238.396px"
   },
   "toc_section_display": true,
   "toc_window_display": true
  }
 },
 "nbformat": 4,
 "nbformat_minor": 2
}
